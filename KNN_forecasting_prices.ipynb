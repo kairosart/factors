{
 "cells": [
  {
   "cell_type": "markdown",
   "metadata": {},
   "source": [
    "# KNN Regression\n",
    "\n",
    "https://stackabuse.com/k-nearest-neighbors-algorithm-in-python-and-scikit-learn/"
   ]
  },
  {
   "cell_type": "markdown",
   "metadata": {},
   "source": [
    "## Import libraries"
   ]
  },
  {
   "cell_type": "code",
   "execution_count": 16,
   "metadata": {},
   "outputs": [],
   "source": [
    "%matplotlib inline\n",
    "import matplotlib.pyplot as plt\n",
    "import datetime as dt\n",
    "import seaborn as sns\n",
    "import pandas as pd\n",
    "import numpy as np\n",
    "import pickle\n",
    "from math import sqrt\n",
    "\n",
    "# Sklearn\n",
    "from sklearn.model_selection import train_test_split, GridSearchCV\n",
    "from sklearn import metrics\n",
    "from sklearn.preprocessing import MinMaxScaler\n",
    "from sklearn import preprocessing\n",
    "from sklearn.neighbors import KNeighborsRegressor\n",
    "from sklearn.metrics import mean_squared_error\n",
    "\n",
    "# Matplotlib\n",
    "%matplotlib inline\n",
    "import matplotlib.pyplot as plt\n",
    "from matplotlib.patches import Ellipse\n",
    "\n",
    "# Files\n",
    "from util import fetchOnlineData, create_dataset\n",
    "from indicators import get_indicators\n",
    "\n",
    "# TA Library (https://github.com/bukosabino/ta)\n",
    "from ta import *\n",
    "\n",
    "sns.set(font_scale = 1)"
   ]
  },
  {
   "cell_type": "markdown",
   "metadata": {},
   "source": [
    "## Initial variables"
   ]
  },
  {
   "cell_type": "code",
   "execution_count": 2,
   "metadata": {},
   "outputs": [],
   "source": [
    "symbol = \"AABA\"\n",
    "\n",
    "# We'll look back 365 days\n",
    "start_d = dt.date.today() - dt.timedelta(365)"
   ]
  },
  {
   "cell_type": "code",
   "execution_count": null,
   "metadata": {},
   "outputs": [],
   "source": []
  },
  {
   "cell_type": "markdown",
   "metadata": {},
   "source": [
    "## Import dataset"
   ]
  },
  {
   "cell_type": "code",
   "execution_count": 3,
   "metadata": {},
   "outputs": [
    {
     "name": "stdout",
     "output_type": "stream",
     "text": [
      "[*********************100%***********************]  1 of 1 downloaded\n"
     ]
    }
   ],
   "source": [
    "yesterday = dt.date.today() - dt.timedelta(1)\n",
    "portf_value = fetchOnlineData(start_d, symbol, yesterday, del_cols=False)"
   ]
  },
  {
   "cell_type": "code",
   "execution_count": 4,
   "metadata": {},
   "outputs": [
    {
     "data": {
      "text/html": [
       "<div>\n",
       "<style scoped>\n",
       "    .dataframe tbody tr th:only-of-type {\n",
       "        vertical-align: middle;\n",
       "    }\n",
       "\n",
       "    .dataframe tbody tr th {\n",
       "        vertical-align: top;\n",
       "    }\n",
       "\n",
       "    .dataframe thead th {\n",
       "        text-align: right;\n",
       "    }\n",
       "</style>\n",
       "<table border=\"1\" class=\"dataframe\">\n",
       "  <thead>\n",
       "    <tr style=\"text-align: right;\">\n",
       "      <th></th>\n",
       "      <th>Open</th>\n",
       "      <th>High</th>\n",
       "      <th>Low</th>\n",
       "      <th>Close</th>\n",
       "      <th>Adj Close</th>\n",
       "      <th>Volume</th>\n",
       "    </tr>\n",
       "    <tr>\n",
       "      <th>Date</th>\n",
       "      <th></th>\n",
       "      <th></th>\n",
       "      <th></th>\n",
       "      <th></th>\n",
       "      <th></th>\n",
       "      <th></th>\n",
       "    </tr>\n",
       "  </thead>\n",
       "  <tbody>\n",
       "    <tr>\n",
       "      <th>2018-04-16</th>\n",
       "      <td>69.519997</td>\n",
       "      <td>69.989998</td>\n",
       "      <td>69.010002</td>\n",
       "      <td>69.919998</td>\n",
       "      <td>69.919998</td>\n",
       "      <td>3805400</td>\n",
       "    </tr>\n",
       "    <tr>\n",
       "      <th>2018-04-17</th>\n",
       "      <td>70.290001</td>\n",
       "      <td>71.489998</td>\n",
       "      <td>70.169998</td>\n",
       "      <td>71.089996</td>\n",
       "      <td>71.089996</td>\n",
       "      <td>14357700</td>\n",
       "    </tr>\n",
       "    <tr>\n",
       "      <th>2018-04-18</th>\n",
       "      <td>71.360001</td>\n",
       "      <td>72.500000</td>\n",
       "      <td>70.830002</td>\n",
       "      <td>72.320000</td>\n",
       "      <td>72.320000</td>\n",
       "      <td>7508200</td>\n",
       "    </tr>\n",
       "    <tr>\n",
       "      <th>2018-04-19</th>\n",
       "      <td>72.300003</td>\n",
       "      <td>72.599998</td>\n",
       "      <td>71.489998</td>\n",
       "      <td>72.019997</td>\n",
       "      <td>72.019997</td>\n",
       "      <td>8610300</td>\n",
       "    </tr>\n",
       "    <tr>\n",
       "      <th>2018-04-20</th>\n",
       "      <td>71.570000</td>\n",
       "      <td>72.139999</td>\n",
       "      <td>70.589996</td>\n",
       "      <td>71.059998</td>\n",
       "      <td>71.059998</td>\n",
       "      <td>6119600</td>\n",
       "    </tr>\n",
       "    <tr>\n",
       "      <th>2018-04-23</th>\n",
       "      <td>71.139999</td>\n",
       "      <td>71.190002</td>\n",
       "      <td>69.680000</td>\n",
       "      <td>69.889999</td>\n",
       "      <td>69.889999</td>\n",
       "      <td>19183900</td>\n",
       "    </tr>\n",
       "    <tr>\n",
       "      <th>2018-04-24</th>\n",
       "      <td>70.550003</td>\n",
       "      <td>70.750000</td>\n",
       "      <td>68.459999</td>\n",
       "      <td>69.260002</td>\n",
       "      <td>69.260002</td>\n",
       "      <td>3180700</td>\n",
       "    </tr>\n",
       "    <tr>\n",
       "      <th>2018-04-25</th>\n",
       "      <td>68.849998</td>\n",
       "      <td>68.849998</td>\n",
       "      <td>67.089996</td>\n",
       "      <td>68.269997</td>\n",
       "      <td>68.269997</td>\n",
       "      <td>4180600</td>\n",
       "    </tr>\n",
       "    <tr>\n",
       "      <th>2018-04-26</th>\n",
       "      <td>68.900002</td>\n",
       "      <td>69.879997</td>\n",
       "      <td>68.830002</td>\n",
       "      <td>69.800003</td>\n",
       "      <td>69.800003</td>\n",
       "      <td>4392400</td>\n",
       "    </tr>\n",
       "    <tr>\n",
       "      <th>2018-04-27</th>\n",
       "      <td>70.889999</td>\n",
       "      <td>71.089996</td>\n",
       "      <td>69.519997</td>\n",
       "      <td>69.730003</td>\n",
       "      <td>69.730003</td>\n",
       "      <td>10648200</td>\n",
       "    </tr>\n",
       "    <tr>\n",
       "      <th>2018-04-30</th>\n",
       "      <td>70.199997</td>\n",
       "      <td>70.800003</td>\n",
       "      <td>69.440002</td>\n",
       "      <td>70.080002</td>\n",
       "      <td>70.080002</td>\n",
       "      <td>5861700</td>\n",
       "    </tr>\n",
       "    <tr>\n",
       "      <th>2018-05-01</th>\n",
       "      <td>69.449997</td>\n",
       "      <td>70.300003</td>\n",
       "      <td>69.339996</td>\n",
       "      <td>69.889999</td>\n",
       "      <td>69.889999</td>\n",
       "      <td>8600100</td>\n",
       "    </tr>\n",
       "    <tr>\n",
       "      <th>2018-05-02</th>\n",
       "      <td>70.120003</td>\n",
       "      <td>71.389999</td>\n",
       "      <td>70.029999</td>\n",
       "      <td>70.209999</td>\n",
       "      <td>70.209999</td>\n",
       "      <td>6565600</td>\n",
       "    </tr>\n",
       "    <tr>\n",
       "      <th>2018-05-03</th>\n",
       "      <td>70.500000</td>\n",
       "      <td>70.650002</td>\n",
       "      <td>68.080002</td>\n",
       "      <td>70.379997</td>\n",
       "      <td>70.379997</td>\n",
       "      <td>8114600</td>\n",
       "    </tr>\n",
       "    <tr>\n",
       "      <th>2018-05-04</th>\n",
       "      <td>70.019997</td>\n",
       "      <td>73.080002</td>\n",
       "      <td>69.580002</td>\n",
       "      <td>72.709999</td>\n",
       "      <td>72.709999</td>\n",
       "      <td>8716100</td>\n",
       "    </tr>\n",
       "    <tr>\n",
       "      <th>2018-05-07</th>\n",
       "      <td>73.250000</td>\n",
       "      <td>75.970001</td>\n",
       "      <td>73.250000</td>\n",
       "      <td>75.330002</td>\n",
       "      <td>75.330002</td>\n",
       "      <td>5728700</td>\n",
       "    </tr>\n",
       "    <tr>\n",
       "      <th>2018-05-08</th>\n",
       "      <td>75.209999</td>\n",
       "      <td>76.389999</td>\n",
       "      <td>75.040001</td>\n",
       "      <td>76.040001</td>\n",
       "      <td>76.040001</td>\n",
       "      <td>6910000</td>\n",
       "    </tr>\n",
       "    <tr>\n",
       "      <th>2018-05-09</th>\n",
       "      <td>76.120003</td>\n",
       "      <td>76.809998</td>\n",
       "      <td>75.800003</td>\n",
       "      <td>75.930000</td>\n",
       "      <td>75.930000</td>\n",
       "      <td>4059400</td>\n",
       "    </tr>\n",
       "    <tr>\n",
       "      <th>2018-05-10</th>\n",
       "      <td>76.190002</td>\n",
       "      <td>77.480003</td>\n",
       "      <td>75.730003</td>\n",
       "      <td>75.900002</td>\n",
       "      <td>75.900002</td>\n",
       "      <td>6020800</td>\n",
       "    </tr>\n",
       "    <tr>\n",
       "      <th>2018-05-11</th>\n",
       "      <td>75.949997</td>\n",
       "      <td>76.360001</td>\n",
       "      <td>75.300003</td>\n",
       "      <td>75.669998</td>\n",
       "      <td>75.669998</td>\n",
       "      <td>3162200</td>\n",
       "    </tr>\n",
       "    <tr>\n",
       "      <th>2018-05-14</th>\n",
       "      <td>75.750000</td>\n",
       "      <td>77.620003</td>\n",
       "      <td>75.750000</td>\n",
       "      <td>76.739998</td>\n",
       "      <td>76.739998</td>\n",
       "      <td>5002100</td>\n",
       "    </tr>\n",
       "    <tr>\n",
       "      <th>2018-05-15</th>\n",
       "      <td>75.919998</td>\n",
       "      <td>76.459999</td>\n",
       "      <td>75.400002</td>\n",
       "      <td>76.440002</td>\n",
       "      <td>76.440002</td>\n",
       "      <td>1960700</td>\n",
       "    </tr>\n",
       "    <tr>\n",
       "      <th>2018-05-16</th>\n",
       "      <td>76.349998</td>\n",
       "      <td>77.430000</td>\n",
       "      <td>76.349998</td>\n",
       "      <td>77.019997</td>\n",
       "      <td>77.019997</td>\n",
       "      <td>2300800</td>\n",
       "    </tr>\n",
       "    <tr>\n",
       "      <th>2018-05-17</th>\n",
       "      <td>76.769997</td>\n",
       "      <td>77.339996</td>\n",
       "      <td>76.370003</td>\n",
       "      <td>76.500000</td>\n",
       "      <td>76.500000</td>\n",
       "      <td>1956400</td>\n",
       "    </tr>\n",
       "    <tr>\n",
       "      <th>2018-05-18</th>\n",
       "      <td>76.440002</td>\n",
       "      <td>77.059998</td>\n",
       "      <td>75.860001</td>\n",
       "      <td>75.930000</td>\n",
       "      <td>75.930000</td>\n",
       "      <td>4265200</td>\n",
       "    </tr>\n",
       "    <tr>\n",
       "      <th>2018-05-21</th>\n",
       "      <td>76.690002</td>\n",
       "      <td>77.550003</td>\n",
       "      <td>76.540001</td>\n",
       "      <td>77.019997</td>\n",
       "      <td>77.019997</td>\n",
       "      <td>5223900</td>\n",
       "    </tr>\n",
       "    <tr>\n",
       "      <th>2018-05-22</th>\n",
       "      <td>77.300003</td>\n",
       "      <td>77.320000</td>\n",
       "      <td>76.389999</td>\n",
       "      <td>76.510002</td>\n",
       "      <td>76.510002</td>\n",
       "      <td>1837700</td>\n",
       "    </tr>\n",
       "    <tr>\n",
       "      <th>2018-05-23</th>\n",
       "      <td>75.839996</td>\n",
       "      <td>76.720001</td>\n",
       "      <td>75.440002</td>\n",
       "      <td>76.449997</td>\n",
       "      <td>76.449997</td>\n",
       "      <td>7051500</td>\n",
       "    </tr>\n",
       "    <tr>\n",
       "      <th>2018-05-24</th>\n",
       "      <td>76.839996</td>\n",
       "      <td>77.489998</td>\n",
       "      <td>76.400002</td>\n",
       "      <td>77.169998</td>\n",
       "      <td>77.169998</td>\n",
       "      <td>4018400</td>\n",
       "    </tr>\n",
       "    <tr>\n",
       "      <th>2018-05-25</th>\n",
       "      <td>77.050003</td>\n",
       "      <td>78.250000</td>\n",
       "      <td>76.889999</td>\n",
       "      <td>77.430000</td>\n",
       "      <td>77.430000</td>\n",
       "      <td>1432100</td>\n",
       "    </tr>\n",
       "    <tr>\n",
       "      <th>...</th>\n",
       "      <td>...</td>\n",
       "      <td>...</td>\n",
       "      <td>...</td>\n",
       "      <td>...</td>\n",
       "      <td>...</td>\n",
       "      <td>...</td>\n",
       "    </tr>\n",
       "    <tr>\n",
       "      <th>2019-03-06</th>\n",
       "      <td>75.680000</td>\n",
       "      <td>75.680000</td>\n",
       "      <td>74.470001</td>\n",
       "      <td>74.790001</td>\n",
       "      <td>74.790001</td>\n",
       "      <td>7351500</td>\n",
       "    </tr>\n",
       "    <tr>\n",
       "      <th>2019-03-07</th>\n",
       "      <td>74.160004</td>\n",
       "      <td>74.209999</td>\n",
       "      <td>72.180000</td>\n",
       "      <td>72.570000</td>\n",
       "      <td>72.570000</td>\n",
       "      <td>8530000</td>\n",
       "    </tr>\n",
       "    <tr>\n",
       "      <th>2019-03-08</th>\n",
       "      <td>70.660004</td>\n",
       "      <td>71.839996</td>\n",
       "      <td>70.519997</td>\n",
       "      <td>71.750000</td>\n",
       "      <td>71.750000</td>\n",
       "      <td>7954500</td>\n",
       "    </tr>\n",
       "    <tr>\n",
       "      <th>2019-03-11</th>\n",
       "      <td>72.650002</td>\n",
       "      <td>74.010002</td>\n",
       "      <td>72.510002</td>\n",
       "      <td>73.470001</td>\n",
       "      <td>73.470001</td>\n",
       "      <td>14085900</td>\n",
       "    </tr>\n",
       "    <tr>\n",
       "      <th>2019-03-12</th>\n",
       "      <td>74.000000</td>\n",
       "      <td>74.160004</td>\n",
       "      <td>73.250000</td>\n",
       "      <td>73.589996</td>\n",
       "      <td>73.589996</td>\n",
       "      <td>3105000</td>\n",
       "    </tr>\n",
       "    <tr>\n",
       "      <th>2019-03-13</th>\n",
       "      <td>73.760002</td>\n",
       "      <td>74.360001</td>\n",
       "      <td>73.250000</td>\n",
       "      <td>73.639999</td>\n",
       "      <td>73.639999</td>\n",
       "      <td>2738700</td>\n",
       "    </tr>\n",
       "    <tr>\n",
       "      <th>2019-03-14</th>\n",
       "      <td>73.309998</td>\n",
       "      <td>73.790001</td>\n",
       "      <td>72.820000</td>\n",
       "      <td>73.470001</td>\n",
       "      <td>73.470001</td>\n",
       "      <td>3982900</td>\n",
       "    </tr>\n",
       "    <tr>\n",
       "      <th>2019-03-15</th>\n",
       "      <td>73.820000</td>\n",
       "      <td>73.980003</td>\n",
       "      <td>73.360001</td>\n",
       "      <td>73.639999</td>\n",
       "      <td>73.639999</td>\n",
       "      <td>5741900</td>\n",
       "    </tr>\n",
       "    <tr>\n",
       "      <th>2019-03-18</th>\n",
       "      <td>74.029999</td>\n",
       "      <td>74.379997</td>\n",
       "      <td>73.519997</td>\n",
       "      <td>73.779999</td>\n",
       "      <td>73.779999</td>\n",
       "      <td>3755300</td>\n",
       "    </tr>\n",
       "    <tr>\n",
       "      <th>2019-03-19</th>\n",
       "      <td>73.779999</td>\n",
       "      <td>74.440002</td>\n",
       "      <td>73.559998</td>\n",
       "      <td>73.949997</td>\n",
       "      <td>73.949997</td>\n",
       "      <td>4877200</td>\n",
       "    </tr>\n",
       "    <tr>\n",
       "      <th>2019-03-20</th>\n",
       "      <td>73.669998</td>\n",
       "      <td>74.000000</td>\n",
       "      <td>72.879997</td>\n",
       "      <td>73.760002</td>\n",
       "      <td>73.760002</td>\n",
       "      <td>6965200</td>\n",
       "    </tr>\n",
       "    <tr>\n",
       "      <th>2019-03-21</th>\n",
       "      <td>73.279999</td>\n",
       "      <td>74.089996</td>\n",
       "      <td>72.930000</td>\n",
       "      <td>73.730003</td>\n",
       "      <td>73.730003</td>\n",
       "      <td>9702600</td>\n",
       "    </tr>\n",
       "    <tr>\n",
       "      <th>2019-03-22</th>\n",
       "      <td>73.059998</td>\n",
       "      <td>73.349998</td>\n",
       "      <td>71.720001</td>\n",
       "      <td>72.010002</td>\n",
       "      <td>72.010002</td>\n",
       "      <td>10739500</td>\n",
       "    </tr>\n",
       "    <tr>\n",
       "      <th>2019-03-25</th>\n",
       "      <td>71.650002</td>\n",
       "      <td>72.879997</td>\n",
       "      <td>71.330002</td>\n",
       "      <td>72.739998</td>\n",
       "      <td>72.739998</td>\n",
       "      <td>3870400</td>\n",
       "    </tr>\n",
       "    <tr>\n",
       "      <th>2019-03-26</th>\n",
       "      <td>73.120003</td>\n",
       "      <td>73.459999</td>\n",
       "      <td>72.129997</td>\n",
       "      <td>72.559998</td>\n",
       "      <td>72.559998</td>\n",
       "      <td>4177200</td>\n",
       "    </tr>\n",
       "    <tr>\n",
       "      <th>2019-03-27</th>\n",
       "      <td>72.540001</td>\n",
       "      <td>73.180000</td>\n",
       "      <td>72.169998</td>\n",
       "      <td>72.339996</td>\n",
       "      <td>72.339996</td>\n",
       "      <td>4686500</td>\n",
       "    </tr>\n",
       "    <tr>\n",
       "      <th>2019-03-28</th>\n",
       "      <td>72.370003</td>\n",
       "      <td>72.809998</td>\n",
       "      <td>71.800003</td>\n",
       "      <td>72.519997</td>\n",
       "      <td>72.519997</td>\n",
       "      <td>5140000</td>\n",
       "    </tr>\n",
       "    <tr>\n",
       "      <th>2019-03-29</th>\n",
       "      <td>73.180000</td>\n",
       "      <td>74.190002</td>\n",
       "      <td>72.910004</td>\n",
       "      <td>74.120003</td>\n",
       "      <td>74.120003</td>\n",
       "      <td>8789300</td>\n",
       "    </tr>\n",
       "    <tr>\n",
       "      <th>2019-04-01</th>\n",
       "      <td>74.949997</td>\n",
       "      <td>75.169998</td>\n",
       "      <td>73.559998</td>\n",
       "      <td>73.629997</td>\n",
       "      <td>73.629997</td>\n",
       "      <td>4992900</td>\n",
       "    </tr>\n",
       "    <tr>\n",
       "      <th>2019-04-02</th>\n",
       "      <td>73.580002</td>\n",
       "      <td>74.550003</td>\n",
       "      <td>73.500000</td>\n",
       "      <td>73.940002</td>\n",
       "      <td>73.940002</td>\n",
       "      <td>3234200</td>\n",
       "    </tr>\n",
       "    <tr>\n",
       "      <th>2019-04-03</th>\n",
       "      <td>72.849998</td>\n",
       "      <td>73.739998</td>\n",
       "      <td>72.379997</td>\n",
       "      <td>72.760002</td>\n",
       "      <td>72.760002</td>\n",
       "      <td>23561100</td>\n",
       "    </tr>\n",
       "    <tr>\n",
       "      <th>2019-04-04</th>\n",
       "      <td>72.000000</td>\n",
       "      <td>73.690002</td>\n",
       "      <td>71.970001</td>\n",
       "      <td>73.239998</td>\n",
       "      <td>73.239998</td>\n",
       "      <td>11346100</td>\n",
       "    </tr>\n",
       "    <tr>\n",
       "      <th>2019-04-05</th>\n",
       "      <td>73.470001</td>\n",
       "      <td>74.510002</td>\n",
       "      <td>73.470001</td>\n",
       "      <td>74.010002</td>\n",
       "      <td>74.010002</td>\n",
       "      <td>15225000</td>\n",
       "    </tr>\n",
       "    <tr>\n",
       "      <th>2019-04-08</th>\n",
       "      <td>73.650002</td>\n",
       "      <td>74.779999</td>\n",
       "      <td>73.580002</td>\n",
       "      <td>74.459999</td>\n",
       "      <td>74.459999</td>\n",
       "      <td>16611800</td>\n",
       "    </tr>\n",
       "    <tr>\n",
       "      <th>2019-04-09</th>\n",
       "      <td>74.279999</td>\n",
       "      <td>75.730003</td>\n",
       "      <td>73.629997</td>\n",
       "      <td>75.620003</td>\n",
       "      <td>75.620003</td>\n",
       "      <td>15916000</td>\n",
       "    </tr>\n",
       "    <tr>\n",
       "      <th>2019-04-10</th>\n",
       "      <td>75.500000</td>\n",
       "      <td>75.839996</td>\n",
       "      <td>74.589996</td>\n",
       "      <td>75.389999</td>\n",
       "      <td>75.389999</td>\n",
       "      <td>7417500</td>\n",
       "    </tr>\n",
       "    <tr>\n",
       "      <th>2019-04-11</th>\n",
       "      <td>75.449997</td>\n",
       "      <td>75.449997</td>\n",
       "      <td>74.660004</td>\n",
       "      <td>75.089996</td>\n",
       "      <td>75.089996</td>\n",
       "      <td>5830700</td>\n",
       "    </tr>\n",
       "    <tr>\n",
       "      <th>2019-04-12</th>\n",
       "      <td>75.599998</td>\n",
       "      <td>77.029999</td>\n",
       "      <td>75.599998</td>\n",
       "      <td>76.680000</td>\n",
       "      <td>76.680000</td>\n",
       "      <td>4768700</td>\n",
       "    </tr>\n",
       "    <tr>\n",
       "      <th>2019-04-15</th>\n",
       "      <td>76.599998</td>\n",
       "      <td>76.599998</td>\n",
       "      <td>74.260002</td>\n",
       "      <td>74.370003</td>\n",
       "      <td>74.370003</td>\n",
       "      <td>7181000</td>\n",
       "    </tr>\n",
       "    <tr>\n",
       "      <th>2019-04-16</th>\n",
       "      <td>74.879997</td>\n",
       "      <td>75.300003</td>\n",
       "      <td>74.470001</td>\n",
       "      <td>75.180000</td>\n",
       "      <td>75.180000</td>\n",
       "      <td>4131200</td>\n",
       "    </tr>\n",
       "  </tbody>\n",
       "</table>\n",
       "<p>253 rows × 6 columns</p>\n",
       "</div>"
      ],
      "text/plain": [
       "                 Open       High        Low      Close  Adj Close    Volume\n",
       "Date                                                                       \n",
       "2018-04-16  69.519997  69.989998  69.010002  69.919998  69.919998   3805400\n",
       "2018-04-17  70.290001  71.489998  70.169998  71.089996  71.089996  14357700\n",
       "2018-04-18  71.360001  72.500000  70.830002  72.320000  72.320000   7508200\n",
       "2018-04-19  72.300003  72.599998  71.489998  72.019997  72.019997   8610300\n",
       "2018-04-20  71.570000  72.139999  70.589996  71.059998  71.059998   6119600\n",
       "2018-04-23  71.139999  71.190002  69.680000  69.889999  69.889999  19183900\n",
       "2018-04-24  70.550003  70.750000  68.459999  69.260002  69.260002   3180700\n",
       "2018-04-25  68.849998  68.849998  67.089996  68.269997  68.269997   4180600\n",
       "2018-04-26  68.900002  69.879997  68.830002  69.800003  69.800003   4392400\n",
       "2018-04-27  70.889999  71.089996  69.519997  69.730003  69.730003  10648200\n",
       "2018-04-30  70.199997  70.800003  69.440002  70.080002  70.080002   5861700\n",
       "2018-05-01  69.449997  70.300003  69.339996  69.889999  69.889999   8600100\n",
       "2018-05-02  70.120003  71.389999  70.029999  70.209999  70.209999   6565600\n",
       "2018-05-03  70.500000  70.650002  68.080002  70.379997  70.379997   8114600\n",
       "2018-05-04  70.019997  73.080002  69.580002  72.709999  72.709999   8716100\n",
       "2018-05-07  73.250000  75.970001  73.250000  75.330002  75.330002   5728700\n",
       "2018-05-08  75.209999  76.389999  75.040001  76.040001  76.040001   6910000\n",
       "2018-05-09  76.120003  76.809998  75.800003  75.930000  75.930000   4059400\n",
       "2018-05-10  76.190002  77.480003  75.730003  75.900002  75.900002   6020800\n",
       "2018-05-11  75.949997  76.360001  75.300003  75.669998  75.669998   3162200\n",
       "2018-05-14  75.750000  77.620003  75.750000  76.739998  76.739998   5002100\n",
       "2018-05-15  75.919998  76.459999  75.400002  76.440002  76.440002   1960700\n",
       "2018-05-16  76.349998  77.430000  76.349998  77.019997  77.019997   2300800\n",
       "2018-05-17  76.769997  77.339996  76.370003  76.500000  76.500000   1956400\n",
       "2018-05-18  76.440002  77.059998  75.860001  75.930000  75.930000   4265200\n",
       "2018-05-21  76.690002  77.550003  76.540001  77.019997  77.019997   5223900\n",
       "2018-05-22  77.300003  77.320000  76.389999  76.510002  76.510002   1837700\n",
       "2018-05-23  75.839996  76.720001  75.440002  76.449997  76.449997   7051500\n",
       "2018-05-24  76.839996  77.489998  76.400002  77.169998  77.169998   4018400\n",
       "2018-05-25  77.050003  78.250000  76.889999  77.430000  77.430000   1432100\n",
       "...               ...        ...        ...        ...        ...       ...\n",
       "2019-03-06  75.680000  75.680000  74.470001  74.790001  74.790001   7351500\n",
       "2019-03-07  74.160004  74.209999  72.180000  72.570000  72.570000   8530000\n",
       "2019-03-08  70.660004  71.839996  70.519997  71.750000  71.750000   7954500\n",
       "2019-03-11  72.650002  74.010002  72.510002  73.470001  73.470001  14085900\n",
       "2019-03-12  74.000000  74.160004  73.250000  73.589996  73.589996   3105000\n",
       "2019-03-13  73.760002  74.360001  73.250000  73.639999  73.639999   2738700\n",
       "2019-03-14  73.309998  73.790001  72.820000  73.470001  73.470001   3982900\n",
       "2019-03-15  73.820000  73.980003  73.360001  73.639999  73.639999   5741900\n",
       "2019-03-18  74.029999  74.379997  73.519997  73.779999  73.779999   3755300\n",
       "2019-03-19  73.779999  74.440002  73.559998  73.949997  73.949997   4877200\n",
       "2019-03-20  73.669998  74.000000  72.879997  73.760002  73.760002   6965200\n",
       "2019-03-21  73.279999  74.089996  72.930000  73.730003  73.730003   9702600\n",
       "2019-03-22  73.059998  73.349998  71.720001  72.010002  72.010002  10739500\n",
       "2019-03-25  71.650002  72.879997  71.330002  72.739998  72.739998   3870400\n",
       "2019-03-26  73.120003  73.459999  72.129997  72.559998  72.559998   4177200\n",
       "2019-03-27  72.540001  73.180000  72.169998  72.339996  72.339996   4686500\n",
       "2019-03-28  72.370003  72.809998  71.800003  72.519997  72.519997   5140000\n",
       "2019-03-29  73.180000  74.190002  72.910004  74.120003  74.120003   8789300\n",
       "2019-04-01  74.949997  75.169998  73.559998  73.629997  73.629997   4992900\n",
       "2019-04-02  73.580002  74.550003  73.500000  73.940002  73.940002   3234200\n",
       "2019-04-03  72.849998  73.739998  72.379997  72.760002  72.760002  23561100\n",
       "2019-04-04  72.000000  73.690002  71.970001  73.239998  73.239998  11346100\n",
       "2019-04-05  73.470001  74.510002  73.470001  74.010002  74.010002  15225000\n",
       "2019-04-08  73.650002  74.779999  73.580002  74.459999  74.459999  16611800\n",
       "2019-04-09  74.279999  75.730003  73.629997  75.620003  75.620003  15916000\n",
       "2019-04-10  75.500000  75.839996  74.589996  75.389999  75.389999   7417500\n",
       "2019-04-11  75.449997  75.449997  74.660004  75.089996  75.089996   5830700\n",
       "2019-04-12  75.599998  77.029999  75.599998  76.680000  76.680000   4768700\n",
       "2019-04-15  76.599998  76.599998  74.260002  74.370003  74.370003   7181000\n",
       "2019-04-16  74.879997  75.300003  74.470001  75.180000  75.180000   4131200\n",
       "\n",
       "[253 rows x 6 columns]"
      ]
     },
     "execution_count": 4,
     "metadata": {},
     "output_type": "execute_result"
    }
   ],
   "source": [
    "portf_value"
   ]
  },
  {
   "cell_type": "markdown",
   "metadata": {},
   "source": [
    "# Compute indicators from TA library\n",
    "\n",
    "It is a Technical Analysis library to financial time series datasets (open, close, high, low, volume). You can use it to do feature engineering from financial datasets.\n",
    "\n",
    "https://github.com/kairosart/ta"
   ]
  },
  {
   "cell_type": "code",
   "execution_count": 5,
   "metadata": {},
   "outputs": [
    {
     "name": "stderr",
     "output_type": "stream",
     "text": [
      "/home/emi/PycharmProjects/factors/lib/python3.7/site-packages/ta/trend.py:170: RuntimeWarning:\n",
      "\n",
      "invalid value encountered in double_scalars\n",
      "\n",
      "/home/emi/PycharmProjects/factors/lib/python3.7/site-packages/ta/trend.py:174: RuntimeWarning:\n",
      "\n",
      "invalid value encountered in double_scalars\n",
      "\n",
      "/home/emi/PycharmProjects/factors/lib/python3.7/site-packages/ta/trend.py:634: FutureWarning:\n",
      "\n",
      "Currently, 'apply' passes the values as ndarrays to the applied function. In the future, this will change to passing it as Series objects. You need to specify 'raw=True' to keep the current behaviour, and you can pass 'raw=False' to silence this warning\n",
      "\n",
      "/home/emi/PycharmProjects/factors/lib/python3.7/site-packages/ta/trend.py:656: FutureWarning:\n",
      "\n",
      "Currently, 'apply' passes the values as ndarrays to the applied function. In the future, this will change to passing it as Series objects. You need to specify 'raw=True' to keep the current behaviour, and you can pass 'raw=False' to silence this warning\n",
      "\n"
     ]
    }
   ],
   "source": [
    "df = add_all_ta_features(portf_value, \"Open\", \"High\", \"Low\", \"Close\", \"Volume\", fillna=True)"
   ]
  },
  {
   "cell_type": "markdown",
   "metadata": {},
   "source": [
    "## Changing index and columns"
   ]
  },
  {
   "cell_type": "code",
   "execution_count": 6,
   "metadata": {},
   "outputs": [],
   "source": [
    "# Delete unuseful columns\n",
    "del df['Open']\n",
    "del df['High']\n",
    "del df['Low']\n",
    "del df['Close']\n",
    "del df['Volume']\n",
    "\n",
    "\n",
    "# Create 'date' column for posterior index\n",
    "df['date'] = df.index\n",
    "\n",
    "# Rename column for correlation matrix. Can't have spaces.\n",
    "df.rename(columns={'Adj Close': 'Adj_Close'}, inplace=True)\n",
    "\n",
    "# Reset index\n",
    "df.reset_index(inplace=True)"
   ]
  },
  {
   "cell_type": "markdown",
   "metadata": {},
   "source": [
    "## Correlation matrix"
   ]
  },
  {
   "cell_type": "code",
   "execution_count": 7,
   "metadata": {},
   "outputs": [
    {
     "data": {
      "image/png": "[encoded data removed]",
      "text/plain": [
       "<Figure size 864x720 with 2 Axes>"
      ]
     },
     "metadata": {
      "needs_background": "light"
     },
     "output_type": "display_data"
    }
   ],
   "source": [
    "# Adj Close correlation matrix\n",
    "corrmat = df.corr()\n",
    "k = 10 #number of variables for heatmap\n",
    "cols = corrmat.nlargest(k, 'Adj_Close')['Adj_Close'].index\n",
    "cm = np.corrcoef(df[cols].values.T)\n",
    "f, ax = plt.subplots(figsize =(12, 10)) \n",
    "sns.heatmap(cm, ax = ax, cmap =\"YlGnBu\", \n",
    "            linewidths = 0.1, yticklabels = cols.values,  \n",
    "                              xticklabels = cols.values) \n",
    "plt.show()"
   ]
  },
  {
   "cell_type": "markdown",
   "metadata": {},
   "source": [
    "## Indicators to use\n",
    "\n",
    "* others_cr: Cumulative Return.\n",
    "* trend_ema_fast: Fast Exponential Moving Averages (EMA) \n",
    "* volatility_kcl: Keltner Channel"
   ]
  },
  {
   "cell_type": "markdown",
   "metadata": {},
   "source": [
    "### Create a dataframe with indicators to use"
   ]
  },
  {
   "cell_type": "code",
   "execution_count": 8,
   "metadata": {},
   "outputs": [],
   "source": [
    "dataset = df[['Adj_Close', 'others_cr', 'trend_ema_fast', 'volatility_kcl']].copy()"
   ]
  },
  {
   "cell_type": "markdown",
   "metadata": {},
   "source": [
    "## Setup the Target variable or the desired output."
   ]
  },
  {
   "cell_type": "code",
   "execution_count": 9,
   "metadata": {},
   "outputs": [],
   "source": [
    "# Define X and y\n",
    "feature_cols = ['others_cr', 'trend_ema_fast', 'volatility_kcl']\n",
    "X = dataset[feature_cols]\n",
    "y = dataset['Adj_Close']"
   ]
  },
  {
   "cell_type": "markdown",
   "metadata": {},
   "source": [
    "## Split the data"
   ]
  },
  {
   "cell_type": "code",
   "execution_count": 10,
   "metadata": {},
   "outputs": [],
   "source": [
    "# split X and y into training and testing sets\n",
    "X_train, X_test, y_train, y_test = train_test_split(X, y, test_size=0.30, shuffle=False)"
   ]
  },
  {
   "cell_type": "markdown",
   "metadata": {},
   "source": [
    "## Feature Scaling"
   ]
  },
  {
   "cell_type": "code",
   "execution_count": 13,
   "metadata": {},
   "outputs": [],
   "source": [
    "# Scale the dataset\n",
    "scaler = MinMaxScaler(feature_range=(0, 1))\n",
    "X_train_scaled = scaler.fit_transform(X_train)\n",
    "X_test_scaled = scaler.fit_transform(X_test)\n",
    "\n",
    "y_train_scaled = scaler.fit_transform(np.array(y_train).reshape(-1, 1))\n",
    "#y_test_scaled = scaler.fit_transform(np.array(y_test).reshape(-1, 1))"
   ]
  },
  {
   "cell_type": "code",
   "execution_count": 14,
   "metadata": {},
   "outputs": [],
   "source": [
    "# Scale X_test (Adj_Close)\n",
    "scaler1 = MinMaxScaler(feature_range=(0, 1))\n",
    "feature = df[['Adj_Close']]\n",
    "y_test_scaled = scaler1.fit_transform(np.array(y_test).reshape(-1, 1))"
   ]
  },
  {
   "cell_type": "markdown",
   "metadata": {},
   "source": [
    "## Have a look at the error rate for different k values"
   ]
  },
  {
   "cell_type": "code",
   "execution_count": 17,
   "metadata": {},
   "outputs": [
    {
     "name": "stdout",
     "output_type": "stream",
     "text": [
      "RMSE value for k=  1 is: 0.03726172885854299\n",
      "RMSE value for k=  2 is: 0.03698163893254434\n",
      "RMSE value for k=  3 is: 0.034969718478690334\n",
      "RMSE value for k=  4 is: 0.03753368028032426\n",
      "RMSE value for k=  5 is: 0.039109954058276164\n",
      "RMSE value for k=  6 is: 0.040171066615302044\n",
      "RMSE value for k=  7 is: 0.040284874889940044\n",
      "RMSE value for k=  8 is: 0.041435353177457106\n",
      "RMSE value for k=  9 is: 0.04087040611427684\n",
      "RMSE value for k=  10 is: 0.04182459816460259\n",
      "RMSE value for k=  11 is: 0.04346546934454021\n",
      "RMSE value for k=  12 is: 0.04505416278084917\n",
      "RMSE value for k=  13 is: 0.04533225227398867\n",
      "RMSE value for k=  14 is: 0.04632478296879233\n",
      "RMSE value for k=  15 is: 0.04711589530139437\n",
      "RMSE value for k=  16 is: 0.04716704264159534\n",
      "RMSE value for k=  17 is: 0.04823098493199897\n",
      "RMSE value for k=  18 is: 0.04965865779083772\n",
      "RMSE value for k=  19 is: 0.04994102665293522\n",
      "RMSE value for k=  20 is: 0.050097058915719986\n"
     ]
    }
   ],
   "source": [
    "rmse_val = [] #to store rmse values for different k\n",
    "for K in range(20):\n",
    "    K = K+1\n",
    "    model = KNeighborsRegressor(n_neighbors = K)\n",
    "\n",
    "    model.fit(X_train_scaled, y_train_scaled)  #fit the model\n",
    "    pred=model.predict(X_test_scaled) #make prediction on test set\n",
    "    error = sqrt(mean_squared_error(y_test_scaled,pred)) #calculate rmse\n",
    "    rmse_val.append(error) #store rmse values\n",
    "    print('RMSE value for k= ' , K , 'is:', error)\n",
    "\n"
   ]
  },
  {
   "cell_type": "markdown",
   "metadata": {},
   "source": [
    "## Plot RMSE values"
   ]
  },
  {
   "cell_type": "code",
   "execution_count": 18,
   "metadata": {},
   "outputs": [
    {
     "data": {
      "text/plain": [
       "<matplotlib.axes._subplots.AxesSubplot at 0x7fb4a1c3ee80>"
      ]
     },
     "execution_count": 18,
     "metadata": {},
     "output_type": "execute_result"
    },
    {
     "data": {
      "image/png": "[encoded data removed]",
      "text/plain": [
       "<Figure size 432x288 with 1 Axes>"
      ]
     },
     "metadata": {},
     "output_type": "display_data"
    }
   ],
   "source": [
    "#plotting the rmse values against k values\n",
    "curve = pd.DataFrame(rmse_val) #elbow curve \n",
    "curve.plot()"
   ]
  },
  {
   "cell_type": "markdown",
   "metadata": {},
   "source": [
    "## Implement GridsearchCV "
   ]
  },
  {
   "cell_type": "code",
   "execution_count": 19,
   "metadata": {},
   "outputs": [
    {
     "name": "stderr",
     "output_type": "stream",
     "text": [
      "/home/emi/PycharmProjects/factors/lib/python3.7/site-packages/sklearn/model_selection/_search.py:841: DeprecationWarning:\n",
      "\n",
      "The default of the `iid` parameter will change from True to False in version 0.22 and will be removed in 0.24. This will change numeric results when test-set sizes are unequal.\n",
      "\n"
     ]
    },
    {
     "data": {
      "text/plain": [
       "{'n_neighbors': 2}"
      ]
     },
     "execution_count": 19,
     "metadata": {},
     "output_type": "execute_result"
    }
   ],
   "source": [
    "params = {'n_neighbors':[2,3,4,5,6,7,8,9]}\n",
    "\n",
    "knn = KNeighborsRegressor()\n",
    "\n",
    "model = GridSearchCV(knn, params, cv=5)\n",
    "model.fit(X_train_scaled, y_train_scaled)\n",
    "model.best_params_"
   ]
  },
  {
   "cell_type": "markdown",
   "metadata": {},
   "source": [
    "## Prediction"
   ]
  },
  {
   "cell_type": "code",
   "execution_count": 20,
   "metadata": {},
   "outputs": [],
   "source": [
    "y_pred = model.predict(X_test_scaled)  "
   ]
  },
  {
   "cell_type": "markdown",
   "metadata": {},
   "source": [
    "## Compute the rmse"
   ]
  },
  {
   "cell_type": "code",
   "execution_count": 21,
   "metadata": {},
   "outputs": [
    {
     "name": "stdout",
     "output_type": "stream",
     "text": [
      "RMSE: 68.879205\n"
     ]
    }
   ],
   "source": [
    "rmse = np.sqrt(mean_squared_error(y_test, y_pred))\n",
    "print(\"RMSE: %f\" % (rmse))"
   ]
  },
  {
   "cell_type": "markdown",
   "metadata": {},
   "source": [
    "## Plotting"
   ]
  },
  {
   "cell_type": "markdown",
   "metadata": {},
   "source": [
    "### Standarize data "
   ]
  },
  {
   "cell_type": "code",
   "execution_count": 22,
   "metadata": {},
   "outputs": [],
   "source": [
    "\n",
    "preds = scaler1.inverse_transform(y_pred)\n"
   ]
  },
  {
   "cell_type": "code",
   "execution_count": 23,
   "metadata": {},
   "outputs": [],
   "source": [
    "# Create a dataframe for plotting\n",
    "predictions = pd.DataFrame()\n",
    "predictions['Price'] = y_test\n",
    "predictions['Forecast'] = preds"
   ]
  },
  {
   "cell_type": "code",
   "execution_count": 24,
   "metadata": {},
   "outputs": [],
   "source": [
    "# Create dates df index\n",
    "df1 = df['date'].tail(len(y_test))"
   ]
  },
  {
   "cell_type": "code",
   "execution_count": 25,
   "metadata": {},
   "outputs": [],
   "source": [
    "# Concatenate both dataframes\n",
    "pred = pd.concat([predictions, df1], axis=1)\n",
    "\n",
    "# Set index\n",
    "pred.set_index('date', inplace=True)"
   ]
  },
  {
   "cell_type": "code",
   "execution_count": 26,
   "metadata": {},
   "outputs": [
    {
     "data": {
      "image/png": "[encoded data removed]",
      "text/plain": [
       "<Figure size 1152x576 with 1 Axes>"
      ]
     },
     "metadata": {},
     "output_type": "display_data"
    }
   ],
   "source": [
    "plt.figure(figsize=(16,8))\n",
    "plt.plot(pred)\n",
    "plt.xlabel('Date')\n",
    "plt.ylabel(\"Price\")\n",
    "plt.legend([\"Real Price\", \"Prediction\"])\n",
    "plt.show()"
   ]
  },
  {
   "cell_type": "markdown",
   "metadata": {},
   "source": [
    "## Evaluate The Model"
   ]
  },
  {
   "cell_type": "markdown",
   "metadata": {},
   "source": [
    "## Correlation\n",
    "\n",
    "A way to visualize and evaluate the accuracy of a regression algorithm is to look at the relationship between predicted and actual values of our dependant variable Y.\n",
    "\n",
    "A value along the horizontal access is the prediction and along the vertical axis is what the ground truth is.\n",
    "\n",
    "You'll get an answer somewhere between -1 and +1. Where +1 means they're strongly correlated, -1 means they're inversely correlated, and 0 means there's essentially no correlation at all between them.\n"
   ]
  },
  {
   "cell_type": "code",
   "execution_count": 27,
   "metadata": {},
   "outputs": [
    {
     "name": "stdout",
     "output_type": "stream",
     "text": [
      "Correlation: \n",
      " [[1.         0.99145612]\n",
      " [0.99145612 1.        ]]\n"
     ]
    }
   ],
   "source": [
    "print('Correlation: \\n', np.corrcoef(predictions['Forecast'], predictions['Price']))"
   ]
  },
  {
   "cell_type": "markdown",
   "metadata": {},
   "source": [
    "### Plot correlation matrix"
   ]
  },
  {
   "cell_type": "code",
   "execution_count": 28,
   "metadata": {},
   "outputs": [
    {
     "data": {
      "image/png": "[encoded data removed]",
      "text/plain": [
       "<Figure size 288x288 with 2 Axes>"
      ]
     },
     "metadata": {},
     "output_type": "display_data"
    }
   ],
   "source": [
    "plt.matshow(predictions.corr())\n",
    "plt.xticks(range(len(predictions.columns)), predictions.columns)\n",
    "plt.yticks(range(len(predictions.columns)), predictions.columns)\n",
    "plt.colorbar()\n",
    "plt.show()"
   ]
  },
  {
   "cell_type": "markdown",
   "metadata": {},
   "source": [
    "### Plot slope line and elipse\n",
    "\n",
    "So if it's a nice oval that fits close to the slope line, we usually have a high correlation. If it's a big round thing we've got poor correlation.\n"
   ]
  },
  {
   "cell_type": "code",
   "execution_count": 30,
   "metadata": {},
   "outputs": [
    {
     "data": {
      "image/png": "[encoded data removed]",
      "text/plain": [
       "<Figure size 432x288 with 1 Axes>"
      ]
     },
     "metadata": {},
     "output_type": "display_data"
    }
   ],
   "source": [
    "# Slope line\n",
    "a = predictions['Forecast']\n",
    "b = predictions['Price']\n",
    "# Find the slope and intercept of the best fit line\n",
    "slope, intercept = np.polyfit(a, b, 1)\n",
    "\n",
    "# Create a list of values in the best fit line\n",
    "abline_values = [slope * i + intercept for i in a]\n",
    "\n",
    "# Create an ellipse\n",
    "cov = np.cov(a, b)\n",
    "lambda_, v = np.linalg.eig(cov)\n",
    "lambda_ = np.sqrt(lambda_)\n",
    "\n",
    "ax = plt.subplot(111, aspect='auto')\n",
    "\n",
    "ell = Ellipse(xy=(np.mean(a), np.mean(b)),\n",
    "              width=lambda_[0]*5, height=lambda_[1]*5,\n",
    "              angle=np.rad2deg(np.arccos(v[0, 0])), edgecolor='black')\n",
    "ell.set_facecolor('none')\n",
    "\n",
    "# Max and min values for lim\n",
    "maxlim = max(b) * 1.1\n",
    "minlim = min(b) / 1.15\n",
    "ax.add_artist(ell)\n",
    "ax.set(xlim=[minlim, maxlim], ylim=[minlim, maxlim])\n",
    "\n",
    "plt.scatter(a, b)\n",
    "plt.plot(a, abline_values, 'r')\n",
    "plt.title(\"Correlation\")\n",
    "plt.xlabel('Prediction')\n",
    "plt.ylabel(\"Price\")\n",
    "plt.show()\n",
    "\n"
   ]
  },
  {
   "cell_type": "markdown",
   "metadata": {},
   "source": [
    "### Note\n",
    "\n",
    "Correlation has to do with how well aligned the points are with the line that we fit.\n",
    "\n",
    "So if it's a nice oval that fits close to that line, we usually have a high correlation. If it's a big round thing we've got poor correlation.\n"
   ]
  },
  {
   "cell_type": "markdown",
   "metadata": {},
   "source": [
    "## Save the model"
   ]
  },
  {
   "cell_type": "code",
   "execution_count": 31,
   "metadata": {},
   "outputs": [
    {
     "name": "stdout",
     "output_type": "stream",
     "text": [
      "Pickling sklearn API models\n"
     ]
    }
   ],
   "source": [
    "# save model to file\n",
    "print(\"Pickling sklearn API models\")\n",
    "# must open in binary format to pickle\n",
    "pickle.dump(model, open(\"./knn.pkl\", \"wb\"))"
   ]
  },
  {
   "cell_type": "code",
   "execution_count": 32,
   "metadata": {},
   "outputs": [],
   "source": [
    "# load model\n",
    "model1 = pickle.load(open(\"./knn.pkl\", \"rb\"))"
   ]
  },
  {
   "cell_type": "code",
   "execution_count": 33,
   "metadata": {},
   "outputs": [
    {
     "data": {
      "text/plain": [
       "array([[0.10651431],\n",
       "       [0.12579544],\n",
       "       [0.12579544],\n",
       "       [0.08461243],\n",
       "       [0.00112312],\n",
       "       [0.12542112],\n",
       "       [0.18101822],\n",
       "       [0.24878318],\n",
       "       [0.31242968],\n",
       "       [0.32684385],\n",
       "       [0.32684385],\n",
       "       [0.32253844],\n",
       "       [0.34724812],\n",
       "       [0.39517021],\n",
       "       [0.39517021],\n",
       "       [0.41763365],\n",
       "       [0.33639088],\n",
       "       [0.30101081],\n",
       "       [0.39535747],\n",
       "       [0.45432415],\n",
       "       [0.45207776],\n",
       "       [0.44571318],\n",
       "       [0.52452258],\n",
       "       [0.55859221],\n",
       "       [0.5610257 ],\n",
       "       [0.60838623],\n",
       "       [0.63141139],\n",
       "       [0.61849484],\n",
       "       [0.57394227],\n",
       "       [0.57394227],\n",
       "       [0.58386363],\n",
       "       [0.58386363],\n",
       "       [0.59490826],\n",
       "       [0.59490826],\n",
       "       [0.58199169],\n",
       "       [0.59490826],\n",
       "       [0.63590403],\n",
       "       [0.67446648],\n",
       "       [0.78397599],\n",
       "       [0.80962175],\n",
       "       [0.80962175],\n",
       "       [0.89704228],\n",
       "       [0.89704228],\n",
       "       [0.92268802],\n",
       "       [0.92718083],\n",
       "       [0.93485591],\n",
       "       [0.94009738],\n",
       "       [0.7424185 ],\n",
       "       [0.7424185 ],\n",
       "       [0.89685505],\n",
       "       [0.89442156],\n",
       "       [0.89442156],\n",
       "       [0.89442156],\n",
       "       [0.89685505],\n",
       "       [0.89685505],\n",
       "       [0.91988019],\n",
       "       [0.91988019],\n",
       "       [0.89685505],\n",
       "       [0.7424185 ],\n",
       "       [0.7424185 ],\n",
       "       [0.7424185 ],\n",
       "       [0.7424185 ],\n",
       "       [0.7424185 ],\n",
       "       [0.91725947],\n",
       "       [0.91220511],\n",
       "       [0.91725947],\n",
       "       [0.82272553],\n",
       "       [0.91220511],\n",
       "       [0.91725947],\n",
       "       [0.91988019],\n",
       "       [0.95750661],\n",
       "       [0.95750661],\n",
       "       [0.93036312],\n",
       "       [0.98596031],\n",
       "       [0.89442156],\n",
       "       [0.93560458]])"
      ]
     },
     "execution_count": 33,
     "metadata": {},
     "output_type": "execute_result"
    }
   ],
   "source": [
    "model1.predict(X_test_scaled)"
   ]
  },
  {
   "cell_type": "code",
   "execution_count": null,
   "metadata": {},
   "outputs": [],
   "source": []
  }
 ],
 "metadata": {
  "kernelspec": {
   "display_name": "Python 3",
   "language": "python",
   "name": "python3"
  },
  "language_info": {
   "codemirror_mode": {
    "name": "ipython",
    "version": 3
   },
   "file_extension": ".py",
   "mimetype": "text/x-python",
   "name": "python",
   "nbconvert_exporter": "python",
   "pygments_lexer": "ipython3",
   "version": "3.7.3"
  },
  "toc-autonumbering": true
 },
 "nbformat": 4,
 "nbformat_minor": 2
}
