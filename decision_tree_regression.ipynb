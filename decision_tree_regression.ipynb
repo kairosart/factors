{
 "cells": [
  {
   "cell_type": "code",
   "execution_count": 5,
   "metadata": {
    "collapsed": true
   },
   "outputs": [],
   "source": [
    "import os\n",
    "import pandas as pd\n",
    "import datetime as dt\n",
    "from markupsafe import Markup\n",
    "import fix_yahoo_finance as yf\n",
    "yf.pdr_override()\n",
    "\n",
    "from sklearn.preprocessing import MinMaxScaler\n",
    "from sklearn.model_selection import train_test_split, GridSearchCV\n",
    "from sklearn import tree, metrics, neighbors\n",
    "from sklearn.model_selection import cross_val_score\n",
    "\n",
    "from util import create_df_benchmark, fetchOnlineData, get_data, \\\n",
    "    symbol_to_path\n",
    "from indicators import get_indicators"
   ]
  },
  {
   "cell_type": "code",
   "execution_count": 2,
   "metadata": {},
   "outputs": [],
   "source": [
    "symbol = \"AABA\"\n",
    "\n",
    "\n",
    "# Set Forecast date\n",
    "forecast_date = dt.date.today()\n",
    "\n",
    "\n",
    "# Get Forecast time\n",
    "forecast_time = 7\n",
    "\n",
    "# Get Lookback\n",
    "forecast_lookback = 365\n",
    "\n",
    "\n",
    "# Set lookback date of data to train and test\n",
    "start_d = forecast_date - dt.timedelta(forecast_lookback)\n",
    "start_d = f\"{start_d:%Y-%m-%d}\"\n",
    "yesterday = dt.date.today() - dt.timedelta(1)"
   ]
  },
  {
   "cell_type": "code",
   "execution_count": 3,
   "metadata": {},
   "outputs": [
    {
     "name": "stdout",
     "output_type": "stream",
     "text": [
      "\r[                       0%                       ]"
     ]
    },
    {
     "name": "stdout",
     "output_type": "stream",
     "text": [
      "\r[*********************100%***********************]  1 of 1 downloaded"
     ]
    },
    {
     "name": "stdout",
     "output_type": "stream",
     "text": [
      "\n"
     ]
    }
   ],
   "source": [
    "portf_value = fetchOnlineData(start_d, symbol, yesterday)"
   ]
  },
  {
   "cell_type": "code",
   "execution_count": 4,
   "metadata": {},
   "outputs": [],
   "source": [
    ""
   ]
  },
  {
   "cell_type": "code",
   "execution_count": 9,
   "metadata": {},
   "outputs": [
    {
     "name": "stdout",
     "output_type": "stream",
     "text": [
      "date\n2018-02-15   -0.021181\n2018-02-16   -0.011962\n2018-02-20    0.028686\n2018-02-21    0.021488\n2018-02-22    0.046563\n2018-02-23    0.124512\n2018-02-26    0.107832\n2018-02-27    0.070745\n2018-02-28    0.049642\n2018-03-01    0.001086\n2018-03-02   -0.022984\n2018-03-05   -0.000952\n2018-03-06    0.007776\n2018-03-07    0.011583\n2018-03-08    0.002781\n2018-03-09   -0.014660\n2018-03-12   -0.006660\n2018-03-13   -0.002102\n2018-03-14    0.031396\n2018-03-15    0.077027\n2018-03-16    0.099188\n2018-03-19    0.059913\n2018-03-20    0.051882\n2018-03-21    0.027507\n2018-03-22   -0.015318\n2018-03-23   -0.047246\n2018-03-26   -0.022563\n2018-03-27   -0.038700\n2018-03-28   -0.059067\n2018-03-29   -0.067741\n                ...   \n2018-12-18   -0.115235\n2018-12-19   -0.109568\n2018-12-20   -0.111964\n2018-12-21   -0.116807\n2018-12-24   -0.104773\n2018-12-26   -0.074636\n2018-12-27   -0.077205\n2018-12-28   -0.070268\n2018-12-31   -0.065635\n2019-01-02   -0.043109\n2019-01-03   -0.060724\n2019-01-04    0.017678\n2019-01-07    0.051666\n2019-01-08    0.096855\n2019-01-09    0.129779\n2019-01-10    0.089983\n2019-01-11    0.084699\n2019-01-14    0.067524\n2019-01-15    0.083535\n2019-01-16    0.111324\n2019-01-17    0.158473\n2019-01-18    0.100817\n2019-01-22    0.056506\n2019-01-23    0.029980\n2019-01-24    0.016841\n2019-01-25    0.033434\n2019-01-28    0.037214\n2019-01-29    0.040135\n2019-01-30    0.083466\n2019-01-31    0.072312\nLength: 241, dtype: float64\n            Momentum        RSI\ndate                           \n2018-02-01  0.000000  28.752223\n2018-02-02  0.000000  28.752223\n2018-02-05  0.000000  28.752223\n2018-02-06  0.000000  28.752223\n2018-02-07  0.000000  28.752223\n2018-02-08  0.000000  28.752223\n2018-02-09  0.000000  28.752223\n2018-02-12  0.000000  33.125820\n2018-02-13  0.000000  34.709599\n2018-02-14  0.000000  50.129358\n2018-02-15 -0.021181  54.110856\n2018-02-16 -0.011962  48.659828\n2018-02-20  0.028686  55.067919\n2018-02-21  0.021488  58.011872\n2018-02-22  0.046563  60.398604\n2018-02-23  0.124512  70.930933\n2018-02-26  0.107832  72.164767\n2018-02-27  0.070745  55.436415\n2018-02-28  0.049642  47.078936\n2018-03-01  0.001086  40.848526\n2018-03-02 -0.022984  35.642883\n2018-03-05 -0.000952  41.821366\n2018-03-06  0.007776  53.766099\n2018-03-07  0.011583  58.428388\n2018-03-08  0.002781  56.381135\n2018-03-09 -0.014660  61.922456\n2018-03-12 -0.006660  67.076287\n2018-03-13 -0.002102  52.936728\n2018-03-14  0.031396  60.459286\n2018-03-15  0.077027  70.416352\n...              ...        ...\n2018-08-29  0.050567  54.448149\n2018-08-30  0.017464  45.016854\n2018-08-31  0.020244  47.152797\n2018-09-04 -0.018770  35.518602\n2018-09-05 -0.065480  25.044764\n2018-09-06 -0.086889  20.622119\n2018-09-07 -0.049839  26.993595\n2018-09-10 -0.074020  23.338997\n2018-09-11 -0.092462  28.745717\n2018-09-12 -0.053770  48.158569\n2018-09-13 -0.034786  57.088522\n2018-09-14 -0.022790  55.336618\n2018-09-17 -0.052480  42.964236\n2018-09-18 -0.043849  38.030905\n2018-09-19  0.021934  52.595366\n2018-09-20  0.064476  59.265290\n2018-09-21  0.047979  56.190699\n2018-09-24  0.059404  53.566114\n2018-09-25  0.055530  55.492163\n2018-09-26  0.024203  57.546528\n2018-09-27  0.007355  60.316744\n2018-09-28  0.005461  55.936770\n2018-10-01  0.020334  46.340111\n2018-10-02  0.025392  40.694047\n2018-10-03  0.002385  48.180739\n2018-10-04 -0.045208  32.715639\n2018-10-05 -0.049315  29.004193\n2018-10-08 -0.066578  22.483703\n2018-10-09 -0.093428  17.615453\n2018-10-10 -0.142668  11.740547\n\n[175 rows x 2 columns]\n"
     ]
    }
   ],
   "source": [
    "# Normalize the prices Dataframe\n",
    "normed = portf_value.copy()\n",
    "#normed = scaling_data(normed, symbol)\n",
    "\n",
    "normed['date'] = portf_value.index\n",
    "normed.set_index('date', inplace=True)\n",
    "normed.rename(columns={'Adj Close': symbol}, inplace=True)\n",
    "\n",
    "\n",
    "# Get indicators\n",
    "sym_mom, sma, q, rsi_value = get_indicators(normed, symbol)\n",
    "\n",
    "\n",
    "# Create momentum column\n",
    "normed['Momentum'] = sym_mom\n",
    "\n",
    "# Create SMA column\n",
    "normed['SMA'] = sma\n",
    "\n",
    "# Create SMA column\n",
    "normed['RSI'] = rsi_value\n",
    "\n",
    "# Clean nan values\n",
    "normed = normed.fillna(0)\n",
    "\n",
    "# Sort dataframe by index\n",
    "normed.sort_index()\n",
    "\n",
    "\n",
    "# Define X and y\n",
    "feature_cols = ['Momentum', 'RSI']\n",
    "X = normed[feature_cols]\n",
    "y = normed[symbol]\n",
    "\n",
    "# split X and y into training and testing sets\n",
    "X_train, X_test, y_train, y_test = train_test_split(X, y, test_size=0.30, shuffle=False)\n",
    "\n"
   ]
  },
  {
   "cell_type": "code",
   "execution_count": 8,
   "metadata": {},
   "outputs": [
    {
     "name": "stdout",
     "output_type": "stream",
     "text": [
      "max_depth= 3\n0.545299145436019\n-15.88438138776274 \n\nmax_depth= 5\n0.6801633219117347\n-16.913713184197096 \n\nmax_depth= 10\n0.9784245155051181\n-19.29790193310834 \n\nmax_depth= 15\n0.990981119646373\n-18.03016108519227 \n\nmax_depth= 20\n0.990981119646373\n-18.41225893389626 \n\nFiiting finishied\n"
     ]
    }
   ],
   "source": [
    "# Use only to get the best parameter for max_depth\n",
    "# Loop through a few different max depths and check the performance\n",
    "for d in [3, 5, 10, 15, 20]:\n",
    "    # Create the tree and fit it\n",
    "    decision_tree = tree.DecisionTreeRegressor(max_depth=d)\n",
    "    decision_tree.fit(X_train, y_train)\n",
    "\n",
    "    # Print out the scores on train and test\n",
    "    print('max_depth=', str(d))\n",
    "    print(decision_tree.score(X_train, y_train))\n",
    "    print(decision_tree.score(X_test, y_test), '\\n')\n",
    "\n",
    "print('Fiiting finishied')    "
   ]
  },
  {
   "cell_type": "code",
   "execution_count": null,
   "metadata": {},
   "outputs": [],
   "source": []
  }
 ],
 "metadata": {
  "kernelspec": {
   "display_name": "Python 2",
   "language": "python",
   "name": "python2"
  },
  "language_info": {
   "codemirror_mode": {
    "name": "ipython",
    "version": 2
   },
   "file_extension": ".py",
   "mimetype": "text/x-python",
   "name": "python",
   "nbconvert_exporter": "python",
   "pygments_lexer": "ipython2",
   "version": "2.7.6"
  }
 },
 "nbformat": 4,
 "nbformat_minor": 0
}
