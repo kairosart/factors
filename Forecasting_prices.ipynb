{
 "cells": [
  {
   "cell_type": "markdown",
   "metadata": {},
   "source": [
    "# Forecasting prices"
   ]
  },
  {
   "cell_type": "markdown",
   "metadata": {},
   "source": [
    "## Overview\n",
    "\n",
    "Train several models to see what's the better performance.\n",
    "\n",
    "Models:\n",
    "\n",
    "* KNN\n",
    "* ARIMA Model\n",
    "* Bagging\n",
    "* Boosting"
   ]
  },
  {
   "cell_type": "markdown",
   "metadata": {},
   "source": [
    "## Import libraries"
   ]
  },
  {
   "cell_type": "code",
   "execution_count": 1,
   "metadata": {
    "collapsed": true
   },
   "outputs": [
    {
     "name": "stdout",
     "output_type": "stream",
     "text": [
      "/home/emi/miniconda3/envs/factors/bin/python: No module named conda\n"
     ]
    }
   ],
   "source": [
    "import sys\n",
    "!{sys.executable} -m  conda install -c anaconda pandas_datareader"
   ]
  },
  {
   "cell_type": "code",
   "execution_count": 76,
   "metadata": {},
   "outputs": [
    {
     "data": {
      "text/html": [
       "<script type=\"text/javascript\">window.PlotlyConfig = {MathJaxConfig: 'local'};</script><script type=\"text/javascript\">if (window.MathJax) {MathJax.Hub.Config({SVG: {font: \"STIX-Web\"}});}</script><script>requirejs.config({paths: { 'plotly': ['https://cdn.plot.ly/plotly-latest.min']},});if(!window._Plotly) {require(['plotly'],function(plotly) {window._Plotly=plotly;});}</script>"
      ]
     },
     "metadata": {},
     "output_type": "execute_result"
    }
   ],
   "source": [
    "import datetime as dt\n",
    "import os\n",
    "import pandas as pd\n",
    "import numpy as np\n",
    "import csv\n",
    "import warnings\n",
    "from pandas import Series\n",
    "\n",
    "\n",
    "# Files\n",
    "from indicators import get_momentum, get_RSI, get_sma, plot_stock_prices_prediction\n",
    "from util import fetchOnlineData, slice_df\n",
    "\n",
    "# Plot\n",
    "import matplotlib.pyplot as plt\n",
    "import seaborn as sns\n",
    "\n",
    "# Sklearn\n",
    "from sklearn.preprocessing import MinMaxScaler, StandardScaler\n",
    "from sklearn.model_selection import train_test_split, GridSearchCV\n",
    "from sklearn.model_selection import cross_val_score\n",
    "from sklearn.metrics import mean_squared_error\n",
    "from sklearn import tree, metrics, neighbors\n",
    "\n",
    "# models\n",
    "from sklearn.linear_model import LogisticRegression\n",
    "from sklearn.tree import DecisionTreeClassifier\n",
    "from sklearn.ensemble import RandomForestClassifier, ExtraTreesClassifier\n",
    "\n",
    "# ARIMA\n",
    "import statsmodels\n",
    "from statsmodels.tsa.arima_model import ARIMA, ARIMAResults\n",
    "from statsmodels.graphics.tsaplots import plot_acf\n",
    "\n",
    "# LSTM\n",
    "from sklearn.preprocessing import MinMaxScaler\n",
    "from keras.models import Sequential\n",
    "from keras.layers import Dense, Dropout, LSTM\n",
    "import tensorflow as tf # This code has been tested with TensorFlow 1.6\n",
    "\n",
    "\n",
    "# Add plotly for interactive charts\n",
    "from plotly.offline import init_notebook_mode, iplot\n",
    "init_notebook_mode(connected=True)\n",
    "import plotly.plotly as py\n",
    "import plotly.graph_objs as go\n",
    "from plotly import tools\n",
    "\n"
   ]
  },
  {
   "cell_type": "markdown",
   "metadata": {},
   "source": [
    "## Initial variables"
   ]
  },
  {
   "cell_type": "code",
   "execution_count": 13,
   "metadata": {},
   "outputs": [],
   "source": [
    "symbol = \"AABA\"\n",
    "\n",
    "# We'll look back 365 days\n",
    "start_d = dt.date.today() - dt.timedelta(365)"
   ]
  },
  {
   "cell_type": "markdown",
   "metadata": {},
   "source": [
    "## Getting data from Yahoo"
   ]
  },
  {
   "cell_type": "code",
   "execution_count": 14,
   "metadata": {},
   "outputs": [
    {
     "name": "stdout",
     "output_type": "stream",
     "text": [
      "[*********************100%***********************]  1 of 1 downloaded\n"
     ]
    }
   ],
   "source": [
    "yesterday = dt.date.today() - dt.timedelta(1)\n",
    "portf_value = fetchOnlineData(start_d, symbol, yesterday)"
   ]
  },
  {
   "cell_type": "code",
   "execution_count": null,
   "metadata": {},
   "outputs": [],
   "source": [
    "# Normalize the prices Dataframe\n",
    "normed = portf_value.copy()"
   ]
  },
  {
   "cell_type": "code",
   "execution_count": null,
   "metadata": {},
   "outputs": [],
   "source": [
    "# Convert price column to float\n",
    "#normed[symbol] = pd.to_numeric(normed[symbol], downcast='float', errors='coerce').fillna(0)"
   ]
  },
  {
   "cell_type": "code",
   "execution_count": null,
   "metadata": {},
   "outputs": [],
   "source": [
    "normed.info()\n",
    "normed.head()"
   ]
  },
  {
   "cell_type": "markdown",
   "metadata": {},
   "source": [
    "## Getting indicator values"
   ]
  },
  {
   "cell_type": "code",
   "execution_count": 10,
   "metadata": {},
   "outputs": [],
   "source": [
    "def get_indicators(normed, symbol):\n",
    "\n",
    "    # Compute momentum\n",
    "    sym_mom = get_momentum(normed[symbol], window=10)\n",
    "\n",
    "    # ****Relative Strength Index (RSI)****\n",
    "    # Compute RSI\n",
    "    rsi_value = get_RSI(normed[symbol], 7)\n",
    "\n",
    "    # ****Simple moving average (SMA)****\n",
    "    # Compute SMA\n",
    "    sma, q = get_sma(normed[symbol], window=10)\n",
    "    return sym_mom, sma, q, rsi_value\n",
    "\n",
    "#normed = scaling_data(normed, symbol)\n",
    "\n",
    "normed['date'] = portf_value.index\n",
    "normed.set_index('date', inplace=True)\n",
    "normed.rename(columns={'Adj Close': symbol}, inplace=True)\n"
   ]
  },
  {
   "cell_type": "code",
   "execution_count": 11,
   "metadata": {},
   "outputs": [
    {
     "name": "stdout",
     "output_type": "stream",
     "text": [
      "date\n",
      "2018-02-05   -0.022249\n",
      "2018-02-06   -0.039702\n",
      "2018-02-07   -0.072613\n",
      "2018-02-08   -0.120005\n",
      "2018-02-09   -0.122291\n",
      "2018-02-12   -0.103857\n",
      "2018-02-13   -0.088923\n",
      "2018-02-14   -0.077867\n",
      "2018-02-15   -0.021181\n",
      "2018-02-16   -0.011962\n",
      "2018-02-20    0.028686\n",
      "2018-02-21    0.021488\n",
      "2018-02-22    0.046563\n",
      "2018-02-23    0.124512\n",
      "2018-02-26    0.107832\n",
      "2018-02-27    0.070745\n",
      "2018-02-28    0.049642\n",
      "2018-03-01    0.001086\n",
      "2018-03-02   -0.022984\n",
      "2018-03-05   -0.000952\n",
      "2018-03-06    0.007776\n",
      "2018-03-07    0.011583\n",
      "2018-03-08    0.002781\n",
      "2018-03-09   -0.014660\n",
      "2018-03-12   -0.006660\n",
      "2018-03-13   -0.002102\n",
      "2018-03-14    0.031396\n",
      "2018-03-15    0.077027\n",
      "2018-03-16    0.099188\n",
      "2018-03-19    0.059913\n",
      "                ...   \n",
      "2018-12-06    0.048777\n",
      "2018-12-07    0.013837\n",
      "2018-12-10   -0.002724\n",
      "2018-12-11   -0.027963\n",
      "2018-12-12   -0.020885\n",
      "2018-12-13   -0.040807\n",
      "2018-12-14   -0.037411\n",
      "2018-12-17   -0.084007\n",
      "2018-12-18   -0.115235\n",
      "2018-12-19   -0.109568\n",
      "2018-12-20   -0.111964\n",
      "2018-12-21   -0.116807\n",
      "2018-12-24   -0.104773\n",
      "2018-12-26   -0.074636\n",
      "2018-12-27   -0.077205\n",
      "2018-12-28   -0.070268\n",
      "2018-12-31   -0.065635\n",
      "2019-01-02   -0.043109\n",
      "2019-01-03   -0.060724\n",
      "2019-01-04    0.017678\n",
      "2019-01-07    0.051666\n",
      "2019-01-08    0.096855\n",
      "2019-01-09    0.129779\n",
      "2019-01-10    0.089983\n",
      "2019-01-11    0.084699\n",
      "2019-01-14    0.067524\n",
      "2019-01-15    0.083535\n",
      "2019-01-16    0.111324\n",
      "2019-01-17    0.158473\n",
      "2019-01-18    0.100817\n",
      "Length: 241, dtype: float64\n"
     ]
    }
   ],
   "source": [
    "# Get indicators\n",
    "sym_mom, sma, q, rsi_value = get_indicators(normed, symbol)\n",
    "\n",
    "\n",
    "# Create momentum column\n",
    "normed['Momentum'] = sym_mom\n",
    "\n",
    "# Create SMA column\n",
    "normed['SMA'] = sma\n",
    "\n",
    "# Create SMA column\n",
    "normed['RSI'] = rsi_value"
   ]
  },
  {
   "cell_type": "code",
   "execution_count": 12,
   "metadata": {},
   "outputs": [
    {
     "name": "stdout",
     "output_type": "stream",
     "text": [
      "<class 'pandas.core.frame.DataFrame'>\n",
      "DatetimeIndex: 251 entries, 2018-01-22 to 2019-01-18\n",
      "Data columns (total 4 columns):\n",
      "AABA        251 non-null float64\n",
      "Momentum    241 non-null float64\n",
      "SMA         242 non-null float64\n",
      "RSI         251 non-null float64\n",
      "dtypes: float64(4)\n",
      "memory usage: 9.8 KB\n"
     ]
    },
    {
     "data": {
      "text/html": [
       "<div>\n",
       "<style scoped>\n",
       "    .dataframe tbody tr th:only-of-type {\n",
       "        vertical-align: middle;\n",
       "    }\n",
       "\n",
       "    .dataframe tbody tr th {\n",
       "        vertical-align: top;\n",
       "    }\n",
       "\n",
       "    .dataframe thead th {\n",
       "        text-align: right;\n",
       "    }\n",
       "</style>\n",
       "<table border=\"1\" class=\"dataframe\">\n",
       "  <thead>\n",
       "    <tr style=\"text-align: right;\">\n",
       "      <th></th>\n",
       "      <th>AABA</th>\n",
       "      <th>Momentum</th>\n",
       "      <th>SMA</th>\n",
       "      <th>RSI</th>\n",
       "    </tr>\n",
       "    <tr>\n",
       "      <th>date</th>\n",
       "      <th></th>\n",
       "      <th></th>\n",
       "      <th></th>\n",
       "      <th></th>\n",
       "    </tr>\n",
       "  </thead>\n",
       "  <tbody>\n",
       "    <tr>\n",
       "      <th>2018-01-22</th>\n",
       "      <td>74.160004</td>\n",
       "      <td>0.000000</td>\n",
       "      <td>0.000000</td>\n",
       "      <td>56.776549</td>\n",
       "    </tr>\n",
       "    <tr>\n",
       "      <th>2018-01-23</th>\n",
       "      <td>76.570000</td>\n",
       "      <td>0.000000</td>\n",
       "      <td>0.000000</td>\n",
       "      <td>56.776549</td>\n",
       "    </tr>\n",
       "    <tr>\n",
       "      <th>2018-01-24</th>\n",
       "      <td>77.809998</td>\n",
       "      <td>0.000000</td>\n",
       "      <td>0.000000</td>\n",
       "      <td>56.776549</td>\n",
       "    </tr>\n",
       "    <tr>\n",
       "      <th>2018-01-25</th>\n",
       "      <td>78.580002</td>\n",
       "      <td>0.000000</td>\n",
       "      <td>0.000000</td>\n",
       "      <td>56.776549</td>\n",
       "    </tr>\n",
       "    <tr>\n",
       "      <th>2018-01-26</th>\n",
       "      <td>80.300003</td>\n",
       "      <td>0.000000</td>\n",
       "      <td>0.000000</td>\n",
       "      <td>56.776549</td>\n",
       "    </tr>\n",
       "    <tr>\n",
       "      <th>2018-01-29</th>\n",
       "      <td>79.339996</td>\n",
       "      <td>0.000000</td>\n",
       "      <td>0.000000</td>\n",
       "      <td>56.776549</td>\n",
       "    </tr>\n",
       "    <tr>\n",
       "      <th>2018-01-30</th>\n",
       "      <td>78.269997</td>\n",
       "      <td>0.000000</td>\n",
       "      <td>0.000000</td>\n",
       "      <td>56.776549</td>\n",
       "    </tr>\n",
       "    <tr>\n",
       "      <th>2018-01-31</th>\n",
       "      <td>79.879997</td>\n",
       "      <td>0.000000</td>\n",
       "      <td>0.000000</td>\n",
       "      <td>62.004931</td>\n",
       "    </tr>\n",
       "    <tr>\n",
       "      <th>2018-02-01</th>\n",
       "      <td>76.010002</td>\n",
       "      <td>0.000000</td>\n",
       "      <td>0.000000</td>\n",
       "      <td>46.299349</td>\n",
       "    </tr>\n",
       "    <tr>\n",
       "      <th>2018-02-02</th>\n",
       "      <td>74.400002</td>\n",
       "      <td>0.000000</td>\n",
       "      <td>77.532000</td>\n",
       "      <td>41.230507</td>\n",
       "    </tr>\n",
       "    <tr>\n",
       "      <th>2018-02-05</th>\n",
       "      <td>72.510002</td>\n",
       "      <td>-0.022249</td>\n",
       "      <td>77.367000</td>\n",
       "      <td>35.854496</td>\n",
       "    </tr>\n",
       "    <tr>\n",
       "      <th>2018-02-06</th>\n",
       "      <td>73.529999</td>\n",
       "      <td>-0.039702</td>\n",
       "      <td>77.063000</td>\n",
       "      <td>40.721095</td>\n",
       "    </tr>\n",
       "    <tr>\n",
       "      <th>2018-02-07</th>\n",
       "      <td>72.160004</td>\n",
       "      <td>-0.072613</td>\n",
       "      <td>76.498000</td>\n",
       "      <td>36.394360</td>\n",
       "    </tr>\n",
       "    <tr>\n",
       "      <th>2018-02-08</th>\n",
       "      <td>69.150002</td>\n",
       "      <td>-0.120005</td>\n",
       "      <td>75.555000</td>\n",
       "      <td>28.603934</td>\n",
       "    </tr>\n",
       "    <tr>\n",
       "      <th>2018-02-09</th>\n",
       "      <td>70.480003</td>\n",
       "      <td>-0.122291</td>\n",
       "      <td>74.573000</td>\n",
       "      <td>35.699300</td>\n",
       "    </tr>\n",
       "    <tr>\n",
       "      <th>2018-02-12</th>\n",
       "      <td>71.099998</td>\n",
       "      <td>-0.103857</td>\n",
       "      <td>73.749001</td>\n",
       "      <td>38.996449</td>\n",
       "    </tr>\n",
       "    <tr>\n",
       "      <th>2018-02-13</th>\n",
       "      <td>71.309998</td>\n",
       "      <td>-0.088923</td>\n",
       "      <td>73.053001</td>\n",
       "      <td>40.208006</td>\n",
       "    </tr>\n",
       "    <tr>\n",
       "      <th>2018-02-14</th>\n",
       "      <td>73.660004</td>\n",
       "      <td>-0.077867</td>\n",
       "      <td>72.431001</td>\n",
       "      <td>52.519269</td>\n",
       "    </tr>\n",
       "    <tr>\n",
       "      <th>2018-02-15</th>\n",
       "      <td>74.400002</td>\n",
       "      <td>-0.021181</td>\n",
       "      <td>72.270001</td>\n",
       "      <td>55.858276</td>\n",
       "    </tr>\n",
       "    <tr>\n",
       "      <th>2018-02-16</th>\n",
       "      <td>73.510002</td>\n",
       "      <td>-0.011962</td>\n",
       "      <td>72.181001</td>\n",
       "      <td>50.841503</td>\n",
       "    </tr>\n",
       "    <tr>\n",
       "      <th>2018-02-20</th>\n",
       "      <td>74.589996</td>\n",
       "      <td>0.028686</td>\n",
       "      <td>72.389001</td>\n",
       "      <td>56.386893</td>\n",
       "    </tr>\n",
       "    <tr>\n",
       "      <th>2018-02-21</th>\n",
       "      <td>75.110001</td>\n",
       "      <td>0.021488</td>\n",
       "      <td>72.547001</td>\n",
       "      <td>58.985856</td>\n",
       "    </tr>\n",
       "    <tr>\n",
       "      <th>2018-02-22</th>\n",
       "      <td>75.519997</td>\n",
       "      <td>0.046563</td>\n",
       "      <td>72.883000</td>\n",
       "      <td>61.117228</td>\n",
       "    </tr>\n",
       "    <tr>\n",
       "      <th>2018-02-23</th>\n",
       "      <td>77.760002</td>\n",
       "      <td>0.124512</td>\n",
       "      <td>73.744000</td>\n",
       "      <td>70.792046</td>\n",
       "    </tr>\n",
       "    <tr>\n",
       "      <th>2018-02-26</th>\n",
       "      <td>78.080002</td>\n",
       "      <td>0.107832</td>\n",
       "      <td>74.504000</td>\n",
       "      <td>71.955068</td>\n",
       "    </tr>\n",
       "    <tr>\n",
       "      <th>2018-02-27</th>\n",
       "      <td>76.129997</td>\n",
       "      <td>0.070745</td>\n",
       "      <td>75.007000</td>\n",
       "      <td>56.079669</td>\n",
       "    </tr>\n",
       "    <tr>\n",
       "      <th>2018-02-28</th>\n",
       "      <td>74.849998</td>\n",
       "      <td>0.049642</td>\n",
       "      <td>75.361000</td>\n",
       "      <td>47.973984</td>\n",
       "    </tr>\n",
       "    <tr>\n",
       "      <th>2018-03-01</th>\n",
       "      <td>73.739998</td>\n",
       "      <td>0.001086</td>\n",
       "      <td>75.369000</td>\n",
       "      <td>41.853618</td>\n",
       "    </tr>\n",
       "    <tr>\n",
       "      <th>2018-03-02</th>\n",
       "      <td>72.690002</td>\n",
       "      <td>-0.022984</td>\n",
       "      <td>75.198000</td>\n",
       "      <td>36.688158</td>\n",
       "    </tr>\n",
       "    <tr>\n",
       "      <th>2018-03-05</th>\n",
       "      <td>73.440002</td>\n",
       "      <td>-0.000952</td>\n",
       "      <td>75.191000</td>\n",
       "      <td>42.592420</td>\n",
       "    </tr>\n",
       "    <tr>\n",
       "      <th>...</th>\n",
       "      <td>...</td>\n",
       "      <td>...</td>\n",
       "      <td>...</td>\n",
       "      <td>...</td>\n",
       "    </tr>\n",
       "    <tr>\n",
       "      <th>2018-12-06</th>\n",
       "      <td>63.860001</td>\n",
       "      <td>0.048777</td>\n",
       "      <td>64.400001</td>\n",
       "      <td>48.434581</td>\n",
       "    </tr>\n",
       "    <tr>\n",
       "      <th>2018-12-07</th>\n",
       "      <td>63.009998</td>\n",
       "      <td>0.013837</td>\n",
       "      <td>64.486000</td>\n",
       "      <td>43.437264</td>\n",
       "    </tr>\n",
       "    <tr>\n",
       "      <th>2018-12-10</th>\n",
       "      <td>62.230000</td>\n",
       "      <td>-0.002724</td>\n",
       "      <td>64.469000</td>\n",
       "      <td>39.116495</td>\n",
       "    </tr>\n",
       "    <tr>\n",
       "      <th>2018-12-11</th>\n",
       "      <td>62.570000</td>\n",
       "      <td>-0.027963</td>\n",
       "      <td>64.289000</td>\n",
       "      <td>42.048055</td>\n",
       "    </tr>\n",
       "    <tr>\n",
       "      <th>2018-12-12</th>\n",
       "      <td>62.820000</td>\n",
       "      <td>-0.020885</td>\n",
       "      <td>64.155000</td>\n",
       "      <td>44.346833</td>\n",
       "    </tr>\n",
       "    <tr>\n",
       "      <th>2018-12-13</th>\n",
       "      <td>62.759998</td>\n",
       "      <td>-0.040807</td>\n",
       "      <td>63.887999</td>\n",
       "      <td>43.859678</td>\n",
       "    </tr>\n",
       "    <tr>\n",
       "      <th>2018-12-14</th>\n",
       "      <td>62.009998</td>\n",
       "      <td>-0.037411</td>\n",
       "      <td>63.646999</td>\n",
       "      <td>37.803741</td>\n",
       "    </tr>\n",
       "    <tr>\n",
       "      <th>2018-12-17</th>\n",
       "      <td>60.080002</td>\n",
       "      <td>-0.084007</td>\n",
       "      <td>63.096000</td>\n",
       "      <td>26.725267</td>\n",
       "    </tr>\n",
       "    <tr>\n",
       "      <th>2018-12-18</th>\n",
       "      <td>59.119999</td>\n",
       "      <td>-0.115235</td>\n",
       "      <td>62.326000</td>\n",
       "      <td>22.840892</td>\n",
       "    </tr>\n",
       "    <tr>\n",
       "      <th>2018-12-19</th>\n",
       "      <td>57.700001</td>\n",
       "      <td>-0.109568</td>\n",
       "      <td>61.616000</td>\n",
       "      <td>18.260744</td>\n",
       "    </tr>\n",
       "    <tr>\n",
       "      <th>2018-12-20</th>\n",
       "      <td>56.709999</td>\n",
       "      <td>-0.111964</td>\n",
       "      <td>60.900999</td>\n",
       "      <td>15.700025</td>\n",
       "    </tr>\n",
       "    <tr>\n",
       "      <th>2018-12-21</th>\n",
       "      <td>55.650002</td>\n",
       "      <td>-0.116807</td>\n",
       "      <td>60.165000</td>\n",
       "      <td>13.359794</td>\n",
       "    </tr>\n",
       "    <tr>\n",
       "      <th>2018-12-24</th>\n",
       "      <td>55.709999</td>\n",
       "      <td>-0.104773</td>\n",
       "      <td>59.513000</td>\n",
       "      <td>14.204286</td>\n",
       "    </tr>\n",
       "    <tr>\n",
       "      <th>2018-12-26</th>\n",
       "      <td>57.900002</td>\n",
       "      <td>-0.074636</td>\n",
       "      <td>59.046000</td>\n",
       "      <td>39.370669</td>\n",
       "    </tr>\n",
       "    <tr>\n",
       "      <th>2018-12-27</th>\n",
       "      <td>57.970001</td>\n",
       "      <td>-0.077205</td>\n",
       "      <td>58.561000</td>\n",
       "      <td>40.026675</td>\n",
       "    </tr>\n",
       "    <tr>\n",
       "      <th>2018-12-28</th>\n",
       "      <td>58.349998</td>\n",
       "      <td>-0.070268</td>\n",
       "      <td>58.120000</td>\n",
       "      <td>43.872879</td>\n",
       "    </tr>\n",
       "    <tr>\n",
       "      <th>2018-12-31</th>\n",
       "      <td>57.939999</td>\n",
       "      <td>-0.065635</td>\n",
       "      <td>57.713000</td>\n",
       "      <td>40.595675</td>\n",
       "    </tr>\n",
       "    <tr>\n",
       "      <th>2019-01-02</th>\n",
       "      <td>57.490002</td>\n",
       "      <td>-0.043109</td>\n",
       "      <td>57.454000</td>\n",
       "      <td>37.051712</td>\n",
       "    </tr>\n",
       "    <tr>\n",
       "      <th>2019-01-03</th>\n",
       "      <td>55.529999</td>\n",
       "      <td>-0.060724</td>\n",
       "      <td>57.095000</td>\n",
       "      <td>25.665976</td>\n",
       "    </tr>\n",
       "    <tr>\n",
       "      <th>2019-01-04</th>\n",
       "      <td>58.720001</td>\n",
       "      <td>0.017678</td>\n",
       "      <td>57.197000</td>\n",
       "      <td>53.056857</td>\n",
       "    </tr>\n",
       "    <tr>\n",
       "      <th>2019-01-07</th>\n",
       "      <td>59.639999</td>\n",
       "      <td>0.051666</td>\n",
       "      <td>57.490000</td>\n",
       "      <td>58.234995</td>\n",
       "    </tr>\n",
       "    <tr>\n",
       "      <th>2019-01-08</th>\n",
       "      <td>61.040001</td>\n",
       "      <td>0.096855</td>\n",
       "      <td>58.029000</td>\n",
       "      <td>65.074605</td>\n",
       "    </tr>\n",
       "    <tr>\n",
       "      <th>2019-01-09</th>\n",
       "      <td>62.939999</td>\n",
       "      <td>0.129779</td>\n",
       "      <td>58.752000</td>\n",
       "      <td>72.265861</td>\n",
       "    </tr>\n",
       "    <tr>\n",
       "      <th>2019-01-10</th>\n",
       "      <td>63.110001</td>\n",
       "      <td>0.089983</td>\n",
       "      <td>59.273000</td>\n",
       "      <td>72.849428</td>\n",
       "    </tr>\n",
       "    <tr>\n",
       "      <th>2019-01-11</th>\n",
       "      <td>62.880001</td>\n",
       "      <td>0.084699</td>\n",
       "      <td>59.764000</td>\n",
       "      <td>70.507720</td>\n",
       "    </tr>\n",
       "    <tr>\n",
       "      <th>2019-01-14</th>\n",
       "      <td>62.290001</td>\n",
       "      <td>0.067524</td>\n",
       "      <td>60.158000</td>\n",
       "      <td>64.320092</td>\n",
       "    </tr>\n",
       "    <tr>\n",
       "      <th>2019-01-15</th>\n",
       "      <td>62.779999</td>\n",
       "      <td>0.083535</td>\n",
       "      <td>60.642000</td>\n",
       "      <td>67.116228</td>\n",
       "    </tr>\n",
       "    <tr>\n",
       "      <th>2019-01-16</th>\n",
       "      <td>63.889999</td>\n",
       "      <td>0.111324</td>\n",
       "      <td>61.282000</td>\n",
       "      <td>72.758359</td>\n",
       "    </tr>\n",
       "    <tr>\n",
       "      <th>2019-01-17</th>\n",
       "      <td>64.330002</td>\n",
       "      <td>0.158473</td>\n",
       "      <td>62.162000</td>\n",
       "      <td>74.761043</td>\n",
       "    </tr>\n",
       "    <tr>\n",
       "      <th>2019-01-18</th>\n",
       "      <td>64.639999</td>\n",
       "      <td>0.100817</td>\n",
       "      <td>62.754000</td>\n",
       "      <td>76.199241</td>\n",
       "    </tr>\n",
       "  </tbody>\n",
       "</table>\n",
       "<p>251 rows × 4 columns</p>\n",
       "</div>"
      ],
      "text/plain": [
       "<div>\n",
       "<style scoped>\n",
       "    .dataframe tbody tr th:only-of-type {\n",
       "        vertical-align: middle;\n",
       "    }\n",
       "\n",
       "    .dataframe tbody tr th {\n",
       "        vertical-align: top;\n",
       "    }\n",
       "\n",
       "    .dataframe thead th {\n",
       "        text-align: right;\n",
       "    }\n",
       "</style>\n",
       "<table border=\"1\" class=\"dataframe\">\n",
       "  <thead>\n",
       "    <tr style=\"text-align: right;\">\n",
       "      <th></th>\n",
       "      <th>AABA</th>\n",
       "      <th>Momentum</th>\n",
       "      <th>SMA</th>\n",
       "      <th>RSI</th>\n",
       "    </tr>\n",
       "    <tr>\n",
       "      <th>date</th>\n",
       "      <th></th>\n",
       "      <th></th>\n",
       "      <th></th>\n",
       "      <th></th>\n",
       "    </tr>\n",
       "  </thead>\n",
       "  <tbody>\n",
       "    <tr>\n",
       "      <th>2018-01-22</th>\n",
       "      <td>74.160004</td>\n",
       "      <td>0.000000</td>\n",
       "      <td>0.000000</td>\n",
       "      <td>56.776549</td>\n",
       "    </tr>\n",
       "    <tr>\n",
       "      <th>2018-01-23</th>\n",
       "      <td>76.570000</td>\n",
       "      <td>0.000000</td>\n",
       "      <td>0.000000</td>\n",
       "      <td>56.776549</td>\n",
       "    </tr>\n",
       "    <tr>\n",
       "      <th>2018-01-24</th>\n",
       "      <td>77.809998</td>\n",
       "      <td>0.000000</td>\n",
       "      <td>0.000000</td>\n",
       "      <td>56.776549</td>\n",
       "    </tr>\n",
       "    <tr>\n",
       "      <th>2018-01-25</th>\n",
       "      <td>78.580002</td>\n",
       "      <td>0.000000</td>\n",
       "      <td>0.000000</td>\n",
       "      <td>56.776549</td>\n",
       "    </tr>\n",
       "    <tr>\n",
       "      <th>2018-01-26</th>\n",
       "      <td>80.300003</td>\n",
       "      <td>0.000000</td>\n",
       "      <td>0.000000</td>\n",
       "      <td>56.776549</td>\n",
       "    </tr>\n",
       "    <tr>\n",
       "      <th>2018-01-29</th>\n",
       "      <td>79.339996</td>\n",
       "      <td>0.000000</td>\n",
       "      <td>0.000000</td>\n",
       "      <td>56.776549</td>\n",
       "    </tr>\n",
       "    <tr>\n",
       "      <th>2018-01-30</th>\n",
       "      <td>78.269997</td>\n",
       "      <td>0.000000</td>\n",
       "      <td>0.000000</td>\n",
       "      <td>56.776549</td>\n",
       "    </tr>\n",
       "    <tr>\n",
       "      <th>2018-01-31</th>\n",
       "      <td>79.879997</td>\n",
       "      <td>0.000000</td>\n",
       "      <td>0.000000</td>\n",
       "      <td>62.004931</td>\n",
       "    </tr>\n",
       "    <tr>\n",
       "      <th>2018-02-01</th>\n",
       "      <td>76.010002</td>\n",
       "      <td>0.000000</td>\n",
       "      <td>0.000000</td>\n",
       "      <td>46.299349</td>\n",
       "    </tr>\n",
       "    <tr>\n",
       "      <th>2018-02-02</th>\n",
       "      <td>74.400002</td>\n",
       "      <td>0.000000</td>\n",
       "      <td>77.532000</td>\n",
       "      <td>41.230507</td>\n",
       "    </tr>\n",
       "    <tr>\n",
       "      <th>2018-02-05</th>\n",
       "      <td>72.510002</td>\n",
       "      <td>-0.022249</td>\n",
       "      <td>77.367000</td>\n",
       "      <td>35.854496</td>\n",
       "    </tr>\n",
       "    <tr>\n",
       "      <th>2018-02-06</th>\n",
       "      <td>73.529999</td>\n",
       "      <td>-0.039702</td>\n",
       "      <td>77.063000</td>\n",
       "      <td>40.721095</td>\n",
       "    </tr>\n",
       "    <tr>\n",
       "      <th>2018-02-07</th>\n",
       "      <td>72.160004</td>\n",
       "      <td>-0.072613</td>\n",
       "      <td>76.498000</td>\n",
       "      <td>36.394360</td>\n",
       "    </tr>\n",
       "    <tr>\n",
       "      <th>2018-02-08</th>\n",
       "      <td>69.150002</td>\n",
       "      <td>-0.120005</td>\n",
       "      <td>75.555000</td>\n",
       "      <td>28.603934</td>\n",
       "    </tr>\n",
       "    <tr>\n",
       "      <th>2018-02-09</th>\n",
       "      <td>70.480003</td>\n",
       "      <td>-0.122291</td>\n",
       "      <td>74.573000</td>\n",
       "      <td>35.699300</td>\n",
       "    </tr>\n",
       "    <tr>\n",
       "      <th>2018-02-12</th>\n",
       "      <td>71.099998</td>\n",
       "      <td>-0.103857</td>\n",
       "      <td>73.749001</td>\n",
       "      <td>38.996449</td>\n",
       "    </tr>\n",
       "    <tr>\n",
       "      <th>2018-02-13</th>\n",
       "      <td>71.309998</td>\n",
       "      <td>-0.088923</td>\n",
       "      <td>73.053001</td>\n",
       "      <td>40.208006</td>\n",
       "    </tr>\n",
       "    <tr>\n",
       "      <th>2018-02-14</th>\n",
       "      <td>73.660004</td>\n",
       "      <td>-0.077867</td>\n",
       "      <td>72.431001</td>\n",
       "      <td>52.519269</td>\n",
       "    </tr>\n",
       "    <tr>\n",
       "      <th>2018-02-15</th>\n",
       "      <td>74.400002</td>\n",
       "      <td>-0.021181</td>\n",
       "      <td>72.270001</td>\n",
       "      <td>55.858276</td>\n",
       "    </tr>\n",
       "    <tr>\n",
       "      <th>2018-02-16</th>\n",
       "      <td>73.510002</td>\n",
       "      <td>-0.011962</td>\n",
       "      <td>72.181001</td>\n",
       "      <td>50.841503</td>\n",
       "    </tr>\n",
       "    <tr>\n",
       "      <th>2018-02-20</th>\n",
       "      <td>74.589996</td>\n",
       "      <td>0.028686</td>\n",
       "      <td>72.389001</td>\n",
       "      <td>56.386893</td>\n",
       "    </tr>\n",
       "    <tr>\n",
       "      <th>2018-02-21</th>\n",
       "      <td>75.110001</td>\n",
       "      <td>0.021488</td>\n",
       "      <td>72.547001</td>\n",
       "      <td>58.985856</td>\n",
       "    </tr>\n",
       "    <tr>\n",
       "      <th>2018-02-22</th>\n",
       "      <td>75.519997</td>\n",
       "      <td>0.046563</td>\n",
       "      <td>72.883000</td>\n",
       "      <td>61.117228</td>\n",
       "    </tr>\n",
       "    <tr>\n",
       "      <th>2018-02-23</th>\n",
       "      <td>77.760002</td>\n",
       "      <td>0.124512</td>\n",
       "      <td>73.744000</td>\n",
       "      <td>70.792046</td>\n",
       "    </tr>\n",
       "    <tr>\n",
       "      <th>2018-02-26</th>\n",
       "      <td>78.080002</td>\n",
       "      <td>0.107832</td>\n",
       "      <td>74.504000</td>\n",
       "      <td>71.955068</td>\n",
       "    </tr>\n",
       "    <tr>\n",
       "      <th>2018-02-27</th>\n",
       "      <td>76.129997</td>\n",
       "      <td>0.070745</td>\n",
       "      <td>75.007000</td>\n",
       "      <td>56.079669</td>\n",
       "    </tr>\n",
       "    <tr>\n",
       "      <th>2018-02-28</th>\n",
       "      <td>74.849998</td>\n",
       "      <td>0.049642</td>\n",
       "      <td>75.361000</td>\n",
       "      <td>47.973984</td>\n",
       "    </tr>\n",
       "    <tr>\n",
       "      <th>2018-03-01</th>\n",
       "      <td>73.739998</td>\n",
       "      <td>0.001086</td>\n",
       "      <td>75.369000</td>\n",
       "      <td>41.853618</td>\n",
       "    </tr>\n",
       "    <tr>\n",
       "      <th>2018-03-02</th>\n",
       "      <td>72.690002</td>\n",
       "      <td>-0.022984</td>\n",
       "      <td>75.198000</td>\n",
       "      <td>36.688158</td>\n",
       "    </tr>\n",
       "    <tr>\n",
       "      <th>2018-03-05</th>\n",
       "      <td>73.440002</td>\n",
       "      <td>-0.000952</td>\n",
       "      <td>75.191000</td>\n",
       "      <td>42.592420</td>\n",
       "    </tr>\n",
       "    <tr>\n",
       "      <th>...</th>\n",
       "      <td>...</td>\n",
       "      <td>...</td>\n",
       "      <td>...</td>\n",
       "      <td>...</td>\n",
       "    </tr>\n",
       "    <tr>\n",
       "      <th>2018-12-06</th>\n",
       "      <td>63.860001</td>\n",
       "      <td>0.048777</td>\n",
       "      <td>64.400001</td>\n",
       "      <td>48.434581</td>\n",
       "    </tr>\n",
       "    <tr>\n",
       "      <th>2018-12-07</th>\n",
       "      <td>63.009998</td>\n",
       "      <td>0.013837</td>\n",
       "      <td>64.486000</td>\n",
       "      <td>43.437264</td>\n",
       "    </tr>\n",
       "    <tr>\n",
       "      <th>2018-12-10</th>\n",
       "      <td>62.230000</td>\n",
       "      <td>-0.002724</td>\n",
       "      <td>64.469000</td>\n",
       "      <td>39.116495</td>\n",
       "    </tr>\n",
       "    <tr>\n",
       "      <th>2018-12-11</th>\n",
       "      <td>62.570000</td>\n",
       "      <td>-0.027963</td>\n",
       "      <td>64.289000</td>\n",
       "      <td>42.048055</td>\n",
       "    </tr>\n",
       "    <tr>\n",
       "      <th>2018-12-12</th>\n",
       "      <td>62.820000</td>\n",
       "      <td>-0.020885</td>\n",
       "      <td>64.155000</td>\n",
       "      <td>44.346833</td>\n",
       "    </tr>\n",
       "    <tr>\n",
       "      <th>2018-12-13</th>\n",
       "      <td>62.759998</td>\n",
       "      <td>-0.040807</td>\n",
       "      <td>63.887999</td>\n",
       "      <td>43.859678</td>\n",
       "    </tr>\n",
       "    <tr>\n",
       "      <th>2018-12-14</th>\n",
       "      <td>62.009998</td>\n",
       "      <td>-0.037411</td>\n",
       "      <td>63.646999</td>\n",
       "      <td>37.803741</td>\n",
       "    </tr>\n",
       "    <tr>\n",
       "      <th>2018-12-17</th>\n",
       "      <td>60.080002</td>\n",
       "      <td>-0.084007</td>\n",
       "      <td>63.096000</td>\n",
       "      <td>26.725267</td>\n",
       "    </tr>\n",
       "    <tr>\n",
       "      <th>2018-12-18</th>\n",
       "      <td>59.119999</td>\n",
       "      <td>-0.115235</td>\n",
       "      <td>62.326000</td>\n",
       "      <td>22.840892</td>\n",
       "    </tr>\n",
       "    <tr>\n",
       "      <th>2018-12-19</th>\n",
       "      <td>57.700001</td>\n",
       "      <td>-0.109568</td>\n",
       "      <td>61.616000</td>\n",
       "      <td>18.260744</td>\n",
       "    </tr>\n",
       "    <tr>\n",
       "      <th>2018-12-20</th>\n",
       "      <td>56.709999</td>\n",
       "      <td>-0.111964</td>\n",
       "      <td>60.900999</td>\n",
       "      <td>15.700025</td>\n",
       "    </tr>\n",
       "    <tr>\n",
       "      <th>2018-12-21</th>\n",
       "      <td>55.650002</td>\n",
       "      <td>-0.116807</td>\n",
       "      <td>60.165000</td>\n",
       "      <td>13.359794</td>\n",
       "    </tr>\n",
       "    <tr>\n",
       "      <th>2018-12-24</th>\n",
       "      <td>55.709999</td>\n",
       "      <td>-0.104773</td>\n",
       "      <td>59.513000</td>\n",
       "      <td>14.204286</td>\n",
       "    </tr>\n",
       "    <tr>\n",
       "      <th>2018-12-26</th>\n",
       "      <td>57.900002</td>\n",
       "      <td>-0.074636</td>\n",
       "      <td>59.046000</td>\n",
       "      <td>39.370669</td>\n",
       "    </tr>\n",
       "    <tr>\n",
       "      <th>2018-12-27</th>\n",
       "      <td>57.970001</td>\n",
       "      <td>-0.077205</td>\n",
       "      <td>58.561000</td>\n",
       "      <td>40.026675</td>\n",
       "    </tr>\n",
       "    <tr>\n",
       "      <th>2018-12-28</th>\n",
       "      <td>58.349998</td>\n",
       "      <td>-0.070268</td>\n",
       "      <td>58.120000</td>\n",
       "      <td>43.872879</td>\n",
       "    </tr>\n",
       "    <tr>\n",
       "      <th>2018-12-31</th>\n",
       "      <td>57.939999</td>\n",
       "      <td>-0.065635</td>\n",
       "      <td>57.713000</td>\n",
       "      <td>40.595675</td>\n",
       "    </tr>\n",
       "    <tr>\n",
       "      <th>2019-01-02</th>\n",
       "      <td>57.490002</td>\n",
       "      <td>-0.043109</td>\n",
       "      <td>57.454000</td>\n",
       "      <td>37.051712</td>\n",
       "    </tr>\n",
       "    <tr>\n",
       "      <th>2019-01-03</th>\n",
       "      <td>55.529999</td>\n",
       "      <td>-0.060724</td>\n",
       "      <td>57.095000</td>\n",
       "      <td>25.665976</td>\n",
       "    </tr>\n",
       "    <tr>\n",
       "      <th>2019-01-04</th>\n",
       "      <td>58.720001</td>\n",
       "      <td>0.017678</td>\n",
       "      <td>57.197000</td>\n",
       "      <td>53.056857</td>\n",
       "    </tr>\n",
       "    <tr>\n",
       "      <th>2019-01-07</th>\n",
       "      <td>59.639999</td>\n",
       "      <td>0.051666</td>\n",
       "      <td>57.490000</td>\n",
       "      <td>58.234995</td>\n",
       "    </tr>\n",
       "    <tr>\n",
       "      <th>2019-01-08</th>\n",
       "      <td>61.040001</td>\n",
       "      <td>0.096855</td>\n",
       "      <td>58.029000</td>\n",
       "      <td>65.074605</td>\n",
       "    </tr>\n",
       "    <tr>\n",
       "      <th>2019-01-09</th>\n",
       "      <td>62.939999</td>\n",
       "      <td>0.129779</td>\n",
       "      <td>58.752000</td>\n",
       "      <td>72.265861</td>\n",
       "    </tr>\n",
       "    <tr>\n",
       "      <th>2019-01-10</th>\n",
       "      <td>63.110001</td>\n",
       "      <td>0.089983</td>\n",
       "      <td>59.273000</td>\n",
       "      <td>72.849428</td>\n",
       "    </tr>\n",
       "    <tr>\n",
       "      <th>2019-01-11</th>\n",
       "      <td>62.880001</td>\n",
       "      <td>0.084699</td>\n",
       "      <td>59.764000</td>\n",
       "      <td>70.507720</td>\n",
       "    </tr>\n",
       "    <tr>\n",
       "      <th>2019-01-14</th>\n",
       "      <td>62.290001</td>\n",
       "      <td>0.067524</td>\n",
       "      <td>60.158000</td>\n",
       "      <td>64.320092</td>\n",
       "    </tr>\n",
       "    <tr>\n",
       "      <th>2019-01-15</th>\n",
       "      <td>62.779999</td>\n",
       "      <td>0.083535</td>\n",
       "      <td>60.642000</td>\n",
       "      <td>67.116228</td>\n",
       "    </tr>\n",
       "    <tr>\n",
       "      <th>2019-01-16</th>\n",
       "      <td>63.889999</td>\n",
       "      <td>0.111324</td>\n",
       "      <td>61.282000</td>\n",
       "      <td>72.758359</td>\n",
       "    </tr>\n",
       "    <tr>\n",
       "      <th>2019-01-17</th>\n",
       "      <td>64.330002</td>\n",
       "      <td>0.158473</td>\n",
       "      <td>62.162000</td>\n",
       "      <td>74.761043</td>\n",
       "    </tr>\n",
       "    <tr>\n",
       "      <th>2019-01-18</th>\n",
       "      <td>64.639999</td>\n",
       "      <td>0.100817</td>\n",
       "      <td>62.754000</td>\n",
       "      <td>76.199241</td>\n",
       "    </tr>\n",
       "  </tbody>\n",
       "</table>\n",
       "<p>251 rows × 4 columns</p>\n",
       "</div>"
      ]
     },
     "execution_count": 12,
     "metadata": {},
     "output_type": "execute_result"
    }
   ],
   "source": [
    "normed.info()\n",
    "# Clean nan values\n",
    "normed = normed.fillna(0)\n",
    "\n",
    "# Sort dataframe by index\n",
    "normed.sort_index()"
   ]
  },
  {
   "cell_type": "code",
   "execution_count": 13,
   "metadata": {},
   "outputs": [
    {
     "name": "stdout",
     "output_type": "stream",
     "text": [
      "          Total  Percent\n",
      "RSI           0      0.0\n",
      "SMA           0      0.0\n",
      "Momentum      0      0.0\n",
      "AABA          0      0.0\n"
     ]
    }
   ],
   "source": [
    "#missing data\n",
    "total = normed.isnull().sum().sort_values(ascending=False)\n",
    "percent = (normed.isnull().sum()/normed.isnull().count()).sort_values(ascending=False)\n",
    "missing_data = pd.concat([total, percent], axis=1, keys=['Total', 'Percent'])\n",
    "missing_data.head(20)\n",
    "print(missing_data)"
   ]
  },
  {
   "cell_type": "code",
   "execution_count": 14,
   "metadata": {},
   "outputs": [
    {
     "name": "stdout",
     "output_type": "stream",
     "text": [
      "--------------- CORRELATIONS ---------------\n",
      "              AABA  Momentum       SMA       RSI\n",
      "AABA      1.000000  0.300007  0.187497  0.437419\n",
      "Momentum  0.300007  1.000000 -0.008723  0.847988\n",
      "SMA       0.187497 -0.008723  1.000000 -0.024710\n",
      "RSI       0.437419  0.847988 -0.024710  1.000000\n"
     ]
    }
   ],
   "source": [
    "corr_df = normed.corr(method='pearson')\n",
    "print(\"--------------- CORRELATIONS ---------------\")\n",
    "print(corr_df)\n",
    "\n",
    "# Define X and y\n",
    "feature_cols = ['Momentum', 'RSI']\n",
    "X = normed[feature_cols]\n",
    "y = normed[symbol]\n",
    "\n",
    "# split X and y into training and testing sets\n",
    "X_train, X_test, y_train, y_test = train_test_split(X, y, test_size=0.30, shuffle=False)"
   ]
  },
  {
   "cell_type": "markdown",
   "metadata": {},
   "source": [
    "# Decision Tree Regressor"
   ]
  },
  {
   "cell_type": "code",
   "execution_count": 15,
   "metadata": {},
   "outputs": [
    {
     "data": {
      "text/plain": [
       "\"\\n# Use only to get the best parameter for max_depth\\n# Loop through a few different max depths and check the performance\\nfor d in [3, 5, 10]:\\n    # Create the tree and fit it\\n    decision_tree = tree.DecisionTreeRegressor(max_depth=d)\\n    decision_tree.fit(X_train, y_train)\\n\\n    # Print out the scores on train and test\\n    print('max_depth=', str(d))\\n    print(decision_tree.score(X_train, y_train))\\n    print(decision_tree.score(X_test, y_test), '\\n')\\n\""
      ]
     },
     "execution_count": 142,
     "metadata": {},
     "output_type": "execute_result"
    },
    {
     "data": {
      "text/plain": [
       "\"\\n# Use only to get the best parameter for max_depth\\n# Loop through a few different max depths and check the performance\\nfor d in [3, 5, 10]:\\n    # Create the tree and fit it\\n    decision_tree = tree.DecisionTreeRegressor(max_depth=d)\\n    decision_tree.fit(X_train, y_train)\\n\\n    # Print out the scores on train and test\\n    print('max_depth=', str(d))\\n    print(decision_tree.score(X_train, y_train))\\n    print(decision_tree.score(X_test, y_test), '\\n')\\n\""
      ]
     },
     "execution_count": 15,
     "metadata": {},
     "output_type": "execute_result"
    }
   ],
   "source": [
    "'''\n",
    "# Use only to get the best parameter for max_depth\n",
    "# Loop through a few different max depths and check the performance\n",
    "for d in [3, 5, 10]:\n",
    "    # Create the tree and fit it\n",
    "    decision_tree = tree.DecisionTreeRegressor(max_depth=d)\n",
    "    decision_tree.fit(X_train, y_train)\n",
    "\n",
    "    # Print out the scores on train and test\n",
    "    print('max_depth=', str(d))\n",
    "    print(decision_tree.score(X_train, y_train))\n",
    "    print(decision_tree.score(X_test, y_test), '\\n')\n",
    "'''"
   ]
  },
  {
   "cell_type": "code",
   "execution_count": 16,
   "metadata": {},
   "outputs": [],
   "source": [
    "def model_fit_pred(X_train, y_train, X_test):\n",
    "    '''Fit a model and get predictions and metrics'''\n",
    "    \n",
    "    model.fit(X_train, y_train)\n",
    "\n",
    "    # Predictions\n",
    "    y_pred = model.predict(X_test)\n",
    "\n",
    "    # Measuring predictions\n",
    "\n",
    "    # Accuracy\n",
    "    scores = cross_val_score(model, X_test, y_test, cv=10)\n",
    "    print(\"Accuracy: %0.2f (+/- %0.2f)\" % (scores.mean(), scores.std() / 2))\n",
    "\n",
    "    # Coefficient of determination R^2\n",
    "    '''\n",
    "    The best possible score is 1.0 and it can be negative (because the model can be arbitrarily worse). A constant model that always predicts the expected value of y, disregarding the input features, would get a R^2 score of 0.0.\n",
    "    '''\n",
    "    coef_deter = model.score(X_train, y_train)\n",
    "    print('Coefficient of determination R^2: %s' % coef_deter)\n",
    "\n",
    "    # Forecast error\n",
    "    '''\n",
    "    The units of the forecast error are the same as the units of the prediction. A forecast error of zero indicates no error, or perfect skill for that forecast.\n",
    "    '''\n",
    "    forecast_errors = [y_test[i] - y_pred[i] for i in range(len(y_test))]\n",
    "    print('Forecast Errors: %s' % forecast_errors)\n",
    "\n",
    "    # Forecast bias\n",
    "    '''\n",
    "    Mean forecast error, also known as the forecast bias. A forecast bias of zero, or a very small number near zero, shows an unbiased model.\n",
    "    '''\n",
    "    bias = sum(forecast_errors) * 1.0 / len(y_test)\n",
    "    print('Bias: %f' % bias)\n",
    "\n",
    "    # Mean absolute error\n",
    "    '''\n",
    "    A mean absolute error of zero indicates no error.\n",
    "    '''\n",
    "    mae = metrics.mean_absolute_error(y_test, y_pred)\n",
    "    print('Mean Absolute Error:', metrics.mean_absolute_error(y_test, y_pred))\n",
    "\n",
    "    # Mean squared error\n",
    "    '''\n",
    "    A mean squared error of zero indicates perfect skill, or no error.\n",
    "    '''\n",
    "    mse = metrics.mean_squared_error(y_test, y_pred)\n",
    "    print('Mean Squared Error:', metrics.mean_squared_error(y_test, y_pred))\n",
    "\n",
    "    # Root mean squared error\n",
    "    '''\n",
    "    As with the mean squared error, an RMSE of zero indicates no error.\n",
    "    '''\n",
    "    rmse = np.sqrt(metrics.mean_squared_error(y_test, y_pred))\n",
    "    print('Root Mean Squared Error:', np.sqrt(metrics.mean_squared_error(y_test, y_pred)))\n",
    "\n",
    "    results = pd.DataFrame({'Price': y_test, 'Price prediction': y_pred})\n",
    "    results.sort_index(inplace=True)\n",
    "\n",
    "    return results, coef_deter, forecast_errors, bias, mae, mse, rmse"
   ]
  },
  {
   "cell_type": "markdown",
   "metadata": {},
   "source": [
    "## Creating the model"
   ]
  },
  {
   "cell_type": "code",
   "execution_count": 17,
   "metadata": {},
   "outputs": [
    {
     "name": "stdout",
     "output_type": "stream",
     "text": [
      "Accuracy: -5.77 (+/- 2.28)\n",
      "Coefficient of determination R^2: 0.9789414268921619\n",
      "Forecast Errors: [-5.514288714285726, -6.124289714285723, -2.8075007500000027, -7.669998333333339, 0.29000100000000373, -12.369998999999993, -5.520001000000001, -10.740002000000004, -9.220002000000001, -9.329997999999996, -9.550002999999997, -3.6899950000000032, -8.433335333333332, -10.420001999999997, -11.525002000000008, -11.310001, -18.270004999999998, -10.987500750000002, -9.317498749999999, -13.010002000000007, -11.610000000000007, -13.995003000000004, -10.130001499999992, -9.45999899999999, -13.53499949999999, -9.360000499999991, -6.190002999999997, -15.819999999999993, -5.45000000000001, -9.077500750000006, -12.804285714285726, -6.379997000000003, -5.65000100000001, -13.040001000000004, -8.72999999999999, -10.534285714285723, -8.190003000000011, -8.07999749999999, -13.61, -14.699996999999996, -4.189993999999999, -16.93000099999999, -10.690003000000004, -16.020004999999998, -10.70999900000001, -5.629997000000003, -8.894285714285722, -7.047502750000007, -17.390003, -10.610000000000007, -10.629996999999996, -6.3200040000000115, -9.905003000000008, -4.739997999999993, -10.030003, -11.450001, -12.440003000000004, -13.5, -17.419998000000007, -13.409995999999992, -13.33999699999999, -7.550004000000001, -13.369998999999993, -14.424999, -10.120003000000004, -16.544998499999984, -11.199997000000003, -15.459998999999996, -16.960003, -16.790000999999997, -13.619999, -20.069999999999993, -13.720001000000003, -16.010003000000005, -11.599998, -11.400002]\n",
      "Bias: -10.815820\n",
      "Mean Absolute Error: 10.823451282738096\n",
      "Mean Squared Error: 132.9381237888691\n",
      "Root Mean Squared Error: 11.529879608602558\n",
      "Accuracy: -5.33 (+/- 1.49)\n",
      "Coefficient of determination R^2: 0.9789414268921619\n",
      "Forecast Errors: [-5.514288714285712, -6.124289714285709, -2.8075007500000027, -7.669998333333339, -0.23999799999998572, -12.369998999999993, -5.520001000000001, -10.740002000000004, -9.220002000000001, -11.549999000000007, -9.550002999999997, -3.6899950000000032, -8.433335333333332, -10.420001999999997, -11.525002000000008, -11.310001, -18.819999999999993, -10.987500750000002, -9.317498749999999, -13.010002000000007, -11.610000000000007, -13.995003000000004, -10.130001499999992, -9.45999899999999, -13.53499949999999, -9.360000499999991, -6.190002999999997, -15.819999999999993, -5.45000000000001, -9.077500750000006, -12.804285714285712, -6.379997000000003, -5.65000100000001, -17.220001999999994, -8.72999999999999, -10.534285714285708, -8.190003000000011, -8.07999749999999, -13.61, -14.699996999999996, -4.189993999999999, -16.93000099999999, -10.690003000000004, -16.020004999999998, -10.70999900000001, -5.629997000000003, -8.894285714285708, -7.047502750000007, -17.939997999999996, -10.610000000000007, -10.629996999999996, -6.3200040000000115, -9.905003000000008, -4.209999000000003, -10.030003, -11.450001, -12.440003000000004, -13.5, -17.419998000000007, -13.409995999999992, -13.33999699999999, -10.730004000000008, -15.590000000000003, -14.424999, -10.120003000000004, -16.544998499999984, -11.199997000000003, -15.459998999999996, -16.960003, -16.790000999999997, -13.619999, -20.069999999999993, -13.720001000000003, -16.010003000000005, -11.599998, -11.400002]\n",
      "Bias: -10.985556\n",
      "Mean Absolute Error: 10.985556427474938\n",
      "Mean Squared Error: 137.2844758862371\n",
      "Root Mean Squared Error: 11.716845816440408\n"
     ]
    }
   ],
   "source": [
    "model = tree.DecisionTreeRegressor(max_depth=10)\n",
    "results, coef_deter, forecast_errors, bias, mae, mse, rmse = model_fit_pred(X_train, y_train, X_test)"
   ]
  },
  {
   "cell_type": "markdown",
   "metadata": {},
   "source": [
    "## Plotting predictioons"
   ]
  },
  {
   "cell_type": "code",
   "execution_count": 18,
   "metadata": {},
   "outputs": [
    {
     "data": {
      "image/png": "[encoded data removed]",
      "text/plain": [
       "<Figure size 864x576 with 1 Axes>"
      ]
     },
     "metadata": {},
     "output_type": "display_data"
    }
   ],
   "source": [
    "# Plot prediction\n",
    "plt.figure(figsize=(12,8))\n",
    "plt.plot(X_test.index, results['Price'], label='Price')\n",
    "plt.plot(X_test.index,results['Price prediction'], label='Prediction')\n",
    "plt.title(\"Forecast prices\")\n",
    "plt.legend()\n",
    "plt.grid()\n",
    "plt.show()"
   ]
  },
  {
   "cell_type": "markdown",
   "metadata": {},
   "source": [
    "# KNN Model"
   ]
  },
  {
   "cell_type": "markdown",
   "metadata": {},
   "source": [
    "## Creating the model"
   ]
  },
  {
   "cell_type": "code",
   "execution_count": 19,
   "metadata": {},
   "outputs": [
    {
     "name": "stdout",
     "output_type": "stream",
     "text": [
      "KNN: KNeighborsRegressor(algorithm='auto', leaf_size=30, metric='minkowski',\n",
      "          metric_params=None, n_jobs=None, n_neighbors=5, p=2,\n",
      "          weights='uniform')\n"
     ]
    }
   ],
   "source": [
    "params = {'n_neighbors': [2, 3, 4, 5, 6, 7, 8, 9, 10, 11, 12, 13, 14, 15]}\n",
    "knn = neighbors.KNeighborsRegressor()\n",
    "print('KNN: %s' % knn)\n",
    "model = GridSearchCV(knn, params, cv=5)"
   ]
  },
  {
   "cell_type": "code",
   "execution_count": 154,
   "metadata": {
    "collapsed": true
   },
   "outputs": [
    {
     "name": "stderr",
     "output_type": "stream",
     "text": [
      "/home/emi/miniconda3py37/lib/python3.7/site-packages/sklearn/model_selection/_search.py:841: DeprecationWarning:\n",
      "\n",
      "The default of the `iid` parameter will change from True to False in version 0.22 and will be removed in 0.24. This will change numeric results when test-set sizes are unequal.\n",
      "\n",
      "/home/emi/miniconda3py37/lib/python3.7/site-packages/sklearn/model_selection/_search.py:841: DeprecationWarning:\n",
      "\n",
      "The default of the `iid` parameter will change from True to False in version 0.22 and will be removed in 0.24. This will change numeric results when test-set sizes are unequal.\n",
      "\n",
      "/home/emi/miniconda3py37/lib/python3.7/site-packages/sklearn/model_selection/_search.py:841: DeprecationWarning:\n",
      "\n",
      "The default of the `iid` parameter will change from True to False in version 0.22 and will be removed in 0.24. This will change numeric results when test-set sizes are unequal.\n",
      "\n",
      "/home/emi/miniconda3py37/lib/python3.7/site-packages/sklearn/model_selection/_search.py:841: DeprecationWarning:\n",
      "\n",
      "The default of the `iid` parameter will change from True to False in version 0.22 and will be removed in 0.24. This will change numeric results when test-set sizes are unequal.\n",
      "\n",
      "/home/emi/miniconda3py37/lib/python3.7/site-packages/sklearn/model_selection/_search.py:841: DeprecationWarning:\n",
      "\n",
      "The default of the `iid` parameter will change from True to False in version 0.22 and will be removed in 0.24. This will change numeric results when test-set sizes are unequal.\n",
      "\n",
      "/home/emi/miniconda3py37/lib/python3.7/site-packages/sklearn/model_selection/_search.py:841: DeprecationWarning:\n",
      "\n",
      "The default of the `iid` parameter will change from True to False in version 0.22 and will be removed in 0.24. This will change numeric results when test-set sizes are unequal.\n",
      "\n",
      "/home/emi/miniconda3py37/lib/python3.7/site-packages/sklearn/model_selection/_search.py:841: DeprecationWarning:\n",
      "\n",
      "The default of the `iid` parameter will change from True to False in version 0.22 and will be removed in 0.24. This will change numeric results when test-set sizes are unequal.\n",
      "\n",
      "/home/emi/miniconda3py37/lib/python3.7/site-packages/sklearn/model_selection/_search.py:841: DeprecationWarning:\n",
      "\n",
      "The default of the `iid` parameter will change from True to False in version 0.22 and will be removed in 0.24. This will change numeric results when test-set sizes are unequal.\n",
      "\n",
      "/home/emi/miniconda3py37/lib/python3.7/site-packages/sklearn/model_selection/_search.py:841: DeprecationWarning:\n",
      "\n",
      "The default of the `iid` parameter will change from True to False in version 0.22 and will be removed in 0.24. This will change numeric results when test-set sizes are unequal.\n",
      "\n"
     ]
    },
    {
     "name": "stdout",
     "output_type": "stream",
     "text": [
      "Accuracy: -1.98 (+/- 1.82)\n",
      "Coefficient of determination R^2: 0.5956085745851487\n",
      "Forecast Errors: [-4.956670000000003, -4.946668333333335, -6.596664333333337, -5.983329999999995, -4.826665333333338, -6.046666666666667, -6.6066656666666645, -9.716665666666671, -10.620000666666677, -10.626666666666672, -11.466667333333326, -11.016662333333336, -9.540001666666669, -10.509998666666661, -8.953336333333347, -9.966666000000004, -9.97333566666667, -13.040000666666664, -10.483333333333334, -15.190002333333332, -14.063330999999998, -13.856669333333322, -12.066669000000005, -9.806665666666667, -12.826665999999996, -12.240001666666664, -9.219998999999994, -14.070002666666667, -8.669998999999997, -12.190001000000002, -15.409999333333332, -11.083333666666675, -11.086667333333331, -15.686668999999995, -8.900000333333324, -10.889999666666661, -13.416669666666671, -9.45333033333334, -8.543329333333332, -12.39333333333333, -11.806660666666659, -13.089999333333324, -11.340004000000008, -14.486671999999999, -11.136665000000008, -9.756662999999989, -10.156664333333318, -9.58333766666668, -6.899999666666666, -12.976666333333334, -11.170000333333341, -9.490002000000004, -7.333337333333347, -10.399999000000001, -9.816668, -10.426664666666667, -11.416666666666671, -12.476663666666667, -12.416666666666671, -11.229997666666662, -13.60666433333332, -13.900002, -13.636666333333338, -14.286665333333318, -15.02000166666668, -15.36666633333332, -14.696667999999995, -19.036666999999994, -13.956668666666658, -13.786666666666655, -14.903331666666666, -17.786666999999994, -15.740000333333334, -13.006668666666663, -15.453333333333333, -15.143336333333338]\n",
      "Bias: -11.495746\n",
      "Mean Absolute Error: 11.495745732456141\n",
      "Mean Squared Error: 141.00174050170054\n",
      "Root Mean Squared Error: 11.874415375154287\n"
     ]
    },
    {
     "name": "stderr",
     "output_type": "stream",
     "text": [
      "/home/emi/miniconda3py37/lib/python3.7/site-packages/sklearn/model_selection/_search.py:841: DeprecationWarning:\n",
      "\n",
      "The default of the `iid` parameter will change from True to False in version 0.22 and will be removed in 0.24. This will change numeric results when test-set sizes are unequal.\n",
      "\n"
     ]
    }
   ],
   "source": [
    "results, coef_deter, forecast_errors, bias, mae, mse, rmse = model_fit_pred(X_train, y_train, X_test)"
   ]
  },
  {
   "cell_type": "markdown",
   "metadata": {},
   "source": [
    "## Ploting predictions"
   ]
  },
  {
   "cell_type": "code",
   "execution_count": 20,
   "metadata": {},
   "outputs": [
    {
     "data": {
      "image/png": "[encoded data removed]",
      "text/plain": [
       "<Figure size 864x576 with 1 Axes>"
      ]
     },
     "metadata": {},
     "output_type": "display_data"
    }
   ],
   "source": [
    "# Plot prediction\n",
    "plt.figure(figsize=(12,8))\n",
    "plt.plot(X_test.index, results['Price'], label='Price')\n",
    "plt.plot(X_test.index,results['Price prediction'], label='Prediction')\n",
    "plt.title(\"Forecast prices\")\n",
    "plt.legend()\n",
    "plt.grid()\n",
    "plt.show()"
   ]
  },
  {
   "cell_type": "markdown",
   "metadata": {},
   "source": [
    "# ARIMA Model"
   ]
  },
  {
   "cell_type": "code",
   "execution_count": 21,
   "metadata": {},
   "outputs": [],
   "source": [
    "# evaluate an ARIMA model for a given order (p,d,q)\n",
    "def evaluate_arima_model(X, arima_order):\n",
    "    # prepare training dataset\n",
    "    train_size = int(len(X) * 0.66)\n",
    "    train, test = X[0:train_size], X[train_size:]\n",
    "    history = [x for x in train]\n",
    "    # make predictions\n",
    "    predictions = list()\n",
    "    for t in range(len(test)):\n",
    "        model = ARIMA(history, order=arima_order)\n",
    "        model_fit = model.fit(disp=0)\n",
    "        yhat = model_fit.forecast()[0]\n",
    "        predictions.append(yhat)\n",
    "        history.append(test[t])\n",
    "    # calculate out of sample error\n",
    "    error = mean_squared_error(test, predictions)\n",
    "    return error"
   ]
  },
  {
   "cell_type": "code",
   "execution_count": 22,
   "metadata": {},
   "outputs": [],
   "source": [
    "# evaluate combinations of p, d and q values for an ARIMA model\n",
    "def evaluate_models(dataset, p_values, d_values, q_values):\n",
    "    dataset = dataset.astype('float32')\n",
    "    best_score, best_cfg = float(\"inf\"), None\n",
    "    for p in p_values:\n",
    "        for d in d_values:\n",
    "            for q in q_values:\n",
    "                order = (p,d,q)\n",
    "                try:\n",
    "                    mse = evaluate_arima_model(dataset, order)\n",
    "                    if mse < best_score:\n",
    "                        best_score, best_cfg = mse, order\n",
    "                    print('ARIMA%s MSE=%.3f' % (order,mse))\n",
    "                except:\n",
    "                    continue\n",
    "    print('Best ARIMA%s MSE=%.3f' % (best_cfg, best_score))"
   ]
  },
  {
   "cell_type": "markdown",
   "metadata": {},
   "source": [
    "## Getting best parameters values"
   ]
  },
  {
   "cell_type": "code",
   "execution_count": 27,
   "metadata": {},
   "outputs": [
    {
     "name": "stdout",
     "output_type": "stream",
     "text": [
      "ARIMA(0, 0, 0) MSE=97.420\n",
      "ARIMA(0, 0, 1) MSE=29.873\n",
      "ARIMA(0, 1, 0) MSE=1.885\n",
      "ARIMA(0, 1, 1) MSE=1.864\n",
      "ARIMA(0, 1, 2) MSE=1.846\n",
      "ARIMA(0, 2, 0) MSE=3.310\n",
      "ARIMA(0, 2, 1) MSE=1.923\n",
      "ARIMA(0, 2, 2) MSE=1.898\n",
      "ARIMA(1, 0, 0) MSE=1.960\n",
      "ARIMA(1, 0, 2) MSE=1.934\n",
      "ARIMA(1, 1, 0) MSE=1.871\n",
      "ARIMA(1, 2, 0) MSE=3.047\n"
     ]
    }
   ],
   "source": [
    "# evaluate parameters\n",
    "series =  pd.Series(normed[symbol].values)\n",
    "p_values = [0, 1, 2, 4, 6, 8, 10]\n",
    "d_values = range(0, 3)\n",
    "q_values = range(0, 3)\n",
    "warnings.filterwarnings(\"ignore\")\n",
    "evaluate_models(series.values, p_values, d_values, q_values)"
   ]
  },
  {
   "cell_type": "markdown",
   "metadata": {},
   "source": [
    "## Fitting model and plotting"
   ]
  },
  {
   "cell_type": "code",
   "execution_count": 85,
   "metadata": {},
   "outputs": [
    {
     "name": "stdout",
     "output_type": "stream",
     "text": [
      "predicted=64.375608, expected=62.480000\n",
      "predicted=63.232771, expected=60.980000\n",
      "predicted=61.705952, expected=59.950001\n",
      "predicted=60.655295, expected=61.209999\n",
      "predicted=61.921743, expected=62.279999\n",
      "predicted=62.995861, expected=64.389999\n",
      "predicted=65.121704, expected=63.590000\n",
      "predicted=64.304494, expected=62.220001\n",
      "predicted=62.911334, expected=60.889999\n",
      "predicted=61.559120, expected=62.150002\n",
      "predicted=62.825546, expected=62.400002\n",
      "predicted=63.070970, expected=64.370003\n",
      "predicted=65.054790, expected=64.160004\n",
      "predicted=64.835372, expected=65.430000\n",
      "predicted=66.111563, expected=64.419998\n",
      "predicted=65.084122, expected=65.589996\n",
      "predicted=66.259282, expected=66.820000\n",
      "predicted=67.494949, expected=64.800003\n",
      "predicted=65.448003, expected=63.860001\n",
      "predicted=64.492278, expected=63.009998\n",
      "predicted=63.627743, expected=62.230000\n",
      "predicted=62.834175, expected=62.570000\n",
      "predicted=63.171635, expected=62.820000\n",
      "predicted=63.418286, expected=62.759998\n",
      "predicted=63.352073, expected=62.009998\n",
      "predicted=62.589531, expected=60.080002\n",
      "predicted=60.636298, expected=59.119999\n",
      "predicted=59.662384, expected=57.700001\n",
      "predicted=58.224547, expected=56.709999\n",
      "predicted=57.220900, expected=55.650002\n",
      "predicted=56.146877, expected=55.709999\n",
      "predicted=56.203008, expected=57.900002\n",
      "predicted=58.407897, expected=57.970001\n",
      "predicted=58.474088, expected=58.349998\n",
      "predicted=58.853015, expected=57.939999\n",
      "predicted=58.435213, expected=57.490002\n",
      "predicted=57.977205, expected=55.529999\n",
      "predicted=55.996638, expected=58.720001\n",
      "predicted=59.209334, expected=59.639999\n",
      "predicted=60.132892, expected=61.040001\n",
      "predicted=61.540329, expected=62.939999\n",
      "predicted=63.451706, expected=63.110001\n",
      "predicted=63.618953, expected=62.880001\n",
      "Test MSE: 2.031\n"
     ]
    },
    {
     "data": {
      "image/png": "[encoded data removed]",
      "text/plain": [
       "<Figure size 432x288 with 1 Axes>"
      ]
     },
     "metadata": {},
     "output_type": "display_data"
    }
   ],
   "source": [
    "\n",
    "\n",
    "X = series.values\n",
    "size = int(len(X) * 0.66)\n",
    "train, test = X[0:size], X[size:len(X)]\n",
    "history = [x for x in train]\n",
    "predictions = list()\n",
    "for t in range(len(test)):\n",
    "    model = ARIMA(history, order=(0,1,0))\n",
    "    model_fit = model.fit(disp=0)\n",
    "    output = model_fit.forecast()\n",
    "    yhat = output[0]\n",
    "    predictions.append(yhat)\n",
    "    obs = test[t]\n",
    "    history.append(obs)\n",
    "    print('predicted=%f, expected=%f' % (yhat, obs))\n",
    "error = mean_squared_error(test, predictions)\n",
    "print('Test MSE: %.3f' % error)\n",
    "# plot\n",
    "plt.plot(test)\n",
    "plt.plot(predictions, color='red')\n",
    "plt.title(\"ARIMA Rolling Forecast Line Plot\")\n",
    "plt.show()"
   ]
  },
  {
   "cell_type": "markdown",
   "metadata": {},
   "source": [
    "## Showing summary"
   ]
  },
  {
   "cell_type": "code",
   "execution_count": 95,
   "metadata": {},
   "outputs": [
    {
     "name": "stdout",
     "output_type": "stream",
     "text": [
      "                             ARIMA Model Results                              \n",
      "==============================================================================\n",
      "Dep. Variable:                    D.y   No. Observations:                  124\n",
      "Model:                 ARIMA(0, 1, 0)   Log Likelihood                -414.017\n",
      "Method:                           css   S.D. of innovations              6.820\n",
      "Date:                Thu, 17 Jan 2019   AIC                            832.033\n",
      "Time:                        20:46:10   BIC                            837.674\n",
      "Sample:                             1   HQIC                           834.324\n",
      "                                                                              \n",
      "==============================================================================\n",
      "                 coef    std err          z      P>|z|      [0.025      0.975]\n",
      "------------------------------------------------------------------------------\n",
      "const          0.5090      0.612      0.831      0.408      -0.691       1.709\n",
      "==============================================================================\n"
     ]
    },
    {
     "data": {
      "image/png": "[encoded data removed]",
      "text/plain": [
       "<Figure size 432x288 with 1 Axes>"
      ]
     },
     "metadata": {},
     "output_type": "display_data"
    },
    {
     "data": {
      "image/png": "[encoded data removed]",
      "text/plain": [
       "<Figure size 432x288 with 1 Axes>"
      ]
     },
     "metadata": {},
     "output_type": "display_data"
    },
    {
     "name": "stdout",
     "output_type": "stream",
     "text": [
      "                  0\n",
      "count  1.240000e+02\n",
      "mean   9.463756e-16\n",
      "std    6.847974e+00\n",
      "min   -3.848948e+00\n",
      "25%   -1.543951e+00\n",
      "50%   -7.589516e-01\n",
      "75%    5.510471e-01\n",
      "max    7.415105e+01\n"
     ]
    }
   ],
   "source": [
    "print(model_fit.summary())\n",
    "# plot residual errors\n",
    "residuals = DataFrame(model_fit.resid)\n",
    "residuals.plot()\n",
    "plt.title(\"ARMA Fit Residual Error Line Plot\")\n",
    "plt.show()\n",
    "residuals.plot(kind='kde')\n",
    "plt.title(\"ARMA Fit Residual Error Density Plot\")\n",
    "plt.grid(\"on\")\n",
    "plt.show()\n",
    "print(residuals.describe())"
   ]
  },
  {
   "cell_type": "markdown",
   "metadata": {},
   "source": [
    "## RMS"
   ]
  },
  {
   "cell_type": "code",
   "execution_count": 86,
   "metadata": {},
   "outputs": [
    {
     "name": "stdout",
     "output_type": "stream",
     "text": [
      "RMS:  8.644035506873553\n"
     ]
    }
   ],
   "source": [
    "rms=np.sqrt(np.mean(np.power((np.array(history)-np.array(predictions)),2)))\n",
    "print('RMS: ', rms)"
   ]
  },
  {
   "cell_type": "markdown",
   "metadata": {},
   "source": [
    "## Saving an ARIMA Time Series Forecasting Model\n",
    "\n",
    "The statsmodels library provides an implementation of ARIMA for use in Python. ARIMA models can be saved to file for later use in making predictions on new data. There is a bug in the earlier versions to 0.9 of the statsmodels library that prevents saved models from being loaded.\n"
   ]
  },
  {
   "cell_type": "code",
   "execution_count": 87,
   "metadata": {},
   "outputs": [
    {
     "name": "stdout",
     "output_type": "stream",
     "text": [
      "statsmodels: 0.9.0\n"
     ]
    }
   ],
   "source": [
    "print('statsmodels: %s' % statsmodels.__version__)"
   ]
  },
  {
   "cell_type": "code",
   "execution_count": 88,
   "metadata": {},
   "outputs": [],
   "source": [
    "# save model\n",
    "model_fit.save('arima_model.pkl')\n"
   ]
  },
  {
   "cell_type": "markdown",
   "metadata": {},
   "source": [
    "## Loading a model and predicting future prices"
   ]
  },
  {
   "cell_type": "code",
   "execution_count": 5,
   "metadata": {},
   "outputs": [
    {
     "name": "stderr",
     "output_type": "stream",
     "text": [
      "/home/emi/miniconda3/envs/factors/lib/python3.6/site-packages/scipy/signal/signaltools.py:1344: FutureWarning:\n",
      "\n",
      "Using a non-tuple sequence for multidimensional indexing is deprecated; use `arr[tuple(seq)]` instead of `arr[seq]`. In the future this will be interpreted as an array index, `arr[np.array(seq)]`, which will result either in an error or a different result.\n",
      "\n"
     ]
    }
   ],
   "source": [
    "# load model\n",
    "loaded = ARIMAResults.load('arima_model.pkl')\n",
    "lookback_date = dt.date.today() - dt.timedelta(180)\n",
    "start_d = dt.date.today()\n",
    "#start_d = dt.datetime.strptime(start_d, '%Y-%m-%d')\n",
    "\n",
    "end_d = dt.date.today() + dt.timedelta(7)\n",
    "#end_d = dt.datetime.strptime(end_d, '%Y-%m-%d')\n",
    "\n",
    "# Calculate steps\n",
    "days = (end_d - start_d).days\n",
    "forecast = loaded.forecast(steps=days)[0] \n",
    "\n",
    "# Setting dates for dataframe\n",
    "dates = pd.date_range(start_d, periods=days)\n",
    "\n",
    "\n",
    "df=pd.DataFrame(forecast)\n",
    "df['Dates'] = dates\n",
    "df.set_index('Dates', inplace=True)\n",
    "df.rename(columns = {0:'Price'}, inplace=True)\n"
   ]
  },
  {
   "cell_type": "markdown",
   "metadata": {},
   "source": [
    "## Plotting predictions"
   ]
  },
  {
   "cell_type": "code",
   "execution_count": 16,
   "metadata": {},
   "outputs": [],
   "source": [
    "dates = pd.date_range(lookback_date, dt.date.today())\n",
    "df_prices = slice_df(portf_value, dates)\n"
   ]
  },
  {
   "cell_type": "code",
   "execution_count": 1,
   "metadata": {},
   "outputs": [
    {
     "ename": "NameError",
     "evalue": "name 'plt' is not defined",
     "output_type": "error",
     "traceback": [
      "\u001b[0;31m---------------------------------------------------------------------------\u001b[0m",
      "\u001b[0;31mNameError\u001b[0m                                 Traceback (most recent call last)",
      "\u001b[0;32m<ipython-input-1-c616f4760ebf>\u001b[0m in \u001b[0;36m<module>\u001b[0;34m\u001b[0m\n\u001b[1;32m      1\u001b[0m \u001b[0;31m# plot\u001b[0m\u001b[0;34m\u001b[0m\u001b[0;34m\u001b[0m\u001b[0;34m\u001b[0m\u001b[0m\n\u001b[0;32m----> 2\u001b[0;31m \u001b[0mplt\u001b[0m\u001b[0;34m.\u001b[0m\u001b[0mfigure\u001b[0m\u001b[0;34m(\u001b[0m\u001b[0mfigsize\u001b[0m\u001b[0;34m=\u001b[0m\u001b[0;34m(\u001b[0m\u001b[0;36m12\u001b[0m\u001b[0;34m,\u001b[0m\u001b[0;36m8\u001b[0m\u001b[0;34m)\u001b[0m\u001b[0;34m)\u001b[0m\u001b[0;34m\u001b[0m\u001b[0;34m\u001b[0m\u001b[0m\n\u001b[0m\u001b[1;32m      3\u001b[0m \u001b[0mplt\u001b[0m\u001b[0;34m.\u001b[0m\u001b[0mplot\u001b[0m\u001b[0;34m(\u001b[0m\u001b[0mdf_prices\u001b[0m\u001b[0;34m.\u001b[0m\u001b[0mindex\u001b[0m\u001b[0;34m,\u001b[0m \u001b[0mdf_prices\u001b[0m\u001b[0;34m[\u001b[0m\u001b[0;34m'Adj Close'\u001b[0m\u001b[0;34m]\u001b[0m\u001b[0;34m,\u001b[0m \u001b[0mlabel\u001b[0m\u001b[0;34m=\u001b[0m\u001b[0;34m'Price'\u001b[0m\u001b[0;34m)\u001b[0m\u001b[0;34m\u001b[0m\u001b[0;34m\u001b[0m\u001b[0m\n\u001b[1;32m      4\u001b[0m \u001b[0mplt\u001b[0m\u001b[0;34m.\u001b[0m\u001b[0mplot\u001b[0m\u001b[0;34m(\u001b[0m\u001b[0mdf\u001b[0m\u001b[0;34m,\u001b[0m \u001b[0mlabel\u001b[0m\u001b[0;34m=\u001b[0m\u001b[0;34m'Prediction'\u001b[0m\u001b[0;34m)\u001b[0m\u001b[0;34m\u001b[0m\u001b[0;34m\u001b[0m\u001b[0m\n\u001b[1;32m      5\u001b[0m \u001b[0mplt\u001b[0m\u001b[0;34m.\u001b[0m\u001b[0mlegend\u001b[0m\u001b[0;34m(\u001b[0m\u001b[0;34m)\u001b[0m\u001b[0;34m\u001b[0m\u001b[0;34m\u001b[0m\u001b[0m\n",
      "\u001b[0;31mNameError\u001b[0m: name 'plt' is not defined"
     ]
    }
   ],
   "source": [
    "# plot\n",
    "plt.figure(figsize=(12,8))\n",
    "plt.plot(df_prices.index, df_prices['Adj Close'], label='Price')\n",
    "plt.plot(df, label='Prediction')\n",
    "plt.legend()\n"
   ]
  },
  {
   "cell_type": "code",
   "execution_count": 18,
   "metadata": {},
   "outputs": [
    {
     "data": {
      "image/png": "[encoded data removed]",
      "text/plain": [
       "<Figure size 432x288 with 1 Axes>"
      ]
     },
     "metadata": {
      "needs_background": "light"
     },
     "output_type": "display_data"
    }
   ],
   "source": [
    "\n",
    "\n",
    "plot_acf(df['Price'])\n",
    "plt.grid(True)\n",
    "plt.xlabel(\"Lags\")\n",
    "plt.ylabel(\"Autocorrelation\")\n",
    "plt.show()"
   ]
  },
  {
   "cell_type": "markdown",
   "metadata": {},
   "source": [
    "# LSTM Long Short-Term Memory\n",
    "\n",
    "LSTMs are widely used for sequence prediction problems and have proven to be extremely effective. The reason they work so well is because LSTM is able to store past information that is important, and forget the information that is not. LSTM has three gates:\n",
    "\n",
    "    The input gate: The input gate adds information to the cell state\n",
    "    The forget gate: It removes the information that is no longer required by the model\n",
    "    The output gate: Output Gate at LSTM selects the information to be shown as output\n"
   ]
  },
  {
   "cell_type": "code",
   "execution_count": 57,
   "metadata": {},
   "outputs": [
    {
     "name": "stdout",
     "output_type": "stream",
     "text": [
      "251\n"
     ]
    }
   ],
   "source": [
    "n = len(portf_value) * 60 / 100\n",
    "print(len(portf_value))\n",
    "\n",
    "#creating train and test sets\n",
    "dataset = portf_value.values\n",
    "\n",
    "train_data = dataset[:250]\n",
    "test_data = dataset[250:]\n"
   ]
  },
  {
   "cell_type": "code",
   "execution_count": 63,
   "metadata": {},
   "outputs": [],
   "source": [
    "# Scale the data to be between 0 and 1\n",
    "# When scaling remember! You normalize both test and train data with respect to training data\n",
    "# Because you are not supposed to have access to test data\n",
    "scaler = MinMaxScaler()\n",
    "train_data = train_data.reshape(-1,1)\n",
    "test_data = test_data.reshape(-1,1)"
   ]
  },
  {
   "cell_type": "code",
   "execution_count": 64,
   "metadata": {},
   "outputs": [
    {
     "name": "stdout",
     "output_type": "stream",
     "text": [
      "[[64.639999]]\n"
     ]
    }
   ],
   "source": [
    "print(test_data)"
   ]
  },
  {
   "cell_type": "code",
   "execution_count": 66,
   "metadata": {},
   "outputs": [],
   "source": [
    "# Train the Scaler with training data and smooth data\n",
    "smoothing_window_size = 10\n",
    "for di in range(0,200,smoothing_window_size):\n",
    "    scaler.fit(train_data[di:di+smoothing_window_size,:])\n",
    "    train_data[di:di+smoothing_window_size,:] = scaler.transform(train_data[di:di+smoothing_window_size,:])\n",
    "\n",
    "# You normalize the last bit of remaining data\n",
    "scaler.fit(train_data[di+smoothing_window_size:,:])\n",
    "train_data[di+smoothing_window_size:,:] = scaler.transform(train_data[di+smoothing_window_size:,:])"
   ]
  },
  {
   "cell_type": "code",
   "execution_count": 67,
   "metadata": {},
   "outputs": [],
   "source": [
    "# Reshape both train and test data\n",
    "train_data = train_data.reshape(-1)\n",
    "\n",
    "# Normalize test data\n",
    "test_data = scaler.transform(test_data).reshape(-1)"
   ]
  },
  {
   "cell_type": "code",
   "execution_count": 69,
   "metadata": {},
   "outputs": [],
   "source": [
    "# Now perform exponential moving average smoothing\n",
    "# So the data will have a smoother curve than the original ragged data\n",
    "EMA = 0.0\n",
    "gamma = 0.1\n",
    "for ti in range(250):\n",
    "  EMA = gamma*train_data[ti] + (1-gamma)*EMA\n",
    "  train_data[ti] = EMA\n",
    "\n",
    "# Used for visualization and test purposes\n",
    "all_mid_data = np.concatenate([train_data,test_data],axis=0)"
   ]
  },
  {
   "cell_type": "code",
   "execution_count": 72,
   "metadata": {},
   "outputs": [
    {
     "name": "stdout",
     "output_type": "stream",
     "text": [
      "MSE error for standard averaging: 0.00081\n"
     ]
    }
   ],
   "source": [
    "window_size = 10\n",
    "N = train_data.size\n",
    "std_avg_predictions = []\n",
    "std_avg_x = []\n",
    "mse_errors = []\n",
    "\n",
    "for pred_idx in range(window_size,N):\n",
    "\n",
    "    if pred_idx >= N:\n",
    "        date = dt.datetime.strptime(k, '%Y-%m-%d').date() + dt.timedelta(days=1)\n",
    "    else:\n",
    "        #date = portf_value.loc[pred_idx,'Date']\n",
    "        date = portf_value[portf_value.index == pred_idx]\n",
    "\n",
    "    std_avg_predictions.append(np.mean(train_data[pred_idx-window_size:pred_idx]))\n",
    "    mse_errors.append((std_avg_predictions[-1]-train_data[pred_idx])**2)\n",
    "    std_avg_x.append(date)\n",
    "\n",
    "print('MSE error for standard averaging: %.5f'%(0.5*np.mean(mse_errors)))"
   ]
  },
  {
   "cell_type": "code",
   "execution_count": 73,
   "metadata": {},
   "outputs": [
    {
     "data": {
      "image/png": "[encoded data removed]",
      "text/plain": [
       "<Figure size 1296x648 with 1 Axes>"
      ]
     },
     "metadata": {
      "needs_background": "light"
     },
     "output_type": "display_data"
    }
   ],
   "source": [
    "plt.figure(figsize = (18,9))\n",
    "plt.plot(range(portf_value.shape[0]),all_mid_data,color='b',label='True')\n",
    "plt.plot(range(window_size,N),std_avg_predictions,color='orange',label='Prediction')\n",
    "#plt.xticks(range(0,df.shape[0],50),df['Date'].loc[::50],rotation=45)\n",
    "plt.xlabel('Date')\n",
    "plt.ylabel('Mid Price')\n",
    "plt.legend(fontsize=18)\n",
    "plt.show()"
   ]
  },
  {
   "cell_type": "markdown",
   "metadata": {},
   "source": [
    "# Introduction to LSTMs: Making Stock Movement Predictions Far into the Future"
   ]
  },
  {
   "cell_type": "code",
   "execution_count": 85,
   "metadata": {},
   "outputs": [
    {
     "name": "stdout",
     "output_type": "stream",
     "text": [
      "251\n"
     ]
    }
   ],
   "source": [
    "n = len(portf_value) * 60 / 100\n",
    "print(len(portf_value))\n",
    "\n",
    "#creating train and test sets\n",
    "dataset = portf_value.values\n",
    "\n",
    "train_data = dataset[:250]\n",
    "test_data = dataset[250:]"
   ]
  },
  {
   "cell_type": "code",
   "execution_count": 74,
   "metadata": {},
   "outputs": [
    {
     "name": "stdout",
     "output_type": "stream",
     "text": [
      "\n",
      "\n",
      "Unrolled index 0\n",
      "\tInputs:  [0.         0.4666346  0.58921784 0.4472664  0.58246535]\n",
      "\n",
      "\tOutput: [0.02743694 0.45790228 0.58921784 0.45677367 0.5704677 ]\n",
      "\n",
      "\n",
      "Unrolled index 1\n",
      "\tInputs:  [0.00392508 0.4615038  0.5980448  0.45119736 0.5747377 ]\n",
      "\n",
      "\tOutput: [0.04884859 0.45040604 0.62119424 0.45119736 0.5747377 ]\n",
      "\n",
      "\n",
      "Unrolled index 2\n",
      "\tInputs:  [0.01300975 0.45790228 0.60921425 0.452872   0.572731  ]\n",
      "\n",
      "\tOutput: [0.10057846 0.44234413 0.60921425 0.452872   0.56631494]\n",
      "\n",
      "\n",
      "Unrolled index 3\n",
      "\tInputs:  [0.02743694 0.45040604 0.62119424 0.45677367 0.5735043 ]\n",
      "\n",
      "\tOutput: [0.07414001 0.45040604 0.6454323  0.47685814 0.5659872 ]\n",
      "\n",
      "\n",
      "Unrolled index 4\n",
      "\tInputs:  [0.04884859 0.44234413 0.6338735  0.46536627 0.5704677 ]\n",
      "\n",
      "\tOutput: [0.15609127 0.45458728 0.6749511  0.46536627 0.56238174]\n"
     ]
    }
   ],
   "source": [
    "class DataGeneratorSeq(object):\n",
    "\n",
    "    def __init__(self,prices,batch_size,num_unroll):\n",
    "        self._prices = prices\n",
    "        self._prices_length = len(self._prices) - num_unroll\n",
    "        self._batch_size = batch_size\n",
    "        self._num_unroll = num_unroll\n",
    "        self._segments = self._prices_length //self._batch_size\n",
    "        self._cursor = [offset * self._segments for offset in range(self._batch_size)]\n",
    "\n",
    "    def next_batch(self):\n",
    "\n",
    "        batch_data = np.zeros((self._batch_size),dtype=np.float32)\n",
    "        batch_labels = np.zeros((self._batch_size),dtype=np.float32)\n",
    "\n",
    "        for b in range(self._batch_size):\n",
    "            if self._cursor[b]+1>=self._prices_length:\n",
    "                #self._cursor[b] = b * self._segments\n",
    "                self._cursor[b] = np.random.randint(0,(b+1)*self._segments)\n",
    "\n",
    "            batch_data[b] = self._prices[self._cursor[b]]\n",
    "            batch_labels[b]= self._prices[self._cursor[b]+np.random.randint(0,5)]\n",
    "\n",
    "            self._cursor[b] = (self._cursor[b]+1)%self._prices_length\n",
    "\n",
    "        return batch_data,batch_labels\n",
    "\n",
    "    def unroll_batches(self):\n",
    "\n",
    "        unroll_data,unroll_labels = [],[]\n",
    "        init_data, init_label = None,None\n",
    "        for ui in range(self._num_unroll):\n",
    "\n",
    "            data, labels = self.next_batch()    \n",
    "\n",
    "            unroll_data.append(data)\n",
    "            unroll_labels.append(labels)\n",
    "\n",
    "        return unroll_data, unroll_labels\n",
    "\n",
    "    def reset_indices(self):\n",
    "        for b in range(self._batch_size):\n",
    "            self._cursor[b] = np.random.randint(0,min((b+1)*self._segments,self._prices_length-1))\n",
    "\n",
    "\n",
    "\n",
    "dg = DataGeneratorSeq(train_data,5,5)\n",
    "u_data, u_labels = dg.unroll_batches()\n",
    "\n",
    "for ui,(dat,lbl) in enumerate(zip(u_data,u_labels)):   \n",
    "    print('\\n\\nUnrolled index %d'%ui)\n",
    "    dat_ind = dat\n",
    "    lbl_ind = lbl\n",
    "    print('\\tInputs: ',dat )\n",
    "    print('\\n\\tOutput:',lbl)"
   ]
  },
  {
   "cell_type": "markdown",
   "metadata": {},
   "source": [
    "## Defining Hyperparameters"
   ]
  },
  {
   "cell_type": "code",
   "execution_count": 77,
   "metadata": {},
   "outputs": [],
   "source": [
    "D = 1 # Dimensionality of the data. Since your data is 1-D this would be 1\n",
    "num_unrollings = 50 # Number of time steps you look into the future.\n",
    "batch_size = 500 # Number of samples in a batch\n",
    "num_nodes = [200,200,150] # Number of hidden nodes in each layer of the deep LSTM stack we're using\n",
    "n_layers = len(num_nodes) # number of layers\n",
    "dropout = 0.2 # dropout amount\n",
    "\n",
    "tf.reset_default_graph() # This is important in case you run this multiple times"
   ]
  },
  {
   "cell_type": "markdown",
   "metadata": {},
   "source": [
    "## Defining Inputs and Outputs"
   ]
  },
  {
   "cell_type": "code",
   "execution_count": 78,
   "metadata": {},
   "outputs": [],
   "source": [
    "# Input data.\n",
    "train_inputs, train_outputs = [],[]\n",
    "\n",
    "# You unroll the input over time defining placeholders for each time step\n",
    "for ui in range(num_unrollings):\n",
    "    train_inputs.append(tf.placeholder(tf.float32, shape=[batch_size,D],name='train_inputs_%d'%ui))\n",
    "    train_outputs.append(tf.placeholder(tf.float32, shape=[batch_size,1], name = 'train_outputs_%d'%ui))"
   ]
  },
  {
   "cell_type": "markdown",
   "metadata": {},
   "source": [
    "## Defining Parameters of the LSTM and Regression layer"
   ]
  },
  {
   "cell_type": "code",
   "execution_count": 79,
   "metadata": {},
   "outputs": [],
   "source": [
    "lstm_cells = [\n",
    "    tf.contrib.rnn.LSTMCell(num_units=num_nodes[li],\n",
    "                            state_is_tuple=True,\n",
    "                            initializer= tf.contrib.layers.xavier_initializer()\n",
    "                           )\n",
    " for li in range(n_layers)]\n",
    "\n",
    "drop_lstm_cells = [tf.contrib.rnn.DropoutWrapper(\n",
    "    lstm, input_keep_prob=1.0,output_keep_prob=1.0-dropout, state_keep_prob=1.0-dropout\n",
    ") for lstm in lstm_cells]\n",
    "drop_multi_cell = tf.contrib.rnn.MultiRNNCell(drop_lstm_cells)\n",
    "multi_cell = tf.contrib.rnn.MultiRNNCell(lstm_cells)\n",
    "\n",
    "w = tf.get_variable('w',shape=[num_nodes[-1], 1], initializer=tf.contrib.layers.xavier_initializer())\n",
    "b = tf.get_variable('b',initializer=tf.random_uniform([1],-0.1,0.1))"
   ]
  },
  {
   "cell_type": "markdown",
   "metadata": {},
   "source": [
    "## Calculating LSTM output and Feeding it to the regression layer to get final prediction"
   ]
  },
  {
   "cell_type": "code",
   "execution_count": 80,
   "metadata": {},
   "outputs": [],
   "source": [
    "# Create cell state and hidden state variables to maintain the state of the LSTM\n",
    "c, h = [],[]\n",
    "initial_state = []\n",
    "for li in range(n_layers):\n",
    "  c.append(tf.Variable(tf.zeros([batch_size, num_nodes[li]]), trainable=False))\n",
    "  h.append(tf.Variable(tf.zeros([batch_size, num_nodes[li]]), trainable=False))\n",
    "  initial_state.append(tf.contrib.rnn.LSTMStateTuple(c[li], h[li]))\n",
    "\n",
    "# Do several tensor transofmations, because the function dynamic_rnn requires the output to be of\n",
    "# a specific format. Read more at: https://www.tensorflow.org/api_docs/python/tf/nn/dynamic_rnn\n",
    "all_inputs = tf.concat([tf.expand_dims(t,0) for t in train_inputs],axis=0)\n",
    "\n",
    "# all_outputs is [seq_length, batch_size, num_nodes]\n",
    "all_lstm_outputs, state = tf.nn.dynamic_rnn(\n",
    "    drop_multi_cell, all_inputs, initial_state=tuple(initial_state),\n",
    "    time_major = True, dtype=tf.float32)\n",
    "\n",
    "all_lstm_outputs = tf.reshape(all_lstm_outputs, [batch_size*num_unrollings,num_nodes[-1]])\n",
    "\n",
    "all_outputs = tf.nn.xw_plus_b(all_lstm_outputs,w,b)\n",
    "\n",
    "split_outputs = tf.split(all_outputs,num_unrollings,axis=0)"
   ]
  },
  {
   "cell_type": "markdown",
   "metadata": {},
   "source": [
    "## Loss Calculation and Optimizer"
   ]
  },
  {
   "cell_type": "code",
   "execution_count": 81,
   "metadata": {},
   "outputs": [
    {
     "name": "stdout",
     "output_type": "stream",
     "text": [
      "Defining training Loss\n",
      "Learning rate decay operations\n",
      "TF Optimization operations\n",
      "\tAll done\n"
     ]
    }
   ],
   "source": [
    "# When calculating the loss you need to be careful about the exact form, because you calculate\n",
    "# loss of all the unrolled steps at the same time\n",
    "# Therefore, take the mean error or each batch and get the sum of that over all the unrolled steps\n",
    "\n",
    "print('Defining training Loss')\n",
    "loss = 0.0\n",
    "with tf.control_dependencies([tf.assign(c[li], state[li][0]) for li in range(n_layers)]+\n",
    "                             [tf.assign(h[li], state[li][1]) for li in range(n_layers)]):\n",
    "  for ui in range(num_unrollings):\n",
    "    loss += tf.reduce_mean(0.5*(split_outputs[ui]-train_outputs[ui])**2)\n",
    "\n",
    "print('Learning rate decay operations')\n",
    "global_step = tf.Variable(0, trainable=False)\n",
    "inc_gstep = tf.assign(global_step,global_step + 1)\n",
    "tf_learning_rate = tf.placeholder(shape=None,dtype=tf.float32)\n",
    "tf_min_learning_rate = tf.placeholder(shape=None,dtype=tf.float32)\n",
    "\n",
    "learning_rate = tf.maximum(\n",
    "    tf.train.exponential_decay(tf_learning_rate, global_step, decay_steps=1, decay_rate=0.5, staircase=True),\n",
    "    tf_min_learning_rate)\n",
    "\n",
    "# Optimizer.\n",
    "print('TF Optimization operations')\n",
    "optimizer = tf.train.AdamOptimizer(learning_rate)\n",
    "gradients, v = zip(*optimizer.compute_gradients(loss))\n",
    "gradients, _ = tf.clip_by_global_norm(gradients, 5.0)\n",
    "optimizer = optimizer.apply_gradients(\n",
    "    zip(gradients, v))\n",
    "\n",
    "print('\\tAll done')"
   ]
  },
  {
   "cell_type": "markdown",
   "metadata": {},
   "source": [
    "## Prediction Related Calculations"
   ]
  },
  {
   "cell_type": "code",
   "execution_count": 82,
   "metadata": {},
   "outputs": [
    {
     "name": "stdout",
     "output_type": "stream",
     "text": [
      "Defining prediction related TF functions\n",
      "\tAll done\n"
     ]
    }
   ],
   "source": [
    "print('Defining prediction related TF functions')\n",
    "\n",
    "sample_inputs = tf.placeholder(tf.float32, shape=[1,D])\n",
    "\n",
    "# Maintaining LSTM state for prediction stage\n",
    "sample_c, sample_h, initial_sample_state = [],[],[]\n",
    "for li in range(n_layers):\n",
    "  sample_c.append(tf.Variable(tf.zeros([1, num_nodes[li]]), trainable=False))\n",
    "  sample_h.append(tf.Variable(tf.zeros([1, num_nodes[li]]), trainable=False))\n",
    "  initial_sample_state.append(tf.contrib.rnn.LSTMStateTuple(sample_c[li],sample_h[li]))\n",
    "\n",
    "reset_sample_states = tf.group(*[tf.assign(sample_c[li],tf.zeros([1, num_nodes[li]])) for li in range(n_layers)],\n",
    "                               *[tf.assign(sample_h[li],tf.zeros([1, num_nodes[li]])) for li in range(n_layers)])\n",
    "\n",
    "sample_outputs, sample_state = tf.nn.dynamic_rnn(multi_cell, tf.expand_dims(sample_inputs,0),\n",
    "                                   initial_state=tuple(initial_sample_state),\n",
    "                                   time_major = True,\n",
    "                                   dtype=tf.float32)\n",
    "\n",
    "with tf.control_dependencies([tf.assign(sample_c[li],sample_state[li][0]) for li in range(n_layers)]+\n",
    "                              [tf.assign(sample_h[li],sample_state[li][1]) for li in range(n_layers)]):  \n",
    "  sample_prediction = tf.nn.xw_plus_b(tf.reshape(sample_outputs,[1,-1]), w, b)\n",
    "\n",
    "print('\\tAll done')"
   ]
  },
  {
   "cell_type": "markdown",
   "metadata": {},
   "source": [
    "## Running the LSTM"
   ]
  },
  {
   "cell_type": "code",
   "execution_count": 87,
   "metadata": {},
   "outputs": [
    {
     "name": "stderr",
     "output_type": "stream",
     "text": [
      "/home/emi/miniconda3/envs/factors/lib/python3.6/site-packages/tensorflow/python/client/session.py:1702: UserWarning:\n",
      "\n",
      "An interactive session is already active. This can cause out-of-memory errors in some cases. You must explicitly call `InteractiveSession.close()` to release resources held by the other session(s).\n",
      "\n"
     ]
    },
    {
     "name": "stdout",
     "output_type": "stream",
     "text": [
      "Initialized\n"
     ]
    },
    {
     "ename": "ZeroDivisionError",
     "evalue": "division by zero",
     "output_type": "error",
     "traceback": [
      "\u001b[0;31m---------------------------------------------------------------------------\u001b[0m",
      "\u001b[0;31mZeroDivisionError\u001b[0m                         Traceback (most recent call last)",
      "\u001b[0;32m<ipython-input-87-48ce44423798>\u001b[0m in \u001b[0;36m<module>\u001b[0;34m\u001b[0m\n\u001b[1;32m     50\u001b[0m     \u001b[0;32mif\u001b[0m \u001b[0;34m(\u001b[0m\u001b[0mep\u001b[0m\u001b[0;34m+\u001b[0m\u001b[0;36m1\u001b[0m\u001b[0;34m)\u001b[0m \u001b[0;34m%\u001b[0m \u001b[0mvalid_summary\u001b[0m \u001b[0;34m==\u001b[0m \u001b[0;36m0\u001b[0m\u001b[0;34m:\u001b[0m\u001b[0;34m\u001b[0m\u001b[0;34m\u001b[0m\u001b[0m\n\u001b[1;32m     51\u001b[0m \u001b[0;34m\u001b[0m\u001b[0m\n\u001b[0;32m---> 52\u001b[0;31m       \u001b[0maverage_loss\u001b[0m \u001b[0;34m=\u001b[0m \u001b[0maverage_loss\u001b[0m\u001b[0;34m/\u001b[0m\u001b[0;34m(\u001b[0m\u001b[0mvalid_summary\u001b[0m\u001b[0;34m*\u001b[0m\u001b[0;34m(\u001b[0m\u001b[0mtrain_seq_length\u001b[0m\u001b[0;34m//\u001b[0m\u001b[0mbatch_size\u001b[0m\u001b[0;34m)\u001b[0m\u001b[0;34m)\u001b[0m\u001b[0;34m\u001b[0m\u001b[0;34m\u001b[0m\u001b[0m\n\u001b[0m\u001b[1;32m     53\u001b[0m \u001b[0;34m\u001b[0m\u001b[0m\n\u001b[1;32m     54\u001b[0m       \u001b[0;31m# The average loss\u001b[0m\u001b[0;34m\u001b[0m\u001b[0;34m\u001b[0m\u001b[0;34m\u001b[0m\u001b[0m\n",
      "\u001b[0;31mZeroDivisionError\u001b[0m: division by zero"
     ]
    }
   ],
   "source": [
    "epochs = 30\n",
    "valid_summary = 1 # Interval you make test predictions\n",
    "\n",
    "n_predict_once = 50 # Number of steps you continously predict for\n",
    "\n",
    "train_seq_length = train_data.size # Full length of the training data\n",
    "\n",
    "train_mse_ot = [] # Accumulate Train losses\n",
    "test_mse_ot = [] # Accumulate Test loss\n",
    "predictions_over_time = [] # Accumulate predictions\n",
    "\n",
    "session = tf.InteractiveSession()\n",
    "\n",
    "tf.global_variables_initializer().run()\n",
    "\n",
    "# Used for decaying learning rate\n",
    "loss_nondecrease_count = 0\n",
    "loss_nondecrease_threshold = 2 # If the test error hasn't increased in this many steps, decrease learning rate\n",
    "\n",
    "print('Initialized')\n",
    "average_loss = 0\n",
    "\n",
    "# Define data generator\n",
    "data_gen = DataGeneratorSeq(train_data,batch_size,num_unrollings)\n",
    "\n",
    "x_axis_seq = []\n",
    "\n",
    "# Points you start your test predictions from\n",
    "test_points_seq = np.arange(100,200,50).tolist()\n",
    "\n",
    "for ep in range(epochs):       \n",
    "\n",
    "    # ========================= Training =====================================\n",
    "    for step in range(train_seq_length//batch_size):\n",
    "\n",
    "        u_data, u_labels = data_gen.unroll_batches()\n",
    "\n",
    "        feed_dict = {}\n",
    "        for ui,(dat,lbl) in enumerate(zip(u_data,u_labels)):            \n",
    "            feed_dict[train_inputs[ui]] = dat.reshape(-1,1)\n",
    "            feed_dict[train_outputs[ui]] = lbl.reshape(-1,1)\n",
    "\n",
    "        feed_dict.update({tf_learning_rate: 0.0001, tf_min_learning_rate:0.000001})\n",
    "\n",
    "        _, l = session.run([optimizer, loss], feed_dict=feed_dict)\n",
    "\n",
    "        average_loss += l\n",
    "\n",
    "    # ============================ Validation ==============================\n",
    "    if (ep+1) % valid_summary == 0:\n",
    "\n",
    "      average_loss = average_loss/(valid_summary*(train_seq_length//batch_size))\n",
    "\n",
    "      # The average loss\n",
    "      if (ep+1)%valid_summary==0:\n",
    "        print('Average loss at step %d: %f' % (ep+1, average_loss))\n",
    "\n",
    "      train_mse_ot.append(average_loss)\n",
    "\n",
    "      average_loss = 0 # reset loss\n",
    "\n",
    "      predictions_seq = []\n",
    "\n",
    "      mse_test_loss_seq = []\n",
    "\n",
    "      # ===================== Updating State and Making Predicitons ========================\n",
    "      for w_i in test_points_seq:\n",
    "        mse_test_loss = 0.0\n",
    "        our_predictions = []\n",
    "\n",
    "        if (ep+1)-valid_summary==0:\n",
    "          # Only calculate x_axis values in the first validation epoch\n",
    "          x_axis=[]\n",
    "\n",
    "        # Feed in the recent past behavior of stock prices\n",
    "        # to make predictions from that point onwards\n",
    "        for tr_i in range(w_i-num_unrollings+1,w_i-1):\n",
    "          current_price = all_mid_data[tr_i]\n",
    "          feed_dict[sample_inputs] = np.array(current_price).reshape(1,1)    \n",
    "          _ = session.run(sample_prediction,feed_dict=feed_dict)\n",
    "\n",
    "        feed_dict = {}\n",
    "\n",
    "        current_price = all_mid_data[w_i-1]\n",
    "\n",
    "        feed_dict[sample_inputs] = np.array(current_price).reshape(1,1)\n",
    "\n",
    "        # Make predictions for this many steps\n",
    "        # Each prediction uses previous prediciton as it's current input\n",
    "        for pred_i in range(n_predict_once):\n",
    "\n",
    "          pred = session.run(sample_prediction,feed_dict=feed_dict)\n",
    "\n",
    "          our_predictions.append(np.asscalar(pred))\n",
    "\n",
    "          feed_dict[sample_inputs] = np.asarray(pred).reshape(-1,1)\n",
    "\n",
    "          if (ep+1)-valid_summary==0:\n",
    "            # Only calculate x_axis values in the first validation epoch\n",
    "            x_axis.append(w_i+pred_i)\n",
    "\n",
    "          mse_test_loss += 0.5*(pred-all_mid_data[w_i+pred_i])**2\n",
    "\n",
    "        session.run(reset_sample_states)\n",
    "\n",
    "        predictions_seq.append(np.array(our_predictions))\n",
    "\n",
    "        mse_test_loss /= n_predict_once\n",
    "        mse_test_loss_seq.append(mse_test_loss)\n",
    "\n",
    "        if (ep+1)-valid_summary==0:\n",
    "          x_axis_seq.append(x_axis)\n",
    "\n",
    "      current_test_mse = np.mean(mse_test_loss_seq)\n",
    "\n",
    "      # Learning rate decay logic\n",
    "      if len(test_mse_ot)>0 and current_test_mse > min(test_mse_ot):\n",
    "          loss_nondecrease_count += 1\n",
    "      else:\n",
    "          loss_nondecrease_count = 0\n",
    "\n",
    "      if loss_nondecrease_count > loss_nondecrease_threshold :\n",
    "            session.run(inc_gstep)\n",
    "            loss_nondecrease_count = 0\n",
    "            print('\\tDecreasing learning rate by 0.5')\n",
    "\n",
    "      test_mse_ot.append(current_test_mse)\n",
    "      print('\\tTest MSE: %.5f'%np.mean(mse_test_loss_seq))\n",
    "      predictions_over_time.append(predictions_seq)\n",
    "      print('\\tFinished Predictions')"
   ]
  },
  {
   "cell_type": "code",
   "execution_count": null,
   "metadata": {},
   "outputs": [],
   "source": []
  }
 ],
 "metadata": {
  "kernelspec": {
   "display_name": "Python 3",
   "language": "python",
   "name": "python3"
  },
  "language_info": {
   "codemirror_mode": {
    "name": "ipython",
    "version": 3
   },
   "file_extension": ".py",
   "mimetype": "text/x-python",
   "name": "python",
   "nbconvert_exporter": "python",
   "pygments_lexer": "ipython3",
   "version": "3.6.6"
  },
  "toc-autonumbering": true
 },
 "nbformat": 4,
 "nbformat_minor": 2
}
