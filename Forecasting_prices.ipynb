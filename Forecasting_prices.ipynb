{
 "cells": [
  {
   "cell_type": "markdown",
   "metadata": {},
   "source": [
    "# Forecasting prices"
   ]
  },
  {
   "cell_type": "markdown",
   "metadata": {},
   "source": [
    "## Overview\n",
    "\n",
    "Train several models to see what's the better performance.\n",
    "\n",
    "Models:\n",
    "\n",
    "* KNN\n",
    "* ARIMA Model\n",
    "* Bagging\n",
    "* Boosting"
   ]
  },
  {
   "cell_type": "markdown",
   "metadata": {},
   "source": [
    "## Import libraries"
   ]
  },
  {
   "cell_type": "code",
   "execution_count": 19,
   "metadata": {},
   "outputs": [
    {
     "name": "stdout",
     "output_type": "stream",
     "text": [
      "Solving environment: done\n",
      "\n",
      "# All requested packages already installed.\n",
      "\n"
     ]
    }
   ],
   "source": [
    "import sys\n",
    "!{sys.executable} -m  conda install -c anaconda scikit-learn"
   ]
  },
  {
   "cell_type": "code",
   "execution_count": 28,
   "metadata": {},
   "outputs": [
    {
     "data": {
      "text/html": [
       "<script type=\"text/javascript\">window.PlotlyConfig = {MathJaxConfig: 'local'};</script><script type=\"text/javascript\">if (window.MathJax) {MathJax.Hub.Config({SVG: {font: \"STIX-Web\"}});}</script><script>requirejs.config({paths: { 'plotly': ['https://cdn.plot.ly/plotly-latest.min']},});if(!window._Plotly) {require(['plotly'],function(plotly) {window._Plotly=plotly;});}</script>"
      ],
      "text/vnd.plotly.v1+html": [
       "<script type=\"text/javascript\">window.PlotlyConfig = {MathJaxConfig: 'local'};</script><script type=\"text/javascript\">if (window.MathJax) {MathJax.Hub.Config({SVG: {font: \"STIX-Web\"}});}</script><script>requirejs.config({paths: { 'plotly': ['https://cdn.plot.ly/plotly-latest.min']},});if(!window._Plotly) {require(['plotly'],function(plotly) {window._Plotly=plotly;});}</script>"
      ]
     },
     "metadata": {},
     "output_type": "display_data"
    }
   ],
   "source": [
    "import datetime as dt\n",
    "import os\n",
    "import pandas as pd\n",
    "import numpy as np\n",
    "import csv\n",
    "import warnings\n",
    "\n",
    "# Plot\n",
    "import matplotlib.pyplot as plt\n",
    "import seaborn as sns\n",
    "\n",
    "# Sklearn\n",
    "from sklearn.preprocessing import MinMaxScaler, StandardScaler\n",
    "from sklearn.model_selection import train_test_split, GridSearchCV\n",
    "from sklearn.model_selection import cross_val_score\n",
    "from sklearn.metrics import mean_squared_error\n",
    "\n",
    "# models\n",
    "from sklearn.linear_model import LogisticRegression\n",
    "from sklearn.tree import DecisionTreeClassifier\n",
    "from sklearn.ensemble import RandomForestClassifier, ExtraTreesClassifier\n",
    "\n",
    "# ARIMA\n",
    "from statsmodels.tsa.arima_model import ARIMA\n",
    "\n",
    "#Bagging\n",
    "from sklearn.ensemble import BaggingClassifier, AdaBoostClassifier\n",
    "from sklearn.neighbors import KNeighborsClassifier\n",
    "\n",
    "#Neural Network\n",
    "from sklearn.neural_network import MLPClassifier\n",
    "\n",
    "\n",
    "# Add plotly for interactive charts\n",
    "from plotly.offline import init_notebook_mode, iplot\n",
    "init_notebook_mode(connected=True)\n",
    "import plotly.plotly as py\n",
    "import plotly.graph_objs as go\n",
    "from plotly import tools\n",
    "\n"
   ]
  },
  {
   "cell_type": "markdown",
   "metadata": {},
   "source": [
    "## Initial variables"
   ]
  },
  {
   "cell_type": "code",
   "execution_count": 3,
   "metadata": {},
   "outputs": [],
   "source": [
    "symbol = \"AABA\""
   ]
  },
  {
   "cell_type": "markdown",
   "metadata": {},
   "source": [
    "## Reading data from CSV file"
   ]
  },
  {
   "cell_type": "code",
   "execution_count": 4,
   "metadata": {},
   "outputs": [],
   "source": [
    "# Get values from cvs file\n",
    "filename = \"data/\" + symbol + \".csv\"\n",
    "headers = [\"date\", symbol]\n",
    "portf_value = pd.read_csv(filename, sep=\",\", names = headers)\n",
    "portf_value.set_index(\"date\", inplace= True)"
   ]
  },
  {
   "cell_type": "code",
   "execution_count": 5,
   "metadata": {},
   "outputs": [],
   "source": [
    "# Normalize the prices Dataframe\n",
    "normed = portf_value.copy()"
   ]
  },
  {
   "cell_type": "code",
   "execution_count": 6,
   "metadata": {},
   "outputs": [],
   "source": [
    "# Convert price column to float\n",
    "normed[symbol] = pd.to_numeric(normed[symbol], errors='coerce').fillna(0)"
   ]
  },
  {
   "cell_type": "code",
   "execution_count": 7,
   "metadata": {},
   "outputs": [
    {
     "name": "stdout",
     "output_type": "stream",
     "text": [
      "<class 'pandas.core.frame.DataFrame'>\n",
      "Index: 126 entries, date to 2019-01-11\n",
      "Data columns (total 1 columns):\n",
      "AABA    126 non-null float64\n",
      "dtypes: float64(1)\n",
      "memory usage: 2.0+ KB\n"
     ]
    },
    {
     "data": {
      "text/html": [
       "<div>\n",
       "<style scoped>\n",
       "    .dataframe tbody tr th:only-of-type {\n",
       "        vertical-align: middle;\n",
       "    }\n",
       "\n",
       "    .dataframe tbody tr th {\n",
       "        vertical-align: top;\n",
       "    }\n",
       "\n",
       "    .dataframe thead th {\n",
       "        text-align: right;\n",
       "    }\n",
       "</style>\n",
       "<table border=\"1\" class=\"dataframe\">\n",
       "  <thead>\n",
       "    <tr style=\"text-align: right;\">\n",
       "      <th></th>\n",
       "      <th>AABA</th>\n",
       "    </tr>\n",
       "    <tr>\n",
       "      <th>date</th>\n",
       "      <th></th>\n",
       "    </tr>\n",
       "  </thead>\n",
       "  <tbody>\n",
       "    <tr>\n",
       "      <th>date</th>\n",
       "      <td>0.000000</td>\n",
       "    </tr>\n",
       "    <tr>\n",
       "      <th>2018-07-16</th>\n",
       "      <td>74.660004</td>\n",
       "    </tr>\n",
       "    <tr>\n",
       "      <th>2018-07-17</th>\n",
       "      <td>75.360001</td>\n",
       "    </tr>\n",
       "    <tr>\n",
       "      <th>2018-07-18</th>\n",
       "      <td>74.660004</td>\n",
       "    </tr>\n",
       "    <tr>\n",
       "      <th>2018-07-19</th>\n",
       "      <td>73.360001</td>\n",
       "    </tr>\n",
       "  </tbody>\n",
       "</table>\n",
       "</div>"
      ],
      "text/plain": [
       "                 AABA\n",
       "date                 \n",
       "date         0.000000\n",
       "2018-07-16  74.660004\n",
       "2018-07-17  75.360001\n",
       "2018-07-18  74.660004\n",
       "2018-07-19  73.360001"
      ]
     },
     "execution_count": 7,
     "metadata": {},
     "output_type": "execute_result"
    }
   ],
   "source": [
    "normed.info()\n",
    "normed.head()"
   ]
  },
  {
   "cell_type": "markdown",
   "metadata": {},
   "source": [
    "## Getting indicator values"
   ]
  },
  {
   "cell_type": "markdown",
   "metadata": {},
   "source": [
    "## ARIMA Model"
   ]
  },
  {
   "cell_type": "code",
   "execution_count": 25,
   "metadata": {},
   "outputs": [],
   "source": [
    "# evaluate an ARIMA model for a given order (p,d,q)\n",
    "def evaluate_arima_model(X, arima_order):\n",
    "    # prepare training dataset\n",
    "    train_size = int(len(X) * 0.66)\n",
    "    train, test = X[0:train_size], X[train_size:]\n",
    "    history = [x for x in train]\n",
    "    # make predictions\n",
    "    predictions = list()\n",
    "    for t in range(len(test)):\n",
    "        model = ARIMA(history, order=arima_order)\n",
    "        model_fit = model.fit(disp=0)\n",
    "        yhat = model_fit.forecast()[0]\n",
    "        predictions.append(yhat)\n",
    "        history.append(test[t])\n",
    "    # calculate out of sample error\n",
    "    error = mean_squared_error(test, predictions)\n",
    "    return error"
   ]
  },
  {
   "cell_type": "code",
   "execution_count": 26,
   "metadata": {},
   "outputs": [],
   "source": [
    "# evaluate combinations of p, d and q values for an ARIMA model\n",
    "def evaluate_models(dataset, p_values, d_values, q_values):\n",
    "    dataset = dataset.astype('float32')\n",
    "    best_score, best_cfg = float(\"inf\"), None\n",
    "    for p in p_values:\n",
    "        for d in d_values:\n",
    "            for q in q_values:\n",
    "                order = (p,d,q)\n",
    "                try:\n",
    "                    mse = evaluate_arima_model(dataset, order)\n",
    "                    if mse < best_score:\n",
    "                        best_score, best_cfg = mse, order\n",
    "                    print('ARIMA%s MSE=%.3f' % (order,mse))\n",
    "                except:\n",
    "                    continue\n",
    "    print('Best ARIMA%s MSE=%.3f' % (best_cfg, best_score))"
   ]
  },
  {
   "cell_type": "code",
   "execution_count": 29,
   "metadata": {},
   "outputs": [
    {
     "name": "stdout",
     "output_type": "stream",
     "text": [
      "ARIMA(0, 0, 0) MSE=24.927\n",
      "ARIMA(0, 0, 1) MSE=8.214\n",
      "ARIMA(0, 0, 2) MSE=3.401\n",
      "ARIMA(0, 1, 0) MSE=2.031\n",
      "ARIMA(0, 1, 1) MSE=2.239\n",
      "ARIMA(0, 1, 2) MSE=4.172\n",
      "ARIMA(0, 2, 0) MSE=3.202\n",
      "ARIMA(0, 2, 1) MSE=3.383\n",
      "ARIMA(0, 2, 2) MSE=2.942\n",
      "ARIMA(1, 0, 0) MSE=2.588\n",
      "ARIMA(1, 0, 1) MSE=3.160\n",
      "ARIMA(1, 0, 2) MSE=2.753\n",
      "ARIMA(1, 1, 0) MSE=2.102\n",
      "ARIMA(1, 2, 0) MSE=3.335\n",
      "ARIMA(2, 1, 0) MSE=2.309\n",
      "ARIMA(2, 2, 0) MSE=3.411\n",
      "ARIMA(2, 2, 1) MSE=4.181\n",
      "ARIMA(4, 0, 0) MSE=2.563\n",
      "ARIMA(4, 1, 0) MSE=2.153\n",
      "ARIMA(4, 1, 1) MSE=2.472\n",
      "ARIMA(4, 2, 0) MSE=3.086\n",
      "ARIMA(6, 0, 1) MSE=3.108\n",
      "ARIMA(6, 1, 0) MSE=2.195\n",
      "ARIMA(6, 1, 1) MSE=2.191\n",
      "ARIMA(6, 1, 2) MSE=5.428\n",
      "ARIMA(6, 2, 0) MSE=2.765\n",
      "ARIMA(8, 0, 0) MSE=2.999\n",
      "ARIMA(8, 0, 1) MSE=2.978\n",
      "ARIMA(8, 0, 2) MSE=3.097\n",
      "ARIMA(8, 1, 0) MSE=3.076\n",
      "ARIMA(8, 1, 1) MSE=3.148\n",
      "ARIMA(8, 1, 2) MSE=3.849\n",
      "ARIMA(8, 2, 0) MSE=4.572\n",
      "ARIMA(10, 0, 0) MSE=3.076\n",
      "ARIMA(10, 1, 0) MSE=3.137\n",
      "ARIMA(10, 1, 1) MSE=3.352\n",
      "ARIMA(10, 2, 0) MSE=5.501\n",
      "Best ARIMA(0, 1, 0) MSE=2.031\n"
     ]
    }
   ],
   "source": [
    "# evaluate parameters\n",
    "p_values = [0, 1, 2, 4, 6, 8, 10]\n",
    "d_values = range(0, 3)\n",
    "q_values = range(0, 3)\n",
    "warnings.filterwarnings(\"ignore\")\n",
    "evaluate_models(series.values, p_values, d_values, q_values)"
   ]
  },
  {
   "cell_type": "code",
   "execution_count": 85,
   "metadata": {},
   "outputs": [
    {
     "name": "stdout",
     "output_type": "stream",
     "text": [
      "predicted=64.375608, expected=62.480000\n",
      "predicted=63.232771, expected=60.980000\n",
      "predicted=61.705952, expected=59.950001\n",
      "predicted=60.655295, expected=61.209999\n",
      "predicted=61.921743, expected=62.279999\n",
      "predicted=62.995861, expected=64.389999\n",
      "predicted=65.121704, expected=63.590000\n",
      "predicted=64.304494, expected=62.220001\n",
      "predicted=62.911334, expected=60.889999\n",
      "predicted=61.559120, expected=62.150002\n",
      "predicted=62.825546, expected=62.400002\n",
      "predicted=63.070970, expected=64.370003\n",
      "predicted=65.054790, expected=64.160004\n",
      "predicted=64.835372, expected=65.430000\n",
      "predicted=66.111563, expected=64.419998\n",
      "predicted=65.084122, expected=65.589996\n",
      "predicted=66.259282, expected=66.820000\n",
      "predicted=67.494949, expected=64.800003\n",
      "predicted=65.448003, expected=63.860001\n",
      "predicted=64.492278, expected=63.009998\n",
      "predicted=63.627743, expected=62.230000\n",
      "predicted=62.834175, expected=62.570000\n",
      "predicted=63.171635, expected=62.820000\n",
      "predicted=63.418286, expected=62.759998\n",
      "predicted=63.352073, expected=62.009998\n",
      "predicted=62.589531, expected=60.080002\n",
      "predicted=60.636298, expected=59.119999\n",
      "predicted=59.662384, expected=57.700001\n",
      "predicted=58.224547, expected=56.709999\n",
      "predicted=57.220900, expected=55.650002\n",
      "predicted=56.146877, expected=55.709999\n",
      "predicted=56.203008, expected=57.900002\n",
      "predicted=58.407897, expected=57.970001\n",
      "predicted=58.474088, expected=58.349998\n",
      "predicted=58.853015, expected=57.939999\n",
      "predicted=58.435213, expected=57.490002\n",
      "predicted=57.977205, expected=55.529999\n",
      "predicted=55.996638, expected=58.720001\n",
      "predicted=59.209334, expected=59.639999\n",
      "predicted=60.132892, expected=61.040001\n",
      "predicted=61.540329, expected=62.939999\n",
      "predicted=63.451706, expected=63.110001\n",
      "predicted=63.618953, expected=62.880001\n",
      "Test MSE: 2.031\n"
     ]
    },
    {
     "data": {
      "image/png": "[encoded data removed]",
      "text/plain": [
       "<Figure size 432x288 with 1 Axes>"
      ]
     },
     "metadata": {},
     "output_type": "display_data"
    }
   ],
   "source": [
    "\n",
    "from pandas import Series\n",
    "series =  pd.Series(normed[symbol].values)\n",
    "\n",
    "X = series.values\n",
    "size = int(len(X) * 0.66)\n",
    "train, test = X[0:size], X[size:len(X)]\n",
    "history = [x for x in train]\n",
    "predictions = list()\n",
    "for t in range(len(test)):\n",
    "    model = ARIMA(history, order=(0,1,0))\n",
    "    model_fit = model.fit(disp=0)\n",
    "    output = model_fit.forecast()\n",
    "    yhat = output[0]\n",
    "    predictions.append(yhat)\n",
    "    obs = test[t]\n",
    "    history.append(obs)\n",
    "    print('predicted=%f, expected=%f' % (yhat, obs))\n",
    "error = mean_squared_error(test, predictions)\n",
    "print('Test MSE: %.3f' % error)\n",
    "# plot\n",
    "plt.plot(test)\n",
    "plt.plot(predictions, color='red')\n",
    "plt.title(\"ARIMA Rolling Forecast Line Plot\")\n",
    "plt.show()"
   ]
  },
  {
   "cell_type": "code",
   "execution_count": 95,
   "metadata": {},
   "outputs": [
    {
     "name": "stdout",
     "output_type": "stream",
     "text": [
      "                             ARIMA Model Results                              \n",
      "==============================================================================\n",
      "Dep. Variable:                    D.y   No. Observations:                  124\n",
      "Model:                 ARIMA(0, 1, 0)   Log Likelihood                -414.017\n",
      "Method:                           css   S.D. of innovations              6.820\n",
      "Date:                Thu, 17 Jan 2019   AIC                            832.033\n",
      "Time:                        20:46:10   BIC                            837.674\n",
      "Sample:                             1   HQIC                           834.324\n",
      "                                                                              \n",
      "==============================================================================\n",
      "                 coef    std err          z      P>|z|      [0.025      0.975]\n",
      "------------------------------------------------------------------------------\n",
      "const          0.5090      0.612      0.831      0.408      -0.691       1.709\n",
      "==============================================================================\n"
     ]
    },
    {
     "data": {
      "image/png": "[encoded data removed]",
      "text/plain": [
       "<Figure size 432x288 with 1 Axes>"
      ]
     },
     "metadata": {},
     "output_type": "display_data"
    },
    {
     "data": {
      "image/png": "[encoded data removed]",
      "text/plain": [
       "<Figure size 432x288 with 1 Axes>"
      ]
     },
     "metadata": {},
     "output_type": "display_data"
    },
    {
     "name": "stdout",
     "output_type": "stream",
     "text": [
      "                  0\n",
      "count  1.240000e+02\n",
      "mean   9.463756e-16\n",
      "std    6.847974e+00\n",
      "min   -3.848948e+00\n",
      "25%   -1.543951e+00\n",
      "50%   -7.589516e-01\n",
      "75%    5.510471e-01\n",
      "max    7.415105e+01\n"
     ]
    }
   ],
   "source": [
    "print(model_fit.summary())\n",
    "# plot residual errors\n",
    "residuals = DataFrame(model_fit.resid)\n",
    "residuals.plot()\n",
    "plt.title(\"ARMA Fit Residual Error Line Plot\")\n",
    "plt.show()\n",
    "residuals.plot(kind='kde')\n",
    "plt.title(\"ARMA Fit Residual Error Density Plot\")\n",
    "plt.grid(\"on\")\n",
    "plt.show()\n",
    "print(residuals.describe())"
   ]
  },
  {
   "cell_type": "markdown",
   "metadata": {},
   "source": [
    "## RMS"
   ]
  },
  {
   "cell_type": "code",
   "execution_count": 86,
   "metadata": {},
   "outputs": [
    {
     "name": "stdout",
     "output_type": "stream",
     "text": [
      "RMS:  8.644035506873553\n"
     ]
    }
   ],
   "source": [
    "rms=np.sqrt(np.mean(np.power((np.array(history)-np.array(predictions)),2)))\n",
    "print('RMS: ', rms)"
   ]
  },
  {
   "cell_type": "markdown",
   "metadata": {},
   "source": [
    "## 4. Save an ARIMA Time Series Forecasting Model\n",
    "\n",
    "The statsmodels library provides an implementation of ARIMA for use in Python. ARIMA models can be saved to file for later use in making predictions on new data. There is a bug in the earlier versions to 0.9 of the statsmodels library that prevents saved models from being loaded.\n"
   ]
  },
  {
   "cell_type": "code",
   "execution_count": 87,
   "metadata": {},
   "outputs": [
    {
     "name": "stdout",
     "output_type": "stream",
     "text": [
      "statsmodels: 0.9.0\n"
     ]
    }
   ],
   "source": [
    "import statsmodels\n",
    "print('statsmodels: %s' % statsmodels.__version__)"
   ]
  },
  {
   "cell_type": "code",
   "execution_count": 88,
   "metadata": {},
   "outputs": [],
   "source": [
    "from statsmodels.tsa.arima_model import ARIMAResults\n",
    "\n",
    "# save model\n",
    "model_fit.save('arima_model.pkl')\n",
    "# load model\n",
    "loaded = ARIMAResults.load('arima_model.pkl')"
   ]
  },
  {
   "cell_type": "code",
   "execution_count": 91,
   "metadata": {},
   "outputs": [
    {
     "name": "stdout",
     "output_type": "stream",
     "text": [
      "7\n"
     ]
    }
   ],
   "source": [
    "start_d = \"2019-01-11\"\n",
    "start_d = dt.datetime.strptime(start_d, '%Y-%m-%d')\n",
    "\n",
    "end_d = '2019-01-18'\n",
    "end_d = dt.datetime.strptime(end_d, '%Y-%m-%d')\n",
    "\n",
    "# Calculate steps\n",
    "days = (end_d - start_d).days\n",
    "print(days)\n",
    "forecast = loaded.forecast(steps=days)[0] \n",
    "\n",
    "# Setting dates for dataframe\n",
    "dates = pd.date_range(start_d, periods=days)\n",
    "\n",
    "\n",
    "df=pd.DataFrame(forecast)\n",
    "df['Dates'] = dates\n",
    "df.set_index('Dates', inplace=True)\n",
    "df.rename(columns = {0:'Price'}, inplace=True)\n"
   ]
  },
  {
   "cell_type": "code",
   "execution_count": 93,
   "metadata": {},
   "outputs": [
    {
     "data": {
      "text/plain": [
       "[<matplotlib.lines.Line2D at 0x7fe3ce5a85c0>]"
      ]
     },
     "execution_count": 93,
     "metadata": {},
     "output_type": "execute_result"
    },
    {
     "data": {
      "image/png": "[encoded data removed]",
      "text/plain": [
       "<Figure size 432x288 with 1 Axes>"
      ]
     },
     "metadata": {},
     "output_type": "display_data"
    }
   ],
   "source": [
    "# plot\n",
    "plt.plot(df)\n"
   ]
  },
  {
   "cell_type": "code",
   "execution_count": null,
   "metadata": {},
   "outputs": [],
   "source": []
  }
 ],
 "metadata": {
  "kernelspec": {
   "display_name": "Python 3",
   "language": "python",
   "name": "python3"
  },
  "language_info": {
   "codemirror_mode": {
    "name": "ipython",
    "version": 3
   },
   "file_extension": ".py",
   "mimetype": "text/x-python",
   "name": "python",
   "nbconvert_exporter": "python",
   "pygments_lexer": "ipython3",
   "version": "3.7.1"
  },
  "toc-autonumbering": true
 },
 "nbformat": 4,
 "nbformat_minor": 2
}
