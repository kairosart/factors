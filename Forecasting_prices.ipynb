{
 "cells": [
  {
   "cell_type": "markdown",
   "metadata": {},
   "source": [
    "# Forecasting prices"
   ]
  },
  {
   "cell_type": "markdown",
   "metadata": {},
   "source": [
    "## Overview\n",
    "\n",
    "Train several models to see what's the better performance.\n",
    "\n",
    "Models:\n",
    "\n",
    "* KNN\n",
    "* ARIMA Model\n",
    "* Bagging\n",
    "* Boosting"
   ]
  },
  {
   "cell_type": "markdown",
   "metadata": {},
   "source": [
    "## Import libraries"
   ]
  },
  {
   "cell_type": "code",
   "execution_count": null,
   "metadata": {},
   "outputs": [
    {
     "name": "stdout",
     "output_type": "stream",
     "text": [
      "Solving environment: done\n",
      "\n",
      "## Package Plan ##\n",
      "\n",
      "  environment location: /home/emi/miniconda3py37\n",
      "\n",
      "  added / updated specs: \n",
      "    - keras\n",
      "\n",
      "\n",
      "The following packages will be downloaded:\n",
      "\n",
      "    package                    |            build\n",
      "    ---------------------------|-----------------\n",
      "    lxml-4.2.5                 |   py36hefd8a0e_0         1.6 MB  anaconda\n",
      "    numpy-1.15.4               |   py36h1d66e8a_0          35 KB  anaconda\n",
      "    tensorflow-base-1.12.0     |mkl_py36h3c3e929_0        98.5 MB  anaconda\n",
      "    wheel-0.32.3               |           py36_0          35 KB  anaconda\n",
      "    pandas-datareader-0.7.0    |           py36_0         142 KB  anaconda\n",
      "    conda-4.5.12               |           py36_0         1.0 MB\n",
      "    gast-0.2.0                 |           py36_0          15 KB  anaconda\n",
      "    requests-2.20.1            |           py36_0          85 KB  anaconda\n",
      "    entrypoints-0.2.3          |           py36_2           9 KB  anaconda\n",
      "    mkl_random-1.0.1           |   py36h4414c95_1         373 KB  anaconda\n",
      "    pycparser-2.19             |           py36_0         174 KB  anaconda\n",
      "    wtforms-2.2.1              |           py36_0         113 KB  anaconda\n",
      "    wrapt-1.10.11              |   py36h14c3975_2          45 KB  anaconda\n",
      "    mistune-0.8.4              |   py36h7b6447c_0          54 KB  anaconda\n",
      "    pycosat-0.6.3              |   py36h14c3975_0         104 KB  anaconda\n",
      "    scikit-learn-0.20.1        |   py36h4989274_0         5.7 MB  anaconda\n",
      "    mkl_fft-1.0.6              |   py36h7dd41cf_0         150 KB  anaconda\n",
      "    pysocks-1.6.8              |           py36_0          22 KB  anaconda\n",
      "    pyzmq-17.1.2               |   py36h14c3975_0         454 KB  anaconda\n",
      "    click-7.0                  |           py36_0         118 KB  anaconda\n",
      "    markupsafe-1.1.0           |   py36h7b6447c_0          26 KB  anaconda\n",
      "    grpcio-1.16.1              |   py36hf8bcb03_1         1.1 MB  anaconda\n",
      "    ipython-7.2.0              |   py36h39e3cac_0         1.0 MB  anaconda\n",
      "    ipykernel-5.1.0            |   py36h39e3cac_0         156 KB  anaconda\n",
      "    markdown-3.0.1             |           py36_0         107 KB  anaconda\n",
      "    protobuf-3.6.1             |   py36he6710b0_0         616 KB  anaconda\n",
      "    jupyterlab-0.35.3          |           py36_0        10.6 MB  anaconda\n",
      "    pytz-2018.7                |           py36_0         250 KB  anaconda\n",
      "    astor-0.7.1                |           py36_0          43 KB  anaconda\n",
      "    itsdangerous-1.1.0         |           py36_0          26 KB  anaconda\n",
      "    ruamel_yaml-0.15.46        |   py36h14c3975_0         245 KB  anaconda\n",
      "    cffi-1.11.5                |   py36he75722e_1         212 KB  anaconda\n",
      "    libprotobuf-3.6.1          |       hd408876_0         4.1 MB  anaconda\n",
      "    tornado-5.1.1              |   py36h7b6447c_0         663 KB  anaconda\n",
      "    ptyprocess-0.6.0           |           py36_0          23 KB  anaconda\n",
      "    pexpect-4.6.0              |           py36_0          77 KB  anaconda\n",
      "    keras-applications-1.0.6   |           py36_0          49 KB  anaconda\n",
      "    chardet-3.0.4              |           py36_1         189 KB  anaconda\n",
      "    ipython_genutils-0.2.0     |           py36_0          39 KB  anaconda\n",
      "    scipy-1.1.0                |   py36hfa4b5c9_1        18.0 MB  anaconda\n",
      "    pickleshare-0.7.5          |           py36_0          13 KB  anaconda\n",
      "    numpy-base-1.15.4          |   py36h81de0dd_0         4.2 MB  anaconda\n",
      "    jedi-0.13.1                |           py36_0         229 KB  anaconda\n",
      "    keras-base-2.2.4           |           py36_0         457 KB  anaconda\n",
      "    plotly-3.4.2               |   py36h28b3542_0        27.8 MB  anaconda\n",
      "    pyopenssl-18.0.0           |           py36_0          82 KB  anaconda\n",
      "    jinja2-2.10                |           py36_0         184 KB  anaconda\n",
      "    terminado-0.8.1            |           py36_1          21 KB  anaconda\n",
      "    notebook-5.7.2             |           py36_0         7.2 MB  anaconda\n",
      "    pip-18.1                   |           py36_0         1.8 MB  anaconda\n",
      "    traitlets-4.3.2            |           py36_0         133 KB  anaconda\n",
      "    jupyter_core-4.4.0         |           py36_0          63 KB  anaconda\n",
      "    python-3.6.7               |       h0371630_0        34.3 MB  anaconda\n",
      "    urllib3-1.23               |           py36_0         152 KB  anaconda\n",
      "    certifi-2018.10.15         |           py36_0         139 KB  anaconda\n",
      "    tensorflow-1.12.0          |mkl_py36h69b6ba0_0           4 KB  anaconda\n",
      "    tensorboard-1.12.0         |   py36hf484d3e_0         3.1 MB  anaconda\n",
      "    python-dateutil-2.7.5      |           py36_0         275 KB  anaconda\n",
      "    retrying-1.3.3             |           py36_2          15 KB  anaconda\n",
      "    decorator-4.3.0            |           py36_0          15 KB  anaconda\n",
      "    h5py-2.8.0                 |   py36h989c5e5_3         1.1 MB  anaconda\n",
      "    nbformat-4.4.0             |           py36_0         141 KB  anaconda\n",
      "    keras-preprocessing-1.0.5  |           py36_0          52 KB  anaconda\n",
      "    testpath-0.4.2             |           py36_0          91 KB  anaconda\n",
      "    c-ares-1.15.0              |       h7b6447c_1          98 KB  anaconda\n",
      "    flask-wtf-0.14.2           |           py36_1          24 KB  anaconda\n",
      "    absl-py-0.6.1              |           py36_0         152 KB  anaconda\n",
      "    pyyaml-3.13                |   py36h14c3975_0         178 KB  anaconda\n",
      "    pandas-0.23.4              |   py36h04863e7_0        10.1 MB  anaconda\n",
      "    six-1.11.0                 |           py36_1          21 KB  anaconda\n",
      "    setuptools-40.6.2          |           py36_0         604 KB  anaconda\n",
      "    hdf5-1.10.2                |       hba1933b_1         5.2 MB  anaconda\n",
      "    jsonschema-2.6.0           |           py36_0          62 KB  anaconda\n",
      "    idna-2.7                   |           py36_0         132 KB  anaconda\n",
      "    keras-2.2.4                |                0           5 KB  anaconda\n",
      "    _tflow_select-2.3.0        |              mkl           2 KB  anaconda\n",
      "    asn1crypto-0.24.0          |           py36_0         155 KB  anaconda\n",
      "    werkzeug-0.14.1            |           py36_0         423 KB  anaconda\n",
      "    cryptography-2.4.1         |   py36h1ba5d50_0         619 KB  anaconda\n",
      "    termcolor-1.1.0            |           py36_1           7 KB  anaconda\n",
      "    flask-1.0.2                |           py36_1         119 KB  anaconda\n",
      "    ------------------------------------------------------------\n",
      "                                           Total:       245.4 MB\n",
      "\n",
      "The following NEW packages will be INSTALLED:\n",
      "\n",
      "    _tflow_select:       2.3.0-mkl                 anaconda   \n",
      "    absl-py:             0.6.1-py36_0              anaconda   \n",
      "    astor:               0.7.1-py36_0              anaconda   \n",
      "    c-ares:              1.15.0-h7b6447c_1         anaconda   \n",
      "    gast:                0.2.0-py36_0              anaconda   \n",
      "    grpcio:              1.16.1-py36hf8bcb03_1     anaconda   \n",
      "    h5py:                2.8.0-py36h989c5e5_3      anaconda   \n",
      "    hdf5:                1.10.2-hba1933b_1         anaconda   \n",
      "    keras:               2.2.4-0                   anaconda   \n",
      "    keras-applications:  1.0.6-py36_0              anaconda   \n",
      "    keras-base:          2.2.4-py36_0              anaconda   \n",
      "    keras-preprocessing: 1.0.5-py36_0              anaconda   \n",
      "    libprotobuf:         3.6.1-hd408876_0          anaconda   \n",
      "    markdown:            3.0.1-py36_0              anaconda   \n",
      "    protobuf:            3.6.1-py36he6710b0_0      anaconda   \n",
      "    pyyaml:              3.13-py36h14c3975_0       anaconda   \n",
      "    tensorboard:         1.12.0-py36hf484d3e_0     anaconda   \n",
      "    tensorflow:          1.12.0-mkl_py36h69b6ba0_0 anaconda   \n",
      "    tensorflow-base:     1.12.0-mkl_py36h3c3e929_0 anaconda   \n",
      "    termcolor:           1.1.0-py36_1              anaconda   \n",
      "\n",
      "The following packages will be UPDATED:\n",
      "\n",
      "    asn1crypto:          0.24.0-py37_0                         --> 0.24.0-py36_0          anaconda   \n",
      "    backcall:            0.1.0-py_0                conda-forge --> 0.1.0-py_0             conda-forge\n",
      "    bleach:              3.1.0-py_0                conda-forge --> 3.1.0-py_0             conda-forge\n",
      "    certifi:             2018.10.15-py37_0         anaconda    --> 2018.10.15-py36_0      anaconda   \n",
      "    cffi:                1.11.5-py37he75722e_1                 --> 1.11.5-py36he75722e_1  anaconda   \n",
      "    chardet:             3.0.4-py37_1                          --> 3.0.4-py36_1           anaconda   \n",
      "    click:               7.0-py37_0                            --> 7.0-py36_0             anaconda   \n",
      "    cryptography:        2.4.1-py37h1ba5d50_0      anaconda    --> 2.4.1-py36h1ba5d50_0   anaconda   \n",
      "    decorator:           4.3.0-py37_0                          --> 4.3.0-py36_0           anaconda   \n",
      "    flask:               1.0.2-py37_1                          --> 1.0.2-py36_1           anaconda   \n",
      "    flask-wtf:           0.14.2-py37_1                         --> 0.14.2-py36_1          anaconda   \n",
      "    idna:                2.7-py37_0                            --> 2.7-py36_0             anaconda   \n",
      "    ipython_genutils:    0.2.0-py37_0                          --> 0.2.0-py36_0           anaconda   \n",
      "    itsdangerous:        1.1.0-py37_0                          --> 1.1.0-py36_0           anaconda   \n",
      "    jinja2:              2.10-py37_0                           --> 2.10-py36_0            anaconda   \n",
      "    jsonschema:          2.6.0-py37_0                          --> 2.6.0-py36_0           anaconda   \n",
      "    jupyter_client:      5.2.4-py_0                conda-forge --> 5.2.4-py_0             conda-forge\n",
      "    jupyter_core:        4.4.0-py37_0                          --> 4.4.0-py36_0           anaconda   \n",
      "    jupyterlab_server:   0.2.0-py_0                conda-forge --> 0.2.0-py_0             conda-forge\n",
      "    markupsafe:          1.1.0-py37h7b6447c_0                  --> 1.1.0-py36h7b6447c_0   anaconda   \n",
      "    nbconvert:           5.3.1-py_1                conda-forge --> 5.3.1-py_1             conda-forge\n",
      "    nbformat:            4.4.0-py37_0                          --> 4.4.0-py36_0           anaconda   \n",
      "    numpy:               1.15.4-py37h7e9f1db_0                 --> 1.15.4-py36h1d66e8a_0  anaconda   \n",
      "    numpy-base:          1.15.4-py37hde5b4d6_0                 --> 1.15.4-py36h81de0dd_0  anaconda   \n",
      "    pandas:              0.23.4-py37h04863e7_0                 --> 0.23.4-py36h04863e7_0  anaconda   \n",
      "    pandas-datareader:   0.7.0-py37_0                          --> 0.7.0-py36_0           anaconda   \n",
      "    pandocfilters:       1.4.2-py_1                conda-forge --> 1.4.2-py_1             conda-forge\n",
      "    parso:               0.3.1-py_0                conda-forge --> 0.3.1-py_0             conda-forge\n",
      "    pip:                 18.1-py37_0                           --> 18.1-py36_0            anaconda   \n",
      "    plotly:              3.4.2-py37h28b3542_0                  --> 3.4.2-py36h28b3542_0   anaconda   \n",
      "    prometheus_client:   0.5.0-py_0                conda-forge --> 0.5.0-py_0             conda-forge\n",
      "    prompt_toolkit:      2.0.7-py_0                conda-forge --> 2.0.7-py_0             conda-forge\n",
      "    pycosat:             0.6.3-py37h14c3975_0                  --> 0.6.3-py36h14c3975_0   anaconda   \n",
      "    pycparser:           2.19-py37_0                           --> 2.19-py36_0            anaconda   \n",
      "    pygments:            2.3.1-py_0                conda-forge --> 2.3.1-py_0             conda-forge\n",
      "    pyopenssl:           18.0.0-py37_0                         --> 18.0.0-py36_0          anaconda   \n",
      "    pysocks:             1.6.8-py37_0                          --> 1.6.8-py36_0           anaconda   \n",
      "    python-dateutil:     2.7.5-py37_0                          --> 2.7.5-py36_0           anaconda   \n",
      "    pytz:                2018.7-py37_0                         --> 2018.7-py36_0          anaconda   \n",
      "    retrying:            1.3.3-py37_2                          --> 1.3.3-py36_2           anaconda   \n",
      "    ruamel_yaml:         0.15.46-py37h14c3975_0                --> 0.15.46-py36h14c3975_0 anaconda   \n",
      "    scikit-learn:        0.20.1-py37h4989274_0     anaconda    --> 0.20.1-py36h4989274_0  anaconda   \n",
      "    scipy:               1.1.0-py37hfa4b5c9_1      anaconda    --> 1.1.0-py36hfa4b5c9_1   anaconda   \n",
      "    send2trash:          1.5.0-py_0                conda-forge --> 1.5.0-py_0             conda-forge\n",
      "    traitlets:           4.3.2-py37_0                          --> 4.3.2-py36_0           anaconda   \n",
      "    wcwidth:             0.1.7-py_1                conda-forge --> 0.1.7-py_1             conda-forge\n",
      "    webencodings:        0.5.1-py_1                conda-forge --> 0.5.1-py_1             conda-forge\n",
      "    werkzeug:            0.14.1-py37_0                         --> 0.14.1-py36_0          anaconda   \n",
      "    wheel:               0.32.3-py37_0                         --> 0.32.3-py36_0          anaconda   \n",
      "    wrapt:               1.10.11-py37h14c3975_2                --> 1.10.11-py36h14c3975_2 anaconda   \n",
      "    wtforms:             2.2.1-py37_0                          --> 2.2.1-py36_0           anaconda   \n",
      "\n",
      "The following packages will be DOWNGRADED:\n",
      "\n",
      "    conda:               4.5.12-py37_1000          conda-forge --> 4.5.12-py36_0                     \n",
      "    entrypoints:         0.3-py37_1000             conda-forge --> 0.2.3-py36_2           anaconda   \n",
      "    ipykernel:           5.1.0-py37h24bf2e0_1001   conda-forge --> 5.1.0-py36h39e3cac_0   anaconda   \n",
      "    ipython:             7.2.0-py37h24bf2e0_1000   conda-forge --> 7.2.0-py36h39e3cac_0   anaconda   \n",
      "    jedi:                0.13.2-py37_1000          conda-forge --> 0.13.1-py36_0          anaconda   \n",
      "    jupyterlab:          0.35.4-py37_0             conda-forge --> 0.35.3-py36_0          anaconda   \n",
      "    lxml:                4.3.0-py37hefd8a0e_0                  --> 4.2.5-py36hefd8a0e_0   anaconda   \n",
      "    mistune:             0.8.4-py37h14c3975_1000   conda-forge --> 0.8.4-py36h7b6447c_0   anaconda   \n",
      "    mkl_fft:             1.0.10-py37ha843d7b_0                 --> 1.0.6-py36h7dd41cf_0   anaconda   \n",
      "    mkl_random:          1.0.2-py37hd81dba3_0                  --> 1.0.1-py36h4414c95_1   anaconda   \n",
      "    notebook:            5.7.4-py37_1000           conda-forge --> 5.7.2-py36_0           anaconda   \n",
      "    pexpect:             4.6.0-py37_1000           conda-forge --> 4.6.0-py36_0           anaconda   \n",
      "    pickleshare:         0.7.5-py37_1000           conda-forge --> 0.7.5-py36_0           anaconda   \n",
      "    ptyprocess:          0.6.0-py37_1000           conda-forge --> 0.6.0-py36_0           anaconda   \n",
      "    python:              3.7.1-h0371630_3          anaconda    --> 3.6.7-h0371630_0       anaconda   \n",
      "    pyzmq:               17.1.2-py37h6afc9c9_1001  conda-forge --> 17.1.2-py36h14c3975_0  anaconda   \n",
      "    requests:            2.21.0-py37_0                         --> 2.20.1-py36_0          anaconda   \n",
      "    setuptools:          40.6.3-py37_0                         --> 40.6.2-py36_0          anaconda   \n",
      "    six:                 1.12.0-py37_0                         --> 1.11.0-py36_1          anaconda   \n",
      "    terminado:           0.8.1-py37_1001           conda-forge --> 0.8.1-py36_1           anaconda   \n",
      "    testpath:            0.4.2-py37_1000           conda-forge --> 0.4.2-py36_0           anaconda   \n",
      "    tornado:             5.1.1-py37h14c3975_1000   conda-forge --> 5.1.1-py36h7b6447c_0   anaconda   \n",
      "    urllib3:             1.24.1-py37_0                         --> 1.23-py36_0            anaconda   \n",
      "\n",
      "Proceed ([y]/n)? "
     ]
    }
   ],
   "source": [
    "import sys\n",
    "!{sys.executable} -m  conda install -c anaconda keras"
   ]
  },
  {
   "cell_type": "code",
   "execution_count": 183,
   "metadata": {},
   "outputs": [
    {
     "ename": "ModuleNotFoundError",
     "evalue": "No module named 'keras'",
     "output_type": "error",
     "traceback": [
      "\u001b[0;31m---------------------------------------------------------------------------\u001b[0m",
      "\u001b[0;31mModuleNotFoundError\u001b[0m                       Traceback (most recent call last)",
      "\u001b[0;32m<ipython-input-183-de16afd37917>\u001b[0m in \u001b[0;36m<module>\u001b[0;34m\u001b[0m\n\u001b[1;32m     34\u001b[0m \u001b[0;31m# LSTM\u001b[0m\u001b[0;34m\u001b[0m\u001b[0;34m\u001b[0m\u001b[0;34m\u001b[0m\u001b[0m\n\u001b[1;32m     35\u001b[0m \u001b[0;32mfrom\u001b[0m \u001b[0msklearn\u001b[0m\u001b[0;34m.\u001b[0m\u001b[0mpreprocessing\u001b[0m \u001b[0;32mimport\u001b[0m \u001b[0mMinMaxScaler\u001b[0m\u001b[0;34m\u001b[0m\u001b[0;34m\u001b[0m\u001b[0m\n\u001b[0;32m---> 36\u001b[0;31m \u001b[0;32mfrom\u001b[0m \u001b[0mkeras\u001b[0m\u001b[0;34m.\u001b[0m\u001b[0mmodels\u001b[0m \u001b[0;32mimport\u001b[0m \u001b[0mSequential\u001b[0m\u001b[0;34m\u001b[0m\u001b[0;34m\u001b[0m\u001b[0m\n\u001b[0m\u001b[1;32m     37\u001b[0m \u001b[0;32mfrom\u001b[0m \u001b[0mkeras\u001b[0m\u001b[0;34m.\u001b[0m\u001b[0mlayers\u001b[0m \u001b[0;32mimport\u001b[0m \u001b[0mDense\u001b[0m\u001b[0;34m,\u001b[0m \u001b[0mDropout\u001b[0m\u001b[0;34m,\u001b[0m \u001b[0mLSTM\u001b[0m\u001b[0;34m\u001b[0m\u001b[0;34m\u001b[0m\u001b[0m\n\u001b[1;32m     38\u001b[0m \u001b[0;34m\u001b[0m\u001b[0m\n",
      "\u001b[0;31mModuleNotFoundError\u001b[0m: No module named 'keras'"
     ]
    }
   ],
   "source": [
    "import datetime as dt\n",
    "import os\n",
    "import pandas as pd\n",
    "import numpy as np\n",
    "import csv\n",
    "import warnings\n",
    "from pandas import Series\n",
    "\n",
    "# Files\n",
    "from indicators import get_momentum, get_RSI, get_sma, plot_stock_prices_prediction\n",
    "from util import fetchOnlineData, slice_df\n",
    "\n",
    "# Plot\n",
    "import matplotlib.pyplot as plt\n",
    "import seaborn as sns\n",
    "\n",
    "# Sklearn\n",
    "from sklearn.preprocessing import MinMaxScaler, StandardScaler\n",
    "from sklearn.model_selection import train_test_split, GridSearchCV\n",
    "from sklearn.model_selection import cross_val_score\n",
    "from sklearn.metrics import mean_squared_error\n",
    "from sklearn import tree, metrics, neighbors\n",
    "\n",
    "# models\n",
    "from sklearn.linear_model import LogisticRegression\n",
    "from sklearn.tree import DecisionTreeClassifier\n",
    "from sklearn.ensemble import RandomForestClassifier, ExtraTreesClassifier\n",
    "\n",
    "# ARIMA\n",
    "import statsmodels\n",
    "from statsmodels.tsa.arima_model import ARIMA, ARIMAResults\n",
    "from statsmodels.graphics.tsaplots import plot_acf\n",
    "\n",
    "# LSTM\n",
    "from sklearn.preprocessing import MinMaxScaler\n",
    "from keras.models import Sequential\n",
    "from keras.layers import Dense, Dropout, LSTM\n",
    "\n",
    "#Bagging\n",
    "from sklearn.ensemble import BaggingClassifier, AdaBoostClassifier\n",
    "from sklearn.neighbors import KNeighborsClassifier\n",
    "\n",
    "#Neural Network\n",
    "from sklearn.neural_network import MLPClassifier\n",
    "\n",
    "\n",
    "# Add plotly for interactive charts\n",
    "from plotly.offline import init_notebook_mode, iplot\n",
    "init_notebook_mode(connected=True)\n",
    "import plotly.plotly as py\n",
    "import plotly.graph_objs as go\n",
    "from plotly import tools\n",
    "\n"
   ]
  },
  {
   "cell_type": "markdown",
   "metadata": {},
   "source": [
    "## Initial variables"
   ]
  },
  {
   "cell_type": "code",
   "execution_count": 132,
   "metadata": {},
   "outputs": [],
   "source": [
    "symbol = \"AABA\"\n",
    "\n",
    "# We'll look back 365 days\n",
    "start_d = dt.date.today() - dt.timedelta(365)"
   ]
  },
  {
   "cell_type": "markdown",
   "metadata": {},
   "source": [
    "## Getting data from Yahoo"
   ]
  },
  {
   "cell_type": "code",
   "execution_count": 133,
   "metadata": {},
   "outputs": [
    {
     "name": "stdout",
     "output_type": "stream",
     "text": [
      "[*********************100%***********************]  1 of 1 downloaded\n"
     ]
    }
   ],
   "source": [
    "yesterday = dt.date.today() - dt.timedelta(1)\n",
    "portf_value = fetchOnlineData(start_d, symbol, yesterday)"
   ]
  },
  {
   "cell_type": "code",
   "execution_count": 134,
   "metadata": {},
   "outputs": [],
   "source": [
    "# Normalize the prices Dataframe\n",
    "normed = portf_value.copy()"
   ]
  },
  {
   "cell_type": "code",
   "execution_count": null,
   "metadata": {},
   "outputs": [],
   "source": [
    "# Convert price column to float\n",
    "#normed[symbol] = pd.to_numeric(normed[symbol], downcast='float', errors='coerce').fillna(0)"
   ]
  },
  {
   "cell_type": "code",
   "execution_count": 136,
   "metadata": {},
   "outputs": [
    {
     "name": "stdout",
     "output_type": "stream",
     "text": [
      "<class 'pandas.core.frame.DataFrame'>\n",
      "DatetimeIndex: 251 entries, 2018-01-22 to 2019-01-18\n",
      "Data columns (total 1 columns):\n",
      "Adj Close    251 non-null float64\n",
      "dtypes: float64(1)\n",
      "memory usage: 3.9 KB\n"
     ]
    },
    {
     "data": {
      "text/html": [
       "<div>\n",
       "<style scoped>\n",
       "    .dataframe tbody tr th:only-of-type {\n",
       "        vertical-align: middle;\n",
       "    }\n",
       "\n",
       "    .dataframe tbody tr th {\n",
       "        vertical-align: top;\n",
       "    }\n",
       "\n",
       "    .dataframe thead th {\n",
       "        text-align: right;\n",
       "    }\n",
       "</style>\n",
       "<table border=\"1\" class=\"dataframe\">\n",
       "  <thead>\n",
       "    <tr style=\"text-align: right;\">\n",
       "      <th></th>\n",
       "      <th>Adj Close</th>\n",
       "    </tr>\n",
       "    <tr>\n",
       "      <th>Date</th>\n",
       "      <th></th>\n",
       "    </tr>\n",
       "  </thead>\n",
       "  <tbody>\n",
       "    <tr>\n",
       "      <th>2018-01-22</th>\n",
       "      <td>74.160004</td>\n",
       "    </tr>\n",
       "    <tr>\n",
       "      <th>2018-01-23</th>\n",
       "      <td>76.570000</td>\n",
       "    </tr>\n",
       "    <tr>\n",
       "      <th>2018-01-24</th>\n",
       "      <td>77.809998</td>\n",
       "    </tr>\n",
       "    <tr>\n",
       "      <th>2018-01-25</th>\n",
       "      <td>78.580002</td>\n",
       "    </tr>\n",
       "    <tr>\n",
       "      <th>2018-01-26</th>\n",
       "      <td>80.300003</td>\n",
       "    </tr>\n",
       "  </tbody>\n",
       "</table>\n",
       "</div>"
      ],
      "text/plain": [
       "            Adj Close\n",
       "Date                 \n",
       "2018-01-22  74.160004\n",
       "2018-01-23  76.570000\n",
       "2018-01-24  77.809998\n",
       "2018-01-25  78.580002\n",
       "2018-01-26  80.300003"
      ]
     },
     "execution_count": 136,
     "metadata": {},
     "output_type": "execute_result"
    }
   ],
   "source": [
    "normed.info()\n",
    "normed.head()"
   ]
  },
  {
   "cell_type": "markdown",
   "metadata": {},
   "source": [
    "## Getting indicator values"
   ]
  },
  {
   "cell_type": "code",
   "execution_count": 137,
   "metadata": {},
   "outputs": [],
   "source": [
    "def get_indicators(normed, symbol):\n",
    "\n",
    "    # Compute momentum\n",
    "    sym_mom = get_momentum(normed[symbol], window=10)\n",
    "\n",
    "    # ****Relative Strength Index (RSI)****\n",
    "    # Compute RSI\n",
    "    rsi_value = get_RSI(normed[symbol], 7)\n",
    "\n",
    "    # ****Simple moving average (SMA)****\n",
    "    # Compute SMA\n",
    "    sma, q = get_sma(normed[symbol], window=10)\n",
    "    return sym_mom, sma, q, rsi_value\n",
    "\n",
    "#normed = scaling_data(normed, symbol)\n",
    "\n",
    "normed['date'] = portf_value.index\n",
    "normed.set_index('date', inplace=True)\n",
    "normed.rename(columns={'Adj Close': symbol}, inplace=True)\n"
   ]
  },
  {
   "cell_type": "code",
   "execution_count": 138,
   "metadata": {},
   "outputs": [
    {
     "name": "stdout",
     "output_type": "stream",
     "text": [
      "date\n",
      "2018-02-05   -0.022249\n",
      "2018-02-06   -0.039702\n",
      "2018-02-07   -0.072613\n",
      "2018-02-08   -0.120005\n",
      "2018-02-09   -0.122291\n",
      "2018-02-12   -0.103857\n",
      "2018-02-13   -0.088923\n",
      "2018-02-14   -0.077867\n",
      "2018-02-15   -0.021181\n",
      "2018-02-16   -0.011962\n",
      "2018-02-20    0.028686\n",
      "2018-02-21    0.021488\n",
      "2018-02-22    0.046563\n",
      "2018-02-23    0.124512\n",
      "2018-02-26    0.107832\n",
      "2018-02-27    0.070745\n",
      "2018-02-28    0.049642\n",
      "2018-03-01    0.001086\n",
      "2018-03-02   -0.022984\n",
      "2018-03-05   -0.000952\n",
      "2018-03-06    0.007776\n",
      "2018-03-07    0.011583\n",
      "2018-03-08    0.002781\n",
      "2018-03-09   -0.014660\n",
      "2018-03-12   -0.006660\n",
      "2018-03-13   -0.002102\n",
      "2018-03-14    0.031396\n",
      "2018-03-15    0.077027\n",
      "2018-03-16    0.099188\n",
      "2018-03-19    0.059913\n",
      "                ...   \n",
      "2018-12-06    0.048777\n",
      "2018-12-07    0.013837\n",
      "2018-12-10   -0.002724\n",
      "2018-12-11   -0.027963\n",
      "2018-12-12   -0.020885\n",
      "2018-12-13   -0.040807\n",
      "2018-12-14   -0.037411\n",
      "2018-12-17   -0.084007\n",
      "2018-12-18   -0.115235\n",
      "2018-12-19   -0.109568\n",
      "2018-12-20   -0.111964\n",
      "2018-12-21   -0.116807\n",
      "2018-12-24   -0.104773\n",
      "2018-12-26   -0.074636\n",
      "2018-12-27   -0.077205\n",
      "2018-12-28   -0.070268\n",
      "2018-12-31   -0.065635\n",
      "2019-01-02   -0.043109\n",
      "2019-01-03   -0.060724\n",
      "2019-01-04    0.017678\n",
      "2019-01-07    0.051666\n",
      "2019-01-08    0.096855\n",
      "2019-01-09    0.129779\n",
      "2019-01-10    0.089983\n",
      "2019-01-11    0.084699\n",
      "2019-01-14    0.067524\n",
      "2019-01-15    0.083535\n",
      "2019-01-16    0.111324\n",
      "2019-01-17    0.158473\n",
      "2019-01-18    0.100817\n",
      "Length: 241, dtype: float64\n"
     ]
    }
   ],
   "source": [
    "# Get indicators\n",
    "sym_mom, sma, q, rsi_value = get_indicators(normed, symbol)\n",
    "\n",
    "\n",
    "# Create momentum column\n",
    "normed['Momentum'] = sym_mom\n",
    "\n",
    "# Create SMA column\n",
    "normed['SMA'] = sma\n",
    "\n",
    "# Create SMA column\n",
    "normed['RSI'] = rsi_value"
   ]
  },
  {
   "cell_type": "code",
   "execution_count": 139,
   "metadata": {},
   "outputs": [
    {
     "name": "stdout",
     "output_type": "stream",
     "text": [
      "<class 'pandas.core.frame.DataFrame'>\n",
      "DatetimeIndex: 251 entries, 2018-01-22 to 2019-01-18\n",
      "Data columns (total 4 columns):\n",
      "AABA        251 non-null float64\n",
      "Momentum    241 non-null float64\n",
      "SMA         242 non-null float64\n",
      "RSI         251 non-null float64\n",
      "dtypes: float64(4)\n",
      "memory usage: 9.8 KB\n"
     ]
    },
    {
     "data": {
      "text/html": [
       "<div>\n",
       "<style scoped>\n",
       "    .dataframe tbody tr th:only-of-type {\n",
       "        vertical-align: middle;\n",
       "    }\n",
       "\n",
       "    .dataframe tbody tr th {\n",
       "        vertical-align: top;\n",
       "    }\n",
       "\n",
       "    .dataframe thead th {\n",
       "        text-align: right;\n",
       "    }\n",
       "</style>\n",
       "<table border=\"1\" class=\"dataframe\">\n",
       "  <thead>\n",
       "    <tr style=\"text-align: right;\">\n",
       "      <th></th>\n",
       "      <th>AABA</th>\n",
       "      <th>Momentum</th>\n",
       "      <th>SMA</th>\n",
       "      <th>RSI</th>\n",
       "    </tr>\n",
       "    <tr>\n",
       "      <th>date</th>\n",
       "      <th></th>\n",
       "      <th></th>\n",
       "      <th></th>\n",
       "      <th></th>\n",
       "    </tr>\n",
       "  </thead>\n",
       "  <tbody>\n",
       "    <tr>\n",
       "      <th>2018-01-22</th>\n",
       "      <td>74.160004</td>\n",
       "      <td>0.000000</td>\n",
       "      <td>0.000000</td>\n",
       "      <td>56.776549</td>\n",
       "    </tr>\n",
       "    <tr>\n",
       "      <th>2018-01-23</th>\n",
       "      <td>76.570000</td>\n",
       "      <td>0.000000</td>\n",
       "      <td>0.000000</td>\n",
       "      <td>56.776549</td>\n",
       "    </tr>\n",
       "    <tr>\n",
       "      <th>2018-01-24</th>\n",
       "      <td>77.809998</td>\n",
       "      <td>0.000000</td>\n",
       "      <td>0.000000</td>\n",
       "      <td>56.776549</td>\n",
       "    </tr>\n",
       "    <tr>\n",
       "      <th>2018-01-25</th>\n",
       "      <td>78.580002</td>\n",
       "      <td>0.000000</td>\n",
       "      <td>0.000000</td>\n",
       "      <td>56.776549</td>\n",
       "    </tr>\n",
       "    <tr>\n",
       "      <th>2018-01-26</th>\n",
       "      <td>80.300003</td>\n",
       "      <td>0.000000</td>\n",
       "      <td>0.000000</td>\n",
       "      <td>56.776549</td>\n",
       "    </tr>\n",
       "    <tr>\n",
       "      <th>2018-01-29</th>\n",
       "      <td>79.339996</td>\n",
       "      <td>0.000000</td>\n",
       "      <td>0.000000</td>\n",
       "      <td>56.776549</td>\n",
       "    </tr>\n",
       "    <tr>\n",
       "      <th>2018-01-30</th>\n",
       "      <td>78.269997</td>\n",
       "      <td>0.000000</td>\n",
       "      <td>0.000000</td>\n",
       "      <td>56.776549</td>\n",
       "    </tr>\n",
       "    <tr>\n",
       "      <th>2018-01-31</th>\n",
       "      <td>79.879997</td>\n",
       "      <td>0.000000</td>\n",
       "      <td>0.000000</td>\n",
       "      <td>62.004931</td>\n",
       "    </tr>\n",
       "    <tr>\n",
       "      <th>2018-02-01</th>\n",
       "      <td>76.010002</td>\n",
       "      <td>0.000000</td>\n",
       "      <td>0.000000</td>\n",
       "      <td>46.299349</td>\n",
       "    </tr>\n",
       "    <tr>\n",
       "      <th>2018-02-02</th>\n",
       "      <td>74.400002</td>\n",
       "      <td>0.000000</td>\n",
       "      <td>77.532000</td>\n",
       "      <td>41.230507</td>\n",
       "    </tr>\n",
       "    <tr>\n",
       "      <th>2018-02-05</th>\n",
       "      <td>72.510002</td>\n",
       "      <td>-0.022249</td>\n",
       "      <td>77.367000</td>\n",
       "      <td>35.854496</td>\n",
       "    </tr>\n",
       "    <tr>\n",
       "      <th>2018-02-06</th>\n",
       "      <td>73.529999</td>\n",
       "      <td>-0.039702</td>\n",
       "      <td>77.063000</td>\n",
       "      <td>40.721095</td>\n",
       "    </tr>\n",
       "    <tr>\n",
       "      <th>2018-02-07</th>\n",
       "      <td>72.160004</td>\n",
       "      <td>-0.072613</td>\n",
       "      <td>76.498000</td>\n",
       "      <td>36.394360</td>\n",
       "    </tr>\n",
       "    <tr>\n",
       "      <th>2018-02-08</th>\n",
       "      <td>69.150002</td>\n",
       "      <td>-0.120005</td>\n",
       "      <td>75.555000</td>\n",
       "      <td>28.603934</td>\n",
       "    </tr>\n",
       "    <tr>\n",
       "      <th>2018-02-09</th>\n",
       "      <td>70.480003</td>\n",
       "      <td>-0.122291</td>\n",
       "      <td>74.573000</td>\n",
       "      <td>35.699300</td>\n",
       "    </tr>\n",
       "    <tr>\n",
       "      <th>2018-02-12</th>\n",
       "      <td>71.099998</td>\n",
       "      <td>-0.103857</td>\n",
       "      <td>73.749001</td>\n",
       "      <td>38.996449</td>\n",
       "    </tr>\n",
       "    <tr>\n",
       "      <th>2018-02-13</th>\n",
       "      <td>71.309998</td>\n",
       "      <td>-0.088923</td>\n",
       "      <td>73.053001</td>\n",
       "      <td>40.208006</td>\n",
       "    </tr>\n",
       "    <tr>\n",
       "      <th>2018-02-14</th>\n",
       "      <td>73.660004</td>\n",
       "      <td>-0.077867</td>\n",
       "      <td>72.431001</td>\n",
       "      <td>52.519269</td>\n",
       "    </tr>\n",
       "    <tr>\n",
       "      <th>2018-02-15</th>\n",
       "      <td>74.400002</td>\n",
       "      <td>-0.021181</td>\n",
       "      <td>72.270001</td>\n",
       "      <td>55.858276</td>\n",
       "    </tr>\n",
       "    <tr>\n",
       "      <th>2018-02-16</th>\n",
       "      <td>73.510002</td>\n",
       "      <td>-0.011962</td>\n",
       "      <td>72.181001</td>\n",
       "      <td>50.841503</td>\n",
       "    </tr>\n",
       "    <tr>\n",
       "      <th>2018-02-20</th>\n",
       "      <td>74.589996</td>\n",
       "      <td>0.028686</td>\n",
       "      <td>72.389001</td>\n",
       "      <td>56.386893</td>\n",
       "    </tr>\n",
       "    <tr>\n",
       "      <th>2018-02-21</th>\n",
       "      <td>75.110001</td>\n",
       "      <td>0.021488</td>\n",
       "      <td>72.547001</td>\n",
       "      <td>58.985856</td>\n",
       "    </tr>\n",
       "    <tr>\n",
       "      <th>2018-02-22</th>\n",
       "      <td>75.519997</td>\n",
       "      <td>0.046563</td>\n",
       "      <td>72.883000</td>\n",
       "      <td>61.117228</td>\n",
       "    </tr>\n",
       "    <tr>\n",
       "      <th>2018-02-23</th>\n",
       "      <td>77.760002</td>\n",
       "      <td>0.124512</td>\n",
       "      <td>73.744000</td>\n",
       "      <td>70.792046</td>\n",
       "    </tr>\n",
       "    <tr>\n",
       "      <th>2018-02-26</th>\n",
       "      <td>78.080002</td>\n",
       "      <td>0.107832</td>\n",
       "      <td>74.504000</td>\n",
       "      <td>71.955068</td>\n",
       "    </tr>\n",
       "    <tr>\n",
       "      <th>2018-02-27</th>\n",
       "      <td>76.129997</td>\n",
       "      <td>0.070745</td>\n",
       "      <td>75.007000</td>\n",
       "      <td>56.079669</td>\n",
       "    </tr>\n",
       "    <tr>\n",
       "      <th>2018-02-28</th>\n",
       "      <td>74.849998</td>\n",
       "      <td>0.049642</td>\n",
       "      <td>75.361000</td>\n",
       "      <td>47.973984</td>\n",
       "    </tr>\n",
       "    <tr>\n",
       "      <th>2018-03-01</th>\n",
       "      <td>73.739998</td>\n",
       "      <td>0.001086</td>\n",
       "      <td>75.369000</td>\n",
       "      <td>41.853618</td>\n",
       "    </tr>\n",
       "    <tr>\n",
       "      <th>2018-03-02</th>\n",
       "      <td>72.690002</td>\n",
       "      <td>-0.022984</td>\n",
       "      <td>75.198000</td>\n",
       "      <td>36.688158</td>\n",
       "    </tr>\n",
       "    <tr>\n",
       "      <th>2018-03-05</th>\n",
       "      <td>73.440002</td>\n",
       "      <td>-0.000952</td>\n",
       "      <td>75.191000</td>\n",
       "      <td>42.592420</td>\n",
       "    </tr>\n",
       "    <tr>\n",
       "      <th>...</th>\n",
       "      <td>...</td>\n",
       "      <td>...</td>\n",
       "      <td>...</td>\n",
       "      <td>...</td>\n",
       "    </tr>\n",
       "    <tr>\n",
       "      <th>2018-12-06</th>\n",
       "      <td>63.860001</td>\n",
       "      <td>0.048777</td>\n",
       "      <td>64.400001</td>\n",
       "      <td>48.434581</td>\n",
       "    </tr>\n",
       "    <tr>\n",
       "      <th>2018-12-07</th>\n",
       "      <td>63.009998</td>\n",
       "      <td>0.013837</td>\n",
       "      <td>64.486000</td>\n",
       "      <td>43.437264</td>\n",
       "    </tr>\n",
       "    <tr>\n",
       "      <th>2018-12-10</th>\n",
       "      <td>62.230000</td>\n",
       "      <td>-0.002724</td>\n",
       "      <td>64.469000</td>\n",
       "      <td>39.116495</td>\n",
       "    </tr>\n",
       "    <tr>\n",
       "      <th>2018-12-11</th>\n",
       "      <td>62.570000</td>\n",
       "      <td>-0.027963</td>\n",
       "      <td>64.289000</td>\n",
       "      <td>42.048055</td>\n",
       "    </tr>\n",
       "    <tr>\n",
       "      <th>2018-12-12</th>\n",
       "      <td>62.820000</td>\n",
       "      <td>-0.020885</td>\n",
       "      <td>64.155000</td>\n",
       "      <td>44.346833</td>\n",
       "    </tr>\n",
       "    <tr>\n",
       "      <th>2018-12-13</th>\n",
       "      <td>62.759998</td>\n",
       "      <td>-0.040807</td>\n",
       "      <td>63.887999</td>\n",
       "      <td>43.859678</td>\n",
       "    </tr>\n",
       "    <tr>\n",
       "      <th>2018-12-14</th>\n",
       "      <td>62.009998</td>\n",
       "      <td>-0.037411</td>\n",
       "      <td>63.646999</td>\n",
       "      <td>37.803741</td>\n",
       "    </tr>\n",
       "    <tr>\n",
       "      <th>2018-12-17</th>\n",
       "      <td>60.080002</td>\n",
       "      <td>-0.084007</td>\n",
       "      <td>63.096000</td>\n",
       "      <td>26.725267</td>\n",
       "    </tr>\n",
       "    <tr>\n",
       "      <th>2018-12-18</th>\n",
       "      <td>59.119999</td>\n",
       "      <td>-0.115235</td>\n",
       "      <td>62.326000</td>\n",
       "      <td>22.840892</td>\n",
       "    </tr>\n",
       "    <tr>\n",
       "      <th>2018-12-19</th>\n",
       "      <td>57.700001</td>\n",
       "      <td>-0.109568</td>\n",
       "      <td>61.616000</td>\n",
       "      <td>18.260744</td>\n",
       "    </tr>\n",
       "    <tr>\n",
       "      <th>2018-12-20</th>\n",
       "      <td>56.709999</td>\n",
       "      <td>-0.111964</td>\n",
       "      <td>60.900999</td>\n",
       "      <td>15.700025</td>\n",
       "    </tr>\n",
       "    <tr>\n",
       "      <th>2018-12-21</th>\n",
       "      <td>55.650002</td>\n",
       "      <td>-0.116807</td>\n",
       "      <td>60.165000</td>\n",
       "      <td>13.359794</td>\n",
       "    </tr>\n",
       "    <tr>\n",
       "      <th>2018-12-24</th>\n",
       "      <td>55.709999</td>\n",
       "      <td>-0.104773</td>\n",
       "      <td>59.513000</td>\n",
       "      <td>14.204286</td>\n",
       "    </tr>\n",
       "    <tr>\n",
       "      <th>2018-12-26</th>\n",
       "      <td>57.900002</td>\n",
       "      <td>-0.074636</td>\n",
       "      <td>59.046000</td>\n",
       "      <td>39.370669</td>\n",
       "    </tr>\n",
       "    <tr>\n",
       "      <th>2018-12-27</th>\n",
       "      <td>57.970001</td>\n",
       "      <td>-0.077205</td>\n",
       "      <td>58.561000</td>\n",
       "      <td>40.026675</td>\n",
       "    </tr>\n",
       "    <tr>\n",
       "      <th>2018-12-28</th>\n",
       "      <td>58.349998</td>\n",
       "      <td>-0.070268</td>\n",
       "      <td>58.120000</td>\n",
       "      <td>43.872879</td>\n",
       "    </tr>\n",
       "    <tr>\n",
       "      <th>2018-12-31</th>\n",
       "      <td>57.939999</td>\n",
       "      <td>-0.065635</td>\n",
       "      <td>57.713000</td>\n",
       "      <td>40.595675</td>\n",
       "    </tr>\n",
       "    <tr>\n",
       "      <th>2019-01-02</th>\n",
       "      <td>57.490002</td>\n",
       "      <td>-0.043109</td>\n",
       "      <td>57.454000</td>\n",
       "      <td>37.051712</td>\n",
       "    </tr>\n",
       "    <tr>\n",
       "      <th>2019-01-03</th>\n",
       "      <td>55.529999</td>\n",
       "      <td>-0.060724</td>\n",
       "      <td>57.095000</td>\n",
       "      <td>25.665976</td>\n",
       "    </tr>\n",
       "    <tr>\n",
       "      <th>2019-01-04</th>\n",
       "      <td>58.720001</td>\n",
       "      <td>0.017678</td>\n",
       "      <td>57.197000</td>\n",
       "      <td>53.056857</td>\n",
       "    </tr>\n",
       "    <tr>\n",
       "      <th>2019-01-07</th>\n",
       "      <td>59.639999</td>\n",
       "      <td>0.051666</td>\n",
       "      <td>57.490000</td>\n",
       "      <td>58.234995</td>\n",
       "    </tr>\n",
       "    <tr>\n",
       "      <th>2019-01-08</th>\n",
       "      <td>61.040001</td>\n",
       "      <td>0.096855</td>\n",
       "      <td>58.029000</td>\n",
       "      <td>65.074605</td>\n",
       "    </tr>\n",
       "    <tr>\n",
       "      <th>2019-01-09</th>\n",
       "      <td>62.939999</td>\n",
       "      <td>0.129779</td>\n",
       "      <td>58.752000</td>\n",
       "      <td>72.265861</td>\n",
       "    </tr>\n",
       "    <tr>\n",
       "      <th>2019-01-10</th>\n",
       "      <td>63.110001</td>\n",
       "      <td>0.089983</td>\n",
       "      <td>59.273000</td>\n",
       "      <td>72.849428</td>\n",
       "    </tr>\n",
       "    <tr>\n",
       "      <th>2019-01-11</th>\n",
       "      <td>62.880001</td>\n",
       "      <td>0.084699</td>\n",
       "      <td>59.764000</td>\n",
       "      <td>70.507720</td>\n",
       "    </tr>\n",
       "    <tr>\n",
       "      <th>2019-01-14</th>\n",
       "      <td>62.290001</td>\n",
       "      <td>0.067524</td>\n",
       "      <td>60.158000</td>\n",
       "      <td>64.320092</td>\n",
       "    </tr>\n",
       "    <tr>\n",
       "      <th>2019-01-15</th>\n",
       "      <td>62.779999</td>\n",
       "      <td>0.083535</td>\n",
       "      <td>60.642000</td>\n",
       "      <td>67.116228</td>\n",
       "    </tr>\n",
       "    <tr>\n",
       "      <th>2019-01-16</th>\n",
       "      <td>63.889999</td>\n",
       "      <td>0.111324</td>\n",
       "      <td>61.282000</td>\n",
       "      <td>72.758359</td>\n",
       "    </tr>\n",
       "    <tr>\n",
       "      <th>2019-01-17</th>\n",
       "      <td>64.330002</td>\n",
       "      <td>0.158473</td>\n",
       "      <td>62.162000</td>\n",
       "      <td>74.761043</td>\n",
       "    </tr>\n",
       "    <tr>\n",
       "      <th>2019-01-18</th>\n",
       "      <td>64.639999</td>\n",
       "      <td>0.100817</td>\n",
       "      <td>62.754000</td>\n",
       "      <td>76.199241</td>\n",
       "    </tr>\n",
       "  </tbody>\n",
       "</table>\n",
       "<p>251 rows × 4 columns</p>\n",
       "</div>"
      ],
      "text/plain": [
       "                 AABA  Momentum        SMA        RSI\n",
       "date                                                 \n",
       "2018-01-22  74.160004  0.000000   0.000000  56.776549\n",
       "2018-01-23  76.570000  0.000000   0.000000  56.776549\n",
       "2018-01-24  77.809998  0.000000   0.000000  56.776549\n",
       "2018-01-25  78.580002  0.000000   0.000000  56.776549\n",
       "2018-01-26  80.300003  0.000000   0.000000  56.776549\n",
       "2018-01-29  79.339996  0.000000   0.000000  56.776549\n",
       "2018-01-30  78.269997  0.000000   0.000000  56.776549\n",
       "2018-01-31  79.879997  0.000000   0.000000  62.004931\n",
       "2018-02-01  76.010002  0.000000   0.000000  46.299349\n",
       "2018-02-02  74.400002  0.000000  77.532000  41.230507\n",
       "2018-02-05  72.510002 -0.022249  77.367000  35.854496\n",
       "2018-02-06  73.529999 -0.039702  77.063000  40.721095\n",
       "2018-02-07  72.160004 -0.072613  76.498000  36.394360\n",
       "2018-02-08  69.150002 -0.120005  75.555000  28.603934\n",
       "2018-02-09  70.480003 -0.122291  74.573000  35.699300\n",
       "2018-02-12  71.099998 -0.103857  73.749001  38.996449\n",
       "2018-02-13  71.309998 -0.088923  73.053001  40.208006\n",
       "2018-02-14  73.660004 -0.077867  72.431001  52.519269\n",
       "2018-02-15  74.400002 -0.021181  72.270001  55.858276\n",
       "2018-02-16  73.510002 -0.011962  72.181001  50.841503\n",
       "2018-02-20  74.589996  0.028686  72.389001  56.386893\n",
       "2018-02-21  75.110001  0.021488  72.547001  58.985856\n",
       "2018-02-22  75.519997  0.046563  72.883000  61.117228\n",
       "2018-02-23  77.760002  0.124512  73.744000  70.792046\n",
       "2018-02-26  78.080002  0.107832  74.504000  71.955068\n",
       "2018-02-27  76.129997  0.070745  75.007000  56.079669\n",
       "2018-02-28  74.849998  0.049642  75.361000  47.973984\n",
       "2018-03-01  73.739998  0.001086  75.369000  41.853618\n",
       "2018-03-02  72.690002 -0.022984  75.198000  36.688158\n",
       "2018-03-05  73.440002 -0.000952  75.191000  42.592420\n",
       "...               ...       ...        ...        ...\n",
       "2018-12-06  63.860001  0.048777  64.400001  48.434581\n",
       "2018-12-07  63.009998  0.013837  64.486000  43.437264\n",
       "2018-12-10  62.230000 -0.002724  64.469000  39.116495\n",
       "2018-12-11  62.570000 -0.027963  64.289000  42.048055\n",
       "2018-12-12  62.820000 -0.020885  64.155000  44.346833\n",
       "2018-12-13  62.759998 -0.040807  63.887999  43.859678\n",
       "2018-12-14  62.009998 -0.037411  63.646999  37.803741\n",
       "2018-12-17  60.080002 -0.084007  63.096000  26.725267\n",
       "2018-12-18  59.119999 -0.115235  62.326000  22.840892\n",
       "2018-12-19  57.700001 -0.109568  61.616000  18.260744\n",
       "2018-12-20  56.709999 -0.111964  60.900999  15.700025\n",
       "2018-12-21  55.650002 -0.116807  60.165000  13.359794\n",
       "2018-12-24  55.709999 -0.104773  59.513000  14.204286\n",
       "2018-12-26  57.900002 -0.074636  59.046000  39.370669\n",
       "2018-12-27  57.970001 -0.077205  58.561000  40.026675\n",
       "2018-12-28  58.349998 -0.070268  58.120000  43.872879\n",
       "2018-12-31  57.939999 -0.065635  57.713000  40.595675\n",
       "2019-01-02  57.490002 -0.043109  57.454000  37.051712\n",
       "2019-01-03  55.529999 -0.060724  57.095000  25.665976\n",
       "2019-01-04  58.720001  0.017678  57.197000  53.056857\n",
       "2019-01-07  59.639999  0.051666  57.490000  58.234995\n",
       "2019-01-08  61.040001  0.096855  58.029000  65.074605\n",
       "2019-01-09  62.939999  0.129779  58.752000  72.265861\n",
       "2019-01-10  63.110001  0.089983  59.273000  72.849428\n",
       "2019-01-11  62.880001  0.084699  59.764000  70.507720\n",
       "2019-01-14  62.290001  0.067524  60.158000  64.320092\n",
       "2019-01-15  62.779999  0.083535  60.642000  67.116228\n",
       "2019-01-16  63.889999  0.111324  61.282000  72.758359\n",
       "2019-01-17  64.330002  0.158473  62.162000  74.761043\n",
       "2019-01-18  64.639999  0.100817  62.754000  76.199241\n",
       "\n",
       "[251 rows x 4 columns]"
      ]
     },
     "execution_count": 139,
     "metadata": {},
     "output_type": "execute_result"
    }
   ],
   "source": [
    "normed.info()\n",
    "# Clean nan values\n",
    "normed = normed.fillna(0)\n",
    "\n",
    "# Sort dataframe by index\n",
    "normed.sort_index()"
   ]
  },
  {
   "cell_type": "code",
   "execution_count": 140,
   "metadata": {},
   "outputs": [
    {
     "name": "stdout",
     "output_type": "stream",
     "text": [
      "          Total  Percent\n",
      "RSI           0      0.0\n",
      "SMA           0      0.0\n",
      "Momentum      0      0.0\n",
      "AABA          0      0.0\n"
     ]
    }
   ],
   "source": [
    "#missing data\n",
    "total = normed.isnull().sum().sort_values(ascending=False)\n",
    "percent = (normed.isnull().sum()/normed.isnull().count()).sort_values(ascending=False)\n",
    "missing_data = pd.concat([total, percent], axis=1, keys=['Total', 'Percent'])\n",
    "missing_data.head(20)\n",
    "print(missing_data)"
   ]
  },
  {
   "cell_type": "code",
   "execution_count": 141,
   "metadata": {},
   "outputs": [
    {
     "name": "stdout",
     "output_type": "stream",
     "text": [
      "--------------- CORRELATIONS ---------------\n",
      "              AABA  Momentum       SMA       RSI\n",
      "AABA      1.000000  0.300007  0.187497  0.437419\n",
      "Momentum  0.300007  1.000000 -0.008723  0.847988\n",
      "SMA       0.187497 -0.008723  1.000000 -0.024710\n",
      "RSI       0.437419  0.847988 -0.024710  1.000000\n"
     ]
    }
   ],
   "source": [
    "corr_df = normed.corr(method='pearson')\n",
    "print(\"--------------- CORRELATIONS ---------------\")\n",
    "print(corr_df)\n",
    "\n",
    "# Define X and y\n",
    "feature_cols = ['Momentum', 'RSI']\n",
    "X = normed[feature_cols]\n",
    "y = normed[symbol]\n",
    "\n",
    "# split X and y into training and testing sets\n",
    "X_train, X_test, y_train, y_test = train_test_split(X, y, test_size=0.30, shuffle=False)"
   ]
  },
  {
   "cell_type": "markdown",
   "metadata": {},
   "source": [
    "# Decision Tree Regressor"
   ]
  },
  {
   "cell_type": "code",
   "execution_count": 142,
   "metadata": {},
   "outputs": [
    {
     "data": {
      "text/plain": [
       "\"\\n# Use only to get the best parameter for max_depth\\n# Loop through a few different max depths and check the performance\\nfor d in [3, 5, 10]:\\n    # Create the tree and fit it\\n    decision_tree = tree.DecisionTreeRegressor(max_depth=d)\\n    decision_tree.fit(X_train, y_train)\\n\\n    # Print out the scores on train and test\\n    print('max_depth=', str(d))\\n    print(decision_tree.score(X_train, y_train))\\n    print(decision_tree.score(X_test, y_test), '\\n')\\n\""
      ]
     },
     "execution_count": 142,
     "metadata": {},
     "output_type": "execute_result"
    }
   ],
   "source": [
    "'''\n",
    "# Use only to get the best parameter for max_depth\n",
    "# Loop through a few different max depths and check the performance\n",
    "for d in [3, 5, 10]:\n",
    "    # Create the tree and fit it\n",
    "    decision_tree = tree.DecisionTreeRegressor(max_depth=d)\n",
    "    decision_tree.fit(X_train, y_train)\n",
    "\n",
    "    # Print out the scores on train and test\n",
    "    print('max_depth=', str(d))\n",
    "    print(decision_tree.score(X_train, y_train))\n",
    "    print(decision_tree.score(X_test, y_test), '\\n')\n",
    "'''"
   ]
  },
  {
   "cell_type": "code",
   "execution_count": 143,
   "metadata": {},
   "outputs": [],
   "source": [
    "def model_fit_pred(X_train, y_train, X_test):\n",
    "    '''Fit a model and get predictions and metrics'''\n",
    "    \n",
    "    model.fit(X_train, y_train)\n",
    "\n",
    "    # Predictions\n",
    "    y_pred = model.predict(X_test)\n",
    "\n",
    "    # Measuring predictions\n",
    "\n",
    "    # Accuracy\n",
    "    scores = cross_val_score(model, X_test, y_test, cv=10)\n",
    "    print(\"Accuracy: %0.2f (+/- %0.2f)\" % (scores.mean(), scores.std() / 2))\n",
    "\n",
    "    # Coefficient of determination R^2\n",
    "    '''\n",
    "    The best possible score is 1.0 and it can be negative (because the model can be arbitrarily worse). A constant model that always predicts the expected value of y, disregarding the input features, would get a R^2 score of 0.0.\n",
    "    '''\n",
    "    coef_deter = model.score(X_train, y_train)\n",
    "    print('Coefficient of determination R^2: %s' % coef_deter)\n",
    "\n",
    "    # Forecast error\n",
    "    '''\n",
    "    The units of the forecast error are the same as the units of the prediction. A forecast error of zero indicates no error, or perfect skill for that forecast.\n",
    "    '''\n",
    "    forecast_errors = [y_test[i] - y_pred[i] for i in range(len(y_test))]\n",
    "    print('Forecast Errors: %s' % forecast_errors)\n",
    "\n",
    "    # Forecast bias\n",
    "    '''\n",
    "    Mean forecast error, also known as the forecast bias. A forecast bias of zero, or a very small number near zero, shows an unbiased model.\n",
    "    '''\n",
    "    bias = sum(forecast_errors) * 1.0 / len(y_test)\n",
    "    print('Bias: %f' % bias)\n",
    "\n",
    "    # Mean absolute error\n",
    "    '''\n",
    "    A mean absolute error of zero indicates no error.\n",
    "    '''\n",
    "    mae = metrics.mean_absolute_error(y_test, y_pred)\n",
    "    print('Mean Absolute Error:', metrics.mean_absolute_error(y_test, y_pred))\n",
    "\n",
    "    # Mean squared error\n",
    "    '''\n",
    "    A mean squared error of zero indicates perfect skill, or no error.\n",
    "    '''\n",
    "    mse = metrics.mean_squared_error(y_test, y_pred)\n",
    "    print('Mean Squared Error:', metrics.mean_squared_error(y_test, y_pred))\n",
    "\n",
    "    # Root mean squared error\n",
    "    '''\n",
    "    As with the mean squared error, an RMSE of zero indicates no error.\n",
    "    '''\n",
    "    rmse = np.sqrt(metrics.mean_squared_error(y_test, y_pred))\n",
    "    print('Root Mean Squared Error:', np.sqrt(metrics.mean_squared_error(y_test, y_pred)))\n",
    "\n",
    "    results = pd.DataFrame({'Price': y_test, 'Price prediction': y_pred})\n",
    "    results.sort_index(inplace=True)\n",
    "\n",
    "    return results, coef_deter, forecast_errors, bias, mae, mse, rmse"
   ]
  },
  {
   "cell_type": "markdown",
   "metadata": {},
   "source": [
    "## Creating the model"
   ]
  },
  {
   "cell_type": "code",
   "execution_count": 144,
   "metadata": {},
   "outputs": [
    {
     "name": "stdout",
     "output_type": "stream",
     "text": [
      "Accuracy: -5.77 (+/- 2.28)\n",
      "Coefficient of determination R^2: 0.9789414268921619\n",
      "Forecast Errors: [-5.514288714285726, -6.124289714285723, -2.8075007500000027, -7.669998333333339, 0.29000100000000373, -12.369998999999993, -5.520001000000001, -10.740002000000004, -9.220002000000001, -9.329997999999996, -9.550002999999997, -3.6899950000000032, -8.433335333333332, -10.420001999999997, -11.525002000000008, -11.310001, -18.270004999999998, -10.987500750000002, -9.317498749999999, -13.010002000000007, -11.610000000000007, -13.995003000000004, -10.130001499999992, -9.45999899999999, -13.53499949999999, -9.360000499999991, -6.190002999999997, -15.819999999999993, -5.45000000000001, -9.077500750000006, -12.804285714285726, -6.379997000000003, -5.65000100000001, -13.040001000000004, -8.72999999999999, -10.534285714285723, -8.190003000000011, -8.07999749999999, -13.61, -14.699996999999996, -4.189993999999999, -16.93000099999999, -10.690003000000004, -16.020004999999998, -10.70999900000001, -5.629997000000003, -8.894285714285722, -7.047502750000007, -17.390003, -10.610000000000007, -10.629996999999996, -6.3200040000000115, -9.905003000000008, -4.739997999999993, -10.030003, -11.450001, -12.440003000000004, -13.5, -17.419998000000007, -13.409995999999992, -13.33999699999999, -7.550004000000001, -13.369998999999993, -14.424999, -10.120003000000004, -16.544998499999984, -11.199997000000003, -15.459998999999996, -16.960003, -16.790000999999997, -13.619999, -20.069999999999993, -13.720001000000003, -16.010003000000005, -11.599998, -11.400002]\n",
      "Bias: -10.815820\n",
      "Mean Absolute Error: 10.823451282738096\n",
      "Mean Squared Error: 132.9381237888691\n",
      "Root Mean Squared Error: 11.529879608602558\n"
     ]
    }
   ],
   "source": [
    "model = tree.DecisionTreeRegressor(max_depth=10)\n",
    "results, coef_deter, forecast_errors, bias, mae, mse, rmse = model_fit_pred(X_train, y_train, X_test)"
   ]
  },
  {
   "cell_type": "markdown",
   "metadata": {},
   "source": [
    "## Plotting predictioons"
   ]
  },
  {
   "cell_type": "code",
   "execution_count": 152,
   "metadata": {},
   "outputs": [
    {
     "data": {
      "image/png": "[encoded data removed]",
      "text/plain": [
       "<Figure size 864x576 with 1 Axes>"
      ]
     },
     "metadata": {
      "needs_background": "light"
     },
     "output_type": "display_data"
    }
   ],
   "source": [
    "# Plot prediction\n",
    "plt.figure(figsize=(12,8))\n",
    "plt.plot(X_test.index, results['Price'], label='Price')\n",
    "plt.plot(X_test.index,results['Price prediction'], label='Prediction')\n",
    "plt.title(\"Forecast prices\")\n",
    "plt.legend()\n",
    "plt.grid()\n",
    "plt.show()"
   ]
  },
  {
   "cell_type": "markdown",
   "metadata": {},
   "source": [
    "# KNN Model"
   ]
  },
  {
   "cell_type": "markdown",
   "metadata": {},
   "source": [
    "## Creating the model"
   ]
  },
  {
   "cell_type": "code",
   "execution_count": 153,
   "metadata": {},
   "outputs": [
    {
     "name": "stdout",
     "output_type": "stream",
     "text": [
      "KNN: KNeighborsRegressor(algorithm='auto', leaf_size=30, metric='minkowski',\n",
      "          metric_params=None, n_jobs=None, n_neighbors=5, p=2,\n",
      "          weights='uniform')\n"
     ]
    }
   ],
   "source": [
    "params = {'n_neighbors': [2, 3, 4, 5, 6, 7, 8, 9, 10, 11, 12, 13, 14, 15]}\n",
    "knn = neighbors.KNeighborsRegressor()\n",
    "print('KNN: %s' % knn)\n",
    "model = GridSearchCV(knn, params, cv=5)"
   ]
  },
  {
   "cell_type": "code",
   "execution_count": 154,
   "metadata": {},
   "outputs": [
    {
     "name": "stderr",
     "output_type": "stream",
     "text": [
      "/home/emi/miniconda3py37/lib/python3.7/site-packages/sklearn/model_selection/_search.py:841: DeprecationWarning:\n",
      "\n",
      "The default of the `iid` parameter will change from True to False in version 0.22 and will be removed in 0.24. This will change numeric results when test-set sizes are unequal.\n",
      "\n",
      "/home/emi/miniconda3py37/lib/python3.7/site-packages/sklearn/model_selection/_search.py:841: DeprecationWarning:\n",
      "\n",
      "The default of the `iid` parameter will change from True to False in version 0.22 and will be removed in 0.24. This will change numeric results when test-set sizes are unequal.\n",
      "\n",
      "/home/emi/miniconda3py37/lib/python3.7/site-packages/sklearn/model_selection/_search.py:841: DeprecationWarning:\n",
      "\n",
      "The default of the `iid` parameter will change from True to False in version 0.22 and will be removed in 0.24. This will change numeric results when test-set sizes are unequal.\n",
      "\n",
      "/home/emi/miniconda3py37/lib/python3.7/site-packages/sklearn/model_selection/_search.py:841: DeprecationWarning:\n",
      "\n",
      "The default of the `iid` parameter will change from True to False in version 0.22 and will be removed in 0.24. This will change numeric results when test-set sizes are unequal.\n",
      "\n",
      "/home/emi/miniconda3py37/lib/python3.7/site-packages/sklearn/model_selection/_search.py:841: DeprecationWarning:\n",
      "\n",
      "The default of the `iid` parameter will change from True to False in version 0.22 and will be removed in 0.24. This will change numeric results when test-set sizes are unequal.\n",
      "\n",
      "/home/emi/miniconda3py37/lib/python3.7/site-packages/sklearn/model_selection/_search.py:841: DeprecationWarning:\n",
      "\n",
      "The default of the `iid` parameter will change from True to False in version 0.22 and will be removed in 0.24. This will change numeric results when test-set sizes are unequal.\n",
      "\n",
      "/home/emi/miniconda3py37/lib/python3.7/site-packages/sklearn/model_selection/_search.py:841: DeprecationWarning:\n",
      "\n",
      "The default of the `iid` parameter will change from True to False in version 0.22 and will be removed in 0.24. This will change numeric results when test-set sizes are unequal.\n",
      "\n",
      "/home/emi/miniconda3py37/lib/python3.7/site-packages/sklearn/model_selection/_search.py:841: DeprecationWarning:\n",
      "\n",
      "The default of the `iid` parameter will change from True to False in version 0.22 and will be removed in 0.24. This will change numeric results when test-set sizes are unequal.\n",
      "\n",
      "/home/emi/miniconda3py37/lib/python3.7/site-packages/sklearn/model_selection/_search.py:841: DeprecationWarning:\n",
      "\n",
      "The default of the `iid` parameter will change from True to False in version 0.22 and will be removed in 0.24. This will change numeric results when test-set sizes are unequal.\n",
      "\n"
     ]
    },
    {
     "name": "stdout",
     "output_type": "stream",
     "text": [
      "Accuracy: -1.98 (+/- 1.82)\n",
      "Coefficient of determination R^2: 0.5956085745851487\n",
      "Forecast Errors: [-4.956670000000003, -4.946668333333335, -6.596664333333337, -5.983329999999995, -4.826665333333338, -6.046666666666667, -6.6066656666666645, -9.716665666666671, -10.620000666666677, -10.626666666666672, -11.466667333333326, -11.016662333333336, -9.540001666666669, -10.509998666666661, -8.953336333333347, -9.966666000000004, -9.97333566666667, -13.040000666666664, -10.483333333333334, -15.190002333333332, -14.063330999999998, -13.856669333333322, -12.066669000000005, -9.806665666666667, -12.826665999999996, -12.240001666666664, -9.219998999999994, -14.070002666666667, -8.669998999999997, -12.190001000000002, -15.409999333333332, -11.083333666666675, -11.086667333333331, -15.686668999999995, -8.900000333333324, -10.889999666666661, -13.416669666666671, -9.45333033333334, -8.543329333333332, -12.39333333333333, -11.806660666666659, -13.089999333333324, -11.340004000000008, -14.486671999999999, -11.136665000000008, -9.756662999999989, -10.156664333333318, -9.58333766666668, -6.899999666666666, -12.976666333333334, -11.170000333333341, -9.490002000000004, -7.333337333333347, -10.399999000000001, -9.816668, -10.426664666666667, -11.416666666666671, -12.476663666666667, -12.416666666666671, -11.229997666666662, -13.60666433333332, -13.900002, -13.636666333333338, -14.286665333333318, -15.02000166666668, -15.36666633333332, -14.696667999999995, -19.036666999999994, -13.956668666666658, -13.786666666666655, -14.903331666666666, -17.786666999999994, -15.740000333333334, -13.006668666666663, -15.453333333333333, -15.143336333333338]\n",
      "Bias: -11.495746\n",
      "Mean Absolute Error: 11.495745732456141\n",
      "Mean Squared Error: 141.00174050170054\n",
      "Root Mean Squared Error: 11.874415375154287\n"
     ]
    },
    {
     "name": "stderr",
     "output_type": "stream",
     "text": [
      "/home/emi/miniconda3py37/lib/python3.7/site-packages/sklearn/model_selection/_search.py:841: DeprecationWarning:\n",
      "\n",
      "The default of the `iid` parameter will change from True to False in version 0.22 and will be removed in 0.24. This will change numeric results when test-set sizes are unequal.\n",
      "\n"
     ]
    }
   ],
   "source": [
    "results, coef_deter, forecast_errors, bias, mae, mse, rmse = model_fit_pred(X_train, y_train, X_test)"
   ]
  },
  {
   "cell_type": "markdown",
   "metadata": {},
   "source": [
    "## Ploting predictions"
   ]
  },
  {
   "cell_type": "code",
   "execution_count": 155,
   "metadata": {},
   "outputs": [
    {
     "data": {
      "image/png": "[encoded data removed]",
      "text/plain": [
       "<Figure size 864x576 with 1 Axes>"
      ]
     },
     "metadata": {
      "needs_background": "light"
     },
     "output_type": "display_data"
    }
   ],
   "source": [
    "# Plot prediction\n",
    "plt.figure(figsize=(12,8))\n",
    "plt.plot(X_test.index, results['Price'], label='Price')\n",
    "plt.plot(X_test.index,results['Price prediction'], label='Prediction')\n",
    "plt.title(\"Forecast prices\")\n",
    "plt.legend()\n",
    "plt.grid()\n",
    "plt.show()"
   ]
  },
  {
   "cell_type": "markdown",
   "metadata": {},
   "source": [
    "# ARIMA Model"
   ]
  },
  {
   "cell_type": "code",
   "execution_count": 25,
   "metadata": {},
   "outputs": [],
   "source": [
    "# evaluate an ARIMA model for a given order (p,d,q)\n",
    "def evaluate_arima_model(X, arima_order):\n",
    "    # prepare training dataset\n",
    "    train_size = int(len(X) * 0.66)\n",
    "    train, test = X[0:train_size], X[train_size:]\n",
    "    history = [x for x in train]\n",
    "    # make predictions\n",
    "    predictions = list()\n",
    "    for t in range(len(test)):\n",
    "        model = ARIMA(history, order=arima_order)\n",
    "        model_fit = model.fit(disp=0)\n",
    "        yhat = model_fit.forecast()[0]\n",
    "        predictions.append(yhat)\n",
    "        history.append(test[t])\n",
    "    # calculate out of sample error\n",
    "    error = mean_squared_error(test, predictions)\n",
    "    return error"
   ]
  },
  {
   "cell_type": "code",
   "execution_count": 26,
   "metadata": {},
   "outputs": [],
   "source": [
    "# evaluate combinations of p, d and q values for an ARIMA model\n",
    "def evaluate_models(dataset, p_values, d_values, q_values):\n",
    "    dataset = dataset.astype('float32')\n",
    "    best_score, best_cfg = float(\"inf\"), None\n",
    "    for p in p_values:\n",
    "        for d in d_values:\n",
    "            for q in q_values:\n",
    "                order = (p,d,q)\n",
    "                try:\n",
    "                    mse = evaluate_arima_model(dataset, order)\n",
    "                    if mse < best_score:\n",
    "                        best_score, best_cfg = mse, order\n",
    "                    print('ARIMA%s MSE=%.3f' % (order,mse))\n",
    "                except:\n",
    "                    continue\n",
    "    print('Best ARIMA%s MSE=%.3f' % (best_cfg, best_score))"
   ]
  },
  {
   "cell_type": "markdown",
   "metadata": {},
   "source": [
    "## Getting best parameters values"
   ]
  },
  {
   "cell_type": "code",
   "execution_count": 29,
   "metadata": {},
   "outputs": [
    {
     "name": "stdout",
     "output_type": "stream",
     "text": [
      "ARIMA(0, 0, 0) MSE=24.927\n",
      "ARIMA(0, 0, 1) MSE=8.214\n",
      "ARIMA(0, 0, 2) MSE=3.401\n",
      "ARIMA(0, 1, 0) MSE=2.031\n",
      "ARIMA(0, 1, 1) MSE=2.239\n",
      "ARIMA(0, 1, 2) MSE=4.172\n",
      "ARIMA(0, 2, 0) MSE=3.202\n",
      "ARIMA(0, 2, 1) MSE=3.383\n",
      "ARIMA(0, 2, 2) MSE=2.942\n",
      "ARIMA(1, 0, 0) MSE=2.588\n",
      "ARIMA(1, 0, 1) MSE=3.160\n",
      "ARIMA(1, 0, 2) MSE=2.753\n",
      "ARIMA(1, 1, 0) MSE=2.102\n",
      "ARIMA(1, 2, 0) MSE=3.335\n",
      "ARIMA(2, 1, 0) MSE=2.309\n",
      "ARIMA(2, 2, 0) MSE=3.411\n",
      "ARIMA(2, 2, 1) MSE=4.181\n",
      "ARIMA(4, 0, 0) MSE=2.563\n",
      "ARIMA(4, 1, 0) MSE=2.153\n",
      "ARIMA(4, 1, 1) MSE=2.472\n",
      "ARIMA(4, 2, 0) MSE=3.086\n",
      "ARIMA(6, 0, 1) MSE=3.108\n",
      "ARIMA(6, 1, 0) MSE=2.195\n",
      "ARIMA(6, 1, 1) MSE=2.191\n",
      "ARIMA(6, 1, 2) MSE=5.428\n",
      "ARIMA(6, 2, 0) MSE=2.765\n",
      "ARIMA(8, 0, 0) MSE=2.999\n",
      "ARIMA(8, 0, 1) MSE=2.978\n",
      "ARIMA(8, 0, 2) MSE=3.097\n",
      "ARIMA(8, 1, 0) MSE=3.076\n",
      "ARIMA(8, 1, 1) MSE=3.148\n",
      "ARIMA(8, 1, 2) MSE=3.849\n",
      "ARIMA(8, 2, 0) MSE=4.572\n",
      "ARIMA(10, 0, 0) MSE=3.076\n",
      "ARIMA(10, 1, 0) MSE=3.137\n",
      "ARIMA(10, 1, 1) MSE=3.352\n",
      "ARIMA(10, 2, 0) MSE=5.501\n",
      "Best ARIMA(0, 1, 0) MSE=2.031\n"
     ]
    }
   ],
   "source": [
    "# evaluate parameters\n",
    "p_values = [0, 1, 2, 4, 6, 8, 10]\n",
    "d_values = range(0, 3)\n",
    "q_values = range(0, 3)\n",
    "warnings.filterwarnings(\"ignore\")\n",
    "evaluate_models(series.values, p_values, d_values, q_values)"
   ]
  },
  {
   "cell_type": "markdown",
   "metadata": {},
   "source": [
    "## Fitting model and plotting"
   ]
  },
  {
   "cell_type": "code",
   "execution_count": 85,
   "metadata": {},
   "outputs": [
    {
     "name": "stdout",
     "output_type": "stream",
     "text": [
      "predicted=64.375608, expected=62.480000\n",
      "predicted=63.232771, expected=60.980000\n",
      "predicted=61.705952, expected=59.950001\n",
      "predicted=60.655295, expected=61.209999\n",
      "predicted=61.921743, expected=62.279999\n",
      "predicted=62.995861, expected=64.389999\n",
      "predicted=65.121704, expected=63.590000\n",
      "predicted=64.304494, expected=62.220001\n",
      "predicted=62.911334, expected=60.889999\n",
      "predicted=61.559120, expected=62.150002\n",
      "predicted=62.825546, expected=62.400002\n",
      "predicted=63.070970, expected=64.370003\n",
      "predicted=65.054790, expected=64.160004\n",
      "predicted=64.835372, expected=65.430000\n",
      "predicted=66.111563, expected=64.419998\n",
      "predicted=65.084122, expected=65.589996\n",
      "predicted=66.259282, expected=66.820000\n",
      "predicted=67.494949, expected=64.800003\n",
      "predicted=65.448003, expected=63.860001\n",
      "predicted=64.492278, expected=63.009998\n",
      "predicted=63.627743, expected=62.230000\n",
      "predicted=62.834175, expected=62.570000\n",
      "predicted=63.171635, expected=62.820000\n",
      "predicted=63.418286, expected=62.759998\n",
      "predicted=63.352073, expected=62.009998\n",
      "predicted=62.589531, expected=60.080002\n",
      "predicted=60.636298, expected=59.119999\n",
      "predicted=59.662384, expected=57.700001\n",
      "predicted=58.224547, expected=56.709999\n",
      "predicted=57.220900, expected=55.650002\n",
      "predicted=56.146877, expected=55.709999\n",
      "predicted=56.203008, expected=57.900002\n",
      "predicted=58.407897, expected=57.970001\n",
      "predicted=58.474088, expected=58.349998\n",
      "predicted=58.853015, expected=57.939999\n",
      "predicted=58.435213, expected=57.490002\n",
      "predicted=57.977205, expected=55.529999\n",
      "predicted=55.996638, expected=58.720001\n",
      "predicted=59.209334, expected=59.639999\n",
      "predicted=60.132892, expected=61.040001\n",
      "predicted=61.540329, expected=62.939999\n",
      "predicted=63.451706, expected=63.110001\n",
      "predicted=63.618953, expected=62.880001\n",
      "Test MSE: 2.031\n"
     ]
    },
    {
     "data": {
      "image/png": "[encoded data removed]",
      "text/plain": [
       "<Figure size 432x288 with 1 Axes>"
      ]
     },
     "metadata": {},
     "output_type": "display_data"
    }
   ],
   "source": [
    "series =  pd.Series(normed[symbol].values)\n",
    "\n",
    "X = series.values\n",
    "size = int(len(X) * 0.66)\n",
    "train, test = X[0:size], X[size:len(X)]\n",
    "history = [x for x in train]\n",
    "predictions = list()\n",
    "for t in range(len(test)):\n",
    "    model = ARIMA(history, order=(0,1,0))\n",
    "    model_fit = model.fit(disp=0)\n",
    "    output = model_fit.forecast()\n",
    "    yhat = output[0]\n",
    "    predictions.append(yhat)\n",
    "    obs = test[t]\n",
    "    history.append(obs)\n",
    "    print('predicted=%f, expected=%f' % (yhat, obs))\n",
    "error = mean_squared_error(test, predictions)\n",
    "print('Test MSE: %.3f' % error)\n",
    "# plot\n",
    "plt.plot(test)\n",
    "plt.plot(predictions, color='red')\n",
    "plt.title(\"ARIMA Rolling Forecast Line Plot\")\n",
    "plt.show()"
   ]
  },
  {
   "cell_type": "markdown",
   "metadata": {},
   "source": [
    "## Showing summary"
   ]
  },
  {
   "cell_type": "code",
   "execution_count": 95,
   "metadata": {},
   "outputs": [
    {
     "name": "stdout",
     "output_type": "stream",
     "text": [
      "                             ARIMA Model Results                              \n",
      "==============================================================================\n",
      "Dep. Variable:                    D.y   No. Observations:                  124\n",
      "Model:                 ARIMA(0, 1, 0)   Log Likelihood                -414.017\n",
      "Method:                           css   S.D. of innovations              6.820\n",
      "Date:                Thu, 17 Jan 2019   AIC                            832.033\n",
      "Time:                        20:46:10   BIC                            837.674\n",
      "Sample:                             1   HQIC                           834.324\n",
      "                                                                              \n",
      "==============================================================================\n",
      "                 coef    std err          z      P>|z|      [0.025      0.975]\n",
      "------------------------------------------------------------------------------\n",
      "const          0.5090      0.612      0.831      0.408      -0.691       1.709\n",
      "==============================================================================\n"
     ]
    },
    {
     "data": {
      "image/png": "[encoded data removed]",
      "text/plain": [
       "<Figure size 432x288 with 1 Axes>"
      ]
     },
     "metadata": {},
     "output_type": "display_data"
    },
    {
     "data": {
      "image/png": "[encoded data removed]",
      "text/plain": [
       "<Figure size 432x288 with 1 Axes>"
      ]
     },
     "metadata": {},
     "output_type": "display_data"
    },
    {
     "name": "stdout",
     "output_type": "stream",
     "text": [
      "                  0\n",
      "count  1.240000e+02\n",
      "mean   9.463756e-16\n",
      "std    6.847974e+00\n",
      "min   -3.848948e+00\n",
      "25%   -1.543951e+00\n",
      "50%   -7.589516e-01\n",
      "75%    5.510471e-01\n",
      "max    7.415105e+01\n"
     ]
    }
   ],
   "source": [
    "print(model_fit.summary())\n",
    "# plot residual errors\n",
    "residuals = DataFrame(model_fit.resid)\n",
    "residuals.plot()\n",
    "plt.title(\"ARMA Fit Residual Error Line Plot\")\n",
    "plt.show()\n",
    "residuals.plot(kind='kde')\n",
    "plt.title(\"ARMA Fit Residual Error Density Plot\")\n",
    "plt.grid(\"on\")\n",
    "plt.show()\n",
    "print(residuals.describe())"
   ]
  },
  {
   "cell_type": "markdown",
   "metadata": {},
   "source": [
    "## RMS"
   ]
  },
  {
   "cell_type": "code",
   "execution_count": 86,
   "metadata": {},
   "outputs": [
    {
     "name": "stdout",
     "output_type": "stream",
     "text": [
      "RMS:  8.644035506873553\n"
     ]
    }
   ],
   "source": [
    "rms=np.sqrt(np.mean(np.power((np.array(history)-np.array(predictions)),2)))\n",
    "print('RMS: ', rms)"
   ]
  },
  {
   "cell_type": "markdown",
   "metadata": {},
   "source": [
    "## Saving an ARIMA Time Series Forecasting Model\n",
    "\n",
    "The statsmodels library provides an implementation of ARIMA for use in Python. ARIMA models can be saved to file for later use in making predictions on new data. There is a bug in the earlier versions to 0.9 of the statsmodels library that prevents saved models from being loaded.\n"
   ]
  },
  {
   "cell_type": "code",
   "execution_count": 87,
   "metadata": {},
   "outputs": [
    {
     "name": "stdout",
     "output_type": "stream",
     "text": [
      "statsmodels: 0.9.0\n"
     ]
    }
   ],
   "source": [
    "print('statsmodels: %s' % statsmodels.__version__)"
   ]
  },
  {
   "cell_type": "code",
   "execution_count": 88,
   "metadata": {},
   "outputs": [],
   "source": [
    "# save model\n",
    "model_fit.save('arima_model.pkl')\n"
   ]
  },
  {
   "cell_type": "markdown",
   "metadata": {},
   "source": [
    "## Loading a model and predicting future prices"
   ]
  },
  {
   "cell_type": "code",
   "execution_count": 179,
   "metadata": {},
   "outputs": [
    {
     "name": "stderr",
     "output_type": "stream",
     "text": [
      "/home/emi/miniconda3py37/lib/python3.7/site-packages/scipy/signal/signaltools.py:1344: FutureWarning:\n",
      "\n",
      "Using a non-tuple sequence for multidimensional indexing is deprecated; use `arr[tuple(seq)]` instead of `arr[seq]`. In the future this will be interpreted as an array index, `arr[np.array(seq)]`, which will result either in an error or a different result.\n",
      "\n"
     ]
    }
   ],
   "source": [
    "# load model\n",
    "loaded = ARIMAResults.load('arima_model.pkl')\n",
    "lookback_date = dt.date.today() - dt.timedelta(180)\n",
    "start_d = dt.date.today()\n",
    "#start_d = dt.datetime.strptime(start_d, '%Y-%m-%d')\n",
    "\n",
    "end_d = dt.date.today() + dt.timedelta(7)\n",
    "#end_d = dt.datetime.strptime(end_d, '%Y-%m-%d')\n",
    "\n",
    "# Calculate steps\n",
    "days = (end_d - start_d).days\n",
    "forecast = loaded.forecast(steps=days)[0] \n",
    "\n",
    "# Setting dates for dataframe\n",
    "dates = pd.date_range(start_d, periods=days)\n",
    "\n",
    "\n",
    "df=pd.DataFrame(forecast)\n",
    "df['Dates'] = dates\n",
    "df.set_index('Dates', inplace=True)\n",
    "df.rename(columns = {0:'Price'}, inplace=True)\n"
   ]
  },
  {
   "cell_type": "markdown",
   "metadata": {},
   "source": [
    "## Plotting predictions"
   ]
  },
  {
   "cell_type": "code",
   "execution_count": 180,
   "metadata": {},
   "outputs": [],
   "source": [
    "dates = pd.date_range(lookback_date, dt.date.today())\n",
    "df_prices = slice_df(portf_value, dates)\n"
   ]
  },
  {
   "cell_type": "code",
   "execution_count": 182,
   "metadata": {},
   "outputs": [
    {
     "data": {
      "text/plain": [
       "<matplotlib.legend.Legend at 0x7f914c268630>"
      ]
     },
     "execution_count": 182,
     "metadata": {},
     "output_type": "execute_result"
    },
    {
     "data": {
      "image/png": "[encoded data removed]",
      "text/plain": [
       "<Figure size 864x576 with 1 Axes>"
      ]
     },
     "metadata": {
      "needs_background": "light"
     },
     "output_type": "display_data"
    }
   ],
   "source": [
    "# plot\n",
    "plt.figure(figsize=(12,8))\n",
    "plt.plot(df_prices.index, df_prices['Adj Close'], label='Price')\n",
    "plt.plot(df, label='Prediction')\n",
    "plt.legend()\n"
   ]
  },
  {
   "cell_type": "code",
   "execution_count": 164,
   "metadata": {},
   "outputs": [
    {
     "data": {
      "image/png": "[encoded data removed]",
      "text/plain": [
       "<Figure size 432x288 with 1 Axes>"
      ]
     },
     "metadata": {
      "needs_background": "light"
     },
     "output_type": "display_data"
    }
   ],
   "source": [
    "\n",
    "\n",
    "plot_acf(df['Price'])\n",
    "plt.grid(True)\n",
    "plt.xlabel(\"Lags\")\n",
    "plt.ylabel(\"Autocorrelation\")\n",
    "plt.show()"
   ]
  },
  {
   "cell_type": "markdown",
   "metadata": {},
   "source": [
    "# LSTM Long Short-Term Memory\n",
    "\n",
    "LSTMs are widely used for sequence prediction problems and have proven to be extremely effective. The reason they work so well is because LSTM is able to store past information that is important, and forget the information that is not. LSTM has three gates:\n",
    "\n",
    "    The input gate: The input gate adds information to the cell state\n",
    "    The forget gate: It removes the information that is no longer required by the model\n",
    "    The output gate: Output Gate at LSTM selects the information to be shown as output\n"
   ]
  },
  {
   "cell_type": "code",
   "execution_count": null,
   "metadata": {},
   "outputs": [],
   "source": []
  }
 ],
 "metadata": {
  "kernelspec": {
   "display_name": "Python 3",
   "language": "python",
   "name": "python3"
  },
  "language_info": {
   "codemirror_mode": {
    "name": "ipython",
    "version": 3
   },
   "file_extension": ".py",
   "mimetype": "text/x-python",
   "name": "python",
   "nbconvert_exporter": "python",
   "pygments_lexer": "ipython3",
   "version": "3.7.1"
  },
  "toc-autonumbering": true
 },
 "nbformat": 4,
 "nbformat_minor": 2
}
