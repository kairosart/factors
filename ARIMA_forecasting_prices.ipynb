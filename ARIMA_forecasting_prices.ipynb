{
 "cells": [
  {
   "cell_type": "markdown",
   "metadata": {},
   "source": [
    "# ARIMA\n",
    "\n",
    "This model can predict several prices in the future."
   ]
  },
  {
   "cell_type": "markdown",
   "metadata": {},
   "source": [
    "## Importing libraries"
   ]
  },
  {
   "cell_type": "code",
   "execution_count": 3,
   "metadata": {},
   "outputs": [
    {
     "name": "stderr",
     "output_type": "stream",
     "text": [
      "/home/emi/.local/lib/python3.6/site-packages/sklearn/ensemble/weight_boosting.py:29: DeprecationWarning:\n",
      "\n",
      "numpy.core.umath_tests is an internal NumPy module and should not be imported. It will be removed in a future NumPy release.\n",
      "\n"
     ]
    },
    {
     "data": {
      "text/html": [
       "<script type=\"text/javascript\">window.PlotlyConfig = {MathJaxConfig: 'local'};</script><script type=\"text/javascript\">if (window.MathJax) {MathJax.Hub.Config({SVG: {font: \"STIX-Web\"}});}</script><script>requirejs.config({paths: { 'plotly': ['https://cdn.plot.ly/plotly-latest.min']},});if(!window._Plotly) {require(['plotly'],function(plotly) {window._Plotly=plotly;});}</script>"
      ],
      "text/vnd.plotly.v1+html": [
       "<script type=\"text/javascript\">window.PlotlyConfig = {MathJaxConfig: 'local'};</script><script type=\"text/javascript\">if (window.MathJax) {MathJax.Hub.Config({SVG: {font: \"STIX-Web\"}});}</script><script>requirejs.config({paths: { 'plotly': ['https://cdn.plot.ly/plotly-latest.min']},});if(!window._Plotly) {require(['plotly'],function(plotly) {window._Plotly=plotly;});}</script>"
      ]
     },
     "metadata": {},
     "output_type": "display_data"
    }
   ],
   "source": [
    "import datetime as dt\n",
    "import os\n",
    "import pandas as pd\n",
    "import numpy as np\n",
    "import csv\n",
    "import warnings\n",
    "from pandas import Series\n",
    "\n",
    "\n",
    "# Files\n",
    "from indicators import get_momentum, get_RSI, get_sma, plot_stock_prices_prediction\n",
    "from util import fetchOnlineData, slice_df\n",
    "\n",
    "# Plot\n",
    "import matplotlib.pyplot as plt\n",
    "from matplotlib.patches import Ellipse\n",
    "import seaborn as sns\n",
    "\n",
    "# Sklearn\n",
    "from sklearn.preprocessing import MinMaxScaler, StandardScaler\n",
    "from sklearn.model_selection import train_test_split, GridSearchCV\n",
    "from sklearn.model_selection import cross_val_score\n",
    "from sklearn.metrics import mean_squared_error, accuracy_score\n",
    "from sklearn import tree, metrics, neighbors\n",
    "\n",
    "# models\n",
    "from sklearn.linear_model import LogisticRegression\n",
    "from sklearn.tree import DecisionTreeClassifier\n",
    "from sklearn.ensemble import RandomForestClassifier, ExtraTreesClassifier\n",
    "\n",
    "# ARIMA\n",
    "import statsmodels\n",
    "from statsmodels.tsa.arima_model import ARIMA, ARIMAResults\n",
    "from statsmodels.graphics.tsaplots import plot_acf\n",
    "\n",
    "# TA Library (https://github.com/bukosabino/ta)\n",
    "from ta import *\n",
    "\n",
    "# Add plotly for interactive charts\n",
    "from plotly.offline import init_notebook_mode, iplot\n",
    "init_notebook_mode(connected=True)\n",
    "import plotly.plotly as py\n",
    "import plotly.graph_objs as go\n",
    "from plotly import tools\n",
    "\n"
   ]
  },
  {
   "cell_type": "markdown",
   "metadata": {},
   "source": [
    "## Initial variables"
   ]
  },
  {
   "cell_type": "code",
   "execution_count": 6,
   "metadata": {},
   "outputs": [],
   "source": [
    "symbol = \"AABA\"\n",
    "\n",
    "# We'll look back 365 days\n",
    "start_d = dt.date.today() - dt.timedelta(365)"
   ]
  },
  {
   "cell_type": "markdown",
   "metadata": {},
   "source": [
    "## Getting data from Yahoo"
   ]
  },
  {
   "cell_type": "code",
   "execution_count": 7,
   "metadata": {},
   "outputs": [
    {
     "name": "stdout",
     "output_type": "stream",
     "text": [
      "[*********************100%***********************]  1 of 1 downloaded\n"
     ]
    }
   ],
   "source": [
    "yesterday = dt.date.today() - dt.timedelta(1)\n",
    "portf_value = fetchOnlineData(start_d, symbol, yesterday)"
   ]
  },
  {
   "cell_type": "code",
   "execution_count": 8,
   "metadata": {},
   "outputs": [],
   "source": [
    "# Normalize the prices Dataframe\n",
    "normed = portf_value.copy()"
   ]
  },
  {
   "cell_type": "code",
   "execution_count": 9,
   "metadata": {},
   "outputs": [],
   "source": [
    "# Convert price column to float\n",
    "#normed[symbol] = pd.to_numeric(normed[symbol], downcast='float', errors='coerce').fillna(0)"
   ]
  },
  {
   "cell_type": "code",
   "execution_count": 10,
   "metadata": {},
   "outputs": [
    {
     "name": "stdout",
     "output_type": "stream",
     "text": [
      "<class 'pandas.core.frame.DataFrame'>\n",
      "DatetimeIndex: 250 entries, 2018-03-19 to 2019-03-15\n",
      "Data columns (total 1 columns):\n",
      "Adj Close    250 non-null float64\n",
      "dtypes: float64(1)\n",
      "memory usage: 3.9 KB\n"
     ]
    },
    {
     "data": {
      "text/html": [
       "<div>\n",
       "<style scoped>\n",
       "    .dataframe tbody tr th:only-of-type {\n",
       "        vertical-align: middle;\n",
       "    }\n",
       "\n",
       "    .dataframe tbody tr th {\n",
       "        vertical-align: top;\n",
       "    }\n",
       "\n",
       "    .dataframe thead th {\n",
       "        text-align: right;\n",
       "    }\n",
       "</style>\n",
       "<table border=\"1\" class=\"dataframe\">\n",
       "  <thead>\n",
       "    <tr style=\"text-align: right;\">\n",
       "      <th></th>\n",
       "      <th>Adj Close</th>\n",
       "    </tr>\n",
       "    <tr>\n",
       "      <th>Date</th>\n",
       "      <th></th>\n",
       "    </tr>\n",
       "  </thead>\n",
       "  <tbody>\n",
       "    <tr>\n",
       "      <th>2018-03-19</th>\n",
       "      <td>77.839996</td>\n",
       "    </tr>\n",
       "    <tr>\n",
       "      <th>2018-03-20</th>\n",
       "      <td>79.070000</td>\n",
       "    </tr>\n",
       "    <tr>\n",
       "      <th>2018-03-21</th>\n",
       "      <td>78.070000</td>\n",
       "    </tr>\n",
       "    <tr>\n",
       "      <th>2018-03-22</th>\n",
       "      <td>74.570000</td>\n",
       "    </tr>\n",
       "    <tr>\n",
       "      <th>2018-03-23</th>\n",
       "      <td>73.000000</td>\n",
       "    </tr>\n",
       "  </tbody>\n",
       "</table>\n",
       "</div>"
      ],
      "text/plain": [
       "            Adj Close\n",
       "Date                 \n",
       "2018-03-19  77.839996\n",
       "2018-03-20  79.070000\n",
       "2018-03-21  78.070000\n",
       "2018-03-22  74.570000\n",
       "2018-03-23  73.000000"
      ]
     },
     "execution_count": 10,
     "metadata": {},
     "output_type": "execute_result"
    }
   ],
   "source": [
    "normed.info()\n",
    "normed.head()"
   ]
  },
  {
   "cell_type": "markdown",
   "metadata": {},
   "source": [
    "## Getting indicator values"
   ]
  },
  {
   "cell_type": "code",
   "execution_count": 11,
   "metadata": {},
   "outputs": [],
   "source": [
    "def get_indicators(normed, symbol):\n",
    "\n",
    "    # Compute momentum\n",
    "    sym_mom = get_momentum(normed[symbol], window=10)\n",
    "\n",
    "    # ****Relative Strength Index (RSI)****\n",
    "    # Compute RSI\n",
    "    rsi_value = get_RSI(normed[symbol], 7)\n",
    "\n",
    "    # ****Simple moving average (SMA)****\n",
    "    # Compute SMA\n",
    "    sma, q = get_sma(normed[symbol], window=10)\n",
    "    return sym_mom, sma, q, rsi_value\n",
    "\n",
    "#normed = scaling_data(normed, symbol)\n",
    "\n",
    "normed['date'] = portf_value.index\n",
    "normed.set_index('date', inplace=True)\n",
    "normed.rename(columns={'Adj Close': symbol}, inplace=True)\n"
   ]
  },
  {
   "cell_type": "code",
   "execution_count": 12,
   "metadata": {},
   "outputs": [
    {
     "name": "stdout",
     "output_type": "stream",
     "text": [
      "date\n",
      "2018-04-03   -0.093911\n",
      "2018-04-04   -0.120779\n",
      "2018-04-05   -0.111310\n",
      "2018-04-06   -0.094140\n",
      "2018-04-09   -0.062466\n",
      "2018-04-10   -0.066350\n",
      "2018-04-11   -0.033959\n",
      "2018-04-12   -0.028910\n",
      "2018-04-13   -0.064155\n",
      "2018-04-16   -0.023464\n",
      "2018-04-17    0.007940\n",
      "2018-04-18    0.040276\n",
      "2018-04-19    0.038051\n",
      "2018-04-20    0.051961\n",
      "2018-04-23    0.021186\n",
      "2018-04-24   -0.021475\n",
      "2018-04-25   -0.032318\n",
      "2018-04-26   -0.010490\n",
      "2018-04-27    0.006350\n",
      "2018-04-30    0.002288\n",
      "2018-05-01   -0.016880\n",
      "2018-05-02   -0.029176\n",
      "2018-05-03   -0.022771\n",
      "2018-05-04    0.023220\n",
      "2018-05-07    0.077837\n",
      "2018-05-08    0.097892\n",
      "2018-05-09    0.112202\n",
      "2018-05-10    0.087393\n",
      "2018-05-11    0.085186\n",
      "2018-05-14    0.095034\n",
      "                ...   \n",
      "2019-02-01    0.065133\n",
      "2019-02-04    0.058323\n",
      "2019-02-05    0.111728\n",
      "2019-02-06    0.112454\n",
      "2019-02-07    0.071094\n",
      "2019-02-08    0.050598\n",
      "2019-02-11    0.050291\n",
      "2019-02-12    0.063127\n",
      "2019-02-13    0.015437\n",
      "2019-02-14    0.001606\n",
      "2019-02-15   -0.009632\n",
      "2019-02-19    0.010232\n",
      "2019-02-20   -0.009279\n",
      "2019-02-21   -0.001430\n",
      "2019-02-22    0.046244\n",
      "2019-02-25    0.080415\n",
      "2019-02-26    0.083942\n",
      "2019-02-27    0.084930\n",
      "2019-02-28    0.079919\n",
      "2019-03-01    0.092393\n",
      "2019-03-04    0.120100\n",
      "2019-03-05    0.086963\n",
      "2019-03-06    0.077666\n",
      "2019-03-07    0.039089\n",
      "2019-03-08    0.000418\n",
      "2019-03-11   -0.007564\n",
      "2019-03-12   -0.008889\n",
      "2019-03-13   -0.014586\n",
      "2019-03-14   -0.015015\n",
      "2019-03-15   -0.017609\n",
      "Length: 240, dtype: float64\n"
     ]
    }
   ],
   "source": [
    "# Get indicators\n",
    "sym_mom, sma, q, rsi_value = get_indicators(normed, symbol)\n",
    "\n",
    "\n",
    "# Create momentum column\n",
    "normed['Momentum'] = sym_mom\n",
    "\n",
    "# Create SMA column\n",
    "normed['SMA'] = sma\n",
    "\n",
    "# Create SMA column\n",
    "normed['RSI'] = rsi_value"
   ]
  },
  {
   "cell_type": "code",
   "execution_count": 13,
   "metadata": {},
   "outputs": [
    {
     "name": "stdout",
     "output_type": "stream",
     "text": [
      "<class 'pandas.core.frame.DataFrame'>\n",
      "DatetimeIndex: 250 entries, 2018-03-19 to 2019-03-15\n",
      "Data columns (total 4 columns):\n",
      "AABA        250 non-null float64\n",
      "Momentum    240 non-null float64\n",
      "SMA         241 non-null float64\n",
      "RSI         250 non-null float64\n",
      "dtypes: float64(4)\n",
      "memory usage: 9.8 KB\n"
     ]
    },
    {
     "data": {
      "text/html": [
       "<div>\n",
       "<style scoped>\n",
       "    .dataframe tbody tr th:only-of-type {\n",
       "        vertical-align: middle;\n",
       "    }\n",
       "\n",
       "    .dataframe tbody tr th {\n",
       "        vertical-align: top;\n",
       "    }\n",
       "\n",
       "    .dataframe thead th {\n",
       "        text-align: right;\n",
       "    }\n",
       "</style>\n",
       "<table border=\"1\" class=\"dataframe\">\n",
       "  <thead>\n",
       "    <tr style=\"text-align: right;\">\n",
       "      <th></th>\n",
       "      <th>AABA</th>\n",
       "      <th>Momentum</th>\n",
       "      <th>SMA</th>\n",
       "      <th>RSI</th>\n",
       "    </tr>\n",
       "    <tr>\n",
       "      <th>date</th>\n",
       "      <th></th>\n",
       "      <th></th>\n",
       "      <th></th>\n",
       "      <th></th>\n",
       "    </tr>\n",
       "  </thead>\n",
       "  <tbody>\n",
       "    <tr>\n",
       "      <th>2018-03-19</th>\n",
       "      <td>77.839996</td>\n",
       "      <td>0.000000</td>\n",
       "      <td>0.000000</td>\n",
       "      <td>37.057240</td>\n",
       "    </tr>\n",
       "    <tr>\n",
       "      <th>2018-03-20</th>\n",
       "      <td>79.070000</td>\n",
       "      <td>0.000000</td>\n",
       "      <td>0.000000</td>\n",
       "      <td>37.057240</td>\n",
       "    </tr>\n",
       "    <tr>\n",
       "      <th>2018-03-21</th>\n",
       "      <td>78.070000</td>\n",
       "      <td>0.000000</td>\n",
       "      <td>0.000000</td>\n",
       "      <td>37.057240</td>\n",
       "    </tr>\n",
       "    <tr>\n",
       "      <th>2018-03-22</th>\n",
       "      <td>74.570000</td>\n",
       "      <td>0.000000</td>\n",
       "      <td>0.000000</td>\n",
       "      <td>37.057240</td>\n",
       "    </tr>\n",
       "    <tr>\n",
       "      <th>2018-03-23</th>\n",
       "      <td>73.000000</td>\n",
       "      <td>0.000000</td>\n",
       "      <td>0.000000</td>\n",
       "      <td>37.057240</td>\n",
       "    </tr>\n",
       "    <tr>\n",
       "      <th>2018-03-26</th>\n",
       "      <td>75.809998</td>\n",
       "      <td>0.000000</td>\n",
       "      <td>0.000000</td>\n",
       "      <td>37.057240</td>\n",
       "    </tr>\n",
       "    <tr>\n",
       "      <th>2018-03-27</th>\n",
       "      <td>73.029999</td>\n",
       "      <td>0.000000</td>\n",
       "      <td>0.000000</td>\n",
       "      <td>37.057240</td>\n",
       "    </tr>\n",
       "    <tr>\n",
       "      <th>2018-03-28</th>\n",
       "      <td>72.639999</td>\n",
       "      <td>0.000000</td>\n",
       "      <td>0.000000</td>\n",
       "      <td>35.943197</td>\n",
       "    </tr>\n",
       "    <tr>\n",
       "      <th>2018-03-29</th>\n",
       "      <td>74.040001</td>\n",
       "      <td>0.000000</td>\n",
       "      <td>0.000000</td>\n",
       "      <td>43.106340</td>\n",
       "    </tr>\n",
       "    <tr>\n",
       "      <th>2018-04-02</th>\n",
       "      <td>71.599998</td>\n",
       "      <td>0.000000</td>\n",
       "      <td>74.966999</td>\n",
       "      <td>35.120696</td>\n",
       "    </tr>\n",
       "    <tr>\n",
       "      <th>2018-04-03</th>\n",
       "      <td>70.529999</td>\n",
       "      <td>-0.093911</td>\n",
       "      <td>74.235999</td>\n",
       "      <td>32.080192</td>\n",
       "    </tr>\n",
       "    <tr>\n",
       "      <th>2018-04-04</th>\n",
       "      <td>69.519997</td>\n",
       "      <td>-0.120779</td>\n",
       "      <td>73.280999</td>\n",
       "      <td>29.287927</td>\n",
       "    </tr>\n",
       "    <tr>\n",
       "      <th>2018-04-05</th>\n",
       "      <td>69.379997</td>\n",
       "      <td>-0.111310</td>\n",
       "      <td>72.411999</td>\n",
       "      <td>28.881398</td>\n",
       "    </tr>\n",
       "    <tr>\n",
       "      <th>2018-04-06</th>\n",
       "      <td>67.550003</td>\n",
       "      <td>-0.094140</td>\n",
       "      <td>71.709999</td>\n",
       "      <td>23.835921</td>\n",
       "    </tr>\n",
       "    <tr>\n",
       "      <th>2018-04-09</th>\n",
       "      <td>68.440002</td>\n",
       "      <td>-0.062466</td>\n",
       "      <td>71.253999</td>\n",
       "      <td>30.704627</td>\n",
       "    </tr>\n",
       "    <tr>\n",
       "      <th>2018-04-10</th>\n",
       "      <td>70.779999</td>\n",
       "      <td>-0.066350</td>\n",
       "      <td>70.750999</td>\n",
       "      <td>45.720028</td>\n",
       "    </tr>\n",
       "    <tr>\n",
       "      <th>2018-04-11</th>\n",
       "      <td>70.550003</td>\n",
       "      <td>-0.033959</td>\n",
       "      <td>70.503000</td>\n",
       "      <td>44.611539</td>\n",
       "    </tr>\n",
       "    <tr>\n",
       "      <th>2018-04-12</th>\n",
       "      <td>70.540001</td>\n",
       "      <td>-0.028910</td>\n",
       "      <td>70.293000</td>\n",
       "      <td>44.556730</td>\n",
       "    </tr>\n",
       "    <tr>\n",
       "      <th>2018-04-13</th>\n",
       "      <td>69.290001</td>\n",
       "      <td>-0.064155</td>\n",
       "      <td>69.818000</td>\n",
       "      <td>37.787718</td>\n",
       "    </tr>\n",
       "    <tr>\n",
       "      <th>2018-04-16</th>\n",
       "      <td>69.919998</td>\n",
       "      <td>-0.023464</td>\n",
       "      <td>69.650000</td>\n",
       "      <td>42.889298</td>\n",
       "    </tr>\n",
       "    <tr>\n",
       "      <th>2018-04-17</th>\n",
       "      <td>71.089996</td>\n",
       "      <td>0.007940</td>\n",
       "      <td>69.706000</td>\n",
       "      <td>51.505477</td>\n",
       "    </tr>\n",
       "    <tr>\n",
       "      <th>2018-04-18</th>\n",
       "      <td>72.320000</td>\n",
       "      <td>0.040276</td>\n",
       "      <td>69.986000</td>\n",
       "      <td>59.077730</td>\n",
       "    </tr>\n",
       "    <tr>\n",
       "      <th>2018-04-19</th>\n",
       "      <td>72.019997</td>\n",
       "      <td>0.038051</td>\n",
       "      <td>70.250000</td>\n",
       "      <td>56.564445</td>\n",
       "    </tr>\n",
       "    <tr>\n",
       "      <th>2018-04-20</th>\n",
       "      <td>71.059998</td>\n",
       "      <td>0.051961</td>\n",
       "      <td>70.600999</td>\n",
       "      <td>48.812032</td>\n",
       "    </tr>\n",
       "    <tr>\n",
       "      <th>2018-04-23</th>\n",
       "      <td>69.889999</td>\n",
       "      <td>0.021186</td>\n",
       "      <td>70.745999</td>\n",
       "      <td>40.851181</td>\n",
       "    </tr>\n",
       "    <tr>\n",
       "      <th>2018-04-24</th>\n",
       "      <td>69.260002</td>\n",
       "      <td>-0.021475</td>\n",
       "      <td>70.593999</td>\n",
       "      <td>37.054745</td>\n",
       "    </tr>\n",
       "    <tr>\n",
       "      <th>2018-04-25</th>\n",
       "      <td>68.269997</td>\n",
       "      <td>-0.032318</td>\n",
       "      <td>70.365999</td>\n",
       "      <td>31.660453</td>\n",
       "    </tr>\n",
       "    <tr>\n",
       "      <th>2018-04-26</th>\n",
       "      <td>69.800003</td>\n",
       "      <td>-0.010490</td>\n",
       "      <td>70.291999</td>\n",
       "      <td>45.868728</td>\n",
       "    </tr>\n",
       "    <tr>\n",
       "      <th>2018-04-27</th>\n",
       "      <td>69.730003</td>\n",
       "      <td>0.006350</td>\n",
       "      <td>70.335999</td>\n",
       "      <td>45.365291</td>\n",
       "    </tr>\n",
       "    <tr>\n",
       "      <th>2018-04-30</th>\n",
       "      <td>70.080002</td>\n",
       "      <td>0.002288</td>\n",
       "      <td>70.352000</td>\n",
       "      <td>48.652753</td>\n",
       "    </tr>\n",
       "    <tr>\n",
       "      <th>...</th>\n",
       "      <td>...</td>\n",
       "      <td>...</td>\n",
       "      <td>...</td>\n",
       "      <td>...</td>\n",
       "    </tr>\n",
       "    <tr>\n",
       "      <th>2019-02-01</th>\n",
       "      <td>68.519997</td>\n",
       "      <td>0.065133</td>\n",
       "      <td>65.480000</td>\n",
       "      <td>81.287967</td>\n",
       "    </tr>\n",
       "    <tr>\n",
       "      <th>2019-02-04</th>\n",
       "      <td>68.410004</td>\n",
       "      <td>0.058323</td>\n",
       "      <td>65.857000</td>\n",
       "      <td>79.576751</td>\n",
       "    </tr>\n",
       "    <tr>\n",
       "      <th>2019-02-05</th>\n",
       "      <td>70.050003</td>\n",
       "      <td>0.111728</td>\n",
       "      <td>66.561001</td>\n",
       "      <td>85.050921</td>\n",
       "    </tr>\n",
       "    <tr>\n",
       "      <th>2019-02-06</th>\n",
       "      <td>69.940002</td>\n",
       "      <td>0.112454</td>\n",
       "      <td>67.268001</td>\n",
       "      <td>83.303661</td>\n",
       "    </tr>\n",
       "    <tr>\n",
       "      <th>2019-02-07</th>\n",
       "      <td>68.550003</td>\n",
       "      <td>0.071094</td>\n",
       "      <td>67.723001</td>\n",
       "      <td>63.939038</td>\n",
       "    </tr>\n",
       "    <tr>\n",
       "      <th>2019-02-08</th>\n",
       "      <td>68.519997</td>\n",
       "      <td>0.050598</td>\n",
       "      <td>68.053001</td>\n",
       "      <td>63.566890</td>\n",
       "    </tr>\n",
       "    <tr>\n",
       "      <th>2019-02-11</th>\n",
       "      <td>68.500000</td>\n",
       "      <td>0.050291</td>\n",
       "      <td>68.381001</td>\n",
       "      <td>63.280522</td>\n",
       "    </tr>\n",
       "    <tr>\n",
       "      <th>2019-02-12</th>\n",
       "      <td>68.879997</td>\n",
       "      <td>0.063127</td>\n",
       "      <td>68.790000</td>\n",
       "      <td>66.614850</td>\n",
       "    </tr>\n",
       "    <tr>\n",
       "      <th>2019-02-13</th>\n",
       "      <td>69.070000</td>\n",
       "      <td>0.015437</td>\n",
       "      <td>68.895001</td>\n",
       "      <td>68.294333</td>\n",
       "    </tr>\n",
       "    <tr>\n",
       "      <th>2019-02-14</th>\n",
       "      <td>68.620003</td>\n",
       "      <td>0.001606</td>\n",
       "      <td>68.906001</td>\n",
       "      <td>59.959846</td>\n",
       "    </tr>\n",
       "    <tr>\n",
       "      <th>2019-02-15</th>\n",
       "      <td>67.860001</td>\n",
       "      <td>-0.009632</td>\n",
       "      <td>68.840001</td>\n",
       "      <td>48.336712</td>\n",
       "    </tr>\n",
       "    <tr>\n",
       "      <th>2019-02-19</th>\n",
       "      <td>69.110001</td>\n",
       "      <td>0.010232</td>\n",
       "      <td>68.910001</td>\n",
       "      <td>62.343646</td>\n",
       "    </tr>\n",
       "    <tr>\n",
       "      <th>2019-02-20</th>\n",
       "      <td>69.400002</td>\n",
       "      <td>-0.009279</td>\n",
       "      <td>68.845001</td>\n",
       "      <td>64.918074</td>\n",
       "    </tr>\n",
       "    <tr>\n",
       "      <th>2019-02-21</th>\n",
       "      <td>69.839996</td>\n",
       "      <td>-0.001430</td>\n",
       "      <td>68.835000</td>\n",
       "      <td>68.705191</td>\n",
       "    </tr>\n",
       "    <tr>\n",
       "      <th>2019-02-22</th>\n",
       "      <td>71.720001</td>\n",
       "      <td>0.046244</td>\n",
       "      <td>69.152000</td>\n",
       "      <td>79.653944</td>\n",
       "    </tr>\n",
       "    <tr>\n",
       "      <th>2019-02-25</th>\n",
       "      <td>74.029999</td>\n",
       "      <td>0.080415</td>\n",
       "      <td>69.703000</td>\n",
       "      <td>86.449730</td>\n",
       "    </tr>\n",
       "    <tr>\n",
       "      <th>2019-02-26</th>\n",
       "      <td>74.250000</td>\n",
       "      <td>0.083942</td>\n",
       "      <td>70.278000</td>\n",
       "      <td>86.934618</td>\n",
       "    </tr>\n",
       "    <tr>\n",
       "      <th>2019-02-27</th>\n",
       "      <td>74.730003</td>\n",
       "      <td>0.084930</td>\n",
       "      <td>70.863001</td>\n",
       "      <td>88.025360</td>\n",
       "    </tr>\n",
       "    <tr>\n",
       "      <th>2019-02-28</th>\n",
       "      <td>74.589996</td>\n",
       "      <td>0.079919</td>\n",
       "      <td>71.415000</td>\n",
       "      <td>85.593747</td>\n",
       "    </tr>\n",
       "    <tr>\n",
       "      <th>2019-03-01</th>\n",
       "      <td>74.959999</td>\n",
       "      <td>0.092393</td>\n",
       "      <td>72.049000</td>\n",
       "      <td>86.724433</td>\n",
       "    </tr>\n",
       "    <tr>\n",
       "      <th>2019-03-04</th>\n",
       "      <td>76.010002</td>\n",
       "      <td>0.120100</td>\n",
       "      <td>72.864000</td>\n",
       "      <td>89.462583</td>\n",
       "    </tr>\n",
       "    <tr>\n",
       "      <th>2019-03-05</th>\n",
       "      <td>75.120003</td>\n",
       "      <td>0.086963</td>\n",
       "      <td>73.465000</td>\n",
       "      <td>74.306796</td>\n",
       "    </tr>\n",
       "    <tr>\n",
       "      <th>2019-03-06</th>\n",
       "      <td>74.790001</td>\n",
       "      <td>0.077666</td>\n",
       "      <td>74.004000</td>\n",
       "      <td>69.233097</td>\n",
       "    </tr>\n",
       "    <tr>\n",
       "      <th>2019-03-07</th>\n",
       "      <td>72.570000</td>\n",
       "      <td>0.039089</td>\n",
       "      <td>74.277000</td>\n",
       "      <td>45.076719</td>\n",
       "    </tr>\n",
       "    <tr>\n",
       "      <th>2019-03-08</th>\n",
       "      <td>71.750000</td>\n",
       "      <td>0.000418</td>\n",
       "      <td>74.280000</td>\n",
       "      <td>39.184960</td>\n",
       "    </tr>\n",
       "    <tr>\n",
       "      <th>2019-03-11</th>\n",
       "      <td>73.470001</td>\n",
       "      <td>-0.007564</td>\n",
       "      <td>74.224001</td>\n",
       "      <td>53.922968</td>\n",
       "    </tr>\n",
       "    <tr>\n",
       "      <th>2019-03-12</th>\n",
       "      <td>73.589996</td>\n",
       "      <td>-0.008889</td>\n",
       "      <td>74.158000</td>\n",
       "      <td>54.814241</td>\n",
       "    </tr>\n",
       "    <tr>\n",
       "      <th>2019-03-13</th>\n",
       "      <td>73.639999</td>\n",
       "      <td>-0.014586</td>\n",
       "      <td>74.049000</td>\n",
       "      <td>55.235202</td>\n",
       "    </tr>\n",
       "    <tr>\n",
       "      <th>2019-03-14</th>\n",
       "      <td>73.470001</td>\n",
       "      <td>-0.015015</td>\n",
       "      <td>73.937000</td>\n",
       "      <td>53.266896</td>\n",
       "    </tr>\n",
       "    <tr>\n",
       "      <th>2019-03-15</th>\n",
       "      <td>73.639999</td>\n",
       "      <td>-0.017609</td>\n",
       "      <td>73.805000</td>\n",
       "      <td>55.132236</td>\n",
       "    </tr>\n",
       "  </tbody>\n",
       "</table>\n",
       "<p>250 rows × 4 columns</p>\n",
       "</div>"
      ],
      "text/plain": [
       "                 AABA  Momentum        SMA        RSI\n",
       "date                                                 \n",
       "2018-03-19  77.839996  0.000000   0.000000  37.057240\n",
       "2018-03-20  79.070000  0.000000   0.000000  37.057240\n",
       "2018-03-21  78.070000  0.000000   0.000000  37.057240\n",
       "2018-03-22  74.570000  0.000000   0.000000  37.057240\n",
       "2018-03-23  73.000000  0.000000   0.000000  37.057240\n",
       "2018-03-26  75.809998  0.000000   0.000000  37.057240\n",
       "2018-03-27  73.029999  0.000000   0.000000  37.057240\n",
       "2018-03-28  72.639999  0.000000   0.000000  35.943197\n",
       "2018-03-29  74.040001  0.000000   0.000000  43.106340\n",
       "2018-04-02  71.599998  0.000000  74.966999  35.120696\n",
       "2018-04-03  70.529999 -0.093911  74.235999  32.080192\n",
       "2018-04-04  69.519997 -0.120779  73.280999  29.287927\n",
       "2018-04-05  69.379997 -0.111310  72.411999  28.881398\n",
       "2018-04-06  67.550003 -0.094140  71.709999  23.835921\n",
       "2018-04-09  68.440002 -0.062466  71.253999  30.704627\n",
       "2018-04-10  70.779999 -0.066350  70.750999  45.720028\n",
       "2018-04-11  70.550003 -0.033959  70.503000  44.611539\n",
       "2018-04-12  70.540001 -0.028910  70.293000  44.556730\n",
       "2018-04-13  69.290001 -0.064155  69.818000  37.787718\n",
       "2018-04-16  69.919998 -0.023464  69.650000  42.889298\n",
       "2018-04-17  71.089996  0.007940  69.706000  51.505477\n",
       "2018-04-18  72.320000  0.040276  69.986000  59.077730\n",
       "2018-04-19  72.019997  0.038051  70.250000  56.564445\n",
       "2018-04-20  71.059998  0.051961  70.600999  48.812032\n",
       "2018-04-23  69.889999  0.021186  70.745999  40.851181\n",
       "2018-04-24  69.260002 -0.021475  70.593999  37.054745\n",
       "2018-04-25  68.269997 -0.032318  70.365999  31.660453\n",
       "2018-04-26  69.800003 -0.010490  70.291999  45.868728\n",
       "2018-04-27  69.730003  0.006350  70.335999  45.365291\n",
       "2018-04-30  70.080002  0.002288  70.352000  48.652753\n",
       "...               ...       ...        ...        ...\n",
       "2019-02-01  68.519997  0.065133  65.480000  81.287967\n",
       "2019-02-04  68.410004  0.058323  65.857000  79.576751\n",
       "2019-02-05  70.050003  0.111728  66.561001  85.050921\n",
       "2019-02-06  69.940002  0.112454  67.268001  83.303661\n",
       "2019-02-07  68.550003  0.071094  67.723001  63.939038\n",
       "2019-02-08  68.519997  0.050598  68.053001  63.566890\n",
       "2019-02-11  68.500000  0.050291  68.381001  63.280522\n",
       "2019-02-12  68.879997  0.063127  68.790000  66.614850\n",
       "2019-02-13  69.070000  0.015437  68.895001  68.294333\n",
       "2019-02-14  68.620003  0.001606  68.906001  59.959846\n",
       "2019-02-15  67.860001 -0.009632  68.840001  48.336712\n",
       "2019-02-19  69.110001  0.010232  68.910001  62.343646\n",
       "2019-02-20  69.400002 -0.009279  68.845001  64.918074\n",
       "2019-02-21  69.839996 -0.001430  68.835000  68.705191\n",
       "2019-02-22  71.720001  0.046244  69.152000  79.653944\n",
       "2019-02-25  74.029999  0.080415  69.703000  86.449730\n",
       "2019-02-26  74.250000  0.083942  70.278000  86.934618\n",
       "2019-02-27  74.730003  0.084930  70.863001  88.025360\n",
       "2019-02-28  74.589996  0.079919  71.415000  85.593747\n",
       "2019-03-01  74.959999  0.092393  72.049000  86.724433\n",
       "2019-03-04  76.010002  0.120100  72.864000  89.462583\n",
       "2019-03-05  75.120003  0.086963  73.465000  74.306796\n",
       "2019-03-06  74.790001  0.077666  74.004000  69.233097\n",
       "2019-03-07  72.570000  0.039089  74.277000  45.076719\n",
       "2019-03-08  71.750000  0.000418  74.280000  39.184960\n",
       "2019-03-11  73.470001 -0.007564  74.224001  53.922968\n",
       "2019-03-12  73.589996 -0.008889  74.158000  54.814241\n",
       "2019-03-13  73.639999 -0.014586  74.049000  55.235202\n",
       "2019-03-14  73.470001 -0.015015  73.937000  53.266896\n",
       "2019-03-15  73.639999 -0.017609  73.805000  55.132236\n",
       "\n",
       "[250 rows x 4 columns]"
      ]
     },
     "execution_count": 13,
     "metadata": {},
     "output_type": "execute_result"
    }
   ],
   "source": [
    "normed.info()\n",
    "# Clean nan values\n",
    "normed = normed.fillna(0)\n",
    "\n",
    "# Sort dataframe by index\n",
    "normed.sort_index()"
   ]
  },
  {
   "cell_type": "markdown",
   "metadata": {},
   "source": [
    "## Checking missing data"
   ]
  },
  {
   "cell_type": "code",
   "execution_count": 14,
   "metadata": {},
   "outputs": [
    {
     "name": "stdout",
     "output_type": "stream",
     "text": [
      "          Total  Percent\n",
      "RSI           0      0.0\n",
      "SMA           0      0.0\n",
      "Momentum      0      0.0\n",
      "AABA          0      0.0\n"
     ]
    }
   ],
   "source": [
    "#missing data\n",
    "total = normed.isnull().sum().sort_values(ascending=False)\n",
    "percent = (normed.isnull().sum()/normed.isnull().count()).sort_values(ascending=False)\n",
    "missing_data = pd.concat([total, percent], axis=1, keys=['Total', 'Percent'])\n",
    "missing_data.head(20)\n",
    "print(missing_data)"
   ]
  },
  {
   "cell_type": "markdown",
   "metadata": {},
   "source": [
    "## Correlation matrix"
   ]
  },
  {
   "cell_type": "code",
   "execution_count": 15,
   "metadata": {},
   "outputs": [
    {
     "name": "stdout",
     "output_type": "stream",
     "text": [
      "--------------- CORRELATIONS ---------------\n",
      "              AABA  Momentum       SMA       RSI\n",
      "AABA      1.000000  0.293553  0.212934  0.369687\n",
      "Momentum  0.293553  1.000000  0.010606  0.861549\n",
      "SMA       0.212934  0.010606  1.000000  0.174602\n",
      "RSI       0.369687  0.861549  0.174602  1.000000\n"
     ]
    },
    {
     "data": {
      "image/png": "[encoded data removed]",
      "text/plain": [
       "<Figure size 864x720 with 2 Axes>"
      ]
     },
     "metadata": {
      "needs_background": "light"
     },
     "output_type": "display_data"
    }
   ],
   "source": [
    "corr_df = normed.corr(method='pearson')\n",
    "print(\"--------------- CORRELATIONS ---------------\")\n",
    "print(corr_df)\n",
    "\n",
    "# Adj Close correlation matrix\n",
    "corrmat = normed.corr()\n",
    "k = 10 #number of variables for heatmap\n",
    "cols = corrmat.nlargest(k, symbol)[symbol].index\n",
    "cm = np.corrcoef(normed[cols].values.T)\n",
    "f, ax = plt.subplots(figsize =(12, 10)) \n",
    "sns.heatmap(cm, ax = ax, cmap =\"YlGnBu\", \n",
    "            linewidths = 0.1, yticklabels = cols.values,  \n",
    "                              xticklabels = cols.values) \n",
    "plt.show()"
   ]
  },
  {
   "cell_type": "markdown",
   "metadata": {},
   "source": [
    "### Setting up the Target variable or the desired output."
   ]
  },
  {
   "cell_type": "code",
   "execution_count": 68,
   "metadata": {},
   "outputs": [
    {
     "ename": "NameError",
     "evalue": "name 'normed' is not defined",
     "output_type": "error",
     "traceback": [
      "\u001b[0;31m---------------------------------------------------------------------------\u001b[0m",
      "\u001b[0;31mNameError\u001b[0m                                 Traceback (most recent call last)",
      "\u001b[0;32m<ipython-input-68-eb63f65cbf90>\u001b[0m in \u001b[0;36m<module>\u001b[0;34m\u001b[0m\n\u001b[1;32m      1\u001b[0m \u001b[0;31m# Define X and y\u001b[0m\u001b[0;34m\u001b[0m\u001b[0;34m\u001b[0m\u001b[0;34m\u001b[0m\u001b[0m\n\u001b[1;32m      2\u001b[0m \u001b[0mfeature_cols\u001b[0m \u001b[0;34m=\u001b[0m \u001b[0;34m[\u001b[0m\u001b[0;34m'Momentum'\u001b[0m\u001b[0;34m,\u001b[0m \u001b[0;34m'RSI'\u001b[0m\u001b[0;34m]\u001b[0m\u001b[0;34m\u001b[0m\u001b[0;34m\u001b[0m\u001b[0m\n\u001b[0;32m----> 3\u001b[0;31m \u001b[0mX\u001b[0m \u001b[0;34m=\u001b[0m \u001b[0mnormed\u001b[0m\u001b[0;34m[\u001b[0m\u001b[0mfeature_cols\u001b[0m\u001b[0;34m]\u001b[0m\u001b[0;34m\u001b[0m\u001b[0;34m\u001b[0m\u001b[0m\n\u001b[0m\u001b[1;32m      4\u001b[0m \u001b[0my\u001b[0m \u001b[0;34m=\u001b[0m \u001b[0mnormed\u001b[0m\u001b[0;34m[\u001b[0m\u001b[0msymbol\u001b[0m\u001b[0;34m]\u001b[0m\u001b[0;34m\u001b[0m\u001b[0;34m\u001b[0m\u001b[0m\n",
      "\u001b[0;31mNameError\u001b[0m: name 'normed' is not defined"
     ]
    }
   ],
   "source": [
    "# Define X and y\n",
    "feature_cols = ['Momentum', 'RSI']\n",
    "X = normed[feature_cols]\n",
    "y = normed[symbol]"
   ]
  },
  {
   "cell_type": "markdown",
   "metadata": {},
   "source": [
    "### Split the data"
   ]
  },
  {
   "cell_type": "code",
   "execution_count": 17,
   "metadata": {},
   "outputs": [],
   "source": [
    "# split X and y into training and testing sets\n",
    "X_train, X_test, y_train, y_test = train_test_split(X, y, test_size=0.30, shuffle=False)"
   ]
  },
  {
   "cell_type": "markdown",
   "metadata": {},
   "source": [
    "# ARIMA Model"
   ]
  },
  {
   "cell_type": "markdown",
   "metadata": {},
   "source": [
    "## Stationarity"
   ]
  },
  {
   "cell_type": "code",
   "execution_count": 18,
   "metadata": {},
   "outputs": [],
   "source": [
    "#Checking stationarity second way\n",
    "from statsmodels.tsa.stattools import adfuller\n",
    "def test_stationarity(timeseries):\n",
    "\n",
    "    #Determing rolling statistics\n",
    "    rolmean = timeseries.rolling(window=12).mean() # 24 hours on each day\n",
    "    rolstd = timeseries.rolling(window=12).std()\n",
    "    #rolmean = pd.rolling_mean(timeseries, window=12)\n",
    "    #rolstd = pd.rolling_std(timeseries, window=12)\n",
    "\n",
    "    #Plot rolling statistics:\n",
    "    fig = plt.figure(figsize=(12, 8))\n",
    "    orig = plt.plot(timeseries, color='blue',label='Original')\n",
    "    mean = plt.plot(rolmean, color='red', label='Rolling Mean')\n",
    "    std = plt.plot(rolstd, color='black', label = 'Rolling Std')\n",
    "    plt.legend(loc='best')\n",
    "    plt.title('Rolling Mean & Standard Deviation')\n",
    "    plt.show()\n",
    "    \n",
    "    #Perform Dickey-Fuller test:\n",
    "    print('Results of Dickey-Fuller Test:')\n",
    "    dftest = adfuller(timeseries, autolag='AIC')\n",
    "    dfoutput = pd.Series(dftest[0:4], index=['Test Statistic','p-value','#Lags Used','Number of Observations Used'])\n",
    "    for key,value in dftest[4].items():\n",
    "        dfoutput['Critical Value (%s)'%key] = value\n",
    "    print(dfoutput)"
   ]
  },
  {
   "cell_type": "code",
   "execution_count": 19,
   "metadata": {},
   "outputs": [
    {
     "data": {
      "image/png": "[encoded data removed]",
      "text/plain": [
       "<Figure size 864x576 with 1 Axes>"
      ]
     },
     "metadata": {
      "needs_background": "light"
     },
     "output_type": "display_data"
    },
    {
     "name": "stdout",
     "output_type": "stream",
     "text": [
      "Results of Dickey-Fuller Test:\n",
      "Test Statistic                  -1.573566\n",
      "p-value                          0.496857\n",
      "#Lags Used                       4.000000\n",
      "Number of Observations Used    245.000000\n",
      "Critical Value (1%)             -3.457326\n",
      "Critical Value (5%)             -2.873410\n",
      "Critical Value (10%)            -2.573096\n",
      "dtype: float64\n"
     ]
    }
   ],
   "source": [
    "test_stationarity(normed[symbol])"
   ]
  },
  {
   "cell_type": "markdown",
   "metadata": {},
   "source": [
    "As we can see:\n",
    "Test Statistic is greater than Critical Value, so the **time series is stationary**"
   ]
  },
  {
   "cell_type": "markdown",
   "metadata": {},
   "source": [
    "### Tuning the ARIMA model"
   ]
  },
  {
   "cell_type": "code",
   "execution_count": 20,
   "metadata": {},
   "outputs": [],
   "source": [
    "# evaluate an ARIMA model for a given order (p,d,q)\n",
    "def evaluate_arima_model(X, arima_order):\n",
    "    # prepare training dataset\n",
    "    train_size = int(len(X) * 0.66)\n",
    "    train, test = X[0:train_size], X[train_size:]\n",
    "    history = [x for x in train]\n",
    "    # make predictions\n",
    "    predictions = list()\n",
    "    for t in range(len(test)):\n",
    "        model = ARIMA(history, order=arima_order)\n",
    "        model_fit = model.fit(disp=0)\n",
    "        yhat = model_fit.forecast()[0]\n",
    "        predictions.append(yhat)\n",
    "        history.append(test[t])\n",
    "    # calculate out of sample error\n",
    "    error = mean_squared_error(test, predictions)\n",
    "    return error\n",
    "\n",
    "# evaluate combinations of p, d and q values for an ARIMA model\n",
    "def evaluate_models(dataset, p_values, d_values, q_values):\n",
    "    dataset = dataset.astype('float32')\n",
    "    best_score, best_cfg = float(\"inf\"), None\n",
    "    for p in p_values:\n",
    "        for d in d_values:\n",
    "            for q in q_values:\n",
    "                order = (p,d,q)\n",
    "                try:\n",
    "                    mse = evaluate_arima_model(dataset, order)\n",
    "                    if mse < best_score:\n",
    "                        best_score, best_cfg = mse, order\n",
    "                    print('ARIMA%s MSE=%.3f' % (order,mse))\n",
    "                except:\n",
    "                    continue\n",
    "    print('Best ARIMA%s MSE=%.3f' % (best_cfg, best_score))"
   ]
  },
  {
   "cell_type": "markdown",
   "metadata": {},
   "source": [
    "### Evaluate parameters"
   ]
  },
  {
   "cell_type": "markdown",
   "metadata": {},
   "source": [
    "### Optimal ARIMA model \n",
    "\n",
    "Find the optimal ARIMA model manually using Out-of-Time Cross validation.\n",
    "\n",
    "In Out-of-Time cross-validation, you take few steps back in time and forecast into the future to as many steps you took back. Then you compare the forecast against the actuals.\n",
    "\n",
    "To do out-of-time cross-validation, you need to create the training and testing dataset by splitting the time series into 2 contiguous parts in approximately 75:25 ratio or a reasonable proportion based on time frequency of series.\n",
    "\n",
    "Why am I not sampling the training data randomly you ask?\n",
    "\n",
    "That’s because the order sequence of the time series should be intact in order to use it for forecasting."
   ]
  },
  {
   "cell_type": "code",
   "execution_count": 740,
   "metadata": {},
   "outputs": [
    {
     "name": "stdout",
     "output_type": "stream",
     "text": [
      "ARIMA(0, 0, 0) MSE=55.746\n",
      "ARIMA(0, 0, 1) MSE=17.231\n",
      "ARIMA(0, 1, 0) MSE=1.480\n",
      "ARIMA(0, 1, 1) MSE=1.448\n",
      "ARIMA(0, 1, 2) MSE=1.475\n",
      "ARIMA(0, 2, 0) MSE=2.345\n",
      "ARIMA(0, 2, 1) MSE=1.500\n",
      "ARIMA(0, 2, 2) MSE=1.466\n",
      "ARIMA(1, 0, 0) MSE=1.439\n",
      "ARIMA(1, 0, 1) MSE=1.403\n",
      "ARIMA(1, 0, 2) MSE=1.421\n",
      "ARIMA(1, 1, 0) MSE=1.454\n",
      "ARIMA(1, 2, 0) MSE=2.049\n",
      "ARIMA(1, 2, 1) MSE=1.473\n",
      "ARIMA(2, 0, 0) MSE=1.409\n",
      "ARIMA(2, 0, 1) MSE=1.405\n",
      "ARIMA(2, 0, 2) MSE=1.415\n",
      "ARIMA(2, 1, 0) MSE=1.470\n",
      "ARIMA(2, 1, 1) MSE=1.471\n",
      "ARIMA(2, 2, 0) MSE=2.049\n",
      "ARIMA(4, 0, 0) MSE=1.418\n",
      "ARIMA(4, 0, 1) MSE=1.389\n",
      "ARIMA(4, 0, 2) MSE=1.571\n",
      "ARIMA(4, 1, 0) MSE=1.455\n",
      "ARIMA(4, 1, 1) MSE=1.478\n",
      "ARIMA(4, 2, 0) MSE=1.730\n",
      "ARIMA(4, 2, 1) MSE=1.477\n",
      "ARIMA(6, 0, 0) MSE=1.464\n",
      "ARIMA(6, 0, 1) MSE=1.478\n",
      "ARIMA(6, 1, 0) MSE=1.561\n",
      "ARIMA(6, 1, 1) MSE=1.566\n",
      "ARIMA(6, 1, 2) MSE=1.648\n",
      "ARIMA(6, 2, 0) MSE=1.765\n",
      "ARIMA(6, 2, 1) MSE=1.762\n",
      "Best ARIMA(4, 0, 1) MSE=1.389\n"
     ]
    }
   ],
   "source": [
    "# evaluate parameters\n",
    "p_values = [0, 1, 2, 4, 6]\n",
    "d_values = range(0, 3)\n",
    "q_values = range(0, 3)\n",
    "warnings.filterwarnings(\"ignore\")\n",
    "evaluate_models(series.values, p_values, d_values, q_values)"
   ]
  },
  {
   "cell_type": "markdown",
   "metadata": {},
   "source": [
    "### Forecasting"
   ]
  },
  {
   "cell_type": "code",
   "execution_count": 56,
   "metadata": {},
   "outputs": [],
   "source": [
    "\n",
    "series =  pd.Series(normed[symbol].values)\n",
    "X = series.values\n",
    "size = int(len(X) * 0.70)\n",
    "train, test = X[0:size], X[size:len(X)]\n",
    "history = [x for x in train]\n",
    "predictions = list()\n",
    "conf = list()"
   ]
  },
  {
   "cell_type": "code",
   "execution_count": 57,
   "metadata": {},
   "outputs": [
    {
     "name": "stdout",
     "output_type": "stream",
     "text": [
      "predicted=62.563278, expected=64.370003\n",
      "predicted=64.351506, expected=64.160004\n",
      "predicted=64.175341, expected=65.430000\n",
      "predicted=65.307586, expected=64.419998\n",
      "predicted=64.593957, expected=65.589996\n",
      "predicted=65.527050, expected=66.820000\n",
      "predicted=67.244417, expected=64.800003\n",
      "predicted=64.267026, expected=63.860001\n",
      "predicted=64.251184, expected=63.009998\n",
      "predicted=63.407109, expected=62.230000\n",
      "predicted=62.395779, expected=62.570000\n",
      "predicted=62.931675, expected=62.820000\n",
      "predicted=62.955571, expected=62.759998\n",
      "predicted=62.803033, expected=62.009998\n",
      "predicted=62.100615, expected=60.080002\n",
      "predicted=60.159897, expected=59.119999\n",
      "predicted=59.497307, expected=57.700001\n",
      "predicted=57.996104, expected=56.709999\n",
      "predicted=56.912399, expected=55.650002\n",
      "predicted=55.952015, expected=55.709999\n",
      "predicted=55.968100, expected=57.900002\n",
      "predicted=58.377174, expected=57.970001\n",
      "predicted=57.804450, expected=58.349998\n",
      "predicted=58.327356, expected=57.939999\n",
      "predicted=58.122430, expected=57.490002\n",
      "predicted=57.503153, expected=55.529999\n",
      "predicted=55.646768, expected=58.720001\n",
      "predicted=59.287629, expected=59.639999\n",
      "predicted=59.786429, expected=61.040001\n",
      "predicted=60.620659, expected=62.939999\n",
      "predicted=63.361542, expected=63.110001\n",
      "predicted=62.771642, expected=62.880001\n",
      "predicted=62.953537, expected=62.290001\n",
      "predicted=62.357631, expected=62.779999\n",
      "predicted=63.020442, expected=63.889999\n",
      "predicted=64.100875, expected=64.330002\n",
      "predicted=64.290981, expected=64.639999\n",
      "predicted=64.656109, expected=63.009998\n",
      "predicted=62.923212, expected=62.869999\n",
      "predicted=63.074835, expected=64.000000\n",
      "predicted=64.420089, expected=65.220001\n",
      "predicted=65.206400, expected=65.220001\n",
      "predicted=65.136539, expected=64.790001\n",
      "predicted=64.725778, expected=68.019997\n",
      "predicted=68.484930, expected=68.510002\n",
      "predicted=68.300935, expected=68.519997\n",
      "predicted=68.157736, expected=68.410004\n",
      "predicted=68.601623, expected=70.050003\n",
      "predicted=70.114627, expected=69.940002\n",
      "predicted=69.880223, expected=68.550003\n",
      "predicted=68.219663, expected=68.519997\n",
      "predicted=68.838936, expected=68.500000\n",
      "predicted=68.579318, expected=68.879997\n",
      "predicted=68.916208, expected=69.070000\n",
      "predicted=69.095358, expected=68.620003\n",
      "predicted=68.533574, expected=67.860001\n",
      "predicted=67.881180, expected=69.110001\n",
      "predicted=69.364859, expected=69.400002\n",
      "predicted=69.382310, expected=69.839996\n",
      "predicted=69.693266, expected=71.720001\n",
      "predicted=71.921463, expected=74.029999\n",
      "predicted=73.958542, expected=74.250000\n",
      "predicted=73.873580, expected=74.730003\n",
      "predicted=74.548881, expected=74.589996\n",
      "predicted=74.546581, expected=74.959999\n",
      "predicted=74.845906, expected=76.010002\n",
      "predicted=76.093595, expected=75.120003\n",
      "predicted=74.774662, expected=74.790001\n",
      "predicted=74.720024, expected=72.570000\n",
      "predicted=72.441816, expected=71.750000\n",
      "predicted=71.768141, expected=73.470001\n",
      "predicted=73.940071, expected=73.589996\n",
      "predicted=73.321902, expected=73.639999\n",
      "predicted=73.467637, expected=73.470001\n",
      "predicted=73.464713, expected=73.639999\n",
      "Test MSE: 1.315\n"
     ]
    },
    {
     "data": {
      "image/png": "[encoded data removed]",
      "text/plain": [
       "<Figure size 432x288 with 1 Axes>"
      ]
     },
     "metadata": {
      "needs_background": "light"
     },
     "output_type": "display_data"
    }
   ],
   "source": [
    "\n",
    "for t in range(len(test)):\n",
    "    model = ARIMA(history, order=(4,0,1))\n",
    "    model_fit = model.fit(disp=0)\n",
    "    output = model_fit.forecast()\n",
    "    yhat = output[0]\n",
    "    predictions.append(yhat)\n",
    "    obs = test[t]\n",
    "    history.append(obs)\n",
    "    l = output[2].tolist()\n",
    "    conf.append(l)\n",
    "    print('predicted=%f, expected=%f' % (yhat, obs))\n",
    "error = mean_squared_error(test, predictions)\n",
    "print('Test MSE: %.3f' % error)\n",
    "# plot\n",
    "plt.plot(test)\n",
    "plt.plot(predictions, color='red')\n",
    "plt.title(\"ARIMA Rolling Forecast Line Plot\")\n",
    "plt.show()"
   ]
  },
  {
   "cell_type": "code",
   "execution_count": null,
   "metadata": {},
   "outputs": [],
   "source": [
    "print(type(conf))\n",
    "lower = pd.Series( (v[0][0] for v in conf), index=y_test.index )\n",
    "\n",
    "upper = pd.Series( (v[0][1] for v in conf), index=y_test.index )\n"
   ]
  },
  {
   "cell_type": "code",
   "execution_count": 58,
   "metadata": {},
   "outputs": [],
   "source": [
    "fc_series = pd.Series(predictions, index=y_test.index)\n",
    "lower_series = pd.Series( (v[0][0] for v in conf), index=y_test.index )\n",
    "upper_series = pd.Series( (v[0][1] for v in conf), index=y_test.index )"
   ]
  },
  {
   "cell_type": "code",
   "execution_count": 59,
   "metadata": {},
   "outputs": [
    {
     "data": {
      "image/png": "[encoded data removed]",
      "text/plain": [
       "<Figure size 864x576 with 1 Axes>"
      ]
     },
     "metadata": {
      "needs_background": "light"
     },
     "output_type": "display_data"
    }
   ],
   "source": [
    "# Plot\n",
    "fig = plt.figure(figsize=(12, 8))\n",
    "plt.plot(normed[symbol])\n",
    "plt.plot(fc_series, color='orange')\n",
    "plt.fill_between(lower_series.index, \n",
    "                 lower_series, \n",
    "                 upper_series, \n",
    "                 color='k', alpha=.15)\n",
    "\n",
    "plt.title(\"Final Forecast of Price\")\n",
    "plt.show()"
   ]
  },
  {
   "cell_type": "markdown",
   "metadata": {},
   "source": [
    "## Evaluate The Model"
   ]
  },
  {
   "cell_type": "markdown",
   "metadata": {},
   "source": [
    "### Showing summary"
   ]
  },
  {
   "cell_type": "code",
   "execution_count": 60,
   "metadata": {},
   "outputs": [
    {
     "name": "stdout",
     "output_type": "stream",
     "text": [
      "                              ARMA Model Results                              \n",
      "==============================================================================\n",
      "Dep. Variable:                      y   No. Observations:                  249\n",
      "Model:                     ARMA(4, 1)   Log Likelihood                -410.166\n",
      "Method:                       css-mle   S.D. of innovations              1.248\n",
      "Date:                Wed, 20 Mar 2019   AIC                            834.332\n",
      "Time:                        19:51:00   BIC                            858.954\n",
      "Sample:                             0   HQIC                           844.243\n",
      "                                                                              \n",
      "==============================================================================\n",
      "                 coef    std err          z      P>|z|      [0.025      0.975]\n",
      "------------------------------------------------------------------------------\n",
      "const         71.0226      3.612     19.666      0.000      63.944      78.101\n",
      "ar.L1.y        0.4486      0.224      2.004      0.046       0.010       0.887\n",
      "ar.L2.y        0.5038      0.242      2.079      0.039       0.029       0.979\n",
      "ar.L3.y       -0.1375      0.071     -1.929      0.055      -0.277       0.002\n",
      "ar.L4.y        0.1541      0.063      2.460      0.015       0.031       0.277\n",
      "ma.L1.y        0.6434      0.220      2.923      0.004       0.212       1.075\n",
      "                                    Roots                                    \n",
      "=============================================================================\n",
      "                  Real          Imaginary           Modulus         Frequency\n",
      "-----------------------------------------------------------------------------\n",
      "AR.1            1.0185           -0.0000j            1.0185           -0.0000\n",
      "AR.2           -1.2964           -0.0000j            1.2964           -0.5000\n",
      "AR.3            0.5852           -2.1385j            2.2171           -0.2075\n",
      "AR.4            0.5852           +2.1385j            2.2171            0.2075\n",
      "MA.1           -1.5543           +0.0000j            1.5543            0.5000\n",
      "-----------------------------------------------------------------------------\n"
     ]
    },
    {
     "data": {
      "image/png": "[encoded data removed]",
      "text/plain": [
       "<Figure size 432x288 with 1 Axes>"
      ]
     },
     "metadata": {
      "needs_background": "light"
     },
     "output_type": "display_data"
    },
    {
     "name": "stderr",
     "output_type": "stream",
     "text": [
      "/home/emi/miniconda3/envs/factors/lib/python3.6/site-packages/matplotlib/cbook/__init__.py:424: MatplotlibDeprecationWarning:\n",
      "\n",
      "\n",
      "Passing one of 'on', 'true', 'off', 'false' as a boolean is deprecated; use an actual boolean (True/False) instead.\n",
      "\n"
     ]
    },
    {
     "data": {
      "image/png": "[encoded data removed]",
      "text/plain": [
       "<Figure size 432x288 with 1 Axes>"
      ]
     },
     "metadata": {
      "needs_background": "light"
     },
     "output_type": "display_data"
    },
    {
     "name": "stdout",
     "output_type": "stream",
     "text": [
      "                0\n",
      "count  249.000000\n",
      "mean    -0.028061\n",
      "std      1.320778\n",
      "min     -3.699594\n",
      "25%     -0.909024\n",
      "50%     -0.002872\n",
      "75%      0.845789\n",
      "max      6.817390\n"
     ]
    }
   ],
   "source": [
    "print(model_fit.summary())\n",
    "# plot residual errors\n",
    "residuals = pd.DataFrame(model_fit.resid)\n",
    "residuals.plot()\n",
    "plt.title(\"ARMA Fit Residual Error Line Plot\")\n",
    "plt.show()\n",
    "residuals.plot(kind='kde')\n",
    "plt.title(\"ARMA Fit Residual Error Density Plot\")\n",
    "plt.grid(\"on\")\n",
    "plt.show()\n",
    "print(residuals.describe())"
   ]
  },
  {
   "cell_type": "markdown",
   "metadata": {},
   "source": [
    "### Correlation\n",
    "\n",
    "A way to visualize and evaluate the accuracy of a regression algorithm is to look at the relationship between predicted and actual values of our dependant variable Y.\n",
    "\n",
    "A value along the horizontal access is the prediction and along the vertical axis is what the ground truth is.\n",
    "\n",
    "You'll get an answer somewhere between -1 and +1. Where +1 means they're strongly correlated, -1 means they're inversely correlated, and 0 means there's essentially no correlation at all between them.\n"
   ]
  },
  {
   "cell_type": "code",
   "execution_count": 61,
   "metadata": {},
   "outputs": [],
   "source": [
    "# Create a dataframe for plotting\n",
    "pred_df = pd.DataFrame()\n",
    "pred_df['Price'] = test\n",
    "se = pd.Series(predictions)\n",
    "pred_df['Forecast'] = se\n",
    "pred_df['Forecast'] = pred_df['Forecast'].astype(float)"
   ]
  },
  {
   "cell_type": "code",
   "execution_count": 62,
   "metadata": {},
   "outputs": [
    {
     "name": "stdout",
     "output_type": "stream",
     "text": [
      "Correlation: \n",
      " [[1.         0.97878512]\n",
      " [0.97878512 1.        ]]\n"
     ]
    }
   ],
   "source": [
    "print('Correlation: \\n', np.corrcoef(pred_df['Forecast'], pred_df['Price']))"
   ]
  },
  {
   "cell_type": "markdown",
   "metadata": {},
   "source": [
    "### Plot correlation matrix"
   ]
  },
  {
   "cell_type": "code",
   "execution_count": 63,
   "metadata": {},
   "outputs": [
    {
     "data": {
      "image/png": "[encoded data removed]",
      "text/plain": [
       "<Figure size 288x288 with 2 Axes>"
      ]
     },
     "metadata": {
      "needs_background": "light"
     },
     "output_type": "display_data"
    }
   ],
   "source": [
    "plt.matshow(pred_df.corr())\n",
    "plt.xticks(range(len(pred_df.columns)), pred_df.columns)\n",
    "plt.yticks(range(len(pred_df.columns)), pred_df.columns)\n",
    "plt.colorbar()\n",
    "plt.show()"
   ]
  },
  {
   "cell_type": "markdown",
   "metadata": {},
   "source": [
    "### Plot slope line and elipse\n",
    "\n",
    "So if it's a nice oval that fits close to the slope line, we usually have a high correlation. If it's a big round thing we've got poor correlation.\n"
   ]
  },
  {
   "cell_type": "code",
   "execution_count": 64,
   "metadata": {},
   "outputs": [
    {
     "data": {
      "image/png": "[encoded data removed]",
      "text/plain": [
       "<Figure size 432x288 with 1 Axes>"
      ]
     },
     "metadata": {
      "needs_background": "light"
     },
     "output_type": "display_data"
    }
   ],
   "source": [
    "# Slope line\n",
    "a = pred_df['Forecast']\n",
    "b = pred_df['Price']\n",
    "# Find the slope and intercept of the best fit line\n",
    "slope, intercept = np.polyfit(a, b, 1)\n",
    "\n",
    "# Create a list of values in the best fit line\n",
    "abline_values = [slope * i + intercept for i in a]\n",
    "\n",
    "# Create an ellipse\n",
    "cov = np.cov(a, b)\n",
    "lambda_, v = np.linalg.eig(cov)\n",
    "lambda_ = np.sqrt(lambda_)\n",
    "\n",
    "ax = plt.subplot(111, aspect='auto')\n",
    "\n",
    "ell = Ellipse(xy=(np.mean(a), np.mean(b)),\n",
    "              width=lambda_[0]*5, height=lambda_[1]*5,\n",
    "              angle=np.rad2deg(np.arccos(v[0, 0])), edgecolor='black')\n",
    "ell.set_facecolor('none')\n",
    "\n",
    "# Max and min values for lim\n",
    "maxlim = max(b) * 1.1\n",
    "minlim = min(b) / 1.15\n",
    "ax.add_artist(ell)\n",
    "ax.set(xlim=[minlim, maxlim], ylim=[minlim, maxlim])\n",
    "\n",
    "plt.scatter(a, b)\n",
    "plt.plot(a, abline_values, 'r')\n",
    "plt.title(\"Correlation\")\n",
    "plt.xlabel('Prediction')\n",
    "plt.ylabel(\"Price\")\n",
    "plt.show()\n",
    "\n"
   ]
  },
  {
   "cell_type": "markdown",
   "metadata": {},
   "source": [
    "## Saving an ARIMA Time Series Forecasting Model\n",
    "\n",
    "The statsmodels library provides an implementation of ARIMA for use in Python. ARIMA models can be saved to file for later use in making predictions on new data. There is a bug in the earlier versions to 0.9 of the statsmodels library that prevents saved models from being loaded.\n"
   ]
  },
  {
   "cell_type": "code",
   "execution_count": 65,
   "metadata": {},
   "outputs": [
    {
     "name": "stdout",
     "output_type": "stream",
     "text": [
      "statsmodels: 0.9.0\n"
     ]
    }
   ],
   "source": [
    "print('statsmodels: %s' % statsmodels.__version__)"
   ]
  },
  {
   "cell_type": "code",
   "execution_count": 66,
   "metadata": {},
   "outputs": [],
   "source": [
    "# save model\n",
    "model_fit.save('arima_model.pkl')\n"
   ]
  },
  {
   "cell_type": "markdown",
   "metadata": {},
   "source": [
    "# Loading a model and predicting future prices\n",
    "\n",
    "Load the model and use it to forecast the next steps. "
   ]
  },
  {
   "cell_type": "code",
   "execution_count": 55,
   "metadata": {},
   "outputs": [],
   "source": [
    "symbol = \"AMZN\"\n",
    "\n",
    "# We'll look back 365 days\n",
    "start_d = dt.date.today() - dt.timedelta(365)"
   ]
  },
  {
   "cell_type": "markdown",
   "metadata": {},
   "source": [
    "## Getting data from Yahoo"
   ]
  },
  {
   "cell_type": "code",
   "execution_count": 56,
   "metadata": {},
   "outputs": [
    {
     "name": "stdout",
     "output_type": "stream",
     "text": [
      "[*********************100%***********************]  1 of 1 downloaded\n"
     ]
    }
   ],
   "source": [
    "yesterday = dt.date.today() - dt.timedelta(1)\n",
    "portf_value = fetchOnlineData(start_d, symbol, yesterday)"
   ]
  },
  {
   "cell_type": "code",
   "execution_count": 57,
   "metadata": {},
   "outputs": [
    {
     "name": "stdout",
     "output_type": "stream",
     "text": [
      "                              ARMA Model Results                              \n",
      "==============================================================================\n",
      "Dep. Variable:                      y   No. Observations:                  249\n",
      "Model:                     ARMA(4, 1)   Log Likelihood                -410.166\n",
      "Method:                       css-mle   S.D. of innovations              1.248\n",
      "Date:                Tue, 26 Mar 2019   AIC                            834.332\n",
      "Time:                        21:14:25   BIC                            858.954\n",
      "Sample:                             0   HQIC                           844.243\n",
      "                                                                              \n",
      "==============================================================================\n",
      "                 coef    std err          z      P>|z|      [0.025      0.975]\n",
      "------------------------------------------------------------------------------\n",
      "const         71.0226      3.612     19.666      0.000      63.944      78.101\n",
      "ar.L1.y        0.4486      0.224      2.004      0.046       0.010       0.887\n",
      "ar.L2.y        0.5038      0.242      2.079      0.039       0.029       0.979\n",
      "ar.L3.y       -0.1375      0.071     -1.929      0.055      -0.277       0.002\n",
      "ar.L4.y        0.1541      0.063      2.460      0.015       0.031       0.277\n",
      "ma.L1.y        0.6434      0.220      2.923      0.004       0.212       1.075\n",
      "                                    Roots                                    \n",
      "=============================================================================\n",
      "                  Real          Imaginary           Modulus         Frequency\n",
      "-----------------------------------------------------------------------------\n",
      "AR.1            1.0185           -0.0000j            1.0185           -0.0000\n",
      "AR.2           -1.2964           -0.0000j            1.2964           -0.5000\n",
      "AR.3            0.5852           -2.1385j            2.2171           -0.2075\n",
      "AR.4            0.5852           +2.1385j            2.2171            0.2075\n",
      "MA.1           -1.5543           +0.0000j            1.5543            0.5000\n",
      "-----------------------------------------------------------------------------\n"
     ]
    }
   ],
   "source": [
    "# load model\n",
    "model = ARIMAResults.load('arima_model.pkl')\n",
    "\n",
    "print(model.summary())"
   ]
  },
  {
   "cell_type": "code",
   "execution_count": 58,
   "metadata": {},
   "outputs": [],
   "source": [
    "forecast_lookback = 365\n",
    "forecast_date = dt.date.today()\n",
    "# Setting dates and prices dataframe                                            \n",
    "lookback_date = dt.date.today() - dt.timedelta(forecast_lookback)               \n",
    "dates = pd.date_range(lookback_date, periods=forecast_lookback)                 \n",
    "df_prices = slice_df(portf_value, dates)                                        \n",
    "                                                                                \n",
    "# Bussines days                                                                 \n",
    "start = forecast_date.strftime(\"%Y-%m-%d\")                                      \n",
    "rng = pd.date_range(pd.Timestamp(start),  periods=forecast_time, freq='B')      \n",
    "                                                                                "
   ]
  },
  {
   "cell_type": "code",
   "execution_count": 70,
   "metadata": {},
   "outputs": [],
   "source": [
    "# Bussines days\n",
    "start = forecast_date.strftime(\"%Y-%m-%d\")\n",
    "rng = pd.date_range(pd.Timestamp(start),  periods=forecast_time, freq='B')\n",
    "bussines_days = rng.strftime('%Y-%m-%d')"
   ]
  },
  {
   "cell_type": "markdown",
   "metadata": {},
   "source": [
    "## Rolling forecast\n"
   ]
  },
  {
   "cell_type": "markdown",
   "metadata": {},
   "source": [
    "### Getting data from Yahoo"
   ]
  },
  {
   "cell_type": "code",
   "execution_count": 60,
   "metadata": {},
   "outputs": [
    {
     "name": "stdout",
     "output_type": "stream",
     "text": [
      "           Total  Percent\n",
      "Adj Close      0      0.0\n"
     ]
    }
   ],
   "source": [
    "#missing data\n",
    "total = portf_value.isnull().sum().sort_values(ascending=False)\n",
    "percent = (portf_value.isnull().sum()/portf_value.isnull().count()).sort_values(ascending=False)\n",
    "missing_data = pd.concat([total, percent], axis=1, keys=['Total', 'Percent'])\n",
    "missing_data.head(20)\n",
    "print(missing_data)"
   ]
  },
  {
   "cell_type": "code",
   "execution_count": 61,
   "metadata": {},
   "outputs": [],
   "source": [
    "# Preparing data                               \n",
    "predictions = list()                           \n",
    "conf = list()                                                                          "
   ]
  },
  {
   "cell_type": "code",
   "execution_count": 62,
   "metadata": {},
   "outputs": [],
   "source": [
    "# Create date column to save next date\n",
    "portf_value['date'] = portf_value.index\n",
    "\n",
    "\n",
    "# load the dataset\n",
    "dataset = np.array(portf_value.iloc[:, 0].tolist())[np.newaxis]\n",
    "dataset = dataset.T\n",
    "dataset = dataset.astype('float32')\n",
    "\n",
    "# normalize the dataset\n",
    "scaler = MinMaxScaler(feature_range=(0, 1))\n",
    "dataset = scaler.fit_transform(dataset)"
   ]
  },
  {
   "cell_type": "code",
   "execution_count": 63,
   "metadata": {},
   "outputs": [],
   "source": [
    "# Prediction\n",
    "model = ARIMA(history, order=(4,0,1))\n",
    "model_fit = model.fit(disp=0)\n",
    "yhat = model_fit.forecast()"
   ]
  },
  {
   "cell_type": "code",
   "execution_count": 64,
   "metadata": {},
   "outputs": [
    {
     "name": "stdout",
     "output_type": "stream",
     "text": [
      "No.=0.000000, predicted=1757.387702\n",
      "No.=1.000000, predicted=1761.761566\n",
      "No.=2.000000, predicted=1753.441512\n",
      "No.=3.000000, predicted=1757.187211\n",
      "No.=4.000000, predicted=1749.426759\n",
      "No.=5.000000, predicted=1752.913116\n",
      "No.=6.000000, predicted=1745.656712\n"
     ]
    }
   ],
   "source": [
    "forecast_time = 7\n",
    "for i in range(0, forecast_time):\n",
    "    # load the dataset\n",
    "    dataset = np.array(portf_value.iloc[:, 0].tolist())[np.newaxis]\n",
    "    dataset = dataset.T\n",
    "    dataset = dataset.astype('float32')\n",
    "\n",
    "    # normalize the dataset\n",
    "    scaler = MinMaxScaler(feature_range=(0, 1))\n",
    "    dataset = scaler.fit_transform(dataset)\n",
    "\n",
    "    # predict\n",
    "    model = ARIMA(dataset, order=(4,0,1))\n",
    "    model_fit = model.fit(disp=0)\n",
    "    yhat = model_fit.forecast()\n",
    "\n",
    "    # Prediction Inverse scale\n",
    "    prediction = yhat[0].reshape(-1, 1)\n",
    "    futurePredict = scaler.inverse_transform(prediction)\n",
    "\n",
    "    # observation\n",
    "    inv_scaled_conf =  scaler.inverse_transform(yhat[2].reshape(1, -1))\n",
    "    l = inv_scaled_conf.tolist()\n",
    "\n",
    "    conf.append(l)\n",
    "\n",
    "    # Adding last prediction to portf_value\n",
    "    prediction = futurePredict.item(0)\n",
    "    portf_value.loc[len(portf_value)] = [prediction, i]\n",
    "\n",
    "    # Adding value to predictions dataframe\n",
    "    predictions.append([prediction, i])\n",
    "    print('No.=%f, predicted=%f' % (i, prediction))"
   ]
  },
  {
   "cell_type": "code",
   "execution_count": 65,
   "metadata": {},
   "outputs": [
    {
     "data": {
      "text/plain": [
       "[[[1684.451600051443, 1830.3238032666775]],\n",
       " [[1688.9710025899128, 1834.5521286490803]],\n",
       " [[1680.7956309477818, 1826.0873928804192]],\n",
       " [[1684.6851871253064, 1829.689235796865]],\n",
       " [[1677.067687261037, 1821.7858313723543]],\n",
       " [[1680.6962061263996, 1825.1300251883752]],\n",
       " [[1673.5810866794006, 1817.7323373236588]]]"
      ]
     },
     "execution_count": 65,
     "metadata": {},
     "output_type": "execute_result"
    }
   ],
   "source": [
    "conf"
   ]
  },
  {
   "cell_type": "markdown",
   "metadata": {},
   "source": [
    "## Plotting predictions\n",
    "\n",
    "From https://www.machinelearningplus.com/time-series/arima-model-time-series-forecasting-python/"
   ]
  },
  {
   "cell_type": "code",
   "execution_count": 73,
   "metadata": {},
   "outputs": [
    {
     "data": {
      "text/plain": [
       "DatetimeIndex(['2019-03-26', '2019-03-27', '2019-03-28', '2019-03-29',\n",
       "               '2019-04-01', '2019-04-02', '2019-04-03'],\n",
       "              dtype='datetime64[ns]', freq='B')"
      ]
     },
     "execution_count": 73,
     "metadata": {},
     "output_type": "execute_result"
    }
   ],
   "source": [
    "rng\n"
   ]
  },
  {
   "cell_type": "code",
   "execution_count": 72,
   "metadata": {},
   "outputs": [
    {
     "ename": "TypeError",
     "evalue": "list indices must be integers or slices, not tuple",
     "output_type": "error",
     "traceback": [
      "\u001b[0;31m---------------------------------------------------------------------------\u001b[0m",
      "\u001b[0;31mTypeError\u001b[0m                                 Traceback (most recent call last)",
      "\u001b[0;32m<ipython-input-72-8d00cee79988>\u001b[0m in \u001b[0;36m<module>\u001b[0;34m\u001b[0m\n\u001b[1;32m      1\u001b[0m \u001b[0;31m# Make as pandas series\u001b[0m\u001b[0;34m\u001b[0m\u001b[0;34m\u001b[0m\u001b[0;34m\u001b[0m\u001b[0m\n\u001b[1;32m      2\u001b[0m \u001b[0mfc_series\u001b[0m \u001b[0;34m=\u001b[0m \u001b[0mpd\u001b[0m\u001b[0;34m.\u001b[0m\u001b[0mSeries\u001b[0m\u001b[0;34m(\u001b[0m\u001b[0mpredictions\u001b[0m\u001b[0;34m,\u001b[0m \u001b[0mindex\u001b[0m\u001b[0;34m=\u001b[0m\u001b[0mbussines_days\u001b[0m\u001b[0;34m)\u001b[0m\u001b[0;34m\u001b[0m\u001b[0;34m\u001b[0m\u001b[0m\n\u001b[0;32m----> 3\u001b[0;31m \u001b[0mlower_series\u001b[0m \u001b[0;34m=\u001b[0m \u001b[0mpd\u001b[0m\u001b[0;34m.\u001b[0m\u001b[0mSeries\u001b[0m\u001b[0;34m(\u001b[0m\u001b[0mconf\u001b[0m\u001b[0;34m[\u001b[0m\u001b[0;34m:\u001b[0m\u001b[0;34m,\u001b[0m \u001b[0;36m0\u001b[0m\u001b[0;34m]\u001b[0m\u001b[0;34m,\u001b[0m \u001b[0mindex\u001b[0m\u001b[0;34m=\u001b[0m\u001b[0mbussines_days\u001b[0m\u001b[0;34m)\u001b[0m\u001b[0;34m\u001b[0m\u001b[0;34m\u001b[0m\u001b[0m\n\u001b[0m\u001b[1;32m      4\u001b[0m \u001b[0mupper_series\u001b[0m \u001b[0;34m=\u001b[0m \u001b[0mpd\u001b[0m\u001b[0;34m.\u001b[0m\u001b[0mSeries\u001b[0m\u001b[0;34m(\u001b[0m\u001b[0mconf\u001b[0m\u001b[0;34m[\u001b[0m\u001b[0;34m:\u001b[0m\u001b[0;34m,\u001b[0m \u001b[0;36m1\u001b[0m\u001b[0;34m]\u001b[0m\u001b[0;34m,\u001b[0m \u001b[0mindex\u001b[0m\u001b[0;34m=\u001b[0m\u001b[0mbussines_days\u001b[0m\u001b[0;34m)\u001b[0m\u001b[0;34m\u001b[0m\u001b[0;34m\u001b[0m\u001b[0m\n\u001b[1;32m      5\u001b[0m \u001b[0;34m\u001b[0m\u001b[0m\n",
      "\u001b[0;31mTypeError\u001b[0m: list indices must be integers or slices, not tuple"
     ]
    }
   ],
   "source": [
    "# Make as pandas series\n",
    "fc_series = pd.Series(predictions, index=rng)\n",
    "lower_series = pd.Series(conf[:, 0], index=rng)\n",
    "upper_series = pd.Series(conf[:, 1], index=rng)\n",
    "\n",
    "# Plot\n",
    "plt.figure(figsize=(12,5), dpi=100)\n",
    "plt.plot(df_prices['Adj Close'], label='training')\n",
    "#plt.plot(test, label='actual')\n",
    "plt.plot(fc_series, label='forecast')\n",
    "plt.fill_between(lower_series.index, lower_series, upper_series, \n",
    "                 color='k', alpha=.15)\n",
    "plt.title('Forecast vs Actuals')\n",
    "plt.legend(loc='upper left', fontsize=8)\n",
    "plt.show()"
   ]
  },
  {
   "cell_type": "code",
   "execution_count": 54,
   "metadata": {},
   "outputs": [
    {
     "data": {
      "text/html": [
       "<script type=\"text/javascript\">window.PlotlyConfig = {MathJaxConfig: 'local'};</script><script type=\"text/javascript\">if (window.MathJax) {MathJax.Hub.Config({SVG: {font: \"STIX-Web\"}});}</script><script>requirejs.config({paths: { 'plotly': ['https://cdn.plot.ly/plotly-latest.min']},});if(!window._Plotly) {require(['plotly'],function(plotly) {window._Plotly=plotly;});}</script>"
      ],
      "text/vnd.plotly.v1+html": [
       "<script type=\"text/javascript\">window.PlotlyConfig = {MathJaxConfig: 'local'};</script><script type=\"text/javascript\">if (window.MathJax) {MathJax.Hub.Config({SVG: {font: \"STIX-Web\"}});}</script><script>requirejs.config({paths: { 'plotly': ['https://cdn.plot.ly/plotly-latest.min']},});if(!window._Plotly) {require(['plotly'],function(plotly) {window._Plotly=plotly;});}</script>"
      ]
     },
     "metadata": {},
     "output_type": "display_data"
    },
    {
     "data": {
      "text/plain": [
       "'file:///home/emi/miniconda3/envs/factors/temp-plot.html'"
      ]
     },
     "execution_count": 54,
     "metadata": {},
     "output_type": "execute_result"
    }
   ],
   "source": [
    "# Add plotly for interactive charts\n",
    "from plotly.offline import init_notebook_mode, iplot, plot\n",
    "init_notebook_mode(connected=True)\n",
    "#init_notebook_mode(connected=True)\n",
    "import plotly.plotly as py\n",
    "import plotly.graph_objs as go\n",
    "from plotly import tools\n",
    "\n",
    "trace0 = go.Scatter(\n",
    "    x=lower_series.index,\n",
    "    y=lower_series.values,\n",
    "    fill= None,\n",
    "    mode='lines',\n",
    "    line=dict(\n",
    "        color='rgb(143, 19, 131)',\n",
    "    )\n",
    ")\n",
    "trace1 = go.Scatter(\n",
    "    x=upper_series.index,\n",
    "    y=upper_series.values,\n",
    "    fill='tonexty',\n",
    "    mode='lines',\n",
    "    line=dict(\n",
    "        color='rgb(143, 19, 131)',\n",
    "    )\n",
    ")\n",
    "\n",
    "data = [trace0, trace1]\n",
    "#py.iplot(data, filename='filling-interior-area')\n",
    "\n",
    "layout = dict(\n",
    "        title = \"ARIMA FORECAST MODEL\",\n",
    "        showlegend=True,\n",
    "        legend=dict(\n",
    "                orientation=\"h\"),\n",
    "        margin=go.layout.Margin(\n",
    "            l=50,\n",
    "            r=10,\n",
    "            b=100,\n",
    "            t=100,\n",
    "            pad=4\n",
    "        ),\n",
    "        \n",
    "    )\n",
    "fig = dict(data=data, layout=layout)\n",
    "plot(fig, show_link=False)"
   ]
  },
  {
   "cell_type": "code",
   "execution_count": null,
   "metadata": {},
   "outputs": [],
   "source": []
  }
 ],
 "metadata": {
  "kernelspec": {
   "display_name": "Python 3",
   "language": "python",
   "name": "python3"
  },
  "language_info": {
   "codemirror_mode": {
    "name": "ipython",
    "version": 3
   },
   "file_extension": ".py",
   "mimetype": "text/x-python",
   "name": "python",
   "nbconvert_exporter": "python",
   "pygments_lexer": "ipython3",
   "version": "3.6.8"
  }
 },
 "nbformat": 4,
 "nbformat_minor": 2
}
