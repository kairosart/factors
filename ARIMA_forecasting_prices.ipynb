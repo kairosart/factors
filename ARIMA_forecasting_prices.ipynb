{
 "cells": [
  {
   "cell_type": "markdown",
   "metadata": {},
   "source": [
    "# ARIMA\n",
    "\n",
    "This model can predict several prices in the future."
   ]
  },
  {
   "cell_type": "markdown",
   "metadata": {},
   "source": [
    "## Importing libraries"
   ]
  },
  {
   "cell_type": "code",
   "execution_count": 119,
   "metadata": {},
   "outputs": [
    {
     "data": {
      "text/html": [
       "<script type=\"text/javascript\">window.PlotlyConfig = {MathJaxConfig: 'local'};</script><script type=\"text/javascript\">if (window.MathJax) {MathJax.Hub.Config({SVG: {font: \"STIX-Web\"}});}</script><script>requirejs.config({paths: { 'plotly': ['https://cdn.plot.ly/plotly-latest.min']},});if(!window._Plotly) {require(['plotly'],function(plotly) {window._Plotly=plotly;});}</script>"
      ],
      "text/vnd.plotly.v1+html": [
       "<script type=\"text/javascript\">window.PlotlyConfig = {MathJaxConfig: 'local'};</script><script type=\"text/javascript\">if (window.MathJax) {MathJax.Hub.Config({SVG: {font: \"STIX-Web\"}});}</script><script>requirejs.config({paths: { 'plotly': ['https://cdn.plot.ly/plotly-latest.min']},});if(!window._Plotly) {require(['plotly'],function(plotly) {window._Plotly=plotly;});}</script>"
      ]
     },
     "metadata": {},
     "output_type": "display_data"
    }
   ],
   "source": [
    "import datetime as dt\n",
    "import os\n",
    "import pandas as pd\n",
    "import numpy as np\n",
    "import csv\n",
    "import warnings\n",
    "from pandas import Series\n",
    "\n",
    "\n",
    "# Files\n",
    "from indicators import get_momentum, get_RSI, get_sma, plot_stock_prices_prediction\n",
    "from util import fetchOnlineData, slice_df\n",
    "\n",
    "# Plot\n",
    "import matplotlib.pyplot as plt\n",
    "from matplotlib.patches import Ellipse\n",
    "import seaborn as sns\n",
    "\n",
    "# Sklearn\n",
    "from sklearn.preprocessing import MinMaxScaler, StandardScaler\n",
    "from sklearn.model_selection import train_test_split, GridSearchCV\n",
    "from sklearn.model_selection import cross_val_score\n",
    "from sklearn.metrics import mean_squared_error, accuracy_score\n",
    "from sklearn import tree, metrics, neighbors\n",
    "\n",
    "# models\n",
    "from sklearn.linear_model import LogisticRegression\n",
    "from sklearn.tree import DecisionTreeClassifier\n",
    "from sklearn.ensemble import RandomForestClassifier, ExtraTreesClassifier\n",
    "\n",
    "# ARIMA\n",
    "import statsmodels\n",
    "from statsmodels.tsa.arima_model import ARIMA, ARIMAResults\n",
    "from statsmodels.graphics.tsaplots import plot_acf\n",
    "\n",
    "# TA Library (https://github.com/bukosabino/ta)\n",
    "from ta import *\n",
    "\n",
    "# Add plotly for interactive charts\n",
    "from plotly.offline import init_notebook_mode, iplot\n",
    "init_notebook_mode(connected=True)\n",
    "import plotly.plotly as py\n",
    "import plotly.graph_objs as go\n",
    "from plotly import tools\n",
    "\n"
   ]
  },
  {
   "cell_type": "markdown",
   "metadata": {},
   "source": [
    "## Initial variables"
   ]
  },
  {
   "cell_type": "code",
   "execution_count": 2,
   "metadata": {},
   "outputs": [],
   "source": [
    "symbol = \"AABA\"\n",
    "\n",
    "# We'll look back 365 days\n",
    "start_d = dt.date.today() - dt.timedelta(365)"
   ]
  },
  {
   "cell_type": "markdown",
   "metadata": {},
   "source": [
    "## Getting data from Yahoo"
   ]
  },
  {
   "cell_type": "code",
   "execution_count": 3,
   "metadata": {},
   "outputs": [
    {
     "name": "stdout",
     "output_type": "stream",
     "text": [
      "[*********************100%***********************]  1 of 1 downloaded\n"
     ]
    }
   ],
   "source": [
    "yesterday = dt.date.today() - dt.timedelta(1)\n",
    "portf_value = fetchOnlineData(start_d, symbol, yesterday)"
   ]
  },
  {
   "cell_type": "code",
   "execution_count": 4,
   "metadata": {},
   "outputs": [],
   "source": [
    "# Normalize the prices Dataframe\n",
    "normed = portf_value.copy()"
   ]
  },
  {
   "cell_type": "code",
   "execution_count": 5,
   "metadata": {},
   "outputs": [],
   "source": [
    "# Convert price column to float\n",
    "#normed[symbol] = pd.to_numeric(normed[symbol], downcast='float', errors='coerce').fillna(0)"
   ]
  },
  {
   "cell_type": "code",
   "execution_count": 6,
   "metadata": {},
   "outputs": [
    {
     "name": "stdout",
     "output_type": "stream",
     "text": [
      "<class 'pandas.core.frame.DataFrame'>\n",
      "DatetimeIndex: 251 entries, 2018-03-09 to 2019-03-08\n",
      "Data columns (total 1 columns):\n",
      "Adj Close    251 non-null float64\n",
      "dtypes: float64(1)\n",
      "memory usage: 3.9 KB\n"
     ]
    },
    {
     "data": {
      "text/html": [
       "<div>\n",
       "<style scoped>\n",
       "    .dataframe tbody tr th:only-of-type {\n",
       "        vertical-align: middle;\n",
       "    }\n",
       "\n",
       "    .dataframe tbody tr th {\n",
       "        vertical-align: top;\n",
       "    }\n",
       "\n",
       "    .dataframe thead th {\n",
       "        text-align: right;\n",
       "    }\n",
       "</style>\n",
       "<table border=\"1\" class=\"dataframe\">\n",
       "  <thead>\n",
       "    <tr style=\"text-align: right;\">\n",
       "      <th></th>\n",
       "      <th>Adj Close</th>\n",
       "    </tr>\n",
       "    <tr>\n",
       "      <th>Date</th>\n",
       "      <th></th>\n",
       "    </tr>\n",
       "  </thead>\n",
       "  <tbody>\n",
       "    <tr>\n",
       "      <th>2018-03-09</th>\n",
       "      <td>76.620003</td>\n",
       "    </tr>\n",
       "    <tr>\n",
       "      <th>2018-03-12</th>\n",
       "      <td>77.559998</td>\n",
       "    </tr>\n",
       "    <tr>\n",
       "      <th>2018-03-13</th>\n",
       "      <td>75.970001</td>\n",
       "    </tr>\n",
       "    <tr>\n",
       "      <th>2018-03-14</th>\n",
       "      <td>77.199997</td>\n",
       "    </tr>\n",
       "    <tr>\n",
       "      <th>2018-03-15</th>\n",
       "      <td>79.419998</td>\n",
       "    </tr>\n",
       "  </tbody>\n",
       "</table>\n",
       "</div>"
      ],
      "text/plain": [
       "            Adj Close\n",
       "Date                 \n",
       "2018-03-09  76.620003\n",
       "2018-03-12  77.559998\n",
       "2018-03-13  75.970001\n",
       "2018-03-14  77.199997\n",
       "2018-03-15  79.419998"
      ]
     },
     "execution_count": 6,
     "metadata": {},
     "output_type": "execute_result"
    }
   ],
   "source": [
    "normed.info()\n",
    "normed.head()"
   ]
  },
  {
   "cell_type": "markdown",
   "metadata": {},
   "source": [
    "## Getting indicator values"
   ]
  },
  {
   "cell_type": "code",
   "execution_count": 7,
   "metadata": {},
   "outputs": [],
   "source": [
    "def get_indicators(normed, symbol):\n",
    "\n",
    "    # Compute momentum\n",
    "    sym_mom = get_momentum(normed[symbol], window=10)\n",
    "\n",
    "    # ****Relative Strength Index (RSI)****\n",
    "    # Compute RSI\n",
    "    rsi_value = get_RSI(normed[symbol], 7)\n",
    "\n",
    "    # ****Simple moving average (SMA)****\n",
    "    # Compute SMA\n",
    "    sma, q = get_sma(normed[symbol], window=10)\n",
    "    return sym_mom, sma, q, rsi_value\n",
    "\n",
    "#normed = scaling_data(normed, symbol)\n",
    "\n",
    "normed['date'] = portf_value.index\n",
    "normed.set_index('date', inplace=True)\n",
    "normed.rename(columns={'Adj Close': symbol}, inplace=True)\n"
   ]
  },
  {
   "cell_type": "code",
   "execution_count": 8,
   "metadata": {},
   "outputs": [
    {
     "name": "stdout",
     "output_type": "stream",
     "text": [
      "date\n",
      "2018-03-23   -0.047246\n",
      "2018-03-26   -0.022563\n",
      "2018-03-27   -0.038700\n",
      "2018-03-28   -0.059067\n",
      "2018-03-29   -0.067741\n",
      "2018-04-02   -0.103880\n",
      "2018-04-03   -0.093911\n",
      "2018-04-04   -0.120779\n",
      "2018-04-05   -0.111310\n",
      "2018-04-06   -0.094140\n",
      "2018-04-09   -0.062466\n",
      "2018-04-10   -0.066350\n",
      "2018-04-11   -0.033959\n",
      "2018-04-12   -0.028910\n",
      "2018-04-13   -0.064155\n",
      "2018-04-16   -0.023464\n",
      "2018-04-17    0.007940\n",
      "2018-04-18    0.040276\n",
      "2018-04-19    0.038051\n",
      "2018-04-20    0.051961\n",
      "2018-04-23    0.021186\n",
      "2018-04-24   -0.021475\n",
      "2018-04-25   -0.032318\n",
      "2018-04-26   -0.010490\n",
      "2018-04-27    0.006350\n",
      "2018-04-30    0.002288\n",
      "2018-05-01   -0.016880\n",
      "2018-05-02   -0.029176\n",
      "2018-05-03   -0.022771\n",
      "2018-05-04    0.023220\n",
      "                ...   \n",
      "2019-01-25    0.033434\n",
      "2019-01-28    0.037214\n",
      "2019-01-29    0.040135\n",
      "2019-01-30    0.083466\n",
      "2019-01-31    0.072312\n",
      "2019-02-01    0.065133\n",
      "2019-02-04    0.058323\n",
      "2019-02-05    0.111728\n",
      "2019-02-06    0.112454\n",
      "2019-02-07    0.071094\n",
      "2019-02-08    0.050598\n",
      "2019-02-11    0.050291\n",
      "2019-02-12    0.063127\n",
      "2019-02-13    0.015437\n",
      "2019-02-14    0.001606\n",
      "2019-02-15   -0.009632\n",
      "2019-02-19    0.010232\n",
      "2019-02-20   -0.009279\n",
      "2019-02-21   -0.001430\n",
      "2019-02-22    0.046244\n",
      "2019-02-25    0.080415\n",
      "2019-02-26    0.083942\n",
      "2019-02-27    0.084930\n",
      "2019-02-28    0.079919\n",
      "2019-03-01    0.092393\n",
      "2019-03-04    0.120100\n",
      "2019-03-05    0.086963\n",
      "2019-03-06    0.077666\n",
      "2019-03-07    0.039089\n",
      "2019-03-08    0.000418\n",
      "Length: 241, dtype: float64\n"
     ]
    }
   ],
   "source": [
    "# Get indicators\n",
    "sym_mom, sma, q, rsi_value = get_indicators(normed, symbol)\n",
    "\n",
    "\n",
    "# Create momentum column\n",
    "normed['Momentum'] = sym_mom\n",
    "\n",
    "# Create SMA column\n",
    "normed['SMA'] = sma\n",
    "\n",
    "# Create SMA column\n",
    "normed['RSI'] = rsi_value"
   ]
  },
  {
   "cell_type": "code",
   "execution_count": 9,
   "metadata": {},
   "outputs": [
    {
     "name": "stdout",
     "output_type": "stream",
     "text": [
      "<class 'pandas.core.frame.DataFrame'>\n",
      "DatetimeIndex: 251 entries, 2018-03-09 to 2019-03-08\n",
      "Data columns (total 4 columns):\n",
      "AABA        251 non-null float64\n",
      "Momentum    241 non-null float64\n",
      "SMA         242 non-null float64\n",
      "RSI         251 non-null float64\n",
      "dtypes: float64(4)\n",
      "memory usage: 9.8 KB\n"
     ]
    },
    {
     "data": {
      "text/html": [
       "<div>\n",
       "<style scoped>\n",
       "    .dataframe tbody tr th:only-of-type {\n",
       "        vertical-align: middle;\n",
       "    }\n",
       "\n",
       "    .dataframe tbody tr th {\n",
       "        vertical-align: top;\n",
       "    }\n",
       "\n",
       "    .dataframe thead th {\n",
       "        text-align: right;\n",
       "    }\n",
       "</style>\n",
       "<table border=\"1\" class=\"dataframe\">\n",
       "  <thead>\n",
       "    <tr style=\"text-align: right;\">\n",
       "      <th></th>\n",
       "      <th>AABA</th>\n",
       "      <th>Momentum</th>\n",
       "      <th>SMA</th>\n",
       "      <th>RSI</th>\n",
       "    </tr>\n",
       "    <tr>\n",
       "      <th>date</th>\n",
       "      <th></th>\n",
       "      <th></th>\n",
       "      <th></th>\n",
       "      <th></th>\n",
       "    </tr>\n",
       "  </thead>\n",
       "  <tbody>\n",
       "    <tr>\n",
       "      <th>2018-03-09</th>\n",
       "      <td>76.620003</td>\n",
       "      <td>0.000000</td>\n",
       "      <td>0.000000</td>\n",
       "      <td>56.744170</td>\n",
       "    </tr>\n",
       "    <tr>\n",
       "      <th>2018-03-12</th>\n",
       "      <td>77.559998</td>\n",
       "      <td>0.000000</td>\n",
       "      <td>0.000000</td>\n",
       "      <td>56.744170</td>\n",
       "    </tr>\n",
       "    <tr>\n",
       "      <th>2018-03-13</th>\n",
       "      <td>75.970001</td>\n",
       "      <td>0.000000</td>\n",
       "      <td>0.000000</td>\n",
       "      <td>56.744170</td>\n",
       "    </tr>\n",
       "    <tr>\n",
       "      <th>2018-03-14</th>\n",
       "      <td>77.199997</td>\n",
       "      <td>0.000000</td>\n",
       "      <td>0.000000</td>\n",
       "      <td>56.744170</td>\n",
       "    </tr>\n",
       "    <tr>\n",
       "      <th>2018-03-15</th>\n",
       "      <td>79.419998</td>\n",
       "      <td>0.000000</td>\n",
       "      <td>0.000000</td>\n",
       "      <td>56.744170</td>\n",
       "    </tr>\n",
       "    <tr>\n",
       "      <th>2018-03-16</th>\n",
       "      <td>79.900002</td>\n",
       "      <td>0.000000</td>\n",
       "      <td>0.000000</td>\n",
       "      <td>56.744170</td>\n",
       "    </tr>\n",
       "    <tr>\n",
       "      <th>2018-03-19</th>\n",
       "      <td>77.839996</td>\n",
       "      <td>0.000000</td>\n",
       "      <td>0.000000</td>\n",
       "      <td>56.744170</td>\n",
       "    </tr>\n",
       "    <tr>\n",
       "      <th>2018-03-20</th>\n",
       "      <td>79.070000</td>\n",
       "      <td>0.000000</td>\n",
       "      <td>0.000000</td>\n",
       "      <td>61.838325</td>\n",
       "    </tr>\n",
       "    <tr>\n",
       "      <th>2018-03-21</th>\n",
       "      <td>78.070000</td>\n",
       "      <td>0.000000</td>\n",
       "      <td>0.000000</td>\n",
       "      <td>55.624824</td>\n",
       "    </tr>\n",
       "    <tr>\n",
       "      <th>2018-03-22</th>\n",
       "      <td>74.570000</td>\n",
       "      <td>0.000000</td>\n",
       "      <td>77.621999</td>\n",
       "      <td>39.442049</td>\n",
       "    </tr>\n",
       "    <tr>\n",
       "      <th>2018-03-23</th>\n",
       "      <td>73.000000</td>\n",
       "      <td>-0.047246</td>\n",
       "      <td>77.259999</td>\n",
       "      <td>34.230404</td>\n",
       "    </tr>\n",
       "    <tr>\n",
       "      <th>2018-03-26</th>\n",
       "      <td>75.809998</td>\n",
       "      <td>-0.022563</td>\n",
       "      <td>77.084999</td>\n",
       "      <td>48.452820</td>\n",
       "    </tr>\n",
       "    <tr>\n",
       "      <th>2018-03-27</th>\n",
       "      <td>73.029999</td>\n",
       "      <td>-0.038700</td>\n",
       "      <td>76.790999</td>\n",
       "      <td>38.774859</td>\n",
       "    </tr>\n",
       "    <tr>\n",
       "      <th>2018-03-28</th>\n",
       "      <td>72.639999</td>\n",
       "      <td>-0.059067</td>\n",
       "      <td>76.334999</td>\n",
       "      <td>37.547388</td>\n",
       "    </tr>\n",
       "    <tr>\n",
       "      <th>2018-03-29</th>\n",
       "      <td>74.040001</td>\n",
       "      <td>-0.067741</td>\n",
       "      <td>75.796999</td>\n",
       "      <td>44.858010</td>\n",
       "    </tr>\n",
       "    <tr>\n",
       "      <th>2018-04-02</th>\n",
       "      <td>71.599998</td>\n",
       "      <td>-0.103880</td>\n",
       "      <td>74.966999</td>\n",
       "      <td>36.233692</td>\n",
       "    </tr>\n",
       "    <tr>\n",
       "      <th>2018-04-03</th>\n",
       "      <td>70.529999</td>\n",
       "      <td>-0.093911</td>\n",
       "      <td>74.235999</td>\n",
       "      <td>32.988862</td>\n",
       "    </tr>\n",
       "    <tr>\n",
       "      <th>2018-04-04</th>\n",
       "      <td>69.519997</td>\n",
       "      <td>-0.120779</td>\n",
       "      <td>73.280999</td>\n",
       "      <td>30.027545</td>\n",
       "    </tr>\n",
       "    <tr>\n",
       "      <th>2018-04-05</th>\n",
       "      <td>69.379997</td>\n",
       "      <td>-0.111310</td>\n",
       "      <td>72.411999</td>\n",
       "      <td>29.597880</td>\n",
       "    </tr>\n",
       "    <tr>\n",
       "      <th>2018-04-06</th>\n",
       "      <td>67.550003</td>\n",
       "      <td>-0.094140</td>\n",
       "      <td>71.709999</td>\n",
       "      <td>24.296158</td>\n",
       "    </tr>\n",
       "    <tr>\n",
       "      <th>2018-04-09</th>\n",
       "      <td>68.440002</td>\n",
       "      <td>-0.062466</td>\n",
       "      <td>71.253999</td>\n",
       "      <td>31.280463</td>\n",
       "    </tr>\n",
       "    <tr>\n",
       "      <th>2018-04-10</th>\n",
       "      <td>70.779999</td>\n",
       "      <td>-0.066350</td>\n",
       "      <td>70.750999</td>\n",
       "      <td>46.438162</td>\n",
       "    </tr>\n",
       "    <tr>\n",
       "      <th>2018-04-11</th>\n",
       "      <td>70.550003</td>\n",
       "      <td>-0.033959</td>\n",
       "      <td>70.503000</td>\n",
       "      <td>45.292565</td>\n",
       "    </tr>\n",
       "    <tr>\n",
       "      <th>2018-04-12</th>\n",
       "      <td>70.540001</td>\n",
       "      <td>-0.028910</td>\n",
       "      <td>70.293000</td>\n",
       "      <td>45.235947</td>\n",
       "    </tr>\n",
       "    <tr>\n",
       "      <th>2018-04-13</th>\n",
       "      <td>69.290001</td>\n",
       "      <td>-0.064155</td>\n",
       "      <td>69.818000</td>\n",
       "      <td>38.262193</td>\n",
       "    </tr>\n",
       "    <tr>\n",
       "      <th>2018-04-16</th>\n",
       "      <td>69.919998</td>\n",
       "      <td>-0.023464</td>\n",
       "      <td>69.650000</td>\n",
       "      <td>43.393462</td>\n",
       "    </tr>\n",
       "    <tr>\n",
       "      <th>2018-04-17</th>\n",
       "      <td>71.089996</td>\n",
       "      <td>0.007940</td>\n",
       "      <td>69.706000</td>\n",
       "      <td>52.031636</td>\n",
       "    </tr>\n",
       "    <tr>\n",
       "      <th>2018-04-18</th>\n",
       "      <td>72.320000</td>\n",
       "      <td>0.040276</td>\n",
       "      <td>69.986000</td>\n",
       "      <td>59.594174</td>\n",
       "    </tr>\n",
       "    <tr>\n",
       "      <th>2018-04-19</th>\n",
       "      <td>72.019997</td>\n",
       "      <td>0.038051</td>\n",
       "      <td>70.250000</td>\n",
       "      <td>57.035450</td>\n",
       "    </tr>\n",
       "    <tr>\n",
       "      <th>2018-04-20</th>\n",
       "      <td>71.059998</td>\n",
       "      <td>0.051961</td>\n",
       "      <td>70.600999</td>\n",
       "      <td>49.156122</td>\n",
       "    </tr>\n",
       "    <tr>\n",
       "      <th>...</th>\n",
       "      <td>...</td>\n",
       "      <td>...</td>\n",
       "      <td>...</td>\n",
       "      <td>...</td>\n",
       "    </tr>\n",
       "    <tr>\n",
       "      <th>2019-01-25</th>\n",
       "      <td>65.220001</td>\n",
       "      <td>0.033434</td>\n",
       "      <td>63.591000</td>\n",
       "      <td>70.768733</td>\n",
       "    </tr>\n",
       "    <tr>\n",
       "      <th>2019-01-28</th>\n",
       "      <td>65.220001</td>\n",
       "      <td>0.037214</td>\n",
       "      <td>63.825000</td>\n",
       "      <td>70.768733</td>\n",
       "    </tr>\n",
       "    <tr>\n",
       "      <th>2019-01-29</th>\n",
       "      <td>64.790001</td>\n",
       "      <td>0.040135</td>\n",
       "      <td>64.075000</td>\n",
       "      <td>64.712945</td>\n",
       "    </tr>\n",
       "    <tr>\n",
       "      <th>2019-01-30</th>\n",
       "      <td>68.019997</td>\n",
       "      <td>0.083466</td>\n",
       "      <td>64.599000</td>\n",
       "      <td>79.834939</td>\n",
       "    </tr>\n",
       "    <tr>\n",
       "      <th>2019-01-31</th>\n",
       "      <td>68.510002</td>\n",
       "      <td>0.072312</td>\n",
       "      <td>65.061000</td>\n",
       "      <td>81.256573</td>\n",
       "    </tr>\n",
       "    <tr>\n",
       "      <th>2019-02-01</th>\n",
       "      <td>68.519997</td>\n",
       "      <td>0.065133</td>\n",
       "      <td>65.480000</td>\n",
       "      <td>81.287967</td>\n",
       "    </tr>\n",
       "    <tr>\n",
       "      <th>2019-02-04</th>\n",
       "      <td>68.410004</td>\n",
       "      <td>0.058323</td>\n",
       "      <td>65.857000</td>\n",
       "      <td>79.576751</td>\n",
       "    </tr>\n",
       "    <tr>\n",
       "      <th>2019-02-05</th>\n",
       "      <td>70.050003</td>\n",
       "      <td>0.111728</td>\n",
       "      <td>66.561001</td>\n",
       "      <td>85.050921</td>\n",
       "    </tr>\n",
       "    <tr>\n",
       "      <th>2019-02-06</th>\n",
       "      <td>69.940002</td>\n",
       "      <td>0.112454</td>\n",
       "      <td>67.268001</td>\n",
       "      <td>83.303661</td>\n",
       "    </tr>\n",
       "    <tr>\n",
       "      <th>2019-02-07</th>\n",
       "      <td>68.550003</td>\n",
       "      <td>0.071094</td>\n",
       "      <td>67.723001</td>\n",
       "      <td>63.939038</td>\n",
       "    </tr>\n",
       "    <tr>\n",
       "      <th>2019-02-08</th>\n",
       "      <td>68.519997</td>\n",
       "      <td>0.050598</td>\n",
       "      <td>68.053001</td>\n",
       "      <td>63.566890</td>\n",
       "    </tr>\n",
       "    <tr>\n",
       "      <th>2019-02-11</th>\n",
       "      <td>68.500000</td>\n",
       "      <td>0.050291</td>\n",
       "      <td>68.381001</td>\n",
       "      <td>63.280522</td>\n",
       "    </tr>\n",
       "    <tr>\n",
       "      <th>2019-02-12</th>\n",
       "      <td>68.879997</td>\n",
       "      <td>0.063127</td>\n",
       "      <td>68.790000</td>\n",
       "      <td>66.614850</td>\n",
       "    </tr>\n",
       "    <tr>\n",
       "      <th>2019-02-13</th>\n",
       "      <td>69.070000</td>\n",
       "      <td>0.015437</td>\n",
       "      <td>68.895001</td>\n",
       "      <td>68.294333</td>\n",
       "    </tr>\n",
       "    <tr>\n",
       "      <th>2019-02-14</th>\n",
       "      <td>68.620003</td>\n",
       "      <td>0.001606</td>\n",
       "      <td>68.906001</td>\n",
       "      <td>59.959846</td>\n",
       "    </tr>\n",
       "    <tr>\n",
       "      <th>2019-02-15</th>\n",
       "      <td>67.860001</td>\n",
       "      <td>-0.009632</td>\n",
       "      <td>68.840001</td>\n",
       "      <td>48.336712</td>\n",
       "    </tr>\n",
       "    <tr>\n",
       "      <th>2019-02-19</th>\n",
       "      <td>69.110001</td>\n",
       "      <td>0.010232</td>\n",
       "      <td>68.910001</td>\n",
       "      <td>62.343646</td>\n",
       "    </tr>\n",
       "    <tr>\n",
       "      <th>2019-02-20</th>\n",
       "      <td>69.400002</td>\n",
       "      <td>-0.009279</td>\n",
       "      <td>68.845001</td>\n",
       "      <td>64.918074</td>\n",
       "    </tr>\n",
       "    <tr>\n",
       "      <th>2019-02-21</th>\n",
       "      <td>69.839996</td>\n",
       "      <td>-0.001430</td>\n",
       "      <td>68.835000</td>\n",
       "      <td>68.705191</td>\n",
       "    </tr>\n",
       "    <tr>\n",
       "      <th>2019-02-22</th>\n",
       "      <td>71.720001</td>\n",
       "      <td>0.046244</td>\n",
       "      <td>69.152000</td>\n",
       "      <td>79.653944</td>\n",
       "    </tr>\n",
       "    <tr>\n",
       "      <th>2019-02-25</th>\n",
       "      <td>74.029999</td>\n",
       "      <td>0.080415</td>\n",
       "      <td>69.703000</td>\n",
       "      <td>86.449730</td>\n",
       "    </tr>\n",
       "    <tr>\n",
       "      <th>2019-02-26</th>\n",
       "      <td>74.250000</td>\n",
       "      <td>0.083942</td>\n",
       "      <td>70.278000</td>\n",
       "      <td>86.934618</td>\n",
       "    </tr>\n",
       "    <tr>\n",
       "      <th>2019-02-27</th>\n",
       "      <td>74.730003</td>\n",
       "      <td>0.084930</td>\n",
       "      <td>70.863001</td>\n",
       "      <td>88.025360</td>\n",
       "    </tr>\n",
       "    <tr>\n",
       "      <th>2019-02-28</th>\n",
       "      <td>74.589996</td>\n",
       "      <td>0.079919</td>\n",
       "      <td>71.415000</td>\n",
       "      <td>85.593747</td>\n",
       "    </tr>\n",
       "    <tr>\n",
       "      <th>2019-03-01</th>\n",
       "      <td>74.959999</td>\n",
       "      <td>0.092393</td>\n",
       "      <td>72.049000</td>\n",
       "      <td>86.724433</td>\n",
       "    </tr>\n",
       "    <tr>\n",
       "      <th>2019-03-04</th>\n",
       "      <td>76.010002</td>\n",
       "      <td>0.120100</td>\n",
       "      <td>72.864000</td>\n",
       "      <td>89.462583</td>\n",
       "    </tr>\n",
       "    <tr>\n",
       "      <th>2019-03-05</th>\n",
       "      <td>75.120003</td>\n",
       "      <td>0.086963</td>\n",
       "      <td>73.465000</td>\n",
       "      <td>74.306796</td>\n",
       "    </tr>\n",
       "    <tr>\n",
       "      <th>2019-03-06</th>\n",
       "      <td>74.790001</td>\n",
       "      <td>0.077666</td>\n",
       "      <td>74.004000</td>\n",
       "      <td>69.233097</td>\n",
       "    </tr>\n",
       "    <tr>\n",
       "      <th>2019-03-07</th>\n",
       "      <td>72.570000</td>\n",
       "      <td>0.039089</td>\n",
       "      <td>74.277000</td>\n",
       "      <td>45.076719</td>\n",
       "    </tr>\n",
       "    <tr>\n",
       "      <th>2019-03-08</th>\n",
       "      <td>71.750000</td>\n",
       "      <td>0.000418</td>\n",
       "      <td>74.280000</td>\n",
       "      <td>39.184960</td>\n",
       "    </tr>\n",
       "  </tbody>\n",
       "</table>\n",
       "<p>251 rows × 4 columns</p>\n",
       "</div>"
      ],
      "text/plain": [
       "                 AABA  Momentum        SMA        RSI\n",
       "date                                                 \n",
       "2018-03-09  76.620003  0.000000   0.000000  56.744170\n",
       "2018-03-12  77.559998  0.000000   0.000000  56.744170\n",
       "2018-03-13  75.970001  0.000000   0.000000  56.744170\n",
       "2018-03-14  77.199997  0.000000   0.000000  56.744170\n",
       "2018-03-15  79.419998  0.000000   0.000000  56.744170\n",
       "2018-03-16  79.900002  0.000000   0.000000  56.744170\n",
       "2018-03-19  77.839996  0.000000   0.000000  56.744170\n",
       "2018-03-20  79.070000  0.000000   0.000000  61.838325\n",
       "2018-03-21  78.070000  0.000000   0.000000  55.624824\n",
       "2018-03-22  74.570000  0.000000  77.621999  39.442049\n",
       "2018-03-23  73.000000 -0.047246  77.259999  34.230404\n",
       "2018-03-26  75.809998 -0.022563  77.084999  48.452820\n",
       "2018-03-27  73.029999 -0.038700  76.790999  38.774859\n",
       "2018-03-28  72.639999 -0.059067  76.334999  37.547388\n",
       "2018-03-29  74.040001 -0.067741  75.796999  44.858010\n",
       "2018-04-02  71.599998 -0.103880  74.966999  36.233692\n",
       "2018-04-03  70.529999 -0.093911  74.235999  32.988862\n",
       "2018-04-04  69.519997 -0.120779  73.280999  30.027545\n",
       "2018-04-05  69.379997 -0.111310  72.411999  29.597880\n",
       "2018-04-06  67.550003 -0.094140  71.709999  24.296158\n",
       "2018-04-09  68.440002 -0.062466  71.253999  31.280463\n",
       "2018-04-10  70.779999 -0.066350  70.750999  46.438162\n",
       "2018-04-11  70.550003 -0.033959  70.503000  45.292565\n",
       "2018-04-12  70.540001 -0.028910  70.293000  45.235947\n",
       "2018-04-13  69.290001 -0.064155  69.818000  38.262193\n",
       "2018-04-16  69.919998 -0.023464  69.650000  43.393462\n",
       "2018-04-17  71.089996  0.007940  69.706000  52.031636\n",
       "2018-04-18  72.320000  0.040276  69.986000  59.594174\n",
       "2018-04-19  72.019997  0.038051  70.250000  57.035450\n",
       "2018-04-20  71.059998  0.051961  70.600999  49.156122\n",
       "...               ...       ...        ...        ...\n",
       "2019-01-25  65.220001  0.033434  63.591000  70.768733\n",
       "2019-01-28  65.220001  0.037214  63.825000  70.768733\n",
       "2019-01-29  64.790001  0.040135  64.075000  64.712945\n",
       "2019-01-30  68.019997  0.083466  64.599000  79.834939\n",
       "2019-01-31  68.510002  0.072312  65.061000  81.256573\n",
       "2019-02-01  68.519997  0.065133  65.480000  81.287967\n",
       "2019-02-04  68.410004  0.058323  65.857000  79.576751\n",
       "2019-02-05  70.050003  0.111728  66.561001  85.050921\n",
       "2019-02-06  69.940002  0.112454  67.268001  83.303661\n",
       "2019-02-07  68.550003  0.071094  67.723001  63.939038\n",
       "2019-02-08  68.519997  0.050598  68.053001  63.566890\n",
       "2019-02-11  68.500000  0.050291  68.381001  63.280522\n",
       "2019-02-12  68.879997  0.063127  68.790000  66.614850\n",
       "2019-02-13  69.070000  0.015437  68.895001  68.294333\n",
       "2019-02-14  68.620003  0.001606  68.906001  59.959846\n",
       "2019-02-15  67.860001 -0.009632  68.840001  48.336712\n",
       "2019-02-19  69.110001  0.010232  68.910001  62.343646\n",
       "2019-02-20  69.400002 -0.009279  68.845001  64.918074\n",
       "2019-02-21  69.839996 -0.001430  68.835000  68.705191\n",
       "2019-02-22  71.720001  0.046244  69.152000  79.653944\n",
       "2019-02-25  74.029999  0.080415  69.703000  86.449730\n",
       "2019-02-26  74.250000  0.083942  70.278000  86.934618\n",
       "2019-02-27  74.730003  0.084930  70.863001  88.025360\n",
       "2019-02-28  74.589996  0.079919  71.415000  85.593747\n",
       "2019-03-01  74.959999  0.092393  72.049000  86.724433\n",
       "2019-03-04  76.010002  0.120100  72.864000  89.462583\n",
       "2019-03-05  75.120003  0.086963  73.465000  74.306796\n",
       "2019-03-06  74.790001  0.077666  74.004000  69.233097\n",
       "2019-03-07  72.570000  0.039089  74.277000  45.076719\n",
       "2019-03-08  71.750000  0.000418  74.280000  39.184960\n",
       "\n",
       "[251 rows x 4 columns]"
      ]
     },
     "execution_count": 9,
     "metadata": {},
     "output_type": "execute_result"
    }
   ],
   "source": [
    "normed.info()\n",
    "# Clean nan values\n",
    "normed = normed.fillna(0)\n",
    "\n",
    "# Sort dataframe by index\n",
    "normed.sort_index()"
   ]
  },
  {
   "cell_type": "markdown",
   "metadata": {},
   "source": [
    "## Checking missing data"
   ]
  },
  {
   "cell_type": "code",
   "execution_count": 10,
   "metadata": {},
   "outputs": [
    {
     "name": "stdout",
     "output_type": "stream",
     "text": [
      "          Total  Percent\n",
      "RSI           0      0.0\n",
      "SMA           0      0.0\n",
      "Momentum      0      0.0\n",
      "AABA          0      0.0\n"
     ]
    }
   ],
   "source": [
    "#missing data\n",
    "total = normed.isnull().sum().sort_values(ascending=False)\n",
    "percent = (normed.isnull().sum()/normed.isnull().count()).sort_values(ascending=False)\n",
    "missing_data = pd.concat([total, percent], axis=1, keys=['Total', 'Percent'])\n",
    "missing_data.head(20)\n",
    "print(missing_data)"
   ]
  },
  {
   "cell_type": "markdown",
   "metadata": {},
   "source": [
    "## Correlation matrix"
   ]
  },
  {
   "cell_type": "code",
   "execution_count": 55,
   "metadata": {},
   "outputs": [
    {
     "name": "stdout",
     "output_type": "stream",
     "text": [
      "--------------- CORRELATIONS ---------------\n",
      "              AABA  Momentum       SMA       RSI\n",
      "AABA      1.000000   0.27371  0.145045  0.397336\n",
      "Momentum  0.273710   1.00000 -0.002980  0.869540\n",
      "SMA       0.145045  -0.00298  1.000000 -0.023346\n",
      "RSI       0.397336   0.86954 -0.023346  1.000000\n"
     ]
    },
    {
     "data": {
      "image/png": "[encoded data removed]",
      "text/plain": [
       "<Figure size 864x720 with 2 Axes>"
      ]
     },
     "metadata": {
      "needs_background": "light"
     },
     "output_type": "display_data"
    }
   ],
   "source": [
    "corr_df = normed.corr(method='pearson')\n",
    "print(\"--------------- CORRELATIONS ---------------\")\n",
    "print(corr_df)\n",
    "\n",
    "# Adj Close correlation matrix\n",
    "corrmat = normed.corr()\n",
    "k = 10 #number of variables for heatmap\n",
    "cols = corrmat.nlargest(k, symbol)[symbol].index\n",
    "cm = np.corrcoef(normed[cols].values.T)\n",
    "f, ax = plt.subplots(figsize =(12, 10)) \n",
    "sns.heatmap(cm, ax = ax, cmap =\"YlGnBu\", \n",
    "            linewidths = 0.1, yticklabels = cols.values,  \n",
    "                              xticklabels = cols.values) \n",
    "plt.show()"
   ]
  },
  {
   "cell_type": "markdown",
   "metadata": {},
   "source": [
    "### Setting up the Target variable or the desired output."
   ]
  },
  {
   "cell_type": "code",
   "execution_count": 326,
   "metadata": {},
   "outputs": [],
   "source": [
    "# Define X and y\n",
    "feature_cols = ['Momentum', 'RSI']\n",
    "X = normed[feature_cols]\n",
    "y = normed[symbol]"
   ]
  },
  {
   "cell_type": "markdown",
   "metadata": {},
   "source": [
    "### Split the data"
   ]
  },
  {
   "cell_type": "code",
   "execution_count": 327,
   "metadata": {},
   "outputs": [],
   "source": [
    "# split X and y into training and testing sets\n",
    "X_train, X_test, y_train, y_test = train_test_split(X, y, test_size=0.30, shuffle=False)"
   ]
  },
  {
   "cell_type": "markdown",
   "metadata": {},
   "source": [
    "# ARIMA Model"
   ]
  },
  {
   "cell_type": "code",
   "execution_count": 19,
   "metadata": {},
   "outputs": [],
   "source": [
    "# evaluate an ARIMA model for a given order (p,d,q)\n",
    "def evaluate_arima_model(X, arima_order):\n",
    "    # prepare training dataset\n",
    "    train_size = int(len(X) * 0.66)\n",
    "    train, test = X[0:train_size], X[train_size:]\n",
    "    history = [x for x in train]\n",
    "    # make predictions\n",
    "    predictions = list()\n",
    "    for t in range(len(test)):\n",
    "        model = ARIMA(history, order=arima_order)\n",
    "        model_fit = model.fit(disp=0)\n",
    "        yhat = model_fit.forecast()[0]\n",
    "        predictions.append(yhat)\n",
    "        history.append(test[t])\n",
    "    # calculate out of sample error\n",
    "    error = mean_squared_error(test, predictions)\n",
    "    return error"
   ]
  },
  {
   "cell_type": "code",
   "execution_count": 20,
   "metadata": {},
   "outputs": [],
   "source": [
    "# evaluate combinations of p, d and q values for an ARIMA model\n",
    "def evaluate_models(dataset, p_values, d_values, q_values):\n",
    "    dataset = dataset.astype('float32')\n",
    "    best_score, best_cfg = float(\"inf\"), None\n",
    "    for p in p_values:\n",
    "        for d in d_values:\n",
    "            for q in q_values:\n",
    "                order = (p,d,q)\n",
    "                try:\n",
    "                    mse = evaluate_arima_model(dataset, order)\n",
    "                    if mse < best_score:\n",
    "                        best_score, best_cfg = mse, order\n",
    "                    print('ARIMA%s MSE=%.3f' % (order,mse))\n",
    "                except:\n",
    "                    continue\n",
    "    print('Best ARIMA%s MSE=%.3f' % (best_cfg, best_score))"
   ]
  },
  {
   "cell_type": "markdown",
   "metadata": {},
   "source": [
    "## Getting best parameters values"
   ]
  },
  {
   "cell_type": "code",
   "execution_count": 22,
   "metadata": {},
   "outputs": [
    {
     "name": "stdout",
     "output_type": "stream",
     "text": [
      "ARIMA(0, 0, 0) MSE=55.746\n",
      "ARIMA(0, 0, 1) MSE=17.231\n",
      "ARIMA(0, 1, 0) MSE=1.480\n",
      "ARIMA(0, 1, 1) MSE=1.448\n",
      "ARIMA(0, 1, 2) MSE=1.475\n",
      "ARIMA(0, 2, 0) MSE=2.345\n",
      "ARIMA(0, 2, 1) MSE=1.500\n",
      "ARIMA(0, 2, 2) MSE=1.466\n",
      "ARIMA(1, 0, 0) MSE=1.439\n",
      "ARIMA(1, 0, 1) MSE=1.403\n",
      "ARIMA(1, 0, 2) MSE=1.421\n",
      "ARIMA(1, 1, 0) MSE=1.454\n",
      "ARIMA(1, 2, 0) MSE=2.049\n",
      "ARIMA(1, 2, 1) MSE=1.473\n",
      "ARIMA(2, 0, 0) MSE=1.409\n",
      "ARIMA(2, 0, 1) MSE=1.405\n",
      "ARIMA(2, 0, 2) MSE=1.415\n",
      "ARIMA(2, 1, 0) MSE=1.470\n",
      "ARIMA(2, 1, 1) MSE=1.471\n",
      "ARIMA(2, 2, 0) MSE=2.049\n",
      "ARIMA(4, 0, 0) MSE=1.418\n",
      "ARIMA(4, 0, 1) MSE=1.389\n",
      "ARIMA(4, 0, 2) MSE=1.571\n",
      "ARIMA(4, 1, 0) MSE=1.455\n",
      "ARIMA(4, 1, 1) MSE=1.478\n",
      "ARIMA(4, 2, 0) MSE=1.730\n",
      "ARIMA(4, 2, 1) MSE=1.477\n",
      "ARIMA(6, 0, 0) MSE=1.464\n",
      "ARIMA(6, 0, 1) MSE=1.478\n",
      "ARIMA(6, 1, 0) MSE=1.561\n",
      "ARIMA(6, 1, 1) MSE=1.566\n",
      "ARIMA(6, 1, 2) MSE=1.648\n",
      "ARIMA(6, 2, 0) MSE=1.765\n",
      "ARIMA(6, 2, 1) MSE=1.762\n",
      "ARIMA(8, 0, 0) MSE=1.540\n",
      "ARIMA(8, 0, 1) MSE=1.560\n",
      "ARIMA(8, 1, 0) MSE=1.638\n",
      "ARIMA(8, 1, 1) MSE=1.664\n",
      "ARIMA(8, 2, 0) MSE=1.776\n",
      "ARIMA(8, 2, 1) MSE=1.662\n",
      "ARIMA(10, 0, 0) MSE=1.598\n",
      "ARIMA(10, 0, 2) MSE=1.694\n",
      "ARIMA(10, 1, 0) MSE=1.665\n",
      "ARIMA(10, 1, 1) MSE=1.655\n",
      "ARIMA(10, 2, 0) MSE=1.788\n",
      "ARIMA(10, 2, 1) MSE=1.718\n",
      "Best ARIMA(4, 0, 1) MSE=1.389\n"
     ]
    }
   ],
   "source": [
    "series =  pd.Series(normed[symbol].values)\n",
    "# evaluate parameters\n",
    "p_values = [0, 1, 2, 4, 6, 8, 10]\n",
    "d_values = range(0, 3)\n",
    "q_values = range(0, 3)\n",
    "warnings.filterwarnings(\"ignore\")\n",
    "evaluate_models(series.values, p_values, d_values, q_values)"
   ]
  },
  {
   "cell_type": "markdown",
   "metadata": {},
   "source": [
    "## Fitting model and plotting"
   ]
  },
  {
   "cell_type": "code",
   "execution_count": 395,
   "metadata": {},
   "outputs": [
    {
     "name": "stdout",
     "output_type": "stream",
     "text": [
      "No.=0, predicted=64.331717, expected=64.389999\n",
      "No.=1, predicted=64.276737, expected=63.590000\n",
      "No.=2, predicted=63.422259, expected=62.220001\n",
      "No.=3, predicted=62.549128, expected=60.889999\n",
      "No.=4, predicted=61.086403, expected=62.150002\n",
      "No.=5, predicted=62.746362, expected=62.400002\n",
      "No.=6, predicted=62.420032, expected=64.370003\n",
      "No.=7, predicted=64.456848, expected=64.160004\n",
      "No.=8, predicted=64.102573, expected=65.430000\n",
      "No.=9, predicted=65.384248, expected=64.419998\n",
      "No.=10, predicted=64.537144, expected=65.589996\n",
      "No.=11, predicted=65.590737, expected=66.820000\n",
      "No.=12, predicted=67.172554, expected=64.800003\n",
      "No.=13, predicted=64.333074, expected=63.860001\n",
      "No.=14, predicted=64.244051, expected=63.009998\n",
      "No.=15, predicted=63.390947, expected=62.230000\n",
      "No.=16, predicted=62.404187, expected=62.570000\n",
      "No.=17, predicted=62.923284, expected=62.820000\n",
      "No.=18, predicted=62.952857, expected=62.759998\n",
      "No.=19, predicted=62.812610, expected=62.009998\n",
      "No.=20, predicted=62.106695, expected=60.080002\n",
      "No.=21, predicted=60.176953, expected=59.119999\n",
      "No.=22, predicted=59.500826, expected=57.700001\n",
      "No.=23, predicted=57.991149, expected=56.709999\n",
      "No.=24, predicted=56.927696, expected=55.650002\n",
      "No.=25, predicted=55.945006, expected=55.709999\n",
      "No.=26, predicted=55.976288, expected=57.900002\n",
      "No.=27, predicted=58.349284, expected=57.970001\n",
      "No.=28, predicted=57.812788, expected=58.349998\n",
      "No.=29, predicted=58.349956, expected=57.939999\n",
      "No.=30, predicted=58.110794, expected=57.490002\n",
      "No.=31, predicted=57.527262, expected=55.529999\n",
      "No.=32, predicted=55.645745, expected=58.720001\n",
      "No.=33, predicted=59.283949, expected=59.639999\n",
      "No.=34, predicted=59.740689, expected=61.040001\n",
      "No.=35, predicted=60.680651, expected=62.939999\n",
      "No.=36, predicted=63.308503, expected=63.110001\n",
      "No.=37, predicted=62.810744, expected=62.880001\n",
      "No.=38, predicted=62.948039, expected=62.290001\n",
      "No.=39, predicted=62.369060, expected=62.779999\n",
      "No.=40, predicted=63.016116, expected=63.889999\n",
      "No.=41, predicted=64.090913, expected=64.330002\n",
      "No.=42, predicted=64.295220, expected=64.639999\n",
      "No.=43, predicted=64.662613, expected=63.009998\n",
      "No.=44, predicted=62.934015, expected=62.869999\n",
      "No.=45, predicted=63.087882, expected=64.000000\n",
      "No.=46, predicted=64.390888, expected=65.220001\n",
      "No.=47, predicted=65.212594, expected=65.220001\n",
      "No.=48, predicted=65.138187, expected=64.790001\n",
      "No.=49, predicted=64.743676, expected=68.019997\n",
      "No.=50, predicted=68.460444, expected=68.510002\n",
      "No.=51, predicted=68.288413, expected=68.519997\n",
      "No.=52, predicted=68.201396, expected=68.410004\n",
      "No.=53, predicted=68.580742, expected=70.050003\n",
      "No.=54, predicted=70.124142, expected=69.940002\n",
      "No.=55, predicted=69.863565, expected=68.550003\n",
      "No.=56, predicted=68.260150, expected=68.519997\n",
      "No.=57, predicted=68.823607, expected=68.500000\n",
      "No.=58, predicted=68.577917, expected=68.879997\n",
      "No.=59, predicted=68.918566, expected=69.070000\n",
      "No.=60, predicted=69.092808, expected=68.620003\n",
      "No.=61, predicted=68.543414, expected=67.860001\n",
      "No.=62, predicted=67.886957, expected=69.110001\n",
      "No.=63, predicted=69.357974, expected=69.400002\n",
      "No.=64, predicted=69.371095, expected=69.839996\n",
      "No.=65, predicted=69.713035, expected=71.720001\n",
      "No.=66, predicted=71.900712, expected=74.029999\n",
      "No.=67, predicted=73.953981, expected=74.250000\n",
      "No.=68, predicted=73.879911, expected=74.730003\n",
      "No.=69, predicted=74.565064, expected=74.589996\n",
      "No.=70, predicted=74.535969, expected=74.959999\n",
      "No.=71, predicted=74.859290, expected=76.010002\n",
      "No.=72, predicted=76.075482, expected=75.120003\n",
      "No.=73, predicted=74.789521, expected=74.790001\n",
      "No.=74, predicted=74.729878, expected=72.570000\n",
      "No.=75, predicted=72.441233, expected=71.750000\n",
      "Test MSE: 1.339\n"
     ]
    }
   ],
   "source": [
    "X = series.values\n",
    "size = int(len(X) * 0.70)\n",
    "train, test = X[0:size], X[size:len(X)]\n",
    "history = [x for x in train]\n",
    "predictions = list()\n",
    "\n",
    "for t in range(len(y_test)):\n",
    "    model = ARIMA(history, order=(4,0,1))\n",
    "    model_fit = model.fit(disp=0)\n",
    "    '''\n",
    "    output (array) – Array of out of sample forecasts\n",
    "    stderr (array) – Array of the standard error of the forecasts.\n",
    "    conf (array) – 2d array of the confidence interval for the forecast\n",
    "    '''\n",
    "    output, stderr, conf_ = model_fit.forecast(alpha=0.05)\n",
    "    yhat = output[0]\n",
    "    predictions.append(yhat)\n",
    "    obs = y_test[t]\n",
    "    history.append(obs)\n",
    "    print('No.=%.0f, predicted=%f, expected=%f' % (t, yhat, obs))\n",
    "error = mean_squared_error(y_test, predictions)\n",
    "print('Test MSE: %.3f' % error)"
   ]
  },
  {
   "cell_type": "code",
   "execution_count": 382,
   "metadata": {},
   "outputs": [
    {
     "data": {
      "image/png": "[encoded data removed]",
      "text/plain": [
       "<Figure size 432x288 with 1 Axes>"
      ]
     },
     "metadata": {
      "needs_background": "light"
     },
     "output_type": "display_data"
    }
   ],
   "source": [
    "# plot\n",
    "plt.plot(test)\n",
    "plt.plot(predictions, color='red')\n",
    "plt.title(\"ARIMA Rolling Forecast Line Plot\")\n",
    "plt.show()"
   ]
  },
  {
   "cell_type": "markdown",
   "metadata": {},
   "source": [
    "## Optimal ARIMA model \n",
    "\n",
    "From https://www.machinelearningplus.com/time-series/arima-model-time-series-forecasting-python/\n",
    "\n",
    "Find the optimal ARIMA model manually using Out-of-Time Cross validation.\n",
    "\n",
    "In Out-of-Time cross-validation, you take few steps back in time and forecast into the future to as many steps you took back. Then you compare the forecast against the actuals.\n",
    "\n",
    "To do out-of-time cross-validation, you need to create the training and testing dataset by splitting the time series into 2 contiguous parts in approximately 75:25 ratio or a reasonable proportion based on time frequency of series.\n",
    "\n",
    "Why am I not sampling the training data randomly you ask?\n",
    "\n",
    "That’s because the order sequence of the time series should be intact in order to use it for forecasting."
   ]
  },
  {
   "cell_type": "markdown",
   "metadata": {},
   "source": [
    "### Forecasting"
   ]
  },
  {
   "cell_type": "code",
   "execution_count": 406,
   "metadata": {},
   "outputs": [
    {
     "name": "stdout",
     "output_type": "stream",
     "text": [
      "<class 'numpy.ndarray'>\n"
     ]
    }
   ],
   "source": [
    "# Create Training and Test\n",
    "X = series.values\n",
    "size = int(len(X) * 0.70)\n",
    "train, test = X[0:size], X[size:len(X)]\n",
    "\n",
    "model = ARIMA(train, order=(4,0,1))\n",
    "fitted = model.fit(disp=-1)  \n",
    "\n",
    "# Forecast\n",
    "fc, se, conf = fitted.forecast(len(predictions ), alpha=0.05)  # 95% conf\n",
    "print(type(fc))\n",
    "# Make as pandas series\n",
    "fc_series = pd.Series(fc, index=X_test.index)\n",
    "lower_series = pd.Series(conf[:, 0], index=X_test.index)\n",
    "upper_series = pd.Series(conf[:, 1], index=X_test.index)"
   ]
  },
  {
   "cell_type": "code",
   "execution_count": 407,
   "metadata": {},
   "outputs": [
    {
     "data": {
      "text/plain": [
       "date\n",
       "2018-11-15    64.331717\n",
       "2018-11-16    64.214373\n",
       "2018-11-19    64.099656\n",
       "2018-11-20    64.417614\n",
       "2018-11-21    64.472465\n",
       "2018-11-23    64.652023\n",
       "2018-11-26    64.684764\n",
       "2018-11-27    64.847970\n",
       "2018-11-28    64.912935\n",
       "2018-11-29    65.054381\n",
       "2018-11-30    65.126360\n",
       "2018-12-03    65.251657\n",
       "2018-12-04    65.330541\n",
       "2018-12-06    65.444588\n",
       "2018-12-07    65.526444\n",
       "2018-12-10    65.631564\n",
       "2018-12-11    65.714518\n",
       "2018-12-12    65.812710\n",
       "2018-12-13    65.895429\n",
       "2018-12-14    65.987962\n",
       "2018-12-17    66.069582\n",
       "2018-12-18    66.157377\n",
       "2018-12-19    66.237350\n",
       "2018-12-20    66.321054\n",
       "2018-12-21    66.399043\n",
       "2018-12-24    66.479126\n",
       "2018-12-26    66.554931\n",
       "2018-12-27    66.631741\n",
       "2018-12-28    66.705258\n",
       "2018-12-31    66.779059\n",
       "                ...    \n",
       "2019-01-25    67.840349\n",
       "2019-01-28    67.893328\n",
       "2019-01-29    67.945329\n",
       "2019-01-30    67.996439\n",
       "2019-01-31    68.046618\n",
       "2019-02-01    68.095928\n",
       "2019-02-04    68.144346\n",
       "2019-02-05    68.191920\n",
       "2019-02-06    68.238639\n",
       "2019-02-07    68.284539\n",
       "2019-02-08    68.329617\n",
       "2019-02-11    68.373902\n",
       "2019-02-12    68.417397\n",
       "2019-02-13    68.460125\n",
       "2019-02-14    68.502091\n",
       "2019-02-15    68.543317\n",
       "2019-02-19    68.583809\n",
       "2019-02-20    68.623585\n",
       "2019-02-21    68.662654\n",
       "2019-02-22    68.701032\n",
       "2019-02-25    68.738728\n",
       "2019-02-26    68.775756\n",
       "2019-02-27    68.812128\n",
       "2019-02-28    68.847855\n",
       "2019-03-01    68.882948\n",
       "2019-03-04    68.917419\n",
       "2019-03-05    68.951278\n",
       "2019-03-06    68.984538\n",
       "2019-03-07    69.017207\n",
       "2019-03-08    69.049298\n",
       "Length: 76, dtype: float64"
      ]
     },
     "execution_count": 407,
     "metadata": {},
     "output_type": "execute_result"
    }
   ],
   "source": [
    "fc_series"
   ]
  },
  {
   "cell_type": "markdown",
   "metadata": {},
   "source": [
    "### Plotting"
   ]
  },
  {
   "cell_type": "code",
   "execution_count": 408,
   "metadata": {},
   "outputs": [
    {
     "data": {
      "image/png": "[encoded data removed]",
      "text/plain": [
       "<Figure size 1200x500 with 1 Axes>"
      ]
     },
     "metadata": {
      "needs_background": "light"
     },
     "output_type": "display_data"
    }
   ],
   "source": [
    "# Plot\n",
    "plt.figure(figsize=(12,5), dpi=100)\n",
    "plt.plot(y_train, label='training')\n",
    "plt.plot(y_test, label='actual')\n",
    "plt.plot(fc_series, label='forecast')\n",
    "plt.fill_between(lower_series.index, lower_series, upper_series, \n",
    "                 color='k', alpha=.15)\n",
    "plt.title('Forecast vs Actuals')\n",
    "plt.legend(loc='upper left', fontsize=8)\n",
    "plt.show()"
   ]
  },
  {
   "cell_type": "code",
   "execution_count": null,
   "metadata": {},
   "outputs": [],
   "source": []
  },
  {
   "cell_type": "markdown",
   "metadata": {},
   "source": [
    "## Evaluate The Model"
   ]
  },
  {
   "cell_type": "markdown",
   "metadata": {},
   "source": [
    "### Showing summary"
   ]
  },
  {
   "cell_type": "code",
   "execution_count": 112,
   "metadata": {},
   "outputs": [
    {
     "name": "stdout",
     "output_type": "stream",
     "text": [
      "                              ARMA Model Results                              \n",
      "==============================================================================\n",
      "Dep. Variable:                      y   No. Observations:                  250\n",
      "Model:                     ARMA(4, 1)   Log Likelihood                -414.647\n",
      "Method:                       css-mle   S.D. of innovations              1.262\n",
      "Date:                Mon, 11 Mar 2019   AIC                            843.295\n",
      "Time:                        20:06:05   BIC                            867.945\n",
      "Sample:                             0   HQIC                           853.216\n",
      "                                                                              \n",
      "==============================================================================\n",
      "                 coef    std err          z      P>|z|      [0.025      0.975]\n",
      "------------------------------------------------------------------------------\n",
      "const         70.7705      3.476     20.362      0.000      63.958      77.583\n",
      "ar.L1.y        0.3861      0.180      2.148      0.033       0.034       0.738\n",
      "ar.L2.y        0.5636      0.192      2.936      0.004       0.187       0.940\n",
      "ar.L3.y       -0.1382      0.068     -2.033      0.043      -0.271      -0.005\n",
      "ar.L4.y        0.1550      0.063      2.456      0.015       0.031       0.279\n",
      "ma.L1.y        0.6942      0.173      4.002      0.000       0.354       1.034\n",
      "                                    Roots                                    \n",
      "=============================================================================\n",
      "                  Real          Imaginary           Modulus         Frequency\n",
      "-----------------------------------------------------------------------------\n",
      "AR.1            1.0192           -0.0000j            1.0192           -0.0000\n",
      "AR.2           -1.2337           -0.0000j            1.2337           -0.5000\n",
      "AR.3            0.5530           -2.1966j            2.2651           -0.2107\n",
      "AR.4            0.5530           +2.1966j            2.2651            0.2107\n",
      "MA.1           -1.4405           +0.0000j            1.4405            0.5000\n",
      "-----------------------------------------------------------------------------\n"
     ]
    },
    {
     "data": {
      "image/png": "[encoded data removed]",
      "text/plain": [
       "<Figure size 432x288 with 1 Axes>"
      ]
     },
     "metadata": {
      "needs_background": "light"
     },
     "output_type": "display_data"
    },
    {
     "data": {
      "image/png": "[encoded data removed]",
      "text/plain": [
       "<Figure size 432x288 with 1 Axes>"
      ]
     },
     "metadata": {
      "needs_background": "light"
     },
     "output_type": "display_data"
    },
    {
     "name": "stdout",
     "output_type": "stream",
     "text": [
      "                0\n",
      "count  250.000000\n",
      "mean    -0.024146\n",
      "std      1.316128\n",
      "min     -3.660964\n",
      "25%     -0.949232\n",
      "50%     -0.003190\n",
      "75%      0.851655\n",
      "max      5.849528\n"
     ]
    }
   ],
   "source": [
    "print(model_fit.summary())\n",
    "# plot residual errors\n",
    "residuals = pd.DataFrame(model_fit.resid)\n",
    "residuals.plot()\n",
    "plt.title(\"ARMA Fit Residual Error Line Plot\")\n",
    "plt.show()\n",
    "residuals.plot(kind='kde')\n",
    "plt.title(\"ARMA Fit Residual Error Density Plot\")\n",
    "plt.grid(\"on\")\n",
    "plt.show()\n",
    "print(residuals.describe())"
   ]
  },
  {
   "cell_type": "markdown",
   "metadata": {},
   "source": [
    "### RMS"
   ]
  },
  {
   "cell_type": "code",
   "execution_count": 113,
   "metadata": {},
   "outputs": [
    {
     "name": "stdout",
     "output_type": "stream",
     "text": [
      "RMS:  7.270746714134381\n"
     ]
    }
   ],
   "source": [
    "rms=np.sqrt(np.mean(np.power((np.array(test)-np.array(predictions)),2)))\n",
    "print('RMS: ', rms)"
   ]
  },
  {
   "cell_type": "markdown",
   "metadata": {},
   "source": [
    "### Correlation\n",
    "\n",
    "A way to visualize and evaluate the accuracy of a regression algorithm is to look at the relationship between predicted and actual values of our dependant variable Y.\n",
    "\n",
    "A value along the horizontal access is the prediction and along the vertical axis is what the ground truth is.\n",
    "\n",
    "You'll get an answer somewhere between -1 and +1. Where +1 means they're strongly correlated, -1 means they're inversely correlated, and 0 means there's essentially no correlation at all between them.\n"
   ]
  },
  {
   "cell_type": "code",
   "execution_count": 114,
   "metadata": {},
   "outputs": [
    {
     "name": "stdout",
     "output_type": "stream",
     "text": [
      "Correlation: \n",
      " [[1.         0.97454963]\n",
      " [0.97454963 1.        ]]\n"
     ]
    }
   ],
   "source": [
    "print('Correlation: \\n', np.corrcoef(pred_df['Forecast'], pred_df['Price']))"
   ]
  },
  {
   "cell_type": "markdown",
   "metadata": {},
   "source": [
    "### Plot correlation matrix"
   ]
  },
  {
   "cell_type": "code",
   "execution_count": 123,
   "metadata": {},
   "outputs": [
    {
     "data": {
      "image/png": "[encoded data removed]",
      "text/plain": [
       "<Figure size 288x288 with 2 Axes>"
      ]
     },
     "metadata": {
      "needs_background": "light"
     },
     "output_type": "display_data"
    }
   ],
   "source": [
    "plt.matshow(pred_df.corr())\n",
    "plt.xticks(range(len(pred_df.columns)), pred_df.columns)\n",
    "plt.yticks(range(len(pred_df.columns)), pred_df.columns)\n",
    "plt.colorbar()\n",
    "plt.show()"
   ]
  },
  {
   "cell_type": "markdown",
   "metadata": {},
   "source": [
    "### Plot slope line and elipse\n",
    "\n",
    "So if it's a nice oval that fits close to the slope line, we usually have a high correlation. If it's a big round thing we've got poor correlation.\n"
   ]
  },
  {
   "cell_type": "code",
   "execution_count": 131,
   "metadata": {},
   "outputs": [
    {
     "data": {
      "image/png": "[encoded data removed]",
      "text/plain": [
       "<Figure size 432x288 with 1 Axes>"
      ]
     },
     "metadata": {
      "needs_background": "light"
     },
     "output_type": "display_data"
    }
   ],
   "source": [
    "# Slope line\n",
    "a = pred_df['Forecast']\n",
    "b = pred_df['Price']\n",
    "# Find the slope and intercept of the best fit line\n",
    "slope, intercept = np.polyfit(a, b, 1)\n",
    "\n",
    "# Create a list of values in the best fit line\n",
    "abline_values = [slope * i + intercept for i in a]\n",
    "\n",
    "# Create an ellipse\n",
    "cov = np.cov(a, b)\n",
    "lambda_, v = np.linalg.eig(cov)\n",
    "lambda_ = np.sqrt(lambda_)\n",
    "\n",
    "ax = plt.subplot(111, aspect='auto')\n",
    "\n",
    "ell = Ellipse(xy=(np.mean(a), np.mean(b)),\n",
    "              width=lambda_[0]*5, height=lambda_[1]*5,\n",
    "              angle=np.rad2deg(np.arccos(v[0, 0])), edgecolor='black')\n",
    "ell.set_facecolor('none')\n",
    "\n",
    "# Max and min values for lim\n",
    "maxlim = max(b) * 1.1\n",
    "minlim = min(b) / 1.15\n",
    "ax.add_artist(ell)\n",
    "ax.set(xlim=[minlim, maxlim], ylim=[minlim, maxlim])\n",
    "\n",
    "plt.scatter(a, b)\n",
    "plt.plot(a, abline_values, 'r')\n",
    "plt.title(\"Correlation\")\n",
    "plt.xlabel('Prediction')\n",
    "plt.ylabel(\"Price\")\n",
    "plt.show()\n",
    "\n"
   ]
  },
  {
   "cell_type": "markdown",
   "metadata": {},
   "source": [
    "## Saving an ARIMA Time Series Forecasting Model\n",
    "\n",
    "The statsmodels library provides an implementation of ARIMA for use in Python. ARIMA models can be saved to file for later use in making predictions on new data. There is a bug in the earlier versions to 0.9 of the statsmodels library that prevents saved models from being loaded.\n"
   ]
  },
  {
   "cell_type": "code",
   "execution_count": 27,
   "metadata": {},
   "outputs": [
    {
     "name": "stdout",
     "output_type": "stream",
     "text": [
      "statsmodels: 0.9.0\n"
     ]
    }
   ],
   "source": [
    "print('statsmodels: %s' % statsmodels.__version__)"
   ]
  },
  {
   "cell_type": "code",
   "execution_count": 222,
   "metadata": {},
   "outputs": [],
   "source": [
    "# save model\n",
    "model_fit.save('arima_model.pkl')\n"
   ]
  },
  {
   "cell_type": "markdown",
   "metadata": {},
   "source": [
    "## Loading a model and predicting future prices"
   ]
  },
  {
   "cell_type": "code",
   "execution_count": 244,
   "metadata": {},
   "outputs": [],
   "source": [
    "# load model\n",
    "model = ARIMAResults.load('arima_model.pkl')\n",
    "\n",
    "forecast_lookback = 365\n",
    "lookback_date = dt.date.today() - dt.timedelta(forecast_lookback)\n",
    "dates = pd.date_range(lookback_date, periods=forecast_lookback) \n",
    "df_prices = slice_df(portf_value, dates) \n",
    "\n",
    "forecast_date = dt.date.today()\n",
    "forecast_time = 20"
   ]
  },
  {
   "cell_type": "code",
   "execution_count": 245,
   "metadata": {},
   "outputs": [
    {
     "data": {
      "text/plain": [
       "array([72.45023513, 72.55209165, 72.7795627 , 72.59723393, 72.62239827,\n",
       "       72.5137025 , 72.5463722 , 72.46598259, 72.47227699, 72.40803376,\n",
       "       72.40294858, 72.35144458, 72.3385448 , 72.29527898, 72.27763124,\n",
       "       72.24023   , 72.21982087, 72.18659196, 72.16469106, 72.13452847])"
      ]
     },
     "execution_count": 245,
     "metadata": {},
     "output_type": "execute_result"
    }
   ],
   "source": [
    "# Bussines days\n",
    "start = forecast_date.strftime(\"%Y-%m-%d\")\n",
    "rng = pd.date_range(pd.Timestamp(start),  periods=forecast_time, freq='B')\n",
    "#bussines_days = rng.strftime('%Y-%m-%d')\n",
    "\n",
    "forecast = model.forecast(steps=forecast_time)\n",
    "forecast[0]"
   ]
  },
  {
   "cell_type": "code",
   "execution_count": 246,
   "metadata": {},
   "outputs": [],
   "source": [
    "# Setting dates for dataframe\n",
    "df=pd.DataFrame(forecast[0])\n",
    "df['date'] = rng\n",
    "df.set_index('date', inplace=True)\n",
    "df.rename(columns = {0:'Price'}, inplace=True)"
   ]
  },
  {
   "cell_type": "markdown",
   "metadata": {},
   "source": [
    "## Plotting predictions\n",
    "\n",
    "From https://www.machinelearningplus.com/time-series/arima-model-time-series-forecasting-python/"
   ]
  },
  {
   "cell_type": "code",
   "execution_count": 247,
   "metadata": {},
   "outputs": [
    {
     "data": {
      "image/png": "[encoded data removed]",
      "text/plain": [
       "<Figure size 1200x500 with 1 Axes>"
      ]
     },
     "metadata": {
      "needs_background": "light"
     },
     "output_type": "display_data"
    }
   ],
   "source": [
    "\n",
    "\n",
    "# Forecast\n",
    "fc, se, conf = model.forecast(forecast_time, alpha=0.05)  # 95% conf\n",
    "\n",
    "# Make as pandas series\n",
    "fc_series = pd.Series(fc, index=rng)\n",
    "lower_series = pd.Series(conf[:, 0], index=rng)\n",
    "upper_series = pd.Series(conf[:, 1], index=rng)\n",
    "\n",
    "# Plot\n",
    "plt.figure(figsize=(12,5), dpi=100)\n",
    "plt.plot(df_prices['Adj Close'], label='training')\n",
    "#plt.plot(test, label='actual')\n",
    "plt.plot(fc_series, label='forecast')\n",
    "plt.fill_between(lower_series.index, lower_series, upper_series, \n",
    "                 color='k', alpha=.15)\n",
    "plt.title('Forecast vs Actuals')\n",
    "plt.legend(loc='upper left', fontsize=8)\n",
    "plt.show()"
   ]
  },
  {
   "cell_type": "code",
   "execution_count": null,
   "metadata": {},
   "outputs": [],
   "source": []
  }
 ],
 "metadata": {
  "kernelspec": {
   "display_name": "Python 3",
   "language": "python",
   "name": "python3"
  },
  "language_info": {
   "codemirror_mode": {
    "name": "ipython",
    "version": 3
   },
   "file_extension": ".py",
   "mimetype": "text/x-python",
   "name": "python",
   "nbconvert_exporter": "python",
   "pygments_lexer": "ipython3",
   "version": "3.6.8"
  }
 },
 "nbformat": 4,
 "nbformat_minor": 2
}
