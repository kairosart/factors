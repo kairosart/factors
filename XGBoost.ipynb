{
 "cells": [
  {
   "cell_type": "markdown",
   "metadata": {},
   "source": [
    "# XGBoost"
   ]
  },
  {
   "cell_type": "markdown",
   "metadata": {},
   "source": [
    "## Import libraries"
   ]
  },
  {
   "cell_type": "code",
   "execution_count": 1,
   "metadata": {},
   "outputs": [],
   "source": [
    "%matplotlib inline\n",
    "import matplotlib.pyplot as plt\n",
    "import datetime as dt\n",
    "import xgboost as xgb\n",
    "import seaborn as sns\n",
    "import pandas as pd\n",
    "import numpy as np\n",
    "\n",
    "# Sklearn\n",
    "from sklearn.model_selection import train_test_split, GridSearchCV\n",
    "from sklearn.metrics import mean_squared_error\n",
    "from sklearn.preprocessing import MinMaxScaler\n",
    "from sklearn import preprocessing\n",
    "\n",
    "# Matplotlib\n",
    "%matplotlib inline\n",
    "import matplotlib.pyplot as plt\n",
    "\n",
    "# Files\n",
    "from util import fetchOnlineData, create_dataset\n",
    "from indicators import get_indicators\n",
    "\n",
    "sns.set(font_scale = 1.5)"
   ]
  },
  {
   "cell_type": "markdown",
   "metadata": {},
   "source": [
    "## Initial variables"
   ]
  },
  {
   "cell_type": "code",
   "execution_count": 2,
   "metadata": {},
   "outputs": [],
   "source": [
    "symbol = \"AABA\"\n",
    "\n",
    "# We'll look back 365 days\n",
    "start_d = dt.date.today() - dt.timedelta(365)"
   ]
  },
  {
   "cell_type": "markdown",
   "metadata": {},
   "source": [
    "## Import dataset"
   ]
  },
  {
   "cell_type": "code",
   "execution_count": 3,
   "metadata": {},
   "outputs": [
    {
     "name": "stdout",
     "output_type": "stream",
     "text": [
      "[*********************100%***********************]  1 of 1 downloaded\n"
     ]
    }
   ],
   "source": [
    "yesterday = dt.date.today() - dt.timedelta(1)\n",
    "portf_value = fetchOnlineData(start_d, symbol, yesterday, del_cols=True)"
   ]
  },
  {
   "cell_type": "markdown",
   "metadata": {},
   "source": [
    "# k-fold Cross Validation using XGBoost"
   ]
  },
  {
   "cell_type": "code",
   "execution_count": 4,
   "metadata": {},
   "outputs": [],
   "source": [
    "# Create dataset\n",
    "dataset = portf_value.copy()\n",
    "dataset['date'] = portf_value.index\n",
    "dataset.set_index('date', inplace=True)\n",
    "dataset.rename(columns={'Adj Close': symbol}, inplace=True)"
   ]
  },
  {
   "cell_type": "markdown",
   "metadata": {},
   "source": [
    "## Compute the Predictor variables"
   ]
  },
  {
   "cell_type": "code",
   "execution_count": 5,
   "metadata": {},
   "outputs": [
    {
     "name": "stdout",
     "output_type": "stream",
     "text": [
      "date\n",
      "2018-03-06    0.007776\n",
      "2018-03-07    0.011583\n",
      "2018-03-08    0.002781\n",
      "2018-03-09   -0.014660\n",
      "2018-03-12   -0.006660\n",
      "2018-03-13   -0.002102\n",
      "2018-03-14    0.031396\n",
      "2018-03-15    0.077027\n",
      "2018-03-16    0.099188\n",
      "2018-03-19    0.059913\n",
      "2018-03-20    0.051882\n",
      "2018-03-21    0.027507\n",
      "2018-03-22   -0.015318\n",
      "2018-03-23   -0.047246\n",
      "2018-03-26   -0.022563\n",
      "2018-03-27   -0.038700\n",
      "2018-03-28   -0.059067\n",
      "2018-03-29   -0.067741\n",
      "2018-04-02   -0.103880\n",
      "2018-04-03   -0.093911\n",
      "2018-04-04   -0.120779\n",
      "2018-04-05   -0.111310\n",
      "2018-04-06   -0.094140\n",
      "2018-04-09   -0.062466\n",
      "2018-04-10   -0.066350\n",
      "2018-04-11   -0.033959\n",
      "2018-04-12   -0.028910\n",
      "2018-04-13   -0.064155\n",
      "2018-04-16   -0.023464\n",
      "2018-04-17    0.007940\n",
      "                ...   \n",
      "2019-01-04    0.017678\n",
      "2019-01-07    0.051666\n",
      "2019-01-08    0.096855\n",
      "2019-01-09    0.129779\n",
      "2019-01-10    0.089983\n",
      "2019-01-11    0.084699\n",
      "2019-01-14    0.067524\n",
      "2019-01-15    0.083535\n",
      "2019-01-16    0.111324\n",
      "2019-01-17    0.158473\n",
      "2019-01-18    0.100817\n",
      "2019-01-22    0.056506\n",
      "2019-01-23    0.029980\n",
      "2019-01-24    0.016841\n",
      "2019-01-25    0.033434\n",
      "2019-01-28    0.037214\n",
      "2019-01-29    0.040135\n",
      "2019-01-30    0.083466\n",
      "2019-01-31    0.072312\n",
      "2019-02-01    0.065133\n",
      "2019-02-04    0.058323\n",
      "2019-02-05    0.111728\n",
      "2019-02-06    0.112454\n",
      "2019-02-07    0.071094\n",
      "2019-02-08    0.050598\n",
      "2019-02-11    0.050291\n",
      "2019-02-12    0.063127\n",
      "2019-02-13    0.015437\n",
      "2019-02-14    0.001606\n",
      "2019-02-15   -0.009632\n",
      "Length: 240, dtype: float64\n"
     ]
    },
    {
     "data": {
      "text/html": [
       "<div>\n",
       "<style scoped>\n",
       "    .dataframe tbody tr th:only-of-type {\n",
       "        vertical-align: middle;\n",
       "    }\n",
       "\n",
       "    .dataframe tbody tr th {\n",
       "        vertical-align: top;\n",
       "    }\n",
       "\n",
       "    .dataframe thead th {\n",
       "        text-align: right;\n",
       "    }\n",
       "</style>\n",
       "<table border=\"1\" class=\"dataframe\">\n",
       "  <thead>\n",
       "    <tr style=\"text-align: right;\">\n",
       "      <th></th>\n",
       "      <th>AABA</th>\n",
       "      <th>Momentum</th>\n",
       "      <th>RSI</th>\n",
       "    </tr>\n",
       "    <tr>\n",
       "      <th>date</th>\n",
       "      <th></th>\n",
       "      <th></th>\n",
       "      <th></th>\n",
       "    </tr>\n",
       "  </thead>\n",
       "  <tbody>\n",
       "    <tr>\n",
       "      <th>2018-02-20</th>\n",
       "      <td>74.589996</td>\n",
       "      <td>0.000000</td>\n",
       "      <td>39.301843</td>\n",
       "    </tr>\n",
       "    <tr>\n",
       "      <th>2018-02-21</th>\n",
       "      <td>75.110001</td>\n",
       "      <td>0.000000</td>\n",
       "      <td>39.301843</td>\n",
       "    </tr>\n",
       "    <tr>\n",
       "      <th>2018-02-22</th>\n",
       "      <td>75.519997</td>\n",
       "      <td>0.000000</td>\n",
       "      <td>39.301843</td>\n",
       "    </tr>\n",
       "    <tr>\n",
       "      <th>2018-02-23</th>\n",
       "      <td>77.760002</td>\n",
       "      <td>0.000000</td>\n",
       "      <td>39.301843</td>\n",
       "    </tr>\n",
       "    <tr>\n",
       "      <th>2018-02-26</th>\n",
       "      <td>78.080002</td>\n",
       "      <td>0.000000</td>\n",
       "      <td>39.301843</td>\n",
       "    </tr>\n",
       "    <tr>\n",
       "      <th>2018-02-27</th>\n",
       "      <td>76.129997</td>\n",
       "      <td>0.000000</td>\n",
       "      <td>39.301843</td>\n",
       "    </tr>\n",
       "    <tr>\n",
       "      <th>2018-02-28</th>\n",
       "      <td>74.849998</td>\n",
       "      <td>0.000000</td>\n",
       "      <td>39.301843</td>\n",
       "    </tr>\n",
       "    <tr>\n",
       "      <th>2018-03-01</th>\n",
       "      <td>73.739998</td>\n",
       "      <td>0.000000</td>\n",
       "      <td>34.299793</td>\n",
       "    </tr>\n",
       "    <tr>\n",
       "      <th>2018-03-02</th>\n",
       "      <td>72.690002</td>\n",
       "      <td>0.000000</td>\n",
       "      <td>30.075454</td>\n",
       "    </tr>\n",
       "    <tr>\n",
       "      <th>2018-03-05</th>\n",
       "      <td>73.440002</td>\n",
       "      <td>0.000000</td>\n",
       "      <td>36.584034</td>\n",
       "    </tr>\n",
       "    <tr>\n",
       "      <th>2018-03-06</th>\n",
       "      <td>75.169998</td>\n",
       "      <td>0.007776</td>\n",
       "      <td>49.287033</td>\n",
       "    </tr>\n",
       "    <tr>\n",
       "      <th>2018-03-07</th>\n",
       "      <td>75.980003</td>\n",
       "      <td>0.011583</td>\n",
       "      <td>54.288761</td>\n",
       "    </tr>\n",
       "    <tr>\n",
       "      <th>2018-03-08</th>\n",
       "      <td>75.730003</td>\n",
       "      <td>0.002781</td>\n",
       "      <td>52.426871</td>\n",
       "    </tr>\n",
       "    <tr>\n",
       "      <th>2018-03-09</th>\n",
       "      <td>76.620003</td>\n",
       "      <td>-0.014660</td>\n",
       "      <td>58.358419</td>\n",
       "    </tr>\n",
       "    <tr>\n",
       "      <th>2018-03-12</th>\n",
       "      <td>77.559998</td>\n",
       "      <td>-0.006660</td>\n",
       "      <td>63.904009</td>\n",
       "    </tr>\n",
       "    <tr>\n",
       "      <th>2018-03-13</th>\n",
       "      <td>75.970001</td>\n",
       "      <td>-0.002102</td>\n",
       "      <td>50.604704</td>\n",
       "    </tr>\n",
       "    <tr>\n",
       "      <th>2018-03-14</th>\n",
       "      <td>77.199997</td>\n",
       "      <td>0.031396</td>\n",
       "      <td>58.415367</td>\n",
       "    </tr>\n",
       "    <tr>\n",
       "      <th>2018-03-15</th>\n",
       "      <td>79.419998</td>\n",
       "      <td>0.077027</td>\n",
       "      <td>68.802906</td>\n",
       "    </tr>\n",
       "    <tr>\n",
       "      <th>2018-03-16</th>\n",
       "      <td>79.900002</td>\n",
       "      <td>0.099188</td>\n",
       "      <td>70.652152</td>\n",
       "    </tr>\n",
       "    <tr>\n",
       "      <th>2018-03-19</th>\n",
       "      <td>77.839996</td>\n",
       "      <td>0.059913</td>\n",
       "      <td>54.482293</td>\n",
       "    </tr>\n",
       "    <tr>\n",
       "      <th>2018-03-20</th>\n",
       "      <td>79.070000</td>\n",
       "      <td>0.051882</td>\n",
       "      <td>60.741252</td>\n",
       "    </tr>\n",
       "    <tr>\n",
       "      <th>2018-03-21</th>\n",
       "      <td>78.070000</td>\n",
       "      <td>0.027507</td>\n",
       "      <td>53.733095</td>\n",
       "    </tr>\n",
       "    <tr>\n",
       "      <th>2018-03-22</th>\n",
       "      <td>74.570000</td>\n",
       "      <td>-0.015318</td>\n",
       "      <td>36.525205</td>\n",
       "    </tr>\n",
       "    <tr>\n",
       "      <th>2018-03-23</th>\n",
       "      <td>73.000000</td>\n",
       "      <td>-0.047246</td>\n",
       "      <td>31.282395</td>\n",
       "    </tr>\n",
       "    <tr>\n",
       "      <th>2018-03-26</th>\n",
       "      <td>75.809998</td>\n",
       "      <td>-0.022563</td>\n",
       "      <td>47.129166</td>\n",
       "    </tr>\n",
       "    <tr>\n",
       "      <th>2018-03-27</th>\n",
       "      <td>73.029999</td>\n",
       "      <td>-0.038700</td>\n",
       "      <td>37.221848</td>\n",
       "    </tr>\n",
       "    <tr>\n",
       "      <th>2018-03-28</th>\n",
       "      <td>72.639999</td>\n",
       "      <td>-0.059067</td>\n",
       "      <td>35.983793</td>\n",
       "    </tr>\n",
       "    <tr>\n",
       "      <th>2018-03-29</th>\n",
       "      <td>74.040001</td>\n",
       "      <td>-0.067741</td>\n",
       "      <td>43.810959</td>\n",
       "    </tr>\n",
       "    <tr>\n",
       "      <th>2018-04-02</th>\n",
       "      <td>71.599998</td>\n",
       "      <td>-0.103880</td>\n",
       "      <td>35.087712</td>\n",
       "    </tr>\n",
       "    <tr>\n",
       "      <th>2018-04-03</th>\n",
       "      <td>70.529999</td>\n",
       "      <td>-0.093911</td>\n",
       "      <td>31.843861</td>\n",
       "    </tr>\n",
       "    <tr>\n",
       "      <th>...</th>\n",
       "      <td>...</td>\n",
       "      <td>...</td>\n",
       "      <td>...</td>\n",
       "    </tr>\n",
       "    <tr>\n",
       "      <th>2019-01-04</th>\n",
       "      <td>58.720001</td>\n",
       "      <td>0.017678</td>\n",
       "      <td>53.056857</td>\n",
       "    </tr>\n",
       "    <tr>\n",
       "      <th>2019-01-07</th>\n",
       "      <td>59.639999</td>\n",
       "      <td>0.051666</td>\n",
       "      <td>58.234995</td>\n",
       "    </tr>\n",
       "    <tr>\n",
       "      <th>2019-01-08</th>\n",
       "      <td>61.040001</td>\n",
       "      <td>0.096855</td>\n",
       "      <td>65.074605</td>\n",
       "    </tr>\n",
       "    <tr>\n",
       "      <th>2019-01-09</th>\n",
       "      <td>62.939999</td>\n",
       "      <td>0.129779</td>\n",
       "      <td>72.265861</td>\n",
       "    </tr>\n",
       "    <tr>\n",
       "      <th>2019-01-10</th>\n",
       "      <td>63.110001</td>\n",
       "      <td>0.089983</td>\n",
       "      <td>72.849428</td>\n",
       "    </tr>\n",
       "    <tr>\n",
       "      <th>2019-01-11</th>\n",
       "      <td>62.880001</td>\n",
       "      <td>0.084699</td>\n",
       "      <td>70.507720</td>\n",
       "    </tr>\n",
       "    <tr>\n",
       "      <th>2019-01-14</th>\n",
       "      <td>62.290001</td>\n",
       "      <td>0.067524</td>\n",
       "      <td>64.320092</td>\n",
       "    </tr>\n",
       "    <tr>\n",
       "      <th>2019-01-15</th>\n",
       "      <td>62.779999</td>\n",
       "      <td>0.083535</td>\n",
       "      <td>67.116228</td>\n",
       "    </tr>\n",
       "    <tr>\n",
       "      <th>2019-01-16</th>\n",
       "      <td>63.889999</td>\n",
       "      <td>0.111324</td>\n",
       "      <td>72.758359</td>\n",
       "    </tr>\n",
       "    <tr>\n",
       "      <th>2019-01-17</th>\n",
       "      <td>64.330002</td>\n",
       "      <td>0.158473</td>\n",
       "      <td>74.761043</td>\n",
       "    </tr>\n",
       "    <tr>\n",
       "      <th>2019-01-18</th>\n",
       "      <td>64.639999</td>\n",
       "      <td>0.100817</td>\n",
       "      <td>76.199241</td>\n",
       "    </tr>\n",
       "    <tr>\n",
       "      <th>2019-01-22</th>\n",
       "      <td>63.009998</td>\n",
       "      <td>0.056506</td>\n",
       "      <td>56.462195</td>\n",
       "    </tr>\n",
       "    <tr>\n",
       "      <th>2019-01-23</th>\n",
       "      <td>62.869999</td>\n",
       "      <td>0.029980</td>\n",
       "      <td>55.033811</td>\n",
       "    </tr>\n",
       "    <tr>\n",
       "      <th>2019-01-24</th>\n",
       "      <td>64.000000</td>\n",
       "      <td>0.016841</td>\n",
       "      <td>63.684970</td>\n",
       "    </tr>\n",
       "    <tr>\n",
       "      <th>2019-01-25</th>\n",
       "      <td>65.220001</td>\n",
       "      <td>0.033434</td>\n",
       "      <td>70.768733</td>\n",
       "    </tr>\n",
       "    <tr>\n",
       "      <th>2019-01-28</th>\n",
       "      <td>65.220001</td>\n",
       "      <td>0.037214</td>\n",
       "      <td>70.768733</td>\n",
       "    </tr>\n",
       "    <tr>\n",
       "      <th>2019-01-29</th>\n",
       "      <td>64.790001</td>\n",
       "      <td>0.040135</td>\n",
       "      <td>64.712945</td>\n",
       "    </tr>\n",
       "    <tr>\n",
       "      <th>2019-01-30</th>\n",
       "      <td>68.019997</td>\n",
       "      <td>0.083466</td>\n",
       "      <td>79.834939</td>\n",
       "    </tr>\n",
       "    <tr>\n",
       "      <th>2019-01-31</th>\n",
       "      <td>68.510002</td>\n",
       "      <td>0.072312</td>\n",
       "      <td>81.256573</td>\n",
       "    </tr>\n",
       "    <tr>\n",
       "      <th>2019-02-01</th>\n",
       "      <td>68.519997</td>\n",
       "      <td>0.065133</td>\n",
       "      <td>81.287967</td>\n",
       "    </tr>\n",
       "    <tr>\n",
       "      <th>2019-02-04</th>\n",
       "      <td>68.410004</td>\n",
       "      <td>0.058323</td>\n",
       "      <td>79.576751</td>\n",
       "    </tr>\n",
       "    <tr>\n",
       "      <th>2019-02-05</th>\n",
       "      <td>70.050003</td>\n",
       "      <td>0.111728</td>\n",
       "      <td>85.050921</td>\n",
       "    </tr>\n",
       "    <tr>\n",
       "      <th>2019-02-06</th>\n",
       "      <td>69.940002</td>\n",
       "      <td>0.112454</td>\n",
       "      <td>83.303661</td>\n",
       "    </tr>\n",
       "    <tr>\n",
       "      <th>2019-02-07</th>\n",
       "      <td>68.550003</td>\n",
       "      <td>0.071094</td>\n",
       "      <td>63.939038</td>\n",
       "    </tr>\n",
       "    <tr>\n",
       "      <th>2019-02-08</th>\n",
       "      <td>68.519997</td>\n",
       "      <td>0.050598</td>\n",
       "      <td>63.566890</td>\n",
       "    </tr>\n",
       "    <tr>\n",
       "      <th>2019-02-11</th>\n",
       "      <td>68.500000</td>\n",
       "      <td>0.050291</td>\n",
       "      <td>63.280522</td>\n",
       "    </tr>\n",
       "    <tr>\n",
       "      <th>2019-02-12</th>\n",
       "      <td>68.879997</td>\n",
       "      <td>0.063127</td>\n",
       "      <td>66.614850</td>\n",
       "    </tr>\n",
       "    <tr>\n",
       "      <th>2019-02-13</th>\n",
       "      <td>69.070000</td>\n",
       "      <td>0.015437</td>\n",
       "      <td>68.294333</td>\n",
       "    </tr>\n",
       "    <tr>\n",
       "      <th>2019-02-14</th>\n",
       "      <td>68.620003</td>\n",
       "      <td>0.001606</td>\n",
       "      <td>59.959846</td>\n",
       "    </tr>\n",
       "    <tr>\n",
       "      <th>2019-02-15</th>\n",
       "      <td>67.860001</td>\n",
       "      <td>-0.009632</td>\n",
       "      <td>48.336712</td>\n",
       "    </tr>\n",
       "  </tbody>\n",
       "</table>\n",
       "<p>250 rows × 3 columns</p>\n",
       "</div>"
      ],
      "text/plain": [
       "                 AABA  Momentum        RSI\n",
       "date                                      \n",
       "2018-02-20  74.589996  0.000000  39.301843\n",
       "2018-02-21  75.110001  0.000000  39.301843\n",
       "2018-02-22  75.519997  0.000000  39.301843\n",
       "2018-02-23  77.760002  0.000000  39.301843\n",
       "2018-02-26  78.080002  0.000000  39.301843\n",
       "2018-02-27  76.129997  0.000000  39.301843\n",
       "2018-02-28  74.849998  0.000000  39.301843\n",
       "2018-03-01  73.739998  0.000000  34.299793\n",
       "2018-03-02  72.690002  0.000000  30.075454\n",
       "2018-03-05  73.440002  0.000000  36.584034\n",
       "2018-03-06  75.169998  0.007776  49.287033\n",
       "2018-03-07  75.980003  0.011583  54.288761\n",
       "2018-03-08  75.730003  0.002781  52.426871\n",
       "2018-03-09  76.620003 -0.014660  58.358419\n",
       "2018-03-12  77.559998 -0.006660  63.904009\n",
       "2018-03-13  75.970001 -0.002102  50.604704\n",
       "2018-03-14  77.199997  0.031396  58.415367\n",
       "2018-03-15  79.419998  0.077027  68.802906\n",
       "2018-03-16  79.900002  0.099188  70.652152\n",
       "2018-03-19  77.839996  0.059913  54.482293\n",
       "2018-03-20  79.070000  0.051882  60.741252\n",
       "2018-03-21  78.070000  0.027507  53.733095\n",
       "2018-03-22  74.570000 -0.015318  36.525205\n",
       "2018-03-23  73.000000 -0.047246  31.282395\n",
       "2018-03-26  75.809998 -0.022563  47.129166\n",
       "2018-03-27  73.029999 -0.038700  37.221848\n",
       "2018-03-28  72.639999 -0.059067  35.983793\n",
       "2018-03-29  74.040001 -0.067741  43.810959\n",
       "2018-04-02  71.599998 -0.103880  35.087712\n",
       "2018-04-03  70.529999 -0.093911  31.843861\n",
       "...               ...       ...        ...\n",
       "2019-01-04  58.720001  0.017678  53.056857\n",
       "2019-01-07  59.639999  0.051666  58.234995\n",
       "2019-01-08  61.040001  0.096855  65.074605\n",
       "2019-01-09  62.939999  0.129779  72.265861\n",
       "2019-01-10  63.110001  0.089983  72.849428\n",
       "2019-01-11  62.880001  0.084699  70.507720\n",
       "2019-01-14  62.290001  0.067524  64.320092\n",
       "2019-01-15  62.779999  0.083535  67.116228\n",
       "2019-01-16  63.889999  0.111324  72.758359\n",
       "2019-01-17  64.330002  0.158473  74.761043\n",
       "2019-01-18  64.639999  0.100817  76.199241\n",
       "2019-01-22  63.009998  0.056506  56.462195\n",
       "2019-01-23  62.869999  0.029980  55.033811\n",
       "2019-01-24  64.000000  0.016841  63.684970\n",
       "2019-01-25  65.220001  0.033434  70.768733\n",
       "2019-01-28  65.220001  0.037214  70.768733\n",
       "2019-01-29  64.790001  0.040135  64.712945\n",
       "2019-01-30  68.019997  0.083466  79.834939\n",
       "2019-01-31  68.510002  0.072312  81.256573\n",
       "2019-02-01  68.519997  0.065133  81.287967\n",
       "2019-02-04  68.410004  0.058323  79.576751\n",
       "2019-02-05  70.050003  0.111728  85.050921\n",
       "2019-02-06  69.940002  0.112454  83.303661\n",
       "2019-02-07  68.550003  0.071094  63.939038\n",
       "2019-02-08  68.519997  0.050598  63.566890\n",
       "2019-02-11  68.500000  0.050291  63.280522\n",
       "2019-02-12  68.879997  0.063127  66.614850\n",
       "2019-02-13  69.070000  0.015437  68.294333\n",
       "2019-02-14  68.620003  0.001606  59.959846\n",
       "2019-02-15  67.860001 -0.009632  48.336712\n",
       "\n",
       "[250 rows x 3 columns]"
      ]
     },
     "execution_count": 5,
     "metadata": {},
     "output_type": "execute_result"
    }
   ],
   "source": [
    "# Get indicators\n",
    "sym_mom, sma, q, rsi_value, rm = get_indicators(dataset, symbol)\n",
    "\n",
    "\n",
    "# Compute momentum column\n",
    "dataset['Momentum'] = sym_mom\n",
    "\n",
    "# compute RSI column\n",
    "dataset['RSI'] = rsi_value\n",
    "\n",
    "# Clean nan values\n",
    "dataset = dataset.fillna(0)\n",
    "\n",
    "# Sort dataframe by index\n",
    "dataset.sort_index()"
   ]
  },
  {
   "cell_type": "markdown",
   "metadata": {},
   "source": [
    "## Scale data for using reg:logistic\n",
    "If we want use objective = reg: if we want use objective = reg:logistic logistic regression, the label needed to be pre-scaled into [0,1]. logistic regression, the label needed to be pre-scaled into [0,1]."
   ]
  },
  {
   "cell_type": "code",
   "execution_count": null,
   "metadata": {},
   "outputs": [],
   "source": [
    "# Scale the dataset\n",
    "scaler = MinMaxScaler(feature_range=(0, 1))\n",
    "np_scaled = scaler.fit_transform(dataset)\n",
    "dataset_normalized = pd.DataFrame(np_scaled)\n",
    "dataset_normalized"
   ]
  },
  {
   "cell_type": "code",
   "execution_count": null,
   "metadata": {},
   "outputs": [],
   "source": [
    "it = scaler.inverse_transform(dataset_normalized)\n"
   ]
  },
  {
   "cell_type": "markdown",
   "metadata": {},
   "source": [
    "## Setup the Target variable or the desired output."
   ]
  },
  {
   "cell_type": "code",
   "execution_count": 7,
   "metadata": {},
   "outputs": [],
   "source": [
    "X, y = dataset_normalized.iloc[:,:-1], dataset_normalized.iloc[:,-1]"
   ]
  },
  {
   "cell_type": "markdown",
   "metadata": {},
   "source": [
    "## Create XGBoost DMatrix structure"
   ]
  },
  {
   "cell_type": "code",
   "execution_count": 8,
   "metadata": {},
   "outputs": [],
   "source": [
    "data_dmatrix = xgb.DMatrix(data=X,label=y)"
   ]
  },
  {
   "cell_type": "code",
   "execution_count": null,
   "metadata": {},
   "outputs": [],
   "source": [
    "print(data_dmatrix.get_label())"
   ]
  },
  {
   "cell_type": "markdown",
   "metadata": {},
   "source": [
    "## Optimize parameters"
   ]
  },
  {
   "cell_type": "code",
   "execution_count": 10,
   "metadata": {},
   "outputs": [
    {
     "name": "stdout",
     "output_type": "stream",
     "text": [
      "Parameter optimization\n",
      "Fitting 3 folds for each of 27 candidates, totalling 81 fits\n",
      "Best Score:  0.5609366516472766\n",
      "Best params:  {'learning_rate': 0.1, 'max_depth': 2, 'min_samples_split': 200, 'n_estimators': 50}\n"
     ]
    },
    {
     "name": "stderr",
     "output_type": "stream",
     "text": [
      "[Parallel(n_jobs=1)]: Done  81 out of  81 | elapsed:    7.0s finished\n"
     ]
    }
   ],
   "source": [
    "print(\"Parameter optimization\")\n",
    "\n",
    "xgb_model = xgb.XGBRegressor()\n",
    "clf = GridSearchCV(xgb_model,\n",
    "                   {'max_depth': [2,4,6],\n",
    "                    'n_estimators': [50,100,200],\n",
    "                    'learning_rate': [0.01, 0.1, 0.5],\n",
    "                    'min_samples_split':range(200,1001,2000)}, verbose=1)\n",
    "clf.fit(X,y)\n",
    "print('Best Score: ', clf.best_score_)\n",
    "print('Best params: ', clf.best_params_)"
   ]
  },
  {
   "cell_type": "markdown",
   "metadata": {},
   "source": [
    "## Create a hyper-parameter dictionary\n",
    "\n",
    "We will create a hyper-parameter dictionary params which holds all the hyper-parameters and their values as key-value pairs but will exclude the n_estimators from the hyper-parameter dictionary because you will use num_boost_rounds instead."
   ]
  },
  {
   "cell_type": "code",
   "execution_count": 11,
   "metadata": {},
   "outputs": [],
   "source": [
    "params = {'silent':1,\n",
    "          \"objective\":\"reg:logistic\",\n",
    "          'colsample_bytree': 0.3,\n",
    "          'learning_rate': 0.1,\n",
    "          'max_depth': 4,\n",
    "          'alpha': 10}"
   ]
  },
  {
   "cell_type": "markdown",
   "metadata": {},
   "source": [
    "We will use these parameters to build a 3-fold cross validation model by invoking XGBoost's cv() method and store the results in a cv_results DataFrame. Note that here you are using the Dmatrix object you created before."
   ]
  },
  {
   "cell_type": "code",
   "execution_count": 12,
   "metadata": {},
   "outputs": [
    {
     "name": "stdout",
     "output_type": "stream",
     "text": [
      "[0]\ttrain-rmse:0.229774+0.00463501\ttest-rmse:0.229666+0.00942093\n",
      "[1]\ttrain-rmse:0.229774+0.00463501\ttest-rmse:0.229666+0.00942093\n",
      "[2]\ttrain-rmse:0.229774+0.00463501\ttest-rmse:0.229666+0.00942093\n",
      "[3]\ttrain-rmse:0.228612+0.00566454\ttest-rmse:0.228849+0.00887777\n",
      "[4]\ttrain-rmse:0.226261+0.00721067\ttest-rmse:0.22697+0.00751696\n",
      "[5]\ttrain-rmse:0.223532+0.00578829\ttest-rmse:0.224486+0.00888512\n",
      "[6]\ttrain-rmse:0.221565+0.00718886\ttest-rmse:0.222927+0.00784485\n",
      "[7]\ttrain-rmse:0.22019+0.00525123\ttest-rmse:0.221643+0.00963835\n",
      "[8]\ttrain-rmse:0.219393+0.0058108\ttest-rmse:0.221084+0.00917102\n",
      "[9]\ttrain-rmse:0.218165+0.00408296\ttest-rmse:0.219945+0.0107781\n",
      "[10]\ttrain-rmse:0.215419+0.00367517\ttest-rmse:0.217634+0.0113162\n",
      "[11]\ttrain-rmse:0.213948+0.00471137\ttest-rmse:0.216477+0.0105423\n",
      "[12]\ttrain-rmse:0.213948+0.00471137\ttest-rmse:0.216477+0.0105423\n",
      "[13]\ttrain-rmse:0.212968+0.00332486\ttest-rmse:0.215579+0.0118017\n",
      "[14]\ttrain-rmse:0.212415+0.00376047\ttest-rmse:0.215191+0.0114815\n",
      "[15]\ttrain-rmse:0.211925+0.00423078\ttest-rmse:0.214847+0.0112122\n",
      "[16]\ttrain-rmse:0.211157+0.00461055\ttest-rmse:0.214185+0.0108132\n",
      "[17]\ttrain-rmse:0.211157+0.00461055\ttest-rmse:0.214185+0.0108132\n",
      "[18]\ttrain-rmse:0.21028+0.0033727\ttest-rmse:0.213387+0.0119341\n",
      "[19]\ttrain-rmse:0.209591+0.00389701\ttest-rmse:0.212794+0.0116229\n",
      "[20]\ttrain-rmse:0.207751+0.00358155\ttest-rmse:0.211248+0.0120786\n",
      "[21]\ttrain-rmse:0.207048+0.00262389\ttest-rmse:0.210616+0.0129569\n",
      "[22]\ttrain-rmse:0.206031+0.00190645\ttest-rmse:0.209781+0.0134992\n",
      "[23]\ttrain-rmse:0.204531+0.00182228\ttest-rmse:0.208527+0.0137259\n",
      "[24]\ttrain-rmse:0.204219+0.00196106\ttest-rmse:0.208309+0.0135317\n",
      "[25]\ttrain-rmse:0.20321+0.00177478\ttest-rmse:0.207428+0.0139505\n",
      "[26]\ttrain-rmse:0.20321+0.00177478\ttest-rmse:0.207428+0.0139505\n",
      "[27]\ttrain-rmse:0.202447+0.00122959\ttest-rmse:0.206808+0.0143149\n",
      "[28]\ttrain-rmse:0.202035+0.00071156\ttest-rmse:0.206445+0.0148218\n",
      "[29]\ttrain-rmse:0.201413+0.00025393\ttest-rmse:0.205946+0.0151195\n",
      "[30]\ttrain-rmse:0.201413+0.00025393\ttest-rmse:0.205946+0.0151195\n",
      "[31]\ttrain-rmse:0.200383+0.000437996\ttest-rmse:0.205096+0.0151673\n",
      "[32]\ttrain-rmse:0.199678+0.000861839\ttest-rmse:0.20449+0.0153605\n",
      "[33]\ttrain-rmse:0.199111+0.00116828\ttest-rmse:0.204037+0.0150834\n",
      "[34]\ttrain-rmse:0.198582+0.00149443\ttest-rmse:0.203615+0.0148236\n",
      "[35]\ttrain-rmse:0.198582+0.00149443\ttest-rmse:0.203615+0.0148236\n",
      "[36]\ttrain-rmse:0.198016+0.0017189\ttest-rmse:0.20313+0.0150406\n",
      "[37]\ttrain-rmse:0.197851+0.00159398\ttest-rmse:0.203014+0.0149294\n",
      "[38]\ttrain-rmse:0.197593+0.00195783\ttest-rmse:0.202759+0.014825\n",
      "[39]\ttrain-rmse:0.196944+0.00200912\ttest-rmse:0.202228+0.0149172\n",
      "[40]\ttrain-rmse:0.196515+0.00217396\ttest-rmse:0.201831+0.0150986\n",
      "[41]\ttrain-rmse:0.196181+0.00195604\ttest-rmse:0.201567+0.0152365\n",
      "[42]\ttrain-rmse:0.19585+0.00210919\ttest-rmse:0.201305+0.0150788\n",
      "[43]\ttrain-rmse:0.19574+0.00202002\ttest-rmse:0.201227+0.0150019\n",
      "[44]\ttrain-rmse:0.195561+0.00191864\ttest-rmse:0.201075+0.0152109\n",
      "[45]\ttrain-rmse:0.195288+0.00174195\ttest-rmse:0.200858+0.0153235\n",
      "[46]\ttrain-rmse:0.195117+0.00197839\ttest-rmse:0.200688+0.0152587\n",
      "[47]\ttrain-rmse:0.195117+0.00197839\ttest-rmse:0.200688+0.0152587\n",
      "[48]\ttrain-rmse:0.194971+0.0019224\ttest-rmse:0.200564+0.0154292\n",
      "[49]\ttrain-rmse:0.194678+0.00210125\ttest-rmse:0.200316+0.015531\n",
      "[50]\ttrain-rmse:0.194449+0.00219359\ttest-rmse:0.200114+0.0154179\n",
      "[51]\ttrain-rmse:0.194239+0.00206221\ttest-rmse:0.199948+0.0154913\n",
      "[52]\ttrain-rmse:0.193926+0.00212972\ttest-rmse:0.199694+0.0155227\n",
      "[53]\ttrain-rmse:0.193754+0.00202491\ttest-rmse:0.199559+0.0155816\n",
      "[54]\ttrain-rmse:0.193547+0.00216295\ttest-rmse:0.199384+0.0156474\n",
      "[55]\ttrain-rmse:0.193383+0.00223234\ttest-rmse:0.199238+0.0155682\n",
      "[56]\ttrain-rmse:0.193383+0.00223234\ttest-rmse:0.199238+0.0155682\n",
      "[57]\ttrain-rmse:0.193322+0.00216679\ttest-rmse:0.199195+0.0155242\n",
      "[58]\ttrain-rmse:0.193224+0.00229786\ttest-rmse:0.199112+0.0154959\n",
      "[59]\ttrain-rmse:0.19314+0.00241247\ttest-rmse:0.199027+0.0154678\n",
      "[60]\ttrain-rmse:0.19301+0.00247063\ttest-rmse:0.198925+0.0154097\n",
      "[61]\ttrain-rmse:0.19293+0.00244303\ttest-rmse:0.198858+0.0155005\n",
      "[62]\ttrain-rmse:0.192858+0.00242232\ttest-rmse:0.198797+0.0155822\n",
      "[63]\ttrain-rmse:0.192739+0.00246231\ttest-rmse:0.198693+0.0155236\n",
      "[64]\ttrain-rmse:0.192633+0.00239995\ttest-rmse:0.198609+0.015568\n",
      "[65]\ttrain-rmse:0.192526+0.00244437\ttest-rmse:0.198525+0.0155202\n",
      "[66]\ttrain-rmse:0.192432+0.00248334\ttest-rmse:0.198442+0.0154751\n",
      "[67]\ttrain-rmse:0.192373+0.00246425\ttest-rmse:0.198392+0.0155422\n",
      "[68]\ttrain-rmse:0.192319+0.00244931\ttest-rmse:0.198347+0.0156027\n",
      "[69]\ttrain-rmse:0.192218+0.00250879\ttest-rmse:0.198261+0.0156427\n",
      "[70]\ttrain-rmse:0.192174+0.00249922\ttest-rmse:0.198225+0.0156923\n",
      "[71]\ttrain-rmse:0.192134+0.00249182\ttest-rmse:0.198192+0.0157369\n",
      "[72]\ttrain-rmse:0.192088+0.00255267\ttest-rmse:0.198145+0.0157222\n",
      "[73]\ttrain-rmse:0.192088+0.00255267\ttest-rmse:0.198145+0.0157222\n",
      "[74]\ttrain-rmse:0.192021+0.00251141\ttest-rmse:0.198094+0.0157398\n",
      "[75]\ttrain-rmse:0.191977+0.0025688\ttest-rmse:0.198056+0.015728\n",
      "[76]\ttrain-rmse:0.191945+0.00256321\ttest-rmse:0.198029+0.0157644\n",
      "[77]\ttrain-rmse:0.191881+0.00251951\ttest-rmse:0.197982+0.0157742\n",
      "[78]\ttrain-rmse:0.191855+0.00248994\ttest-rmse:0.197963+0.0157553\n",
      "[79]\ttrain-rmse:0.191829+0.00248585\ttest-rmse:0.197941+0.015785\n",
      "[80]\ttrain-rmse:0.191829+0.00248585\ttest-rmse:0.197941+0.015785\n",
      "[81]\ttrain-rmse:0.191829+0.00248585\ttest-rmse:0.197941+0.015785\n",
      "[82]\ttrain-rmse:0.1918+0.00245312\ttest-rmse:0.197922+0.0157653\n",
      "[83]\ttrain-rmse:0.191754+0.00242471\ttest-rmse:0.197887+0.0157774\n",
      "[84]\ttrain-rmse:0.191692+0.00244719\ttest-rmse:0.197833+0.0157486\n",
      "[85]\ttrain-rmse:0.191652+0.00242273\ttest-rmse:0.197802+0.0157598\n",
      "[86]\ttrain-rmse:0.191596+0.00244708\ttest-rmse:0.197758+0.0157362\n",
      "[87]\ttrain-rmse:0.191576+0.00244358\ttest-rmse:0.197741+0.0157583\n",
      "[88]\ttrain-rmse:0.191527+0.00248178\ttest-rmse:0.197695+0.0157685\n",
      "[89]\ttrain-rmse:0.191466+0.00250068\ttest-rmse:0.197645+0.0157676\n",
      "[90]\ttrain-rmse:0.191449+0.0024815\ttest-rmse:0.197634+0.0157561\n",
      "[91]\ttrain-rmse:0.191423+0.00251501\ttest-rmse:0.197608+0.015748\n",
      "[92]\ttrain-rmse:0.191423+0.00251501\ttest-rmse:0.197608+0.015748\n",
      "[93]\ttrain-rmse:0.19137+0.0025292\ttest-rmse:0.197566+0.0157482\n",
      "[94]\ttrain-rmse:0.191337+0.00254501\ttest-rmse:0.197538+0.0157337\n",
      "[95]\ttrain-rmse:0.19131+0.00252789\ttest-rmse:0.197519+0.0157399\n",
      "[96]\ttrain-rmse:0.191301+0.00251713\ttest-rmse:0.197512+0.0157326\n",
      "[97]\ttrain-rmse:0.191281+0.00254253\ttest-rmse:0.197493+0.0157266\n",
      "[98]\ttrain-rmse:0.191259+0.00252824\ttest-rmse:0.197476+0.0157328\n",
      "[99]\ttrain-rmse:0.19123+0.00254973\ttest-rmse:0.197451+0.0157401\n",
      "[100]\ttrain-rmse:0.191214+0.0025703\ttest-rmse:0.197435+0.0157353\n",
      "[101]\ttrain-rmse:0.191199+0.00259002\ttest-rmse:0.197422+0.0157314\n",
      "[102]\ttrain-rmse:0.191189+0.00258798\ttest-rmse:0.197414+0.0157422\n",
      "[103]\ttrain-rmse:0.19117+0.00257505\ttest-rmse:0.1974+0.0157456\n",
      "[104]\ttrain-rmse:0.19117+0.00257505\ttest-rmse:0.1974+0.0157456\n",
      "[105]\ttrain-rmse:0.191149+0.00259052\ttest-rmse:0.19738+0.0157505\n",
      "[106]\ttrain-rmse:0.191122+0.00259708\ttest-rmse:0.197358+0.0157499\n",
      "[107]\ttrain-rmse:0.191112+0.00261108\ttest-rmse:0.197347+0.0157466\n",
      "[108]\ttrain-rmse:0.191097+0.00260054\ttest-rmse:0.197336+0.0157486\n",
      "[109]\ttrain-rmse:0.191081+0.00261203\ttest-rmse:0.197322+0.0157526\n",
      "[110]\ttrain-rmse:0.191075+0.00260498\ttest-rmse:0.197318+0.015748\n",
      "[111]\ttrain-rmse:0.191062+0.00259606\ttest-rmse:0.197309+0.015749\n",
      "[112]\ttrain-rmse:0.191058+0.00259513\ttest-rmse:0.197304+0.0157548\n",
      "[113]\ttrain-rmse:0.191043+0.00260182\ttest-rmse:0.197293+0.0157486\n",
      "[114]\ttrain-rmse:0.19103+0.00260523\ttest-rmse:0.197281+0.015742\n",
      "[115]\ttrain-rmse:0.191013+0.00260911\ttest-rmse:0.197267+0.0157417\n",
      "[116]\ttrain-rmse:0.191005+0.00260311\ttest-rmse:0.19726+0.0157427\n",
      "[117]\ttrain-rmse:0.190997+0.00259829\ttest-rmse:0.197255+0.0157439\n",
      "[118]\ttrain-rmse:0.190994+0.00259761\ttest-rmse:0.197252+0.0157475\n",
      "[119]\ttrain-rmse:0.190994+0.00259761\ttest-rmse:0.197252+0.0157475\n",
      "[120]\ttrain-rmse:0.190984+0.00260619\ttest-rmse:0.197243+0.0157493\n",
      "[121]\ttrain-rmse:0.190978+0.00261364\ttest-rmse:0.197237+0.0157475\n",
      "[122]\ttrain-rmse:0.190973+0.00262109\ttest-rmse:0.197232+0.0157459\n",
      "[123]\ttrain-rmse:0.190968+0.00262766\ttest-rmse:0.197228+0.0157446\n",
      "[124]\ttrain-rmse:0.190968+0.00262766\ttest-rmse:0.197228+0.0157446\n",
      "[125]\ttrain-rmse:0.190968+0.00262766\ttest-rmse:0.197228+0.0157446\n",
      "[126]\ttrain-rmse:0.190963+0.00263336\ttest-rmse:0.197223+0.0157434\n",
      "[127]\ttrain-rmse:0.190955+0.00263383\ttest-rmse:0.197216+0.0157393\n",
      "[128]\ttrain-rmse:0.190946+0.00263478\ttest-rmse:0.197209+0.0157385\n",
      "[129]\ttrain-rmse:0.190943+0.00263429\ttest-rmse:0.197207+0.0157412\n",
      "[130]\ttrain-rmse:0.190937+0.00263499\ttest-rmse:0.197202+0.0157383\n",
      "[131]\ttrain-rmse:0.190934+0.00263205\ttest-rmse:0.1972+0.0157362\n",
      "[132]\ttrain-rmse:0.190926+0.00263256\ttest-rmse:0.197193+0.0157359\n",
      "[133]\ttrain-rmse:0.190919+0.00263307\ttest-rmse:0.197187+0.0157357\n",
      "[134]\ttrain-rmse:0.190917+0.00263271\ttest-rmse:0.197186+0.015738\n",
      "[135]\ttrain-rmse:0.190915+0.00263014\ttest-rmse:0.197184+0.0157366\n",
      "[136]\ttrain-rmse:0.190911+0.00263329\ttest-rmse:0.19718+0.0157376\n",
      "[137]\ttrain-rmse:0.190909+0.00263109\ttest-rmse:0.197179+0.0157362\n",
      "[138]\ttrain-rmse:0.190904+0.00263196\ttest-rmse:0.197176+0.0157343\n",
      "[139]\ttrain-rmse:0.190904+0.00263196\ttest-rmse:0.197176+0.0157343\n",
      "[140]\ttrain-rmse:0.190904+0.00263196\ttest-rmse:0.197176+0.0157343\n",
      "[141]\ttrain-rmse:0.190899+0.0026324\ttest-rmse:0.197171+0.0157341\n",
      "[142]\ttrain-rmse:0.190897+0.00263503\ttest-rmse:0.19717+0.0157336\n",
      "[143]\ttrain-rmse:0.190892+0.00263511\ttest-rmse:0.197166+0.0157334\n",
      "[144]\ttrain-rmse:0.190891+0.00263687\ttest-rmse:0.197165+0.015733\n",
      "[145]\ttrain-rmse:0.19089+0.00263576\ttest-rmse:0.197164+0.015732\n",
      "[146]\ttrain-rmse:0.190888+0.00263393\ttest-rmse:0.197163+0.0157309\n",
      "[147]\ttrain-rmse:0.190887+0.00263613\ttest-rmse:0.197162+0.0157306\n",
      "[148]\ttrain-rmse:0.190884+0.00263679\ttest-rmse:0.19716+0.0157295\n",
      "[149]\ttrain-rmse:0.190883+0.0026365\ttest-rmse:0.197159+0.0157309\n",
      "[150]\ttrain-rmse:0.190882+0.00263628\ttest-rmse:0.197158+0.0157322\n",
      "[151]\ttrain-rmse:0.19088+0.00263738\ttest-rmse:0.197156+0.0157328\n",
      "[152]\ttrain-rmse:0.190879+0.00263716\ttest-rmse:0.197155+0.0157342\n",
      "[153]\ttrain-rmse:0.190878+0.00263702\ttest-rmse:0.197154+0.015735\n",
      "[154]\ttrain-rmse:0.190876+0.00263723\ttest-rmse:0.197152+0.0157337\n",
      "[155]\ttrain-rmse:0.190875+0.00263855\ttest-rmse:0.197152+0.0157335\n",
      "[156]\ttrain-rmse:0.190874+0.00263987\ttest-rmse:0.197151+0.0157332\n",
      "[157]\ttrain-rmse:0.190873+0.00263877\ttest-rmse:0.19715+0.0157325\n",
      "[158]\ttrain-rmse:0.190873+0.00263965\ttest-rmse:0.197149+0.0157323\n",
      "[159]\ttrain-rmse:0.190872+0.00263855\ttest-rmse:0.197149+0.0157316\n",
      "[160]\ttrain-rmse:0.190872+0.00263855\ttest-rmse:0.197149+0.0157316\n",
      "[161]\ttrain-rmse:0.190871+0.00263745\ttest-rmse:0.197148+0.0157313\n",
      "[162]\ttrain-rmse:0.19087+0.00263672\ttest-rmse:0.197148+0.0157306\n",
      "[163]\ttrain-rmse:0.19087+0.00263672\ttest-rmse:0.197148+0.0157306\n",
      "[164]\ttrain-rmse:0.190869+0.00263598\ttest-rmse:0.197147+0.0157299\n",
      "[165]\ttrain-rmse:0.190869+0.00263525\ttest-rmse:0.197147+0.0157295\n",
      "[166]\ttrain-rmse:0.190869+0.00263525\ttest-rmse:0.197147+0.0157295\n",
      "[167]\ttrain-rmse:0.190869+0.00263525\ttest-rmse:0.197147+0.0157295\n",
      "[168]\ttrain-rmse:0.190869+0.00263525\ttest-rmse:0.197147+0.0157295\n",
      "[169]\ttrain-rmse:0.190869+0.00263525\ttest-rmse:0.197147+0.0157295\n",
      "[170]\ttrain-rmse:0.190869+0.00263525\ttest-rmse:0.197147+0.0157295\n",
      "[171]\ttrain-rmse:0.190869+0.00263525\ttest-rmse:0.197147+0.0157295\n",
      "[172]\ttrain-rmse:0.190869+0.00263525\ttest-rmse:0.197147+0.0157295\n",
      "[173]\ttrain-rmse:0.190869+0.00263525\ttest-rmse:0.197147+0.0157295\n",
      "[174]\ttrain-rmse:0.190869+0.00263525\ttest-rmse:0.197147+0.0157295\n"
     ]
    }
   ],
   "source": [
    "cv_results = xgb.cv(verbose_eval=True,\n",
    "                    dtrain=data_dmatrix, \n",
    "                    params=params, \n",
    "                    nfold=3,\n",
    "                    num_boost_round=200,\n",
    "                    early_stopping_rounds=10,\n",
    "                    metrics=\"rmse\", \n",
    "                    as_pandas=True, \n",
    "                    seed=123,)"
   ]
  },
  {
   "cell_type": "markdown",
   "metadata": {},
   "source": [
    "## cv_results contains train and test RMSE metrics for each boosting round."
   ]
  },
  {
   "cell_type": "code",
   "execution_count": 13,
   "metadata": {},
   "outputs": [
    {
     "data": {
      "text/html": [
       "<div>\n",
       "<style scoped>\n",
       "    .dataframe tbody tr th:only-of-type {\n",
       "        vertical-align: middle;\n",
       "    }\n",
       "\n",
       "    .dataframe tbody tr th {\n",
       "        vertical-align: top;\n",
       "    }\n",
       "\n",
       "    .dataframe thead th {\n",
       "        text-align: right;\n",
       "    }\n",
       "</style>\n",
       "<table border=\"1\" class=\"dataframe\">\n",
       "  <thead>\n",
       "    <tr style=\"text-align: right;\">\n",
       "      <th></th>\n",
       "      <th>train-rmse-mean</th>\n",
       "      <th>train-rmse-std</th>\n",
       "      <th>test-rmse-mean</th>\n",
       "      <th>test-rmse-std</th>\n",
       "    </tr>\n",
       "  </thead>\n",
       "  <tbody>\n",
       "    <tr>\n",
       "      <th>0</th>\n",
       "      <td>0.229774</td>\n",
       "      <td>0.004635</td>\n",
       "      <td>0.229666</td>\n",
       "      <td>0.009421</td>\n",
       "    </tr>\n",
       "    <tr>\n",
       "      <th>1</th>\n",
       "      <td>0.229774</td>\n",
       "      <td>0.004635</td>\n",
       "      <td>0.229666</td>\n",
       "      <td>0.009421</td>\n",
       "    </tr>\n",
       "    <tr>\n",
       "      <th>2</th>\n",
       "      <td>0.229774</td>\n",
       "      <td>0.004635</td>\n",
       "      <td>0.229666</td>\n",
       "      <td>0.009421</td>\n",
       "    </tr>\n",
       "    <tr>\n",
       "      <th>3</th>\n",
       "      <td>0.228612</td>\n",
       "      <td>0.005665</td>\n",
       "      <td>0.228849</td>\n",
       "      <td>0.008878</td>\n",
       "    </tr>\n",
       "    <tr>\n",
       "      <th>4</th>\n",
       "      <td>0.226261</td>\n",
       "      <td>0.007211</td>\n",
       "      <td>0.226970</td>\n",
       "      <td>0.007517</td>\n",
       "    </tr>\n",
       "  </tbody>\n",
       "</table>\n",
       "</div>"
      ],
      "text/plain": [
       "   train-rmse-mean  train-rmse-std  test-rmse-mean  test-rmse-std\n",
       "0         0.229774        0.004635        0.229666       0.009421\n",
       "1         0.229774        0.004635        0.229666       0.009421\n",
       "2         0.229774        0.004635        0.229666       0.009421\n",
       "3         0.228612        0.005665        0.228849       0.008878\n",
       "4         0.226261        0.007211        0.226970       0.007517"
      ]
     },
     "execution_count": 13,
     "metadata": {},
     "output_type": "execute_result"
    }
   ],
   "source": [
    "cv_results.head()"
   ]
  },
  {
   "cell_type": "markdown",
   "metadata": {},
   "source": [
    "## Extract and print the final boosting round metric."
   ]
  },
  {
   "cell_type": "code",
   "execution_count": 14,
   "metadata": {},
   "outputs": [
    {
     "name": "stdout",
     "output_type": "stream",
     "text": [
      "165    0.197147\n",
      "Name: test-rmse-mean, dtype: float64\n"
     ]
    }
   ],
   "source": [
    "print((cv_results[\"test-rmse-mean\"]).tail(1))"
   ]
  },
  {
   "cell_type": "markdown",
   "metadata": {},
   "source": [
    "You can see that your RMSE for the price prediction has reduced as compared to last time and came out to be around 0.19 per 1000$. \n",
    "\n",
    "You can reach an even lower RMSE for a different set of hyper-parameters. You may consider applying techniques like Grid Search, Random Search and Bayesian Optimization to reach the optimal set of hyper-parameters. "
   ]
  },
  {
   "cell_type": "markdown",
   "metadata": {},
   "source": [
    "## Instantiate an XGBoost regressor object"
   ]
  },
  {
   "cell_type": "code",
   "execution_count": 15,
   "metadata": {},
   "outputs": [],
   "source": [
    "xg_reg = xgb.train(params=params, dtrain=data_dmatrix, num_boost_round=10)"
   ]
  },
  {
   "cell_type": "markdown",
   "metadata": {},
   "source": [
    "## Plotting the first tree"
   ]
  },
  {
   "cell_type": "code",
   "execution_count": 16,
   "metadata": {},
   "outputs": [
    {
     "data": {
      "image/png": "[encoded data removed]",
      "text/plain": [
       "<Figure size 432x288 with 1 Axes>"
      ]
     },
     "metadata": {
      "needs_background": "light"
     },
     "output_type": "display_data"
    }
   ],
   "source": [
    "xgb.plot_tree(xg_reg,num_trees=0)\n",
    "plt.rcParams['figure.figsize'] = [8, 6]\n",
    "plt.show()"
   ]
  },
  {
   "cell_type": "markdown",
   "metadata": {},
   "source": [
    "## Visualize your XGBoost models\n",
    "\n",
    "It's to examine the importance of each feature column in the original dataset within the model."
   ]
  },
  {
   "cell_type": "code",
   "execution_count": 17,
   "metadata": {},
   "outputs": [
    {
     "data": {
      "image/png": "[encoded data removed]",
      "text/plain": [
       "<Figure size 576x432 with 1 Axes>"
      ]
     },
     "metadata": {
      "needs_background": "light"
     },
     "output_type": "display_data"
    }
   ],
   "source": [
    "xgb.plot_importance(xg_reg)\n",
    "plt.rcParams['figure.figsize'] = [18, 6]\n",
    "plt.show()"
   ]
  },
  {
   "cell_type": "markdown",
   "metadata": {},
   "source": [
    "## Instantiate an XGBoost regressor object"
   ]
  },
  {
   "cell_type": "markdown",
   "metadata": {},
   "source": [
    "## Split the data"
   ]
  },
  {
   "cell_type": "code",
   "execution_count": 75,
   "metadata": {},
   "outputs": [],
   "source": [
    "# Define X and y\n",
    "feature_cols = ['Momentum', 'RSI']\n",
    "X = dataset[feature_cols]\n",
    "y = dataset[symbol]"
   ]
  },
  {
   "cell_type": "code",
   "execution_count": 76,
   "metadata": {},
   "outputs": [],
   "source": [
    "# split X and y into training and testing sets\n",
    "X_train, X_test, y_train, y_test = train_test_split(X, y, test_size=0.30, shuffle=False)"
   ]
  },
  {
   "cell_type": "markdown",
   "metadata": {},
   "source": [
    "## Scale data for using reg:logistic\n",
    "If we want use objective = reg: if we want use objective = reg:logistic logistic regression, the label needed to be pre-scaled into [0,1]. logistic regression, the label needed to be pre-scaled into [0,1]."
   ]
  },
  {
   "cell_type": "code",
   "execution_count": 77,
   "metadata": {},
   "outputs": [],
   "source": [
    "X_train_scaled = scaler.fit_transform(X_train)\n",
    "X_test_scaled = scaler.fit_transform(X_test)\n",
    "\n",
    "y_train_scaled = scaler.fit_transform(np.array(y_train).reshape(-1, 1))\n",
    "y_test_scaled = scaler.fit_transform(np.array(y_test).reshape(-1, 1))"
   ]
  },
  {
   "cell_type": "code",
   "execution_count": 110,
   "metadata": {},
   "outputs": [],
   "source": [
    "xg_reg = xgb.XGBRegressor(**params)"
   ]
  },
  {
   "cell_type": "markdown",
   "metadata": {},
   "source": [
    "## Fit the regressor to the training set"
   ]
  },
  {
   "cell_type": "code",
   "execution_count": 151,
   "metadata": {},
   "outputs": [
    {
     "data": {
      "text/plain": [
       "XGBRegressor(alpha=10, base_score=0.5, booster='gbtree', colsample_bylevel=1,\n",
       "       colsample_bytree=0.3, gamma=0, learning_rate=0.1, max_delta_step=0,\n",
       "       max_depth=4, min_child_weight=1, missing=None, n_estimators=100,\n",
       "       n_jobs=1, nthread=None, objective='reg:logistic', random_state=0,\n",
       "       reg_alpha=0, reg_lambda=1, scale_pos_weight=1, seed=None, silent=1,\n",
       "       subsample=1)"
      ]
     },
     "execution_count": 151,
     "metadata": {},
     "output_type": "execute_result"
    }
   ],
   "source": [
    "xg_reg.fit(X_train_scaled,y_train_scaled)"
   ]
  },
  {
   "cell_type": "markdown",
   "metadata": {},
   "source": [
    "## Make predictions on the test set"
   ]
  },
  {
   "cell_type": "code",
   "execution_count": 166,
   "metadata": {},
   "outputs": [],
   "source": [
    "preds = xg_reg.predict(X_test_scaled)"
   ]
  },
  {
   "cell_type": "markdown",
   "metadata": {},
   "source": [
    "## Compute the rmse"
   ]
  },
  {
   "cell_type": "code",
   "execution_count": 167,
   "metadata": {},
   "outputs": [
    {
     "name": "stdout",
     "output_type": "stream",
     "text": [
      "RMSE: 0.209037\n"
     ]
    }
   ],
   "source": [
    "rmse = np.sqrt(mean_squared_error(y_test_scaled, preds))\n",
    "print(\"RMSE: %f\" % (rmse))"
   ]
  },
  {
   "cell_type": "markdown",
   "metadata": {},
   "source": [
    "## Plotting"
   ]
  },
  {
   "cell_type": "markdown",
   "metadata": {},
   "source": [
    "### Standarize data "
   ]
  },
  {
   "cell_type": "code",
   "execution_count": 168,
   "metadata": {},
   "outputs": [],
   "source": [
    "preds = scaler.inverse_transform([preds])\n"
   ]
  },
  {
   "cell_type": "code",
   "execution_count": null,
   "metadata": {},
   "outputs": [],
   "source": [
    "# Convert array to series\n",
    "mylist = preds.tolist()\n",
    "se = pd.Series(mylist)\n"
   ]
  },
  {
   "cell_type": "code",
   "execution_count": 184,
   "metadata": {},
   "outputs": [],
   "source": [
    "# Create a dataframe for plotting\n",
    "predictions = pd.DataFrame()\n",
    "predictions['Price'] = y_test\n",
    "predictions['Forecast'] = se[0]\n"
   ]
  },
  {
   "cell_type": "code",
   "execution_count": 186,
   "metadata": {},
   "outputs": [
    {
     "data": {
      "image/png": "[encoded data removed]",
      "text/plain": [
       "<Figure size 1152x576 with 1 Axes>"
      ]
     },
     "metadata": {
      "needs_background": "light"
     },
     "output_type": "display_data"
    }
   ],
   "source": [
    "plt.figure(figsize=(16,8))\n",
    "plt.plot(predictions)\n",
    "plt.xlabel('Date')\n",
    "plt.ylabel(\"Price\")\n",
    "plt.legend([\"Real Price\", \"Prediction\"])\n",
    "plt.show()"
   ]
  },
  {
   "cell_type": "code",
   "execution_count": null,
   "metadata": {},
   "outputs": [],
   "source": []
  },
  {
   "cell_type": "code",
   "execution_count": null,
   "metadata": {},
   "outputs": [],
   "source": []
  }
 ],
 "metadata": {
  "kernelspec": {
   "display_name": "Python 3",
   "language": "python",
   "name": "python3"
  },
  "language_info": {
   "codemirror_mode": {
    "name": "ipython",
    "version": 3
   },
   "file_extension": ".py",
   "mimetype": "text/x-python",
   "name": "python",
   "nbconvert_exporter": "python",
   "pygments_lexer": "ipython3",
   "version": "3.6.8"
  },
  "toc-autonumbering": true
 },
 "nbformat": 4,
 "nbformat_minor": 2
}
