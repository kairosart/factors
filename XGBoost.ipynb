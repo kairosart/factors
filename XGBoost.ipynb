{
 "cells": [
  {
   "cell_type": "markdown",
   "metadata": {},
   "source": [
    "# XGBoost"
   ]
  },
  {
   "cell_type": "markdown",
   "metadata": {},
   "source": [
    "## Import libraries"
   ]
  },
  {
   "cell_type": "code",
   "execution_count": 271,
   "metadata": {},
   "outputs": [],
   "source": [
    "%matplotlib inline\n",
    "import matplotlib.pyplot as plt\n",
    "import datetime as dt\n",
    "import xgboost as xgb\n",
    "import seaborn as sns\n",
    "import pandas as pd\n",
    "import numpy as np\n",
    "\n",
    "# Sklearn\n",
    "from sklearn.model_selection import train_test_split, GridSearchCV\n",
    "from sklearn.metrics import mean_squared_error\n",
    "from sklearn.preprocessing import MinMaxScaler\n",
    "from sklearn import preprocessing\n",
    "\n",
    "# Matplotlib\n",
    "%matplotlib inline\n",
    "import matplotlib.pyplot as plt\n",
    "\n",
    "# Files\n",
    "from util import fetchOnlineData, create_dataset\n",
    "from indicators import get_indicators\n",
    "\n",
    "# TA Library (https://github.com/bukosabino/ta)\n",
    "from ta import *\n",
    "\n",
    "sns.set(font_scale = 1.5)"
   ]
  },
  {
   "cell_type": "markdown",
   "metadata": {},
   "source": [
    "## Initial variables"
   ]
  },
  {
   "cell_type": "code",
   "execution_count": 272,
   "metadata": {},
   "outputs": [],
   "source": [
    "symbol = \"AABA\"\n",
    "\n",
    "# We'll look back 365 days\n",
    "start_d = dt.date.today() - dt.timedelta(1000)"
   ]
  },
  {
   "cell_type": "markdown",
   "metadata": {},
   "source": [
    "## Import dataset"
   ]
  },
  {
   "cell_type": "code",
   "execution_count": 273,
   "metadata": {},
   "outputs": [
    {
     "name": "stdout",
     "output_type": "stream",
     "text": [
      "[*********************100%***********************]  1 of 1 downloaded\n"
     ]
    }
   ],
   "source": [
    "yesterday = dt.date.today() - dt.timedelta(1)\n",
    "portf_value = fetchOnlineData(start_d, symbol, yesterday, del_cols=True)"
   ]
  },
  {
   "cell_type": "code",
   "execution_count": null,
   "metadata": {},
   "outputs": [],
   "source": []
  },
  {
   "cell_type": "code",
   "execution_count": null,
   "metadata": {},
   "outputs": [],
   "source": []
  },
  {
   "cell_type": "markdown",
   "metadata": {},
   "source": [
    "# k-fold Cross Validation using XGBoost"
   ]
  },
  {
   "cell_type": "code",
   "execution_count": 278,
   "metadata": {},
   "outputs": [],
   "source": [
    "# Create dataset\n",
    "dataset = portf_value.copy()\n",
    "dataset['date'] = portf_value.index\n",
    "dataset.set_index('date', inplace=True)\n",
    "dataset.rename(columns={'Adj Close': symbol}, inplace=True)"
   ]
  },
  {
   "cell_type": "markdown",
   "metadata": {},
   "source": [
    "## Compute the Predictor variables"
   ]
  },
  {
   "cell_type": "code",
   "execution_count": null,
   "metadata": {},
   "outputs": [],
   "source": [
    "# Get indicators\n",
    "sym_mom, sma, q, rsi_value, rm = get_indicators(dataset, symbol)\n",
    "\n",
    "\n",
    "# Compute momentum column\n",
    "dataset['Momentum'] = sym_mom\n",
    "\n",
    "# compute RSI column\n",
    "dataset['RSI'] = rsi_value\n",
    "\n",
    "# Clean nan values\n",
    "dataset = dataset.fillna(0)\n",
    "\n",
    "# Sort dataframe by index\n",
    "dataset.sort_index()"
   ]
  },
  {
   "cell_type": "markdown",
   "metadata": {},
   "source": [
    "## Scale data for using reg:logistic\n",
    "If we want use objective = reg: if we want use objective = reg:logistic logistic regression, the label needed to be pre-scaled into [0,1]. logistic regression, the label needed to be pre-scaled into [0,1]."
   ]
  },
  {
   "cell_type": "code",
   "execution_count": 191,
   "metadata": {},
   "outputs": [
    {
     "data": {
      "text/html": [
       "<div>\n",
       "<style scoped>\n",
       "    .dataframe tbody tr th:only-of-type {\n",
       "        vertical-align: middle;\n",
       "    }\n",
       "\n",
       "    .dataframe tbody tr th {\n",
       "        vertical-align: top;\n",
       "    }\n",
       "\n",
       "    .dataframe thead th {\n",
       "        text-align: right;\n",
       "    }\n",
       "</style>\n",
       "<table border=\"1\" class=\"dataframe\">\n",
       "  <thead>\n",
       "    <tr style=\"text-align: right;\">\n",
       "      <th></th>\n",
       "      <th>0</th>\n",
       "      <th>1</th>\n",
       "      <th>2</th>\n",
       "    </tr>\n",
       "  </thead>\n",
       "  <tbody>\n",
       "    <tr>\n",
       "      <th>0</th>\n",
       "      <td>0.055155</td>\n",
       "      <td>0.473759</td>\n",
       "      <td>0.398004</td>\n",
       "    </tr>\n",
       "    <tr>\n",
       "      <th>1</th>\n",
       "      <td>0.057700</td>\n",
       "      <td>0.473759</td>\n",
       "      <td>0.398004</td>\n",
       "    </tr>\n",
       "    <tr>\n",
       "      <th>2</th>\n",
       "      <td>0.030335</td>\n",
       "      <td>0.473759</td>\n",
       "      <td>0.398004</td>\n",
       "    </tr>\n",
       "    <tr>\n",
       "      <th>3</th>\n",
       "      <td>0.040942</td>\n",
       "      <td>0.473759</td>\n",
       "      <td>0.398004</td>\n",
       "    </tr>\n",
       "    <tr>\n",
       "      <th>4</th>\n",
       "      <td>0.029274</td>\n",
       "      <td>0.473759</td>\n",
       "      <td>0.398004</td>\n",
       "    </tr>\n",
       "    <tr>\n",
       "      <th>5</th>\n",
       "      <td>0.039245</td>\n",
       "      <td>0.473759</td>\n",
       "      <td>0.398004</td>\n",
       "    </tr>\n",
       "    <tr>\n",
       "      <th>6</th>\n",
       "      <td>0.032032</td>\n",
       "      <td>0.473759</td>\n",
       "      <td>0.398004</td>\n",
       "    </tr>\n",
       "    <tr>\n",
       "      <th>7</th>\n",
       "      <td>0.037123</td>\n",
       "      <td>0.473759</td>\n",
       "      <td>0.444489</td>\n",
       "    </tr>\n",
       "    <tr>\n",
       "      <th>8</th>\n",
       "      <td>0.045184</td>\n",
       "      <td>0.473759</td>\n",
       "      <td>0.515752</td>\n",
       "    </tr>\n",
       "    <tr>\n",
       "      <th>9</th>\n",
       "      <td>0.034154</td>\n",
       "      <td>0.473759</td>\n",
       "      <td>0.416779</td>\n",
       "    </tr>\n",
       "    <tr>\n",
       "      <th>10</th>\n",
       "      <td>0.026517</td>\n",
       "      <td>0.355225</td>\n",
       "      <td>0.356147</td>\n",
       "    </tr>\n",
       "    <tr>\n",
       "      <th>11</th>\n",
       "      <td>0.046245</td>\n",
       "      <td>0.426496</td>\n",
       "      <td>0.536333</td>\n",
       "    </tr>\n",
       "    <tr>\n",
       "      <th>12</th>\n",
       "      <td>0.044548</td>\n",
       "      <td>0.534465</td>\n",
       "      <td>0.519953</td>\n",
       "    </tr>\n",
       "    <tr>\n",
       "      <th>13</th>\n",
       "      <td>0.046033</td>\n",
       "      <td>0.495211</td>\n",
       "      <td>0.533614</td>\n",
       "    </tr>\n",
       "    <tr>\n",
       "      <th>14</th>\n",
       "      <td>0.036487</td>\n",
       "      <td>0.504607</td>\n",
       "      <td>0.430266</td>\n",
       "    </tr>\n",
       "    <tr>\n",
       "      <th>15</th>\n",
       "      <td>0.043912</td>\n",
       "      <td>0.493466</td>\n",
       "      <td>0.510399</td>\n",
       "    </tr>\n",
       "    <tr>\n",
       "      <th>16</th>\n",
       "      <td>0.046245</td>\n",
       "      <td>0.534333</td>\n",
       "      <td>0.535114</td>\n",
       "    </tr>\n",
       "    <tr>\n",
       "      <th>17</th>\n",
       "      <td>0.045397</td>\n",
       "      <td>0.508789</td>\n",
       "      <td>0.523035</td>\n",
       "    </tr>\n",
       "    <tr>\n",
       "      <th>18</th>\n",
       "      <td>0.054306</td>\n",
       "      <td>0.511989</td>\n",
       "      <td>0.624395</td>\n",
       "    </tr>\n",
       "    <tr>\n",
       "      <th>19</th>\n",
       "      <td>0.021638</td>\n",
       "      <td>0.420563</td>\n",
       "      <td>0.291060</td>\n",
       "    </tr>\n",
       "    <tr>\n",
       "      <th>20</th>\n",
       "      <td>0.000000</td>\n",
       "      <td>0.359943</td>\n",
       "      <td>0.181686</td>\n",
       "    </tr>\n",
       "    <tr>\n",
       "      <th>21</th>\n",
       "      <td>0.017395</td>\n",
       "      <td>0.353006</td>\n",
       "      <td>0.354717</td>\n",
       "    </tr>\n",
       "    <tr>\n",
       "      <th>22</th>\n",
       "      <td>0.034790</td>\n",
       "      <td>0.432829</td>\n",
       "      <td>0.488436</td>\n",
       "    </tr>\n",
       "    <tr>\n",
       "      <th>23</th>\n",
       "      <td>0.049639</td>\n",
       "      <td>0.488857</td>\n",
       "      <td>0.580698</td>\n",
       "    </tr>\n",
       "    <tr>\n",
       "      <th>24</th>\n",
       "      <td>0.058761</td>\n",
       "      <td>0.568148</td>\n",
       "      <td>0.631141</td>\n",
       "    </tr>\n",
       "    <tr>\n",
       "      <th>25</th>\n",
       "      <td>0.048367</td>\n",
       "      <td>0.492459</td>\n",
       "      <td>0.540877</td>\n",
       "    </tr>\n",
       "    <tr>\n",
       "      <th>26</th>\n",
       "      <td>0.048579</td>\n",
       "      <td>0.483525</td>\n",
       "      <td>0.542394</td>\n",
       "    </tr>\n",
       "    <tr>\n",
       "      <th>27</th>\n",
       "      <td>0.048791</td>\n",
       "      <td>0.487980</td>\n",
       "      <td>0.544153</td>\n",
       "    </tr>\n",
       "    <tr>\n",
       "      <th>28</th>\n",
       "      <td>0.053458</td>\n",
       "      <td>0.470243</td>\n",
       "      <td>0.585739</td>\n",
       "    </tr>\n",
       "    <tr>\n",
       "      <th>29</th>\n",
       "      <td>0.058125</td>\n",
       "      <td>0.631364</td>\n",
       "      <td>0.626903</td>\n",
       "    </tr>\n",
       "    <tr>\n",
       "      <th>...</th>\n",
       "      <td>...</td>\n",
       "      <td>...</td>\n",
       "      <td>...</td>\n",
       "    </tr>\n",
       "    <tr>\n",
       "      <th>657</th>\n",
       "      <td>0.547730</td>\n",
       "      <td>0.795386</td>\n",
       "      <td>0.658854</td>\n",
       "    </tr>\n",
       "    <tr>\n",
       "      <th>658</th>\n",
       "      <td>0.588036</td>\n",
       "      <td>0.904717</td>\n",
       "      <td>0.747691</td>\n",
       "    </tr>\n",
       "    <tr>\n",
       "      <th>659</th>\n",
       "      <td>0.591642</td>\n",
       "      <td>0.772564</td>\n",
       "      <td>0.754899</td>\n",
       "    </tr>\n",
       "    <tr>\n",
       "      <th>660</th>\n",
       "      <td>0.586763</td>\n",
       "      <td>0.755019</td>\n",
       "      <td>0.725972</td>\n",
       "    </tr>\n",
       "    <tr>\n",
       "      <th>661</th>\n",
       "      <td>0.574247</td>\n",
       "      <td>0.697985</td>\n",
       "      <td>0.649534</td>\n",
       "    </tr>\n",
       "    <tr>\n",
       "      <th>662</th>\n",
       "      <td>0.584641</td>\n",
       "      <td>0.751153</td>\n",
       "      <td>0.684075</td>\n",
       "    </tr>\n",
       "    <tr>\n",
       "      <th>663</th>\n",
       "      <td>0.608188</td>\n",
       "      <td>0.843431</td>\n",
       "      <td>0.753775</td>\n",
       "    </tr>\n",
       "    <tr>\n",
       "      <th>664</th>\n",
       "      <td>0.617522</td>\n",
       "      <td>1.000000</td>\n",
       "      <td>0.778514</td>\n",
       "    </tr>\n",
       "    <tr>\n",
       "      <th>665</th>\n",
       "      <td>0.624098</td>\n",
       "      <td>0.808543</td>\n",
       "      <td>0.796281</td>\n",
       "    </tr>\n",
       "    <tr>\n",
       "      <th>666</th>\n",
       "      <td>0.589521</td>\n",
       "      <td>0.661397</td>\n",
       "      <td>0.552462</td>\n",
       "    </tr>\n",
       "    <tr>\n",
       "      <th>667</th>\n",
       "      <td>0.586551</td>\n",
       "      <td>0.573314</td>\n",
       "      <td>0.534817</td>\n",
       "    </tr>\n",
       "    <tr>\n",
       "      <th>668</th>\n",
       "      <td>0.610522</td>\n",
       "      <td>0.529684</td>\n",
       "      <td>0.641688</td>\n",
       "    </tr>\n",
       "    <tr>\n",
       "      <th>669</th>\n",
       "      <td>0.636402</td>\n",
       "      <td>0.584782</td>\n",
       "      <td>0.729196</td>\n",
       "    </tr>\n",
       "    <tr>\n",
       "      <th>670</th>\n",
       "      <td>0.636402</td>\n",
       "      <td>0.597335</td>\n",
       "      <td>0.729196</td>\n",
       "    </tr>\n",
       "    <tr>\n",
       "      <th>671</th>\n",
       "      <td>0.627280</td>\n",
       "      <td>0.607035</td>\n",
       "      <td>0.654387</td>\n",
       "    </tr>\n",
       "    <tr>\n",
       "      <th>672</th>\n",
       "      <td>0.695800</td>\n",
       "      <td>0.750925</td>\n",
       "      <td>0.841194</td>\n",
       "    </tr>\n",
       "    <tr>\n",
       "      <th>673</th>\n",
       "      <td>0.706194</td>\n",
       "      <td>0.713885</td>\n",
       "      <td>0.858756</td>\n",
       "    </tr>\n",
       "    <tr>\n",
       "      <th>674</th>\n",
       "      <td>0.706406</td>\n",
       "      <td>0.690045</td>\n",
       "      <td>0.859144</td>\n",
       "    </tr>\n",
       "    <tr>\n",
       "      <th>675</th>\n",
       "      <td>0.704073</td>\n",
       "      <td>0.667432</td>\n",
       "      <td>0.838004</td>\n",
       "    </tr>\n",
       "    <tr>\n",
       "      <th>676</th>\n",
       "      <td>0.738863</td>\n",
       "      <td>0.844775</td>\n",
       "      <td>0.905629</td>\n",
       "    </tr>\n",
       "    <tr>\n",
       "      <th>677</th>\n",
       "      <td>0.736530</td>\n",
       "      <td>0.847186</td>\n",
       "      <td>0.884044</td>\n",
       "    </tr>\n",
       "    <tr>\n",
       "      <th>678</th>\n",
       "      <td>0.707043</td>\n",
       "      <td>0.709840</td>\n",
       "      <td>0.644826</td>\n",
       "    </tr>\n",
       "    <tr>\n",
       "      <th>679</th>\n",
       "      <td>0.706406</td>\n",
       "      <td>0.641779</td>\n",
       "      <td>0.640229</td>\n",
       "    </tr>\n",
       "    <tr>\n",
       "      <th>680</th>\n",
       "      <td>0.705982</td>\n",
       "      <td>0.640761</td>\n",
       "      <td>0.636691</td>\n",
       "    </tr>\n",
       "    <tr>\n",
       "      <th>681</th>\n",
       "      <td>0.714043</td>\n",
       "      <td>0.683385</td>\n",
       "      <td>0.677882</td>\n",
       "    </tr>\n",
       "    <tr>\n",
       "      <th>682</th>\n",
       "      <td>0.718074</td>\n",
       "      <td>0.525019</td>\n",
       "      <td>0.698629</td>\n",
       "    </tr>\n",
       "    <tr>\n",
       "      <th>683</th>\n",
       "      <td>0.708528</td>\n",
       "      <td>0.479091</td>\n",
       "      <td>0.595670</td>\n",
       "    </tr>\n",
       "    <tr>\n",
       "      <th>684</th>\n",
       "      <td>0.692406</td>\n",
       "      <td>0.441773</td>\n",
       "      <td>0.452085</td>\n",
       "    </tr>\n",
       "    <tr>\n",
       "      <th>685</th>\n",
       "      <td>0.718922</td>\n",
       "      <td>0.507738</td>\n",
       "      <td>0.625118</td>\n",
       "    </tr>\n",
       "    <tr>\n",
       "      <th>686</th>\n",
       "      <td>0.725074</td>\n",
       "      <td>0.442946</td>\n",
       "      <td>0.656921</td>\n",
       "    </tr>\n",
       "  </tbody>\n",
       "</table>\n",
       "<p>687 rows × 3 columns</p>\n",
       "</div>"
      ],
      "text/plain": [
       "            0         1         2\n",
       "0    0.055155  0.473759  0.398004\n",
       "1    0.057700  0.473759  0.398004\n",
       "2    0.030335  0.473759  0.398004\n",
       "3    0.040942  0.473759  0.398004\n",
       "4    0.029274  0.473759  0.398004\n",
       "5    0.039245  0.473759  0.398004\n",
       "6    0.032032  0.473759  0.398004\n",
       "7    0.037123  0.473759  0.444489\n",
       "8    0.045184  0.473759  0.515752\n",
       "9    0.034154  0.473759  0.416779\n",
       "10   0.026517  0.355225  0.356147\n",
       "11   0.046245  0.426496  0.536333\n",
       "12   0.044548  0.534465  0.519953\n",
       "13   0.046033  0.495211  0.533614\n",
       "14   0.036487  0.504607  0.430266\n",
       "15   0.043912  0.493466  0.510399\n",
       "16   0.046245  0.534333  0.535114\n",
       "17   0.045397  0.508789  0.523035\n",
       "18   0.054306  0.511989  0.624395\n",
       "19   0.021638  0.420563  0.291060\n",
       "20   0.000000  0.359943  0.181686\n",
       "21   0.017395  0.353006  0.354717\n",
       "22   0.034790  0.432829  0.488436\n",
       "23   0.049639  0.488857  0.580698\n",
       "24   0.058761  0.568148  0.631141\n",
       "25   0.048367  0.492459  0.540877\n",
       "26   0.048579  0.483525  0.542394\n",
       "27   0.048791  0.487980  0.544153\n",
       "28   0.053458  0.470243  0.585739\n",
       "29   0.058125  0.631364  0.626903\n",
       "..        ...       ...       ...\n",
       "657  0.547730  0.795386  0.658854\n",
       "658  0.588036  0.904717  0.747691\n",
       "659  0.591642  0.772564  0.754899\n",
       "660  0.586763  0.755019  0.725972\n",
       "661  0.574247  0.697985  0.649534\n",
       "662  0.584641  0.751153  0.684075\n",
       "663  0.608188  0.843431  0.753775\n",
       "664  0.617522  1.000000  0.778514\n",
       "665  0.624098  0.808543  0.796281\n",
       "666  0.589521  0.661397  0.552462\n",
       "667  0.586551  0.573314  0.534817\n",
       "668  0.610522  0.529684  0.641688\n",
       "669  0.636402  0.584782  0.729196\n",
       "670  0.636402  0.597335  0.729196\n",
       "671  0.627280  0.607035  0.654387\n",
       "672  0.695800  0.750925  0.841194\n",
       "673  0.706194  0.713885  0.858756\n",
       "674  0.706406  0.690045  0.859144\n",
       "675  0.704073  0.667432  0.838004\n",
       "676  0.738863  0.844775  0.905629\n",
       "677  0.736530  0.847186  0.884044\n",
       "678  0.707043  0.709840  0.644826\n",
       "679  0.706406  0.641779  0.640229\n",
       "680  0.705982  0.640761  0.636691\n",
       "681  0.714043  0.683385  0.677882\n",
       "682  0.718074  0.525019  0.698629\n",
       "683  0.708528  0.479091  0.595670\n",
       "684  0.692406  0.441773  0.452085\n",
       "685  0.718922  0.507738  0.625118\n",
       "686  0.725074  0.442946  0.656921\n",
       "\n",
       "[687 rows x 3 columns]"
      ]
     },
     "execution_count": 191,
     "metadata": {},
     "output_type": "execute_result"
    }
   ],
   "source": [
    "# Scale the dataset\n",
    "scaler = MinMaxScaler(feature_range=(0, 1))\n",
    "np_scaled = scaler.fit_transform(dataset)\n",
    "dataset_normalized = pd.DataFrame(np_scaled)\n",
    "dataset_normalized"
   ]
  },
  {
   "cell_type": "markdown",
   "metadata": {},
   "source": [
    "## Setup the Target variable or the desired output."
   ]
  },
  {
   "cell_type": "code",
   "execution_count": 192,
   "metadata": {},
   "outputs": [],
   "source": [
    "X, y = dataset_normalized.iloc[:,:-1], dataset_normalized.iloc[:,-1]"
   ]
  },
  {
   "cell_type": "markdown",
   "metadata": {},
   "source": [
    "## Create XGBoost DMatrix structure"
   ]
  },
  {
   "cell_type": "code",
   "execution_count": 193,
   "metadata": {},
   "outputs": [],
   "source": [
    "data_dmatrix = xgb.DMatrix(data=X,label=y)"
   ]
  },
  {
   "cell_type": "code",
   "execution_count": null,
   "metadata": {},
   "outputs": [],
   "source": [
    "print(data_dmatrix.get_label())"
   ]
  },
  {
   "cell_type": "markdown",
   "metadata": {},
   "source": [
    "## Optimize parameters"
   ]
  },
  {
   "cell_type": "code",
   "execution_count": 195,
   "metadata": {},
   "outputs": [
    {
     "name": "stdout",
     "output_type": "stream",
     "text": [
      "Parameter optimization\n",
      "Fitting 3 folds for each of 27 candidates, totalling 81 fits\n",
      "Best Score:  0.5961231602913862\n",
      "Best params:  {'learning_rate': 0.1, 'max_depth': 2, 'min_samples_split': 200, 'n_estimators': 50}\n"
     ]
    },
    {
     "name": "stderr",
     "output_type": "stream",
     "text": [
      "[Parallel(n_jobs=1)]: Done  81 out of  81 | elapsed:    4.6s finished\n"
     ]
    }
   ],
   "source": [
    "print(\"Parameter optimization\")\n",
    "\n",
    "xgb_model = xgb.XGBRegressor()\n",
    "clf = GridSearchCV(xgb_model,\n",
    "                   {'max_depth': [2,4,6],\n",
    "                    'n_estimators': [50,100,200],\n",
    "                    'learning_rate': [0.01, 0.1, 0.5],\n",
    "                    'min_samples_split':range(200,1001,2000)}, verbose=1)\n",
    "clf.fit(X,y)\n",
    "print('Best Score: ', clf.best_score_)\n",
    "print('Best params: ', clf.best_params_)"
   ]
  },
  {
   "cell_type": "markdown",
   "metadata": {},
   "source": [
    "## Create a hyper-parameter dictionary\n",
    "\n",
    "We will create a hyper-parameter dictionary params which holds all the hyper-parameters and their values as key-value pairs but will exclude the n_estimators from the hyper-parameter dictionary because you will use num_boost_rounds instead."
   ]
  },
  {
   "cell_type": "code",
   "execution_count": 231,
   "metadata": {},
   "outputs": [],
   "source": [
    "params = {'silent':1,\n",
    "          \"objective\":\"reg:logistic\",\n",
    "          'colsample_bytree': 0.3,\n",
    "          'learning_rate': 0.1,\n",
    "          'max_depth': 4,\n",
    "          'alpha': 10,\n",
    "          'min_samples_split': 200,\n",
    "          'n_estimators': 50}"
   ]
  },
  {
   "cell_type": "markdown",
   "metadata": {},
   "source": [
    "We will use these parameters to build a x-fold cross validation model by invoking XGBoost's cv() method and store the results in a cv_results DataFrame. Note that here you are using the Dmatrix object you created before."
   ]
  },
  {
   "cell_type": "code",
   "execution_count": 269,
   "metadata": {},
   "outputs": [],
   "source": [
    "cv_results = xgb.cv(verbose_eval=False,\n",
    "                    dtrain=data_dmatrix, \n",
    "                    params=params, \n",
    "                    nfold=10,\n",
    "                    num_boost_round=50,\n",
    "                    early_stopping_rounds=10,\n",
    "                    metrics=\"rmse\", \n",
    "                    as_pandas=True, \n",
    "                    seed=123,)"
   ]
  },
  {
   "cell_type": "markdown",
   "metadata": {},
   "source": [
    "## cv_results contains train and test RMSE metrics for each boosting round."
   ]
  },
  {
   "cell_type": "code",
   "execution_count": 265,
   "metadata": {},
   "outputs": [
    {
     "data": {
      "text/html": [
       "<div>\n",
       "<style scoped>\n",
       "    .dataframe tbody tr th:only-of-type {\n",
       "        vertical-align: middle;\n",
       "    }\n",
       "\n",
       "    .dataframe tbody tr th {\n",
       "        vertical-align: top;\n",
       "    }\n",
       "\n",
       "    .dataframe thead th {\n",
       "        text-align: right;\n",
       "    }\n",
       "</style>\n",
       "<table border=\"1\" class=\"dataframe\">\n",
       "  <thead>\n",
       "    <tr style=\"text-align: right;\">\n",
       "      <th></th>\n",
       "      <th>train-rmse-mean</th>\n",
       "      <th>train-rmse-std</th>\n",
       "      <th>test-rmse-mean</th>\n",
       "      <th>test-rmse-std</th>\n",
       "    </tr>\n",
       "  </thead>\n",
       "  <tbody>\n",
       "    <tr>\n",
       "      <th>0</th>\n",
       "      <td>0.198488</td>\n",
       "      <td>0.002128</td>\n",
       "      <td>0.197806</td>\n",
       "      <td>0.019189</td>\n",
       "    </tr>\n",
       "    <tr>\n",
       "      <th>1</th>\n",
       "      <td>0.196911</td>\n",
       "      <td>0.002940</td>\n",
       "      <td>0.196438</td>\n",
       "      <td>0.019824</td>\n",
       "    </tr>\n",
       "    <tr>\n",
       "      <th>2</th>\n",
       "      <td>0.190701</td>\n",
       "      <td>0.004546</td>\n",
       "      <td>0.190387</td>\n",
       "      <td>0.020284</td>\n",
       "    </tr>\n",
       "    <tr>\n",
       "      <th>3</th>\n",
       "      <td>0.186590</td>\n",
       "      <td>0.006507</td>\n",
       "      <td>0.186493</td>\n",
       "      <td>0.020268</td>\n",
       "    </tr>\n",
       "    <tr>\n",
       "      <th>4</th>\n",
       "      <td>0.183958</td>\n",
       "      <td>0.007047</td>\n",
       "      <td>0.183970</td>\n",
       "      <td>0.020708</td>\n",
       "    </tr>\n",
       "  </tbody>\n",
       "</table>\n",
       "</div>"
      ],
      "text/plain": [
       "   train-rmse-mean  train-rmse-std  test-rmse-mean  test-rmse-std\n",
       "0         0.198488        0.002128        0.197806       0.019189\n",
       "1         0.196911        0.002940        0.196438       0.019824\n",
       "2         0.190701        0.004546        0.190387       0.020284\n",
       "3         0.186590        0.006507        0.186493       0.020268\n",
       "4         0.183958        0.007047        0.183970       0.020708"
      ]
     },
     "execution_count": 265,
     "metadata": {},
     "output_type": "execute_result"
    }
   ],
   "source": [
    "cv_results.head()"
   ]
  },
  {
   "cell_type": "code",
   "execution_count": 270,
   "metadata": {},
   "outputs": [
    {
     "data": {
      "image/png": "[encoded data removed]",
      "text/plain": [
       "<Figure size 1152x576 with 1 Axes>"
      ]
     },
     "metadata": {
      "needs_background": "light"
     },
     "output_type": "display_data"
    }
   ],
   "source": [
    "plt.figure(figsize=(16,8))\n",
    "plt.plot(cv_results)\n",
    "plt.xlabel('Boosting round')\n",
    "plt.ylabel(\"RMSE\")\n",
    "plt.legend([\"Train mean\", \"Train std.\", \"Test mean\", \"Test std.\"])\n",
    "plt.show()"
   ]
  },
  {
   "cell_type": "markdown",
   "metadata": {},
   "source": [
    "## Extract and print the final boosting round metric."
   ]
  },
  {
   "cell_type": "code",
   "execution_count": 245,
   "metadata": {},
   "outputs": [
    {
     "name": "stdout",
     "output_type": "stream",
     "text": [
      "49    0.129944\n",
      "Name: test-rmse-mean, dtype: float64\n"
     ]
    }
   ],
   "source": [
    "print((cv_results[\"test-rmse-mean\"]).tail(1))"
   ]
  },
  {
   "cell_type": "markdown",
   "metadata": {},
   "source": [
    "You can see that your RMSE for the price prediction has reduced as compared to last time and came out to be lower. \n",
    "\n",
    "You can reach an even lower RMSE for a different set of hyper-parameters. You may consider applying techniques like Grid Search, Random Search and Bayesian Optimization to reach the optimal set of hyper-parameters. "
   ]
  },
  {
   "cell_type": "markdown",
   "metadata": {},
   "source": [
    "## Instantiate an XGBoost regressor object"
   ]
  },
  {
   "cell_type": "code",
   "execution_count": 246,
   "metadata": {},
   "outputs": [],
   "source": [
    "xg_reg = xgb.train(params=params, dtrain=data_dmatrix, num_boost_round=10)"
   ]
  },
  {
   "cell_type": "markdown",
   "metadata": {},
   "source": [
    "## Plotting the first tree"
   ]
  },
  {
   "cell_type": "code",
   "execution_count": 247,
   "metadata": {},
   "outputs": [
    {
     "data": {
      "image/png": "[encoded data removed]",
      "text/plain": [
       "<Figure size 1296x432 with 1 Axes>"
      ]
     },
     "metadata": {
      "needs_background": "light"
     },
     "output_type": "display_data"
    }
   ],
   "source": [
    "xgb.plot_tree(xg_reg,num_trees=0)\n",
    "plt.rcParams['figure.figsize'] = [8, 6]\n",
    "plt.show()"
   ]
  },
  {
   "cell_type": "markdown",
   "metadata": {},
   "source": [
    "## Visualize your XGBoost models\n",
    "\n",
    "It's to examine the importance of each feature column in the original dataset within the model."
   ]
  },
  {
   "cell_type": "code",
   "execution_count": 248,
   "metadata": {},
   "outputs": [
    {
     "data": {
      "image/png": "[encoded data removed]",
      "text/plain": [
       "<Figure size 576x432 with 1 Axes>"
      ]
     },
     "metadata": {
      "needs_background": "light"
     },
     "output_type": "display_data"
    }
   ],
   "source": [
    "xgb.plot_importance(xg_reg)\n",
    "plt.rcParams['figure.figsize'] = [18, 6]\n",
    "plt.show()"
   ]
  },
  {
   "cell_type": "markdown",
   "metadata": {},
   "source": [
    "## Instantiate an XGBoost regressor object"
   ]
  },
  {
   "cell_type": "markdown",
   "metadata": {},
   "source": [
    "## Split the data"
   ]
  },
  {
   "cell_type": "code",
   "execution_count": 249,
   "metadata": {},
   "outputs": [],
   "source": [
    "# Define X and y\n",
    "feature_cols = ['Momentum', 'RSI']\n",
    "X = dataset[feature_cols]\n",
    "y = dataset[symbol]"
   ]
  },
  {
   "cell_type": "code",
   "execution_count": 250,
   "metadata": {},
   "outputs": [],
   "source": [
    "# split X and y into training and testing sets\n",
    "X_train, X_test, y_train, y_test = train_test_split(X, y, test_size=0.30, shuffle=False)"
   ]
  },
  {
   "cell_type": "markdown",
   "metadata": {},
   "source": [
    "## Scale data for using reg:logistic\n",
    "If we want use objective = reg: if we want use objective = reg:logistic logistic regression, the label needed to be pre-scaled into [0,1]. logistic regression, the label needed to be pre-scaled into [0,1]."
   ]
  },
  {
   "cell_type": "code",
   "execution_count": 251,
   "metadata": {},
   "outputs": [],
   "source": [
    "X_train_scaled = scaler.fit_transform(X_train)\n",
    "X_test_scaled = scaler.fit_transform(X_test)\n",
    "\n",
    "y_train_scaled = scaler.fit_transform(np.array(y_train).reshape(-1, 1))\n",
    "y_test_scaled = scaler.fit_transform(np.array(y_test).reshape(-1, 1))"
   ]
  },
  {
   "cell_type": "code",
   "execution_count": 252,
   "metadata": {},
   "outputs": [],
   "source": [
    "xg_reg = xgb.XGBRegressor(**params)"
   ]
  },
  {
   "cell_type": "markdown",
   "metadata": {},
   "source": [
    "## Fit the regressor to the training set"
   ]
  },
  {
   "cell_type": "code",
   "execution_count": 262,
   "metadata": {},
   "outputs": [
    {
     "name": "stdout",
     "output_type": "stream",
     "text": [
      "[0]\tvalidation_0-rmse:0.305839\tvalidation_1-rmse:0.247858\n",
      "[1]\tvalidation_0-rmse:0.30177\tvalidation_1-rmse:0.250258\n",
      "[2]\tvalidation_0-rmse:0.298327\tvalidation_1-rmse:0.252821\n",
      "[3]\tvalidation_0-rmse:0.295086\tvalidation_1-rmse:0.255333\n",
      "[4]\tvalidation_0-rmse:0.292567\tvalidation_1-rmse:0.258021\n",
      "[5]\tvalidation_0-rmse:0.290384\tvalidation_1-rmse:0.260285\n",
      "[6]\tvalidation_0-rmse:0.288328\tvalidation_1-rmse:0.262502\n",
      "[7]\tvalidation_0-rmse:0.286517\tvalidation_1-rmse:0.264813\n",
      "[8]\tvalidation_0-rmse:0.2849\tvalidation_1-rmse:0.265009\n",
      "[9]\tvalidation_0-rmse:0.283598\tvalidation_1-rmse:0.267227\n",
      "[10]\tvalidation_0-rmse:0.282524\tvalidation_1-rmse:0.269101\n",
      "[11]\tvalidation_0-rmse:0.281249\tvalidation_1-rmse:0.269471\n",
      "[12]\tvalidation_0-rmse:0.279918\tvalidation_1-rmse:0.269084\n",
      "[13]\tvalidation_0-rmse:0.278722\tvalidation_1-rmse:0.269289\n",
      "[14]\tvalidation_0-rmse:0.277764\tvalidation_1-rmse:0.271148\n",
      "[15]\tvalidation_0-rmse:0.276816\tvalidation_1-rmse:0.270978\n",
      "[16]\tvalidation_0-rmse:0.275955\tvalidation_1-rmse:0.272685\n",
      "[17]\tvalidation_0-rmse:0.275292\tvalidation_1-rmse:0.272457\n",
      "[18]\tvalidation_0-rmse:0.274712\tvalidation_1-rmse:0.272278\n",
      "[19]\tvalidation_0-rmse:0.274165\tvalidation_1-rmse:0.272599\n",
      "[20]\tvalidation_0-rmse:0.273357\tvalidation_1-rmse:0.274114\n",
      "[21]\tvalidation_0-rmse:0.272525\tvalidation_1-rmse:0.275748\n",
      "[22]\tvalidation_0-rmse:0.271785\tvalidation_1-rmse:0.277059\n",
      "[23]\tvalidation_0-rmse:0.27132\tvalidation_1-rmse:0.277281\n",
      "[24]\tvalidation_0-rmse:0.270862\tvalidation_1-rmse:0.278496\n",
      "[25]\tvalidation_0-rmse:0.270413\tvalidation_1-rmse:0.278289\n",
      "[26]\tvalidation_0-rmse:0.269654\tvalidation_1-rmse:0.278665\n",
      "[27]\tvalidation_0-rmse:0.268955\tvalidation_1-rmse:0.279631\n",
      "[28]\tvalidation_0-rmse:0.268579\tvalidation_1-rmse:0.279547\n",
      "[29]\tvalidation_0-rmse:0.268333\tvalidation_1-rmse:0.279986\n",
      "[30]\tvalidation_0-rmse:0.267977\tvalidation_1-rmse:0.28033\n",
      "[31]\tvalidation_0-rmse:0.267319\tvalidation_1-rmse:0.280691\n",
      "[32]\tvalidation_0-rmse:0.266812\tvalidation_1-rmse:0.281124\n",
      "[33]\tvalidation_0-rmse:0.266641\tvalidation_1-rmse:0.281425\n",
      "[34]\tvalidation_0-rmse:0.265721\tvalidation_1-rmse:0.282085\n",
      "[35]\tvalidation_0-rmse:0.264841\tvalidation_1-rmse:0.2832\n",
      "[36]\tvalidation_0-rmse:0.264125\tvalidation_1-rmse:0.283922\n",
      "[37]\tvalidation_0-rmse:0.263538\tvalidation_1-rmse:0.283801\n",
      "[38]\tvalidation_0-rmse:0.263211\tvalidation_1-rmse:0.284626\n",
      "[39]\tvalidation_0-rmse:0.26295\tvalidation_1-rmse:0.285388\n",
      "[40]\tvalidation_0-rmse:0.262558\tvalidation_1-rmse:0.286022\n",
      "[41]\tvalidation_0-rmse:0.262098\tvalidation_1-rmse:0.286322\n",
      "[42]\tvalidation_0-rmse:0.261886\tvalidation_1-rmse:0.286725\n",
      "[43]\tvalidation_0-rmse:0.261032\tvalidation_1-rmse:0.286598\n",
      "[44]\tvalidation_0-rmse:0.260642\tvalidation_1-rmse:0.286909\n",
      "[45]\tvalidation_0-rmse:0.259893\tvalidation_1-rmse:0.286812\n",
      "[46]\tvalidation_0-rmse:0.259688\tvalidation_1-rmse:0.287177\n",
      "[47]\tvalidation_0-rmse:0.25914\tvalidation_1-rmse:0.287001\n",
      "[48]\tvalidation_0-rmse:0.258499\tvalidation_1-rmse:0.287145\n",
      "[49]\tvalidation_0-rmse:0.258296\tvalidation_1-rmse:0.287793\n"
     ]
    },
    {
     "data": {
      "text/plain": [
       "XGBRegressor(alpha=10, base_score=0.5, booster='gbtree', colsample_bylevel=1,\n",
       "       colsample_bytree=0.3, gamma=0, learning_rate=0.1, max_delta_step=0,\n",
       "       max_depth=4, min_child_weight=1, min_samples_split=200,\n",
       "       missing=None, n_estimators=50, n_jobs=1, nthread=None,\n",
       "       objective='reg:logistic', random_state=0, reg_alpha=0, reg_lambda=1,\n",
       "       scale_pos_weight=1, seed=None, silent=1, subsample=1)"
      ]
     },
     "execution_count": 262,
     "metadata": {},
     "output_type": "execute_result"
    }
   ],
   "source": [
    "xg_reg.fit(X_train_scaled,y_train_scaled, eval_set=[(X_train_scaled, y_train_scaled), (X_test_scaled, y_test_scaled)],)"
   ]
  },
  {
   "cell_type": "markdown",
   "metadata": {},
   "source": [
    "## Make predictions on the test set"
   ]
  },
  {
   "cell_type": "code",
   "execution_count": 254,
   "metadata": {},
   "outputs": [],
   "source": [
    "preds = xg_reg.predict(X_test_scaled)"
   ]
  },
  {
   "cell_type": "markdown",
   "metadata": {},
   "source": [
    "## Compute the rmse"
   ]
  },
  {
   "cell_type": "code",
   "execution_count": 255,
   "metadata": {},
   "outputs": [
    {
     "name": "stdout",
     "output_type": "stream",
     "text": [
      "RMSE: 0.287793\n"
     ]
    }
   ],
   "source": [
    "rmse = np.sqrt(mean_squared_error(y_test_scaled, preds))\n",
    "print(\"RMSE: %f\" % (rmse))"
   ]
  },
  {
   "cell_type": "markdown",
   "metadata": {},
   "source": [
    "## Plotting"
   ]
  },
  {
   "cell_type": "markdown",
   "metadata": {},
   "source": [
    "### Standarize data "
   ]
  },
  {
   "cell_type": "code",
   "execution_count": 256,
   "metadata": {},
   "outputs": [],
   "source": [
    "preds = scaler.inverse_transform([preds])\n"
   ]
  },
  {
   "cell_type": "code",
   "execution_count": 257,
   "metadata": {},
   "outputs": [],
   "source": [
    "# Convert array to series\n",
    "mylist = preds.tolist()\n",
    "se = pd.Series(mylist)\n"
   ]
  },
  {
   "cell_type": "code",
   "execution_count": 258,
   "metadata": {},
   "outputs": [],
   "source": [
    "# Create a dataframe for plotting\n",
    "predictions = pd.DataFrame()\n",
    "predictions['Price'] = y_test\n",
    "predictions['Forecast'] = se[0]\n"
   ]
  },
  {
   "cell_type": "code",
   "execution_count": 259,
   "metadata": {},
   "outputs": [
    {
     "data": {
      "image/png": "[encoded data removed]",
      "text/plain": [
       "<Figure size 1152x576 with 1 Axes>"
      ]
     },
     "metadata": {
      "needs_background": "light"
     },
     "output_type": "display_data"
    }
   ],
   "source": [
    "plt.figure(figsize=(16,8))\n",
    "plt.plot(predictions)\n",
    "plt.xlabel('Date')\n",
    "plt.ylabel(\"Price\")\n",
    "plt.legend([\"Real Price\", \"Prediction\"])\n",
    "plt.show()"
   ]
  },
  {
   "cell_type": "markdown",
   "metadata": {},
   "source": [
    "# Save model"
   ]
  },
  {
   "cell_type": "code",
   "execution_count": 342,
   "metadata": {},
   "outputs": [
    {
     "name": "stdout",
     "output_type": "stream",
     "text": [
      "Pickling sklearn API models\n"
     ]
    }
   ],
   "source": [
    "# save model to file\n",
    "#joblib.dump(model, \"./xgboost.dat\")\n",
    "# The sklearn API models are picklable\n",
    "print(\"Pickling sklearn API models\")\n",
    "# must open in binary format to pickle\n",
    "pickle.dump(xg_reg, open(\"./xgboost.pkl\", \"wb\"))"
   ]
  },
  {
   "cell_type": "code",
   "execution_count": null,
   "metadata": {},
   "outputs": [],
   "source": []
  },
  {
   "cell_type": "markdown",
   "metadata": {},
   "source": [
    "# Compute indicators from TA library"
   ]
  },
  {
   "cell_type": "markdown",
   "metadata": {},
   "source": [
    "## Import dataset"
   ]
  },
  {
   "cell_type": "code",
   "execution_count": 338,
   "metadata": {},
   "outputs": [
    {
     "name": "stdout",
     "output_type": "stream",
     "text": [
      "[*********************100%***********************]  1 of 1 downloaded\n"
     ]
    }
   ],
   "source": [
    "yesterday = dt.date.today() - dt.timedelta(1)\n",
    "portf_value = fetchOnlineData(start_d, symbol, yesterday, del_cols=False)"
   ]
  },
  {
   "cell_type": "code",
   "execution_count": 339,
   "metadata": {},
   "outputs": [],
   "source": [
    "df = add_all_ta_features(portf_value, \"Open\", \"High\", \"Low\", \"Close\", \"Volume\", fillna=True)"
   ]
  },
  {
   "cell_type": "markdown",
   "metadata": {},
   "source": [
    "## Changing index and columns"
   ]
  },
  {
   "cell_type": "code",
   "execution_count": 340,
   "metadata": {},
   "outputs": [],
   "source": [
    "df.reset_index(inplace=True)\n",
    "del df['Date']\n",
    "del df['Open']\n",
    "del df['High']\n",
    "del df['Low']\n",
    "del df['Close']\n",
    "del df['Volume']\n",
    "\n",
    "df.rename(columns={'Adj Close': 'Adj_Close'}, inplace=True)"
   ]
  },
  {
   "cell_type": "code",
   "execution_count": 341,
   "metadata": {},
   "outputs": [
    {
     "name": "stdout",
     "output_type": "stream",
     "text": [
      "<class 'pandas.core.frame.DataFrame'>\n",
      "RangeIndex: 688 entries, 0 to 687\n",
      "Data columns (total 60 columns):\n",
      "Adj_Close                  688 non-null float64\n",
      "volume_adi                 688 non-null float64\n",
      "volume_obv                 688 non-null int64\n",
      "volume_obvm                688 non-null float64\n",
      "volume_cmf                 688 non-null float64\n",
      "volume_fi                  688 non-null float64\n",
      "volume_em                  688 non-null float64\n",
      "volume_vpt                 688 non-null float64\n",
      "volume_nvi                 688 non-null float64\n",
      "volatility_atr             688 non-null float64\n",
      "volatility_bbh             688 non-null float64\n",
      "volatility_bbl             688 non-null float64\n",
      "volatility_bbm             688 non-null float64\n",
      "volatility_bbhi            688 non-null float64\n",
      "volatility_bbli            688 non-null float64\n",
      "volatility_kcc             688 non-null float64\n",
      "volatility_kch             688 non-null float64\n",
      "volatility_kcl             688 non-null float64\n",
      "volatility_kchi            688 non-null float64\n",
      "volatility_kcli            688 non-null float64\n",
      "volatility_dch             688 non-null float64\n",
      "volatility_dcl             688 non-null float64\n",
      "volatility_dchi            688 non-null float64\n",
      "volatility_dcli            688 non-null float64\n",
      "trend_macd                 688 non-null float64\n",
      "trend_macd_signal          688 non-null float64\n",
      "trend_macd_diff            688 non-null float64\n",
      "trend_ema_fast             688 non-null float64\n",
      "trend_ema_slow             688 non-null float64\n",
      "trend_adx                  688 non-null float64\n",
      "trend_adx_pos              688 non-null float64\n",
      "trend_adx_neg              688 non-null float64\n",
      "trend_vortex_ind_pos       688 non-null float64\n",
      "trend_vortex_ind_neg       688 non-null float64\n",
      "trend_vortex_diff          688 non-null float64\n",
      "trend_trix                 688 non-null float64\n",
      "trend_mass_index           688 non-null float64\n",
      "trend_cci                  688 non-null float64\n",
      "trend_dpo                  688 non-null float64\n",
      "trend_kst                  688 non-null float64\n",
      "trend_kst_sig              688 non-null float64\n",
      "trend_kst_diff             688 non-null float64\n",
      "trend_ichimoku_a           688 non-null float64\n",
      "trend_ichimoku_b           688 non-null float64\n",
      "trend_visual_ichimoku_a    688 non-null float64\n",
      "trend_visual_ichimoku_b    688 non-null float64\n",
      "trend_aroon_up             688 non-null float64\n",
      "trend_aroon_down           688 non-null float64\n",
      "trend_aroon_ind            688 non-null float64\n",
      "momentum_rsi               688 non-null float64\n",
      "momentum_mfi               688 non-null float64\n",
      "momentum_tsi               688 non-null float64\n",
      "momentum_uo                688 non-null float64\n",
      "momentum_stoch             688 non-null float64\n",
      "momentum_stoch_signal      688 non-null float64\n",
      "momentum_wr                688 non-null float64\n",
      "momentum_ao                688 non-null float64\n",
      "others_dr                  688 non-null float64\n",
      "others_dlr                 688 non-null float64\n",
      "others_cr                  688 non-null float64\n",
      "dtypes: float64(59), int64(1)\n",
      "memory usage: 322.6 KB\n"
     ]
    }
   ],
   "source": [
    "df.info()"
   ]
  },
  {
   "cell_type": "code",
   "execution_count": 328,
   "metadata": {},
   "outputs": [
    {
     "data": {
      "text/html": [
       "<div>\n",
       "<style scoped>\n",
       "    .dataframe tbody tr th:only-of-type {\n",
       "        vertical-align: middle;\n",
       "    }\n",
       "\n",
       "    .dataframe tbody tr th {\n",
       "        vertical-align: top;\n",
       "    }\n",
       "\n",
       "    .dataframe thead th {\n",
       "        text-align: right;\n",
       "    }\n",
       "</style>\n",
       "<table border=\"1\" class=\"dataframe\">\n",
       "  <thead>\n",
       "    <tr style=\"text-align: right;\">\n",
       "      <th></th>\n",
       "      <th>Adj Close</th>\n",
       "      <th>volume_adi</th>\n",
       "      <th>volume_obv</th>\n",
       "      <th>volume_obvm</th>\n",
       "      <th>volume_cmf</th>\n",
       "      <th>volume_fi</th>\n",
       "      <th>volume_em</th>\n",
       "      <th>volume_vpt</th>\n",
       "      <th>volume_nvi</th>\n",
       "      <th>volatility_atr</th>\n",
       "      <th>...</th>\n",
       "      <th>momentum_mfi</th>\n",
       "      <th>momentum_tsi</th>\n",
       "      <th>momentum_uo</th>\n",
       "      <th>momentum_stoch</th>\n",
       "      <th>momentum_stoch_signal</th>\n",
       "      <th>momentum_wr</th>\n",
       "      <th>momentum_ao</th>\n",
       "      <th>others_dr</th>\n",
       "      <th>others_dlr</th>\n",
       "      <th>others_cr</th>\n",
       "    </tr>\n",
       "  </thead>\n",
       "  <tbody>\n",
       "    <tr>\n",
       "      <th>0</th>\n",
       "      <td>37.939999</td>\n",
       "      <td>0.000000e+00</td>\n",
       "      <td>0</td>\n",
       "      <td>0.0</td>\n",
       "      <td>0.0</td>\n",
       "      <td>0.0000</td>\n",
       "      <td>0.0</td>\n",
       "      <td>0.000000</td>\n",
       "      <td>1000.000000</td>\n",
       "      <td>1.358163</td>\n",
       "      <td>...</td>\n",
       "      <td>50.0</td>\n",
       "      <td>0.000000</td>\n",
       "      <td>50.0</td>\n",
       "      <td>50.0</td>\n",
       "      <td>50.0</td>\n",
       "      <td>-50.0</td>\n",
       "      <td>0.0</td>\n",
       "      <td>0.000000</td>\n",
       "      <td>0.000000</td>\n",
       "      <td>0.000000</td>\n",
       "    </tr>\n",
       "    <tr>\n",
       "      <th>1</th>\n",
       "      <td>36.650002</td>\n",
       "      <td>-1.213589e+07</td>\n",
       "      <td>-22177600</td>\n",
       "      <td>0.0</td>\n",
       "      <td>0.0</td>\n",
       "      <td>0.0000</td>\n",
       "      <td>0.0</td>\n",
       "      <td>0.000000</td>\n",
       "      <td>1000.000000</td>\n",
       "      <td>1.359723</td>\n",
       "      <td>...</td>\n",
       "      <td>50.0</td>\n",
       "      <td>-100.000000</td>\n",
       "      <td>50.0</td>\n",
       "      <td>50.0</td>\n",
       "      <td>50.0</td>\n",
       "      <td>-50.0</td>\n",
       "      <td>0.0</td>\n",
       "      <td>-3.400098</td>\n",
       "      <td>-3.459246</td>\n",
       "      <td>-3.400098</td>\n",
       "    </tr>\n",
       "    <tr>\n",
       "      <th>2</th>\n",
       "      <td>37.150002</td>\n",
       "      <td>-9.298258e+06</td>\n",
       "      <td>12155200</td>\n",
       "      <td>0.0</td>\n",
       "      <td>0.0</td>\n",
       "      <td>567533.8448</td>\n",
       "      <td>0.0</td>\n",
       "      <td>-588231.953369</td>\n",
       "      <td>1013.642564</td>\n",
       "      <td>1.308314</td>\n",
       "      <td>...</td>\n",
       "      <td>50.0</td>\n",
       "      <td>-75.550237</td>\n",
       "      <td>50.0</td>\n",
       "      <td>50.0</td>\n",
       "      <td>50.0</td>\n",
       "      <td>-50.0</td>\n",
       "      <td>0.0</td>\n",
       "      <td>1.364256</td>\n",
       "      <td>1.355034</td>\n",
       "      <td>-2.082227</td>\n",
       "    </tr>\n",
       "    <tr>\n",
       "      <th>3</th>\n",
       "      <td>36.599998</td>\n",
       "      <td>1.390902e+06</td>\n",
       "      <td>-12059100</td>\n",
       "      <td>0.0</td>\n",
       "      <td>0.0</td>\n",
       "      <td>505965.4740</td>\n",
       "      <td>0.0</td>\n",
       "      <td>-12706.303194</td>\n",
       "      <td>998.635634</td>\n",
       "      <td>1.261292</td>\n",
       "      <td>...</td>\n",
       "      <td>50.0</td>\n",
       "      <td>-70.200242</td>\n",
       "      <td>50.0</td>\n",
       "      <td>50.0</td>\n",
       "      <td>50.0</td>\n",
       "      <td>-50.0</td>\n",
       "      <td>0.0</td>\n",
       "      <td>-1.480495</td>\n",
       "      <td>-1.491564</td>\n",
       "      <td>-3.531895</td>\n",
       "    </tr>\n",
       "    <tr>\n",
       "      <th>4</th>\n",
       "      <td>37.070000</td>\n",
       "      <td>-2.901046e+06</td>\n",
       "      <td>8426100</td>\n",
       "      <td>0.0</td>\n",
       "      <td>0.0</td>\n",
       "      <td>298335.4582</td>\n",
       "      <td>0.0</td>\n",
       "      <td>-70329.915080</td>\n",
       "      <td>1011.459699</td>\n",
       "      <td>1.219771</td>\n",
       "      <td>...</td>\n",
       "      <td>50.0</td>\n",
       "      <td>-61.210221</td>\n",
       "      <td>50.0</td>\n",
       "      <td>50.0</td>\n",
       "      <td>50.0</td>\n",
       "      <td>-50.0</td>\n",
       "      <td>0.0</td>\n",
       "      <td>1.284159</td>\n",
       "      <td>1.275983</td>\n",
       "      <td>-2.293092</td>\n",
       "    </tr>\n",
       "  </tbody>\n",
       "</table>\n",
       "<p>5 rows × 60 columns</p>\n",
       "</div>"
      ],
      "text/plain": [
       "   Adj Close    volume_adi  volume_obv  volume_obvm  volume_cmf    volume_fi  \\\n",
       "0  37.939999  0.000000e+00           0          0.0         0.0       0.0000   \n",
       "1  36.650002 -1.213589e+07   -22177600          0.0         0.0       0.0000   \n",
       "2  37.150002 -9.298258e+06    12155200          0.0         0.0  567533.8448   \n",
       "3  36.599998  1.390902e+06   -12059100          0.0         0.0  505965.4740   \n",
       "4  37.070000 -2.901046e+06     8426100          0.0         0.0  298335.4582   \n",
       "\n",
       "   volume_em     volume_vpt   volume_nvi  volatility_atr    ...      \\\n",
       "0        0.0       0.000000  1000.000000        1.358163    ...       \n",
       "1        0.0       0.000000  1000.000000        1.359723    ...       \n",
       "2        0.0 -588231.953369  1013.642564        1.308314    ...       \n",
       "3        0.0  -12706.303194   998.635634        1.261292    ...       \n",
       "4        0.0  -70329.915080  1011.459699        1.219771    ...       \n",
       "\n",
       "   momentum_mfi  momentum_tsi  momentum_uo  momentum_stoch  \\\n",
       "0          50.0      0.000000         50.0            50.0   \n",
       "1          50.0   -100.000000         50.0            50.0   \n",
       "2          50.0    -75.550237         50.0            50.0   \n",
       "3          50.0    -70.200242         50.0            50.0   \n",
       "4          50.0    -61.210221         50.0            50.0   \n",
       "\n",
       "   momentum_stoch_signal  momentum_wr  momentum_ao  others_dr  others_dlr  \\\n",
       "0                   50.0        -50.0          0.0   0.000000    0.000000   \n",
       "1                   50.0        -50.0          0.0  -3.400098   -3.459246   \n",
       "2                   50.0        -50.0          0.0   1.364256    1.355034   \n",
       "3                   50.0        -50.0          0.0  -1.480495   -1.491564   \n",
       "4                   50.0        -50.0          0.0   1.284159    1.275983   \n",
       "\n",
       "   others_cr  \n",
       "0   0.000000  \n",
       "1  -3.400098  \n",
       "2  -2.082227  \n",
       "3  -3.531895  \n",
       "4  -2.293092  \n",
       "\n",
       "[5 rows x 60 columns]"
      ]
     },
     "execution_count": 328,
     "metadata": {},
     "output_type": "execute_result"
    }
   ],
   "source": [
    "df.head()"
   ]
  },
  {
   "cell_type": "markdown",
   "metadata": {},
   "source": [
    "## Correlation matrix"
   ]
  },
  {
   "cell_type": "code",
   "execution_count": 342,
   "metadata": {},
   "outputs": [
    {
     "data": {
      "image/png": "[encoded data removed]",
      "text/plain": [
       "<Figure size 864x720 with 2 Axes>"
      ]
     },
     "metadata": {},
     "output_type": "display_data"
    }
   ],
   "source": [
    "# Adj Close correlation matrix\n",
    "corrmat = df.corr()\n",
    "k = 10 #number of variables for heatmap\n",
    "cols = corrmat.nlargest(k, 'Adj_Close')['Adj_Close'].index\n",
    "cm = np.corrcoef(df[cols].values.T)\n",
    "f, ax = plt.subplots(figsize =(12, 10)) \n",
    "sns.heatmap(cm, ax = ax, cmap =\"YlGnBu\", \n",
    "            linewidths = 0.1, yticklabels = cols.values,  \n",
    "                              xticklabels = cols.values) \n",
    "plt.show()"
   ]
  },
  {
   "cell_type": "markdown",
   "metadata": {},
   "source": [
    "## Indicators to use\n",
    "\n",
    "* others_cr: Cumulative Return.\n",
    "* trend_ema_fast: Fast Exponential Moving Averages (EMA) \n",
    "* volatility_kcl: Keltner Channel"
   ]
  },
  {
   "cell_type": "markdown",
   "metadata": {},
   "source": [
    "### Create a dataframe with indicators to use"
   ]
  },
  {
   "cell_type": "code",
   "execution_count": 348,
   "metadata": {},
   "outputs": [],
   "source": [
    "dataset = df[['Adj_Close', 'others_cr', 'trend_ema_fast', 'volatility_kcl']].copy()"
   ]
  },
  {
   "cell_type": "markdown",
   "metadata": {},
   "source": [
    "## Scale data for using reg:logistic\n",
    "If we want use objective = reg: if we want use objective = reg:logistic logistic regression, the label needed to be pre-scaled into [0,1]. logistic regression, the label needed to be pre-scaled into [0,1]."
   ]
  },
  {
   "cell_type": "code",
   "execution_count": 350,
   "metadata": {},
   "outputs": [],
   "source": [
    "# Scale the dataset\n",
    "scaler = MinMaxScaler(feature_range=(0, 1))\n",
    "np_scaled = scaler.fit_transform(dataset)\n",
    "dataset_normalized = pd.DataFrame(np_scaled)"
   ]
  },
  {
   "cell_type": "markdown",
   "metadata": {},
   "source": [
    "## Setup the Target variable or the desired output."
   ]
  },
  {
   "cell_type": "code",
   "execution_count": 351,
   "metadata": {},
   "outputs": [],
   "source": [
    "X, y = dataset_normalized.iloc[:,:-1], dataset_normalized.iloc[:,-1]"
   ]
  },
  {
   "cell_type": "markdown",
   "metadata": {},
   "source": [
    "## Create XGBoost DMatrix structure"
   ]
  },
  {
   "cell_type": "code",
   "execution_count": 353,
   "metadata": {},
   "outputs": [],
   "source": [
    "data_dmatrix = xgb.DMatrix(data=X,label=y)"
   ]
  },
  {
   "cell_type": "markdown",
   "metadata": {},
   "source": [
    "## Optimize parameters"
   ]
  },
  {
   "cell_type": "code",
   "execution_count": 354,
   "metadata": {},
   "outputs": [
    {
     "name": "stdout",
     "output_type": "stream",
     "text": [
      "Parameter optimization\n",
      "Fitting 3 folds for each of 27 candidates, totalling 81 fits\n",
      "Best Score:  -0.6926093590457933\n",
      "Best params:  {'learning_rate': 0.5, 'max_depth': 4, 'min_samples_split': 200, 'n_estimators': 100}\n"
     ]
    },
    {
     "name": "stderr",
     "output_type": "stream",
     "text": [
      "[Parallel(n_jobs=1)]: Done  81 out of  81 | elapsed:    4.6s finished\n"
     ]
    }
   ],
   "source": [
    "print(\"Parameter optimization\")\n",
    "\n",
    "xgb_model = xgb.XGBRegressor()\n",
    "clf = GridSearchCV(xgb_model,\n",
    "                   {'max_depth': [2,4,6],\n",
    "                    'n_estimators': [50,100,200],\n",
    "                    'learning_rate': [0.01, 0.1, 0.5],\n",
    "                    'min_samples_split':range(200,1001,2000)}, verbose=1)\n",
    "clf.fit(X,y)\n",
    "print('Best Score: ', clf.best_score_)\n",
    "print('Best params: ', clf.best_params_)"
   ]
  },
  {
   "cell_type": "markdown",
   "metadata": {},
   "source": [
    "## Create a hyper-parameter dictionary\n",
    "\n",
    "We will create a hyper-parameter dictionary params which holds all the hyper-parameters and their values as key-value pairs but will exclude the n_estimators from the hyper-parameter dictionary because you will use num_boost_rounds instead."
   ]
  },
  {
   "cell_type": "code",
   "execution_count": 355,
   "metadata": {},
   "outputs": [],
   "source": [
    "params = {'silent':1,\n",
    "          \"objective\":\"reg:logistic\",\n",
    "          'colsample_bytree': 0.3,\n",
    "          'learning_rate': 0.1,\n",
    "          'max_depth': 4,\n",
    "          'alpha': 10,\n",
    "          'min_samples_split': 200,\n",
    "          'n_estimators': 100}"
   ]
  },
  {
   "cell_type": "markdown",
   "metadata": {},
   "source": [
    "We will use these parameters to build a x-fold cross validation model by invoking XGBoost's cv() method and store the results in a cv_results DataFrame. Note that here you are using the Dmatrix object you created before."
   ]
  },
  {
   "cell_type": "code",
   "execution_count": 356,
   "metadata": {},
   "outputs": [],
   "source": [
    "cv_results = xgb.cv(verbose_eval=False,\n",
    "                    dtrain=data_dmatrix, \n",
    "                    params=params, \n",
    "                    nfold=10,\n",
    "                    num_boost_round=50,\n",
    "                    early_stopping_rounds=10,\n",
    "                    metrics=\"rmse\", \n",
    "                    as_pandas=True, \n",
    "                    seed=123,)"
   ]
  },
  {
   "cell_type": "markdown",
   "metadata": {},
   "source": [
    "## cv_results contains train and test RMSE metrics for each boosting round."
   ]
  },
  {
   "cell_type": "code",
   "execution_count": 357,
   "metadata": {},
   "outputs": [
    {
     "data": {
      "text/html": [
       "<div>\n",
       "<style scoped>\n",
       "    .dataframe tbody tr th:only-of-type {\n",
       "        vertical-align: middle;\n",
       "    }\n",
       "\n",
       "    .dataframe tbody tr th {\n",
       "        vertical-align: top;\n",
       "    }\n",
       "\n",
       "    .dataframe thead th {\n",
       "        text-align: right;\n",
       "    }\n",
       "</style>\n",
       "<table border=\"1\" class=\"dataframe\">\n",
       "  <thead>\n",
       "    <tr style=\"text-align: right;\">\n",
       "      <th></th>\n",
       "      <th>train-rmse-mean</th>\n",
       "      <th>train-rmse-std</th>\n",
       "      <th>test-rmse-mean</th>\n",
       "      <th>test-rmse-std</th>\n",
       "    </tr>\n",
       "  </thead>\n",
       "  <tbody>\n",
       "    <tr>\n",
       "      <th>0</th>\n",
       "      <td>0.281086</td>\n",
       "      <td>0.001424</td>\n",
       "      <td>0.280853</td>\n",
       "      <td>0.014026</td>\n",
       "    </tr>\n",
       "    <tr>\n",
       "      <th>1</th>\n",
       "      <td>0.259767</td>\n",
       "      <td>0.001320</td>\n",
       "      <td>0.259508</td>\n",
       "      <td>0.013636</td>\n",
       "    </tr>\n",
       "    <tr>\n",
       "      <th>2</th>\n",
       "      <td>0.240782</td>\n",
       "      <td>0.001185</td>\n",
       "      <td>0.240598</td>\n",
       "      <td>0.013357</td>\n",
       "    </tr>\n",
       "    <tr>\n",
       "      <th>3</th>\n",
       "      <td>0.223645</td>\n",
       "      <td>0.001092</td>\n",
       "      <td>0.223520</td>\n",
       "      <td>0.013016</td>\n",
       "    </tr>\n",
       "    <tr>\n",
       "      <th>4</th>\n",
       "      <td>0.208332</td>\n",
       "      <td>0.000999</td>\n",
       "      <td>0.208232</td>\n",
       "      <td>0.012861</td>\n",
       "    </tr>\n",
       "  </tbody>\n",
       "</table>\n",
       "</div>"
      ],
      "text/plain": [
       "   train-rmse-mean  train-rmse-std  test-rmse-mean  test-rmse-std\n",
       "0         0.281086        0.001424        0.280853       0.014026\n",
       "1         0.259767        0.001320        0.259508       0.013636\n",
       "2         0.240782        0.001185        0.240598       0.013357\n",
       "3         0.223645        0.001092        0.223520       0.013016\n",
       "4         0.208332        0.000999        0.208232       0.012861"
      ]
     },
     "execution_count": 357,
     "metadata": {},
     "output_type": "execute_result"
    }
   ],
   "source": [
    "cv_results.head()"
   ]
  },
  {
   "cell_type": "code",
   "execution_count": 358,
   "metadata": {},
   "outputs": [
    {
     "data": {
      "image/png": "[encoded data removed]",
      "text/plain": [
       "<Figure size 1152x576 with 1 Axes>"
      ]
     },
     "metadata": {},
     "output_type": "display_data"
    }
   ],
   "source": [
    "plt.figure(figsize=(16,8))\n",
    "plt.plot(cv_results)\n",
    "plt.xlabel('Boosting round')\n",
    "plt.ylabel(\"RMSE\")\n",
    "plt.legend([\"Train mean\", \"Train std.\", \"Test mean\", \"Test std.\"])\n",
    "plt.show()"
   ]
  },
  {
   "cell_type": "markdown",
   "metadata": {},
   "source": [
    "## Extract and print the final boosting round metric."
   ]
  },
  {
   "cell_type": "code",
   "execution_count": 359,
   "metadata": {},
   "outputs": [
    {
     "name": "stdout",
     "output_type": "stream",
     "text": [
      "49    0.068039\n",
      "Name: test-rmse-mean, dtype: float64\n"
     ]
    }
   ],
   "source": [
    "print((cv_results[\"test-rmse-mean\"]).tail(1))"
   ]
  },
  {
   "cell_type": "markdown",
   "metadata": {},
   "source": [
    "You can see that your RMSE for the price prediction has reduced as compared to last time and came out to be lower. \n",
    "\n",
    "You can reach an even lower RMSE for a different set of hyper-parameters. You may consider applying techniques like Grid Search, Random Search and Bayesian Optimization to reach the optimal set of hyper-parameters. "
   ]
  },
  {
   "cell_type": "markdown",
   "metadata": {},
   "source": [
    "## Instantiate an XGBoost regressor object"
   ]
  },
  {
   "cell_type": "code",
   "execution_count": 360,
   "metadata": {},
   "outputs": [],
   "source": [
    "xg_reg = xgb.train(params=params, dtrain=data_dmatrix, num_boost_round=10)"
   ]
  },
  {
   "cell_type": "markdown",
   "metadata": {},
   "source": [
    "## Plotting the first tree"
   ]
  },
  {
   "cell_type": "code",
   "execution_count": 361,
   "metadata": {},
   "outputs": [
    {
     "data": {
      "image/png": "[encoded data removed]",
      "text/plain": [
       "<Figure size 432x288 with 1 Axes>"
      ]
     },
     "metadata": {},
     "output_type": "display_data"
    }
   ],
   "source": [
    "xgb.plot_tree(xg_reg,num_trees=0)\n",
    "plt.rcParams['figure.figsize'] = [8, 6]\n",
    "plt.show()"
   ]
  },
  {
   "cell_type": "markdown",
   "metadata": {},
   "source": [
    "## Visualize your XGBoost models\n",
    "\n",
    "It's to examine the importance of each feature column in the original dataset within the model."
   ]
  },
  {
   "cell_type": "code",
   "execution_count": 362,
   "metadata": {},
   "outputs": [
    {
     "data": {
      "image/png": "[encoded data removed]",
      "text/plain": [
       "<Figure size 576x432 with 1 Axes>"
      ]
     },
     "metadata": {},
     "output_type": "display_data"
    }
   ],
   "source": [
    "xgb.plot_importance(xg_reg)\n",
    "plt.rcParams['figure.figsize'] = [18, 6]\n",
    "plt.show()"
   ]
  },
  {
   "cell_type": "markdown",
   "metadata": {},
   "source": [
    "## Instantiate an XGBoost regressor object"
   ]
  },
  {
   "cell_type": "markdown",
   "metadata": {},
   "source": [
    "## Split the data"
   ]
  },
  {
   "cell_type": "code",
   "execution_count": 363,
   "metadata": {},
   "outputs": [],
   "source": [
    "# Define X and y\n",
    "feature_cols = ['others_cr', 'trend_ema_fast', 'volatility_kcl']\n",
    "X = dataset[feature_cols]\n",
    "y = dataset['Adj_Close']"
   ]
  },
  {
   "cell_type": "code",
   "execution_count": 364,
   "metadata": {},
   "outputs": [],
   "source": [
    "# split X and y into training and testing sets\n",
    "X_train, X_test, y_train, y_test = train_test_split(X, y, test_size=0.30, shuffle=False)"
   ]
  },
  {
   "cell_type": "markdown",
   "metadata": {},
   "source": [
    "## Scale data for using reg:logistic\n",
    "If we want use objective = reg: if we want use objective = reg:logistic logistic regression, the label needed to be pre-scaled into [0,1]. logistic regression, the label needed to be pre-scaled into [0,1]."
   ]
  },
  {
   "cell_type": "code",
   "execution_count": 365,
   "metadata": {},
   "outputs": [],
   "source": [
    "X_train_scaled = scaler.fit_transform(X_train)\n",
    "X_test_scaled = scaler.fit_transform(X_test)\n",
    "\n",
    "y_train_scaled = scaler.fit_transform(np.array(y_train).reshape(-1, 1))\n",
    "y_test_scaled = scaler.fit_transform(np.array(y_test).reshape(-1, 1))"
   ]
  },
  {
   "cell_type": "code",
   "execution_count": 366,
   "metadata": {},
   "outputs": [],
   "source": [
    "xg_reg = xgb.XGBRegressor(**params)"
   ]
  },
  {
   "cell_type": "markdown",
   "metadata": {},
   "source": [
    "## Fit the regressor to the training set"
   ]
  },
  {
   "cell_type": "code",
   "execution_count": 367,
   "metadata": {},
   "outputs": [
    {
     "name": "stdout",
     "output_type": "stream",
     "text": [
      "[0]\tvalidation_0-rmse:0.280991\tvalidation_1-rmse:0.223318\n",
      "[1]\tvalidation_0-rmse:0.254708\tvalidation_1-rmse:0.203285\n",
      "[2]\tvalidation_0-rmse:0.231065\tvalidation_1-rmse:0.184731\n",
      "[3]\tvalidation_0-rmse:0.209744\tvalidation_1-rmse:0.168066\n",
      "[4]\tvalidation_0-rmse:0.190607\tvalidation_1-rmse:0.153312\n",
      "[5]\tvalidation_0-rmse:0.17321\tvalidation_1-rmse:0.139686\n",
      "[6]\tvalidation_0-rmse:0.157621\tvalidation_1-rmse:0.128181\n",
      "[7]\tvalidation_0-rmse:0.143527\tvalidation_1-rmse:0.117698\n",
      "[8]\tvalidation_0-rmse:0.13078\tvalidation_1-rmse:0.108597\n",
      "[9]\tvalidation_0-rmse:0.119285\tvalidation_1-rmse:0.100271\n",
      "[10]\tvalidation_0-rmse:0.108657\tvalidation_1-rmse:0.091867\n",
      "[11]\tvalidation_0-rmse:0.099029\tvalidation_1-rmse:0.08425\n",
      "[12]\tvalidation_0-rmse:0.090307\tvalidation_1-rmse:0.077405\n",
      "[13]\tvalidation_0-rmse:0.082399\tvalidation_1-rmse:0.071156\n",
      "[14]\tvalidation_0-rmse:0.075448\tvalidation_1-rmse:0.066611\n",
      "[15]\tvalidation_0-rmse:0.069194\tvalidation_1-rmse:0.062697\n",
      "[16]\tvalidation_0-rmse:0.063549\tvalidation_1-rmse:0.059293\n",
      "[17]\tvalidation_0-rmse:0.058219\tvalidation_1-rmse:0.055428\n",
      "[18]\tvalidation_0-rmse:0.053653\tvalidation_1-rmse:0.053137\n",
      "[19]\tvalidation_0-rmse:0.049296\tvalidation_1-rmse:0.049922\n",
      "[20]\tvalidation_0-rmse:0.045341\tvalidation_1-rmse:0.0471\n",
      "[21]\tvalidation_0-rmse:0.041764\tvalidation_1-rmse:0.044576\n",
      "[22]\tvalidation_0-rmse:0.038706\tvalidation_1-rmse:0.043236\n",
      "[23]\tvalidation_0-rmse:0.035771\tvalidation_1-rmse:0.041259\n",
      "[24]\tvalidation_0-rmse:0.033288\tvalidation_1-rmse:0.040404\n",
      "[25]\tvalidation_0-rmse:0.03086\tvalidation_1-rmse:0.038909\n",
      "[26]\tvalidation_0-rmse:0.028877\tvalidation_1-rmse:0.038405\n",
      "[27]\tvalidation_0-rmse:0.026859\tvalidation_1-rmse:0.037228\n",
      "[28]\tvalidation_0-rmse:0.02529\tvalidation_1-rmse:0.037011\n",
      "[29]\tvalidation_0-rmse:0.023883\tvalidation_1-rmse:0.036797\n",
      "[30]\tvalidation_0-rmse:0.022649\tvalidation_1-rmse:0.036736\n",
      "[31]\tvalidation_0-rmse:0.021269\tvalidation_1-rmse:0.035977\n",
      "[32]\tvalidation_0-rmse:0.020305\tvalidation_1-rmse:0.035979\n",
      "[33]\tvalidation_0-rmse:0.019463\tvalidation_1-rmse:0.036014\n",
      "[34]\tvalidation_0-rmse:0.018733\tvalidation_1-rmse:0.036067\n",
      "[35]\tvalidation_0-rmse:0.018095\tvalidation_1-rmse:0.036143\n",
      "[36]\tvalidation_0-rmse:0.017546\tvalidation_1-rmse:0.0362\n",
      "[37]\tvalidation_0-rmse:0.016742\tvalidation_1-rmse:0.035763\n",
      "[38]\tvalidation_0-rmse:0.016023\tvalidation_1-rmse:0.035381\n",
      "[39]\tvalidation_0-rmse:0.015382\tvalidation_1-rmse:0.035053\n",
      "[40]\tvalidation_0-rmse:0.014991\tvalidation_1-rmse:0.035094\n",
      "[41]\tvalidation_0-rmse:0.014641\tvalidation_1-rmse:0.03514\n",
      "[42]\tvalidation_0-rmse:0.01439\tvalidation_1-rmse:0.035234\n",
      "[43]\tvalidation_0-rmse:0.01412\tvalidation_1-rmse:0.035261\n",
      "[44]\tvalidation_0-rmse:0.013689\tvalidation_1-rmse:0.034995\n",
      "[45]\tvalidation_0-rmse:0.01352\tvalidation_1-rmse:0.035083\n",
      "[46]\tvalidation_0-rmse:0.013329\tvalidation_1-rmse:0.035117\n",
      "[47]\tvalidation_0-rmse:0.013164\tvalidation_1-rmse:0.035148\n",
      "[48]\tvalidation_0-rmse:0.013014\tvalidation_1-rmse:0.035191\n",
      "[49]\tvalidation_0-rmse:0.012918\tvalidation_1-rmse:0.035252\n",
      "[50]\tvalidation_0-rmse:0.012832\tvalidation_1-rmse:0.035312\n",
      "[51]\tvalidation_0-rmse:0.012726\tvalidation_1-rmse:0.035338\n",
      "[52]\tvalidation_0-rmse:0.012441\tvalidation_1-rmse:0.035154\n",
      "[53]\tvalidation_0-rmse:0.012353\tvalidation_1-rmse:0.035183\n",
      "[54]\tvalidation_0-rmse:0.012277\tvalidation_1-rmse:0.035204\n",
      "[55]\tvalidation_0-rmse:0.012209\tvalidation_1-rmse:0.035226\n",
      "[56]\tvalidation_0-rmse:0.011975\tvalidation_1-rmse:0.035099\n",
      "[57]\tvalidation_0-rmse:0.011931\tvalidation_1-rmse:0.035124\n",
      "[58]\tvalidation_0-rmse:0.01189\tvalidation_1-rmse:0.035142\n",
      "[59]\tvalidation_0-rmse:0.011856\tvalidation_1-rmse:0.035164\n",
      "[60]\tvalidation_0-rmse:0.011826\tvalidation_1-rmse:0.03519\n",
      "[61]\tvalidation_0-rmse:0.011799\tvalidation_1-rmse:0.035205\n",
      "[62]\tvalidation_0-rmse:0.011767\tvalidation_1-rmse:0.035226\n",
      "[63]\tvalidation_0-rmse:0.011746\tvalidation_1-rmse:0.035242\n",
      "[64]\tvalidation_0-rmse:0.011728\tvalidation_1-rmse:0.035252\n",
      "[65]\tvalidation_0-rmse:0.011711\tvalidation_1-rmse:0.035266\n",
      "[66]\tvalidation_0-rmse:0.011691\tvalidation_1-rmse:0.035287\n",
      "[67]\tvalidation_0-rmse:0.011677\tvalidation_1-rmse:0.035289\n",
      "[68]\tvalidation_0-rmse:0.011492\tvalidation_1-rmse:0.035223\n",
      "[69]\tvalidation_0-rmse:0.01148\tvalidation_1-rmse:0.035228\n",
      "[70]\tvalidation_0-rmse:0.011329\tvalidation_1-rmse:0.035161\n",
      "[71]\tvalidation_0-rmse:0.01132\tvalidation_1-rmse:0.035169\n",
      "[72]\tvalidation_0-rmse:0.011295\tvalidation_1-rmse:0.035166\n",
      "[73]\tvalidation_0-rmse:0.011163\tvalidation_1-rmse:0.035109\n",
      "[74]\tvalidation_0-rmse:0.011139\tvalidation_1-rmse:0.035105\n",
      "[75]\tvalidation_0-rmse:0.01113\tvalidation_1-rmse:0.035111\n",
      "[76]\tvalidation_0-rmse:0.011118\tvalidation_1-rmse:0.035108\n",
      "[77]\tvalidation_0-rmse:0.011113\tvalidation_1-rmse:0.035114\n",
      "[78]\tvalidation_0-rmse:0.011108\tvalidation_1-rmse:0.035127\n",
      "[79]\tvalidation_0-rmse:0.011099\tvalidation_1-rmse:0.035122\n",
      "[80]\tvalidation_0-rmse:0.011096\tvalidation_1-rmse:0.035133\n",
      "[81]\tvalidation_0-rmse:0.011089\tvalidation_1-rmse:0.035128\n",
      "[82]\tvalidation_0-rmse:0.011067\tvalidation_1-rmse:0.03512\n",
      "[83]\tvalidation_0-rmse:0.010946\tvalidation_1-rmse:0.035054\n",
      "[84]\tvalidation_0-rmse:0.010842\tvalidation_1-rmse:0.035018\n",
      "[85]\tvalidation_0-rmse:0.010833\tvalidation_1-rmse:0.035013\n",
      "[86]\tvalidation_0-rmse:0.010735\tvalidation_1-rmse:0.03497\n",
      "[87]\tvalidation_0-rmse:0.010723\tvalidation_1-rmse:0.034978\n",
      "[88]\tvalidation_0-rmse:0.010681\tvalidation_1-rmse:0.034974\n",
      "[89]\tvalidation_0-rmse:0.010644\tvalidation_1-rmse:0.034972\n",
      "[90]\tvalidation_0-rmse:0.01061\tvalidation_1-rmse:0.034971\n",
      "[91]\tvalidation_0-rmse:0.010518\tvalidation_1-rmse:0.034929\n",
      "[92]\tvalidation_0-rmse:0.010503\tvalidation_1-rmse:0.034937\n",
      "[93]\tvalidation_0-rmse:0.010418\tvalidation_1-rmse:0.034899\n",
      "[94]\tvalidation_0-rmse:0.010386\tvalidation_1-rmse:0.034903\n",
      "[95]\tvalidation_0-rmse:0.010373\tvalidation_1-rmse:0.034898\n",
      "[96]\tvalidation_0-rmse:0.010289\tvalidation_1-rmse:0.034881\n",
      "[97]\tvalidation_0-rmse:0.010259\tvalidation_1-rmse:0.034884\n",
      "[98]\tvalidation_0-rmse:0.010186\tvalidation_1-rmse:0.034854\n",
      "[99]\tvalidation_0-rmse:0.010137\tvalidation_1-rmse:0.034858\n"
     ]
    },
    {
     "data": {
      "text/plain": [
       "XGBRegressor(alpha=10, base_score=0.5, booster='gbtree', colsample_bylevel=1,\n",
       "       colsample_bytree=0.3, gamma=0, learning_rate=0.1, max_delta_step=0,\n",
       "       max_depth=4, min_child_weight=1, min_samples_split=200,\n",
       "       missing=None, n_estimators=100, n_jobs=1, nthread=None,\n",
       "       objective='reg:logistic', random_state=0, reg_alpha=0, reg_lambda=1,\n",
       "       scale_pos_weight=1, seed=None, silent=1, subsample=1)"
      ]
     },
     "execution_count": 367,
     "metadata": {},
     "output_type": "execute_result"
    }
   ],
   "source": [
    "xg_reg.fit(X_train_scaled,y_train_scaled, eval_set=[(X_train_scaled, y_train_scaled), (X_test_scaled, y_test_scaled)],)"
   ]
  },
  {
   "cell_type": "markdown",
   "metadata": {},
   "source": [
    "## Make predictions on the test set"
   ]
  },
  {
   "cell_type": "code",
   "execution_count": 368,
   "metadata": {},
   "outputs": [],
   "source": [
    "preds = xg_reg.predict(X_test_scaled)"
   ]
  },
  {
   "cell_type": "markdown",
   "metadata": {},
   "source": [
    "## Compute the rmse"
   ]
  },
  {
   "cell_type": "code",
   "execution_count": 369,
   "metadata": {},
   "outputs": [
    {
     "name": "stdout",
     "output_type": "stream",
     "text": [
      "RMSE: 0.034858\n"
     ]
    }
   ],
   "source": [
    "rmse = np.sqrt(mean_squared_error(y_test_scaled, preds))\n",
    "print(\"RMSE: %f\" % (rmse))"
   ]
  },
  {
   "cell_type": "markdown",
   "metadata": {},
   "source": [
    "## Plotting"
   ]
  },
  {
   "cell_type": "markdown",
   "metadata": {},
   "source": [
    "### Standarize data "
   ]
  },
  {
   "cell_type": "code",
   "execution_count": 370,
   "metadata": {},
   "outputs": [],
   "source": [
    "preds = scaler.inverse_transform([preds])\n"
   ]
  },
  {
   "cell_type": "code",
   "execution_count": 371,
   "metadata": {},
   "outputs": [],
   "source": [
    "# Convert array to series\n",
    "mylist = preds.tolist()\n",
    "se = pd.Series(mylist)\n"
   ]
  },
  {
   "cell_type": "code",
   "execution_count": 372,
   "metadata": {},
   "outputs": [],
   "source": [
    "# Create a dataframe for plotting\n",
    "predictions = pd.DataFrame()\n",
    "predictions['Price'] = y_test\n",
    "predictions['Forecast'] = se[0]\n"
   ]
  },
  {
   "cell_type": "code",
   "execution_count": 373,
   "metadata": {},
   "outputs": [
    {
     "data": {
      "image/png": "[encoded data removed]",
      "text/plain": [
       "<Figure size 1152x576 with 1 Axes>"
      ]
     },
     "metadata": {},
     "output_type": "display_data"
    }
   ],
   "source": [
    "plt.figure(figsize=(16,8))\n",
    "plt.plot(predictions)\n",
    "plt.xlabel('Date')\n",
    "plt.ylabel(\"Price\")\n",
    "plt.legend([\"Real Price\", \"Prediction\"])\n",
    "plt.show()"
   ]
  },
  {
   "cell_type": "markdown",
   "metadata": {},
   "source": [
    "# Save model"
   ]
  },
  {
   "cell_type": "code",
   "execution_count": 342,
   "metadata": {},
   "outputs": [
    {
     "name": "stdout",
     "output_type": "stream",
     "text": [
      "Pickling sklearn API models\n"
     ]
    }
   ],
   "source": [
    "# save model to file\n",
    "#joblib.dump(model, \"./xgboost.dat\")\n",
    "# The sklearn API models are picklable\n",
    "print(\"Pickling sklearn API models\")\n",
    "# must open in binary format to pickle\n",
    "pickle.dump(xg_reg, open(\"./xgboost.pkl\", \"wb\"))"
   ]
  },
  {
   "cell_type": "code",
   "execution_count": null,
   "metadata": {},
   "outputs": [],
   "source": []
  }
 ],
 "metadata": {
  "kernelspec": {
   "display_name": "Python 3",
   "language": "python",
   "name": "python3"
  },
  "language_info": {
   "codemirror_mode": {
    "name": "ipython",
    "version": 3
   },
   "file_extension": ".py",
   "mimetype": "text/x-python",
   "name": "python",
   "nbconvert_exporter": "python",
   "pygments_lexer": "ipython3",
   "version": "3.6.8"
  },
  "toc-autonumbering": true
 },
 "nbformat": 4,
 "nbformat_minor": 2
}
